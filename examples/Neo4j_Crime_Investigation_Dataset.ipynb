{
  "nbformat": 4,
  "nbformat_minor": 0,
  "metadata": {
    "colab": {
      "provenance": [],
      "toc_visible": true,
      "authorship_tag": "ABX9TyPepj5CNragD0eatTKjmpWB",
      "include_colab_link": true
    },
    "kernelspec": {
      "name": "python3",
      "display_name": "Python 3"
    },
    "language_info": {
      "name": "python"
    },
    "widgets": {
      "application/vnd.jupyter.widget-state+json": {
        "365c350707e04be7b50c0e46ec3902c8": {
          "model_module": "jupyter-cytoscape",
          "model_name": "CytoscapeModel",
          "model_module_version": "^1.3.3",
          "state": {
            "_dom_classes": [],
            "_interaction_handlers": {},
            "_model_module": "jupyter-cytoscape",
            "_model_module_version": "^1.3.3",
            "_model_name": "CytoscapeModel",
            "_view_count": null,
            "_view_module": "jupyter-cytoscape",
            "_view_module_version": "^1.3.3",
            "_view_name": "CytoscapeView",
            "auto_ungrabify": false,
            "auto_unselectify": true,
            "autolock": false,
            "box_selection_enabled": false,
            "cytoscape_layout": {
              "name": "dagre",
              "padding": 0,
              "nodeSpacing": 10,
              "edgeLengthVal": 10,
              "animate": true,
              "randomize": true,
              "maxSimulations": 1500
            },
            "cytoscape_style": [
              {
                "selector": "node",
                "style": {
                  "font-size": "10",
                  "label": "data(label)",
                  "height": "60",
                  "width": "60",
                  "text-max-width": "60",
                  "text-wrap": "wrap",
                  "text-valign": "center",
                  "background-color": "data(color)",
                  "background-opacity": 0.6,
                  "border-width": 3,
                  "border-color": "#D3D3D3"
                }
              },
              {
                "selector": "edge",
                "style": {
                  "font-size": "8",
                  "label": "data(label)",
                  "line-color": "#D3D3D3",
                  "text-rotation": "autorotate",
                  "target-arrow-shape": "triangle",
                  "target-arrow-color": "#D3D3D3",
                  "curve-style": "bezier",
                  "text-background-color": "#FCFCFC",
                  "text-background-opacity": 0.8,
                  "text-background-shape": "rectangle",
                  "width": "data(weight)"
                }
              }
            ],
            "desktop_tap_threshold": 4,
            "graph": "IPY_MODEL_0cf0dd9e231e43b090611c7d2e7b326b",
            "headless": false,
            "hide_edges_on_viewport": false,
            "layout": "IPY_MODEL_8840525bc08e47b4b5b0ccddd8d0f85e",
            "max_zoom": 1e+50,
            "min_zoom": 1e-50,
            "motion_blur": false,
            "motion_blur_opacity": 0.2,
            "panning_enabled": true,
            "pixel_ratio": "auto",
            "rendered_position": {
              "renderedPosition": {
                "x": 100,
                "y": 100
              }
            },
            "selection_type": "single",
            "style_enabled": true,
            "texture_on_viewport": false,
            "tooltip_source": "tooltip",
            "touch_tap_threshold": 8,
            "user_panning_enabled": true,
            "user_zooming_enabled": true,
            "wheel_sensitivity": 1,
            "zoom": 2,
            "zooming_enabled": true
          }
        },
        "0cf0dd9e231e43b090611c7d2e7b326b": {
          "model_module": "jupyter-cytoscape",
          "model_name": "GraphModel",
          "model_module_version": "^1.3.3",
          "state": {
            "_adj": {
              "-74": {},
              "-76": {},
              "-71": {},
              "-69": {},
              "-77": {},
              "-72": {},
              "-68": {},
              "-70": {},
              "-75": {},
              "-73": {},
              "-78": {}
            },
            "_model_module": "jupyter-cytoscape",
            "_model_module_version": "^1.3.3",
            "_model_name": "GraphModel",
            "_view_count": null,
            "_view_module": "jupyter-cytoscape",
            "_view_module_version": "^1.3.3",
            "_view_name": null,
            "edges": [
              "IPY_MODEL_de507af4b80e4543bd79e6aa95c65c47",
              "IPY_MODEL_03272d9e19a648519e072c6d464dfa57",
              "IPY_MODEL_870019a5de22422c87a503d9ddb2289e",
              "IPY_MODEL_999d1a8f39c14d94ad87e3e5a3e89429",
              "IPY_MODEL_e1810fe693e847a09b0d4593d4d3e9ad",
              "IPY_MODEL_e7434eea6de24369aa60b7b1cf734a05",
              "IPY_MODEL_523473702ad148b3b192ffd6a756cc79",
              "IPY_MODEL_5911567b3deb4509a97a66ebdc756f23",
              "IPY_MODEL_b2f982227af944ebb4967b5e3466a397",
              "IPY_MODEL_2eea8ee5a34745009c28511117f64525",
              "IPY_MODEL_0645eec3e439478c91406df92b0fe1e6",
              "IPY_MODEL_1486d7dba2e74a1ca1a613e4fc378c02",
              "IPY_MODEL_06ae98e3202445b0862ed80d2857854b",
              "IPY_MODEL_7ecc0a835abb40ce9b645a8efbefa646",
              "IPY_MODEL_99ca38d259974441bce11f9f656ec4b3",
              "IPY_MODEL_a8032d3b99d44b0e9e59170fe61b26c7",
              "IPY_MODEL_898d4233a5a547e38e8021b1dbc6508f",
              "IPY_MODEL_fa09cdec15344bfb83455064bc4943e1"
            ],
            "nodes": [
              "IPY_MODEL_5e0ce731e9514371aab7631aa6e7273e",
              "IPY_MODEL_b997a2d0cabd4b8395ac277b1339f1d3",
              "IPY_MODEL_14dc2918acef4e529ecdd9b52a0aff17",
              "IPY_MODEL_91571522a305416db33a14302ce7e06a",
              "IPY_MODEL_1b37ce142bfc461fa1ee5ba9d95b213d",
              "IPY_MODEL_0b2de282ee1748728a3d936a758740bf",
              "IPY_MODEL_473d5460c3ed446382ab64196dc571cf",
              "IPY_MODEL_3d5733b0adbd4e9db72ac36f3981a374",
              "IPY_MODEL_a31734cc3fa2477d9b59e374a3ba9a89",
              "IPY_MODEL_92d1964cc9cb45c8a90ba645f1d4c5e8",
              "IPY_MODEL_0d926f74a8844ec1bccac0117df4fbd1"
            ]
          }
        },
        "8840525bc08e47b4b5b0ccddd8d0f85e": {
          "model_module": "@jupyter-widgets/base",
          "model_name": "LayoutModel",
          "model_module_version": "1.2.0",
          "state": {
            "_model_module": "@jupyter-widgets/base",
            "_model_module_version": "1.2.0",
            "_model_name": "LayoutModel",
            "_view_count": null,
            "_view_module": "@jupyter-widgets/base",
            "_view_module_version": "1.2.0",
            "_view_name": "LayoutView",
            "align_content": null,
            "align_items": null,
            "align_self": null,
            "border": null,
            "bottom": null,
            "display": null,
            "flex": null,
            "flex_flow": null,
            "grid_area": null,
            "grid_auto_columns": null,
            "grid_auto_flow": null,
            "grid_auto_rows": null,
            "grid_column": null,
            "grid_gap": null,
            "grid_row": null,
            "grid_template_areas": null,
            "grid_template_columns": null,
            "grid_template_rows": null,
            "height": null,
            "justify_content": null,
            "justify_items": null,
            "left": null,
            "margin": null,
            "max_height": null,
            "max_width": null,
            "min_height": null,
            "min_width": null,
            "object_fit": null,
            "object_position": null,
            "order": null,
            "overflow": null,
            "overflow_x": null,
            "overflow_y": null,
            "padding": null,
            "right": null,
            "top": null,
            "visibility": null,
            "width": null
          }
        },
        "de507af4b80e4543bd79e6aa95c65c47": {
          "model_module": "jupyter-cytoscape",
          "model_name": "EdgeModel",
          "model_module_version": "^1.3.3",
          "state": {
            "_model_module": "jupyter-cytoscape",
            "_model_module_version": "^1.3.3",
            "_model_name": "EdgeModel",
            "_view_count": null,
            "_view_module": "jupyter-cytoscape",
            "_view_module_version": "^1.3.3",
            "_view_name": "EdgeView",
            "classes": " directed  multiple_edges ",
            "data": {
              "source": "-76",
              "target": "-69",
              "weight": 2,
              "label": "OCCURRED_AT",
              "tooltip": "{'count': 28762, 'type': 'OCCURRED_AT', 'in': 28762, 'out': 28762}"
            },
            "pannable": true,
            "removed": false,
            "selectable": false,
            "selected": false
          }
        },
        "03272d9e19a648519e072c6d464dfa57": {
          "model_module": "jupyter-cytoscape",
          "model_name": "EdgeModel",
          "model_module_version": "^1.3.3",
          "state": {
            "_model_module": "jupyter-cytoscape",
            "_model_module_version": "^1.3.3",
            "_model_name": "EdgeModel",
            "_view_count": null,
            "_view_module": "jupyter-cytoscape",
            "_view_module_version": "^1.3.3",
            "_view_name": "EdgeView",
            "classes": " directed  multiple_edges ",
            "data": {
              "source": "-76",
              "target": "-72",
              "weight": 2,
              "label": "INVESTIGATED_BY",
              "tooltip": "{'count': 28762, 'type': 'INVESTIGATED_BY', 'in': 28762, 'out': 28762}"
            },
            "pannable": true,
            "removed": false,
            "selectable": false,
            "selected": false
          }
        },
        "870019a5de22422c87a503d9ddb2289e": {
          "model_module": "jupyter-cytoscape",
          "model_name": "EdgeModel",
          "model_module_version": "^1.3.3",
          "state": {
            "_model_module": "jupyter-cytoscape",
            "_model_module_version": "^1.3.3",
            "_model_name": "EdgeModel",
            "_view_count": null,
            "_view_module": "jupyter-cytoscape",
            "_view_module_version": "^1.3.3",
            "_view_name": "EdgeView",
            "classes": " directed  multiple_edges ",
            "data": {
              "source": "-69",
              "target": "-73",
              "weight": 2,
              "label": "HAS_POSTCODE",
              "tooltip": "{'count': 14904, 'type': 'HAS_POSTCODE', 'in': 14904, 'out': 14904}"
            },
            "pannable": true,
            "removed": false,
            "selectable": false,
            "selected": false
          }
        },
        "999d1a8f39c14d94ad87e3e5a3e89429": {
          "model_module": "jupyter-cytoscape",
          "model_name": "EdgeModel",
          "model_module_version": "^1.3.3",
          "state": {
            "_model_module": "jupyter-cytoscape",
            "_model_module_version": "^1.3.3",
            "_model_name": "EdgeModel",
            "_view_count": null,
            "_view_module": "jupyter-cytoscape",
            "_view_module_version": "^1.3.3",
            "_view_name": "EdgeView",
            "classes": " directed  multiple_edges ",
            "data": {
              "source": "-69",
              "target": "-74",
              "weight": 2,
              "label": "LOCATION_IN_AREA",
              "tooltip": "{'count': 14904, 'type': 'LOCATION_IN_AREA', 'in': 14904, 'out': 14904}"
            },
            "pannable": true,
            "removed": false,
            "selectable": false,
            "selected": false
          }
        },
        "e1810fe693e847a09b0d4593d4d3e9ad": {
          "model_module": "jupyter-cytoscape",
          "model_name": "EdgeModel",
          "model_module_version": "^1.3.3",
          "state": {
            "_model_module": "jupyter-cytoscape",
            "_model_module_version": "^1.3.3",
            "_model_name": "EdgeModel",
            "_view_count": null,
            "_view_module": "jupyter-cytoscape",
            "_view_module_version": "^1.3.3",
            "_view_name": "EdgeView",
            "classes": " directed  multiple_edges ",
            "data": {
              "source": "-77",
              "target": "-76",
              "weight": 2,
              "label": "INVOLVED_IN",
              "tooltip": "{'count': 985, 'type': 'INVOLVED_IN', 'in': 985, 'out': 7}"
            },
            "pannable": true,
            "removed": false,
            "selectable": false,
            "selected": false
          }
        },
        "e7434eea6de24369aa60b7b1cf734a05": {
          "model_module": "jupyter-cytoscape",
          "model_name": "EdgeModel",
          "model_module_version": "^1.3.3",
          "state": {
            "_model_module": "jupyter-cytoscape",
            "_model_module_version": "^1.3.3",
            "_model_name": "EdgeModel",
            "_view_count": null,
            "_view_module": "jupyter-cytoscape",
            "_view_module_version": "^1.3.3",
            "_view_name": "EdgeView",
            "classes": " directed  multiple_edges ",
            "data": {
              "source": "-68",
              "target": "-71",
              "weight": 2,
              "label": "HAS_EMAIL",
              "tooltip": "{'count': 328, 'type': 'HAS_EMAIL', 'in': 328, 'out': 328}"
            },
            "pannable": true,
            "removed": false,
            "selectable": false,
            "selected": false
          }
        },
        "523473702ad148b3b192ffd6a756cc79": {
          "model_module": "jupyter-cytoscape",
          "model_name": "EdgeModel",
          "model_module_version": "^1.3.3",
          "state": {
            "_model_module": "jupyter-cytoscape",
            "_model_module_version": "^1.3.3",
            "_model_name": "EdgeModel",
            "_view_count": null,
            "_view_module": "jupyter-cytoscape",
            "_view_module_version": "^1.3.3",
            "_view_name": "EdgeView",
            "classes": " directed  multiple_edges ",
            "data": {
              "source": "-68",
              "target": "-68",
              "weight": 2,
              "label": "KNOWS_PHONE",
              "tooltip": "{'count': 118, 'type': 'KNOWS_PHONE', 'in': 118, 'out': 118}"
            },
            "pannable": true,
            "removed": false,
            "selectable": false,
            "selected": false
          }
        },
        "5911567b3deb4509a97a66ebdc756f23": {
          "model_module": "jupyter-cytoscape",
          "model_name": "EdgeModel",
          "model_module_version": "^1.3.3",
          "state": {
            "_model_module": "jupyter-cytoscape",
            "_model_module_version": "^1.3.3",
            "_model_name": "EdgeModel",
            "_view_count": null,
            "_view_module": "jupyter-cytoscape",
            "_view_module_version": "^1.3.3",
            "_view_name": "EdgeView",
            "classes": " directed  multiple_edges ",
            "data": {
              "source": "-68",
              "target": "-68",
              "weight": 2,
              "label": "KNOWS_LW",
              "tooltip": "{'count': 80, 'type': 'KNOWS_LW', 'in': 80, 'out': 80}"
            },
            "pannable": true,
            "removed": false,
            "selectable": false,
            "selected": false
          }
        },
        "b2f982227af944ebb4967b5e3466a397": {
          "model_module": "jupyter-cytoscape",
          "model_name": "EdgeModel",
          "model_module_version": "^1.3.3",
          "state": {
            "_model_module": "jupyter-cytoscape",
            "_model_module_version": "^1.3.3",
            "_model_name": "EdgeModel",
            "_view_count": null,
            "_view_module": "jupyter-cytoscape",
            "_view_module_version": "^1.3.3",
            "_view_name": "EdgeView",
            "classes": " directed  multiple_edges ",
            "data": {
              "source": "-68",
              "target": "-68",
              "weight": 2,
              "label": "FAMILY_REL",
              "tooltip": "{'count': 155, 'type': 'FAMILY_REL', 'in': 155, 'out': 155}"
            },
            "pannable": true,
            "removed": false,
            "selectable": false,
            "selected": false
          }
        },
        "2eea8ee5a34745009c28511117f64525": {
          "model_module": "jupyter-cytoscape",
          "model_name": "EdgeModel",
          "model_module_version": "^1.3.3",
          "state": {
            "_model_module": "jupyter-cytoscape",
            "_model_module_version": "^1.3.3",
            "_model_name": "EdgeModel",
            "_view_count": null,
            "_view_module": "jupyter-cytoscape",
            "_view_module_version": "^1.3.3",
            "_view_name": "EdgeView",
            "classes": " directed  multiple_edges ",
            "data": {
              "source": "-68",
              "target": "-68",
              "weight": 2,
              "label": "KNOWS_SN",
              "tooltip": "{'count': 241, 'type': 'KNOWS_SN', 'in': 241, 'out': 241}"
            },
            "pannable": true,
            "removed": false,
            "selectable": false,
            "selected": false
          }
        },
        "0645eec3e439478c91406df92b0fe1e6": {
          "model_module": "jupyter-cytoscape",
          "model_name": "EdgeModel",
          "model_module_version": "^1.3.3",
          "state": {
            "_model_module": "jupyter-cytoscape",
            "_model_module_version": "^1.3.3",
            "_model_name": "EdgeModel",
            "_view_count": null,
            "_view_module": "jupyter-cytoscape",
            "_view_module_version": "^1.3.3",
            "_view_name": "EdgeView",
            "classes": " directed  multiple_edges ",
            "data": {
              "source": "-68",
              "target": "-68",
              "weight": 2,
              "label": "KNOWS",
              "tooltip": "{'count': 586, 'type': 'KNOWS', 'in': 586, 'out': 586}"
            },
            "pannable": true,
            "removed": false,
            "selectable": false,
            "selected": false
          }
        },
        "1486d7dba2e74a1ca1a613e4fc378c02": {
          "model_module": "jupyter-cytoscape",
          "model_name": "EdgeModel",
          "model_module_version": "^1.3.3",
          "state": {
            "_model_module": "jupyter-cytoscape",
            "_model_module_version": "^1.3.3",
            "_model_name": "EdgeModel",
            "_view_count": null,
            "_view_module": "jupyter-cytoscape",
            "_view_module_version": "^1.3.3",
            "_view_name": "EdgeView",
            "classes": " directed  multiple_edges ",
            "data": {
              "source": "-68",
              "target": "-76",
              "weight": 2,
              "label": "PARTY_TO",
              "tooltip": "{'count': 55, 'type': 'PARTY_TO', 'in': 55, 'out': 55}"
            },
            "pannable": true,
            "removed": false,
            "selectable": false,
            "selected": false
          }
        },
        "06ae98e3202445b0862ed80d2857854b": {
          "model_module": "jupyter-cytoscape",
          "model_name": "EdgeModel",
          "model_module_version": "^1.3.3",
          "state": {
            "_model_module": "jupyter-cytoscape",
            "_model_module_version": "^1.3.3",
            "_model_name": "EdgeModel",
            "_view_count": null,
            "_view_module": "jupyter-cytoscape",
            "_view_module_version": "^1.3.3",
            "_view_name": "EdgeView",
            "classes": " directed  multiple_edges ",
            "data": {
              "source": "-68",
              "target": "-69",
              "weight": 2,
              "label": "CURRENT_ADDRESS",
              "tooltip": "{'count': 368, 'type': 'CURRENT_ADDRESS', 'in': 368, 'out': 368}"
            },
            "pannable": true,
            "removed": false,
            "selectable": false,
            "selected": false
          }
        },
        "7ecc0a835abb40ce9b645a8efbefa646": {
          "model_module": "jupyter-cytoscape",
          "model_name": "EdgeModel",
          "model_module_version": "^1.3.3",
          "state": {
            "_model_module": "jupyter-cytoscape",
            "_model_module_version": "^1.3.3",
            "_model_name": "EdgeModel",
            "_view_count": null,
            "_view_module": "jupyter-cytoscape",
            "_view_module_version": "^1.3.3",
            "_view_name": "EdgeView",
            "classes": " directed  multiple_edges ",
            "data": {
              "source": "-68",
              "target": "-70",
              "weight": 2,
              "label": "HAS_PHONE",
              "tooltip": "{'count': 328, 'type': 'HAS_PHONE', 'in': 328, 'out': 328}"
            },
            "pannable": true,
            "removed": false,
            "selectable": false,
            "selected": false
          }
        },
        "99ca38d259974441bce11f9f656ec4b3": {
          "model_module": "jupyter-cytoscape",
          "model_name": "EdgeModel",
          "model_module_version": "^1.3.3",
          "state": {
            "_model_module": "jupyter-cytoscape",
            "_model_module_version": "^1.3.3",
            "_model_name": "EdgeModel",
            "_view_count": null,
            "_view_module": "jupyter-cytoscape",
            "_view_module_version": "^1.3.3",
            "_view_name": "EdgeView",
            "classes": " directed  multiple_edges ",
            "data": {
              "source": "-75",
              "target": "-70",
              "weight": 2,
              "label": "CALLER",
              "tooltip": "{'count': 534, 'type': 'CALLER', 'in': 534, 'out': 534}"
            },
            "pannable": true,
            "removed": false,
            "selectable": false,
            "selected": false
          }
        },
        "a8032d3b99d44b0e9e59170fe61b26c7": {
          "model_module": "jupyter-cytoscape",
          "model_name": "EdgeModel",
          "model_module_version": "^1.3.3",
          "state": {
            "_model_module": "jupyter-cytoscape",
            "_model_module_version": "^1.3.3",
            "_model_name": "EdgeModel",
            "_view_count": null,
            "_view_module": "jupyter-cytoscape",
            "_view_module_version": "^1.3.3",
            "_view_name": "EdgeView",
            "classes": " directed  multiple_edges ",
            "data": {
              "source": "-75",
              "target": "-70",
              "weight": 2,
              "label": "CALLED",
              "tooltip": "{'count': 534, 'type': 'CALLED', 'in': 534, 'out': 534}"
            },
            "pannable": true,
            "removed": false,
            "selectable": false,
            "selected": false
          }
        },
        "898d4233a5a547e38e8021b1dbc6508f": {
          "model_module": "jupyter-cytoscape",
          "model_name": "EdgeModel",
          "model_module_version": "^1.3.3",
          "state": {
            "_model_module": "jupyter-cytoscape",
            "_model_module_version": "^1.3.3",
            "_model_name": "EdgeModel",
            "_view_count": null,
            "_view_module": "jupyter-cytoscape",
            "_view_module_version": "^1.3.3",
            "_view_name": "EdgeView",
            "classes": " directed  multiple_edges ",
            "data": {
              "source": "-73",
              "target": "-74",
              "weight": 2,
              "label": "POSTCODE_IN_AREA",
              "tooltip": "{'count': 14196, 'type': 'POSTCODE_IN_AREA', 'in': 14196, 'out': 14196}"
            },
            "pannable": true,
            "removed": false,
            "selectable": false,
            "selected": false
          }
        },
        "fa09cdec15344bfb83455064bc4943e1": {
          "model_module": "jupyter-cytoscape",
          "model_name": "EdgeModel",
          "model_module_version": "^1.3.3",
          "state": {
            "_model_module": "jupyter-cytoscape",
            "_model_module_version": "^1.3.3",
            "_model_name": "EdgeModel",
            "_view_count": null,
            "_view_module": "jupyter-cytoscape",
            "_view_module_version": "^1.3.3",
            "_view_name": "EdgeView",
            "classes": " directed  multiple_edges ",
            "data": {
              "source": "-78",
              "target": "-76",
              "weight": 2,
              "label": "INVOLVED_IN",
              "tooltip": "{'count': 985, 'type': 'INVOLVED_IN', 'in': 985, 'out': 978}"
            },
            "pannable": true,
            "removed": false,
            "selectable": false,
            "selected": false
          }
        },
        "5e0ce731e9514371aab7631aa6e7273e": {
          "model_module": "jupyter-cytoscape",
          "model_name": "NodeModel",
          "model_module_version": "^1.3.3",
          "state": {
            "_model_module": "jupyter-cytoscape",
            "_model_module_version": "^1.3.3",
            "_model_name": "NodeModel",
            "_view_count": null,
            "_view_module": "jupyter-cytoscape",
            "_view_module_version": "^1.3.3",
            "_view_name": "NodeView",
            "classes": "",
            "data": {
              "label": ":Area",
              "color": "",
              "properties": {
                "name": "Area",
                "count": 93
              },
              "title": ":Area",
              "tooltip": "{'name': 'Area', 'count': 93}",
              "id": "-74"
            },
            "grabbable": true,
            "grabbed": false,
            "locked": false,
            "pannable": false,
            "position": {},
            "removed": false,
            "selectable": false,
            "selected": false
          }
        },
        "b997a2d0cabd4b8395ac277b1339f1d3": {
          "model_module": "jupyter-cytoscape",
          "model_name": "NodeModel",
          "model_module_version": "^1.3.3",
          "state": {
            "_model_module": "jupyter-cytoscape",
            "_model_module_version": "^1.3.3",
            "_model_name": "NodeModel",
            "_view_count": null,
            "_view_module": "jupyter-cytoscape",
            "_view_module_version": "^1.3.3",
            "_view_name": "NodeView",
            "classes": "",
            "data": {
              "label": ":Crime",
              "color": "",
              "properties": {
                "name": "Crime",
                "count": 28762
              },
              "title": ":Crime",
              "tooltip": "{'name': 'Crime', 'count': 28762}",
              "id": "-76"
            },
            "grabbable": true,
            "grabbed": false,
            "locked": false,
            "pannable": false,
            "position": {},
            "removed": false,
            "selectable": false,
            "selected": false
          }
        },
        "14dc2918acef4e529ecdd9b52a0aff17": {
          "model_module": "jupyter-cytoscape",
          "model_name": "NodeModel",
          "model_module_version": "^1.3.3",
          "state": {
            "_model_module": "jupyter-cytoscape",
            "_model_module_version": "^1.3.3",
            "_model_name": "NodeModel",
            "_view_count": null,
            "_view_module": "jupyter-cytoscape",
            "_view_module_version": "^1.3.3",
            "_view_name": "NodeView",
            "classes": "",
            "data": {
              "label": ":Email",
              "color": "",
              "properties": {
                "name": "Email",
                "count": 328
              },
              "title": ":Email",
              "tooltip": "{'name': 'Email', 'count': 328}",
              "id": "-71"
            },
            "grabbable": true,
            "grabbed": false,
            "locked": false,
            "pannable": false,
            "position": {},
            "removed": false,
            "selectable": false,
            "selected": false
          }
        },
        "91571522a305416db33a14302ce7e06a": {
          "model_module": "jupyter-cytoscape",
          "model_name": "NodeModel",
          "model_module_version": "^1.3.3",
          "state": {
            "_model_module": "jupyter-cytoscape",
            "_model_module_version": "^1.3.3",
            "_model_name": "NodeModel",
            "_view_count": null,
            "_view_module": "jupyter-cytoscape",
            "_view_module_version": "^1.3.3",
            "_view_name": "NodeView",
            "classes": "",
            "data": {
              "label": ":Location",
              "color": "",
              "properties": {
                "name": "Location",
                "count": 14904
              },
              "title": ":Location",
              "tooltip": "{'name': 'Location', 'count': 14904}",
              "id": "-69"
            },
            "grabbable": true,
            "grabbed": false,
            "locked": false,
            "pannable": false,
            "position": {},
            "removed": false,
            "selectable": false,
            "selected": false
          }
        },
        "1b37ce142bfc461fa1ee5ba9d95b213d": {
          "model_module": "jupyter-cytoscape",
          "model_name": "NodeModel",
          "model_module_version": "^1.3.3",
          "state": {
            "_model_module": "jupyter-cytoscape",
            "_model_module_version": "^1.3.3",
            "_model_name": "NodeModel",
            "_view_count": null,
            "_view_module": "jupyter-cytoscape",
            "_view_module_version": "^1.3.3",
            "_view_name": "NodeView",
            "classes": "",
            "data": {
              "label": ":Object",
              "color": "",
              "properties": {
                "name": "Object",
                "count": 7
              },
              "title": ":Object",
              "tooltip": "{'name': 'Object', 'count': 7}",
              "id": "-77"
            },
            "grabbable": true,
            "grabbed": false,
            "locked": false,
            "pannable": false,
            "position": {},
            "removed": false,
            "selectable": false,
            "selected": false
          }
        },
        "0b2de282ee1748728a3d936a758740bf": {
          "model_module": "jupyter-cytoscape",
          "model_name": "NodeModel",
          "model_module_version": "^1.3.3",
          "state": {
            "_model_module": "jupyter-cytoscape",
            "_model_module_version": "^1.3.3",
            "_model_name": "NodeModel",
            "_view_count": null,
            "_view_module": "jupyter-cytoscape",
            "_view_module_version": "^1.3.3",
            "_view_name": "NodeView",
            "classes": "",
            "data": {
              "label": ":Officer",
              "color": "",
              "properties": {
                "name": "Officer",
                "count": 1000
              },
              "title": ":Officer",
              "tooltip": "{'name': 'Officer', 'count': 1000}",
              "id": "-72"
            },
            "grabbable": true,
            "grabbed": false,
            "locked": false,
            "pannable": false,
            "position": {},
            "removed": false,
            "selectable": false,
            "selected": false
          }
        },
        "473d5460c3ed446382ab64196dc571cf": {
          "model_module": "jupyter-cytoscape",
          "model_name": "NodeModel",
          "model_module_version": "^1.3.3",
          "state": {
            "_model_module": "jupyter-cytoscape",
            "_model_module_version": "^1.3.3",
            "_model_name": "NodeModel",
            "_view_count": null,
            "_view_module": "jupyter-cytoscape",
            "_view_module_version": "^1.3.3",
            "_view_name": "NodeView",
            "classes": "",
            "data": {
              "label": ":Person",
              "color": "",
              "properties": {
                "name": "Person",
                "count": 369
              },
              "title": ":Person",
              "tooltip": "{'name': 'Person', 'count': 369}",
              "id": "-68"
            },
            "grabbable": true,
            "grabbed": false,
            "locked": false,
            "pannable": false,
            "position": {},
            "removed": false,
            "selectable": false,
            "selected": false
          }
        },
        "3d5733b0adbd4e9db72ac36f3981a374": {
          "model_module": "jupyter-cytoscape",
          "model_name": "NodeModel",
          "model_module_version": "^1.3.3",
          "state": {
            "_model_module": "jupyter-cytoscape",
            "_model_module_version": "^1.3.3",
            "_model_name": "NodeModel",
            "_view_count": null,
            "_view_module": "jupyter-cytoscape",
            "_view_module_version": "^1.3.3",
            "_view_name": "NodeView",
            "classes": "",
            "data": {
              "label": ":Phone",
              "color": "",
              "properties": {
                "name": "Phone",
                "count": 328
              },
              "title": ":Phone",
              "tooltip": "{'name': 'Phone', 'count': 328}",
              "id": "-70"
            },
            "grabbable": true,
            "grabbed": false,
            "locked": false,
            "pannable": false,
            "position": {},
            "removed": false,
            "selectable": false,
            "selected": false
          }
        },
        "a31734cc3fa2477d9b59e374a3ba9a89": {
          "model_module": "jupyter-cytoscape",
          "model_name": "NodeModel",
          "model_module_version": "^1.3.3",
          "state": {
            "_model_module": "jupyter-cytoscape",
            "_model_module_version": "^1.3.3",
            "_model_name": "NodeModel",
            "_view_count": null,
            "_view_module": "jupyter-cytoscape",
            "_view_module_version": "^1.3.3",
            "_view_name": "NodeView",
            "classes": "",
            "data": {
              "label": ":PhoneCall",
              "color": "",
              "properties": {
                "name": "PhoneCall",
                "count": 534
              },
              "title": ":PhoneCall",
              "tooltip": "{'name': 'PhoneCall', 'count': 534}",
              "id": "-75"
            },
            "grabbable": true,
            "grabbed": false,
            "locked": false,
            "pannable": false,
            "position": {},
            "removed": false,
            "selectable": false,
            "selected": false
          }
        },
        "92d1964cc9cb45c8a90ba645f1d4c5e8": {
          "model_module": "jupyter-cytoscape",
          "model_name": "NodeModel",
          "model_module_version": "^1.3.3",
          "state": {
            "_model_module": "jupyter-cytoscape",
            "_model_module_version": "^1.3.3",
            "_model_name": "NodeModel",
            "_view_count": null,
            "_view_module": "jupyter-cytoscape",
            "_view_module_version": "^1.3.3",
            "_view_name": "NodeView",
            "classes": "",
            "data": {
              "label": ":PostCode",
              "color": "",
              "properties": {
                "name": "PostCode",
                "count": 14196
              },
              "title": ":PostCode",
              "tooltip": "{'name': 'PostCode', 'count': 14196}",
              "id": "-73"
            },
            "grabbable": true,
            "grabbed": false,
            "locked": false,
            "pannable": false,
            "position": {},
            "removed": false,
            "selectable": false,
            "selected": false
          }
        },
        "0d926f74a8844ec1bccac0117df4fbd1": {
          "model_module": "jupyter-cytoscape",
          "model_name": "NodeModel",
          "model_module_version": "^1.3.3",
          "state": {
            "_model_module": "jupyter-cytoscape",
            "_model_module_version": "^1.3.3",
            "_model_name": "NodeModel",
            "_view_count": null,
            "_view_module": "jupyter-cytoscape",
            "_view_module_version": "^1.3.3",
            "_view_name": "NodeView",
            "classes": "",
            "data": {
              "label": ":Vehicle",
              "color": "",
              "properties": {
                "name": "Vehicle",
                "count": 1000
              },
              "title": ":Vehicle",
              "tooltip": "{'name': 'Vehicle', 'count': 1000}",
              "id": "-78"
            },
            "grabbable": true,
            "grabbed": false,
            "locked": false,
            "pannable": false,
            "position": {},
            "removed": false,
            "selectable": false,
            "selected": false
          }
        },
        "ff40614f36a24271b3beb93a838f828f": {
          "model_module": "jupyter-cytoscape",
          "model_name": "CytoscapeModel",
          "model_module_version": "^1.3.3",
          "state": {
            "_dom_classes": [],
            "_interaction_handlers": {},
            "_model_module": "jupyter-cytoscape",
            "_model_module_version": "^1.3.3",
            "_model_name": "CytoscapeModel",
            "_view_count": null,
            "_view_module": "jupyter-cytoscape",
            "_view_module_version": "^1.3.3",
            "_view_name": "CytoscapeView",
            "auto_ungrabify": false,
            "auto_unselectify": true,
            "autolock": false,
            "box_selection_enabled": false,
            "cytoscape_layout": {
              "name": "dagre",
              "padding": 0,
              "nodeSpacing": 10,
              "edgeLengthVal": 10,
              "animate": true,
              "randomize": true,
              "maxSimulations": 1500
            },
            "cytoscape_style": [
              {
                "selector": "node",
                "style": {
                  "font-size": "10",
                  "label": "data(label)",
                  "height": "60",
                  "width": "60",
                  "text-max-width": "60",
                  "text-wrap": "wrap",
                  "text-valign": "center",
                  "background-color": "data(color)",
                  "background-opacity": 0.6,
                  "border-width": 3,
                  "border-color": "#D3D3D3"
                }
              },
              {
                "selector": "edge",
                "style": {
                  "font-size": "8",
                  "label": "data(label)",
                  "line-color": "#D3D3D3",
                  "text-rotation": "autorotate",
                  "target-arrow-shape": "triangle",
                  "target-arrow-color": "#D3D3D3",
                  "curve-style": "bezier",
                  "text-background-color": "#FCFCFC",
                  "text-background-opacity": 0.8,
                  "text-background-shape": "rectangle",
                  "width": "data(weight)"
                }
              }
            ],
            "desktop_tap_threshold": 4,
            "graph": "IPY_MODEL_92cdb70b7b864a5b93631e6afeabc77c",
            "headless": false,
            "hide_edges_on_viewport": false,
            "layout": "IPY_MODEL_2b327fbc27b2462dbb0008f6fac4e75d",
            "max_zoom": 1e+50,
            "min_zoom": 1e-50,
            "motion_blur": false,
            "motion_blur_opacity": 0.2,
            "panning_enabled": true,
            "pixel_ratio": "auto",
            "rendered_position": {
              "renderedPosition": {
                "x": 100,
                "y": 100
              }
            },
            "selection_type": "single",
            "style_enabled": true,
            "texture_on_viewport": false,
            "tooltip_source": "tooltip",
            "touch_tap_threshold": 8,
            "user_panning_enabled": true,
            "user_zooming_enabled": true,
            "wheel_sensitivity": 1,
            "zoom": 2,
            "zooming_enabled": true
          }
        },
        "92cdb70b7b864a5b93631e6afeabc77c": {
          "model_module": "jupyter-cytoscape",
          "model_name": "GraphModel",
          "model_module_version": "^1.3.3",
          "state": {
            "_adj": {
              "-85": {},
              "-87": {},
              "-82": {},
              "-80": {},
              "-88": {},
              "-83": {},
              "-79": {},
              "-81": {},
              "-86": {},
              "-84": {},
              "-89": {}
            },
            "_model_module": "jupyter-cytoscape",
            "_model_module_version": "^1.3.3",
            "_model_name": "GraphModel",
            "_view_count": null,
            "_view_module": "jupyter-cytoscape",
            "_view_module_version": "^1.3.3",
            "_view_name": null,
            "edges": [
              "IPY_MODEL_5252e8e7a21140cf836ff65904968122",
              "IPY_MODEL_2c9f45374ae04ed1bf0b45f0fc9d1385",
              "IPY_MODEL_d84d1a6dfeb7480e9130359fb22e8615",
              "IPY_MODEL_1bffcdc9d1d04a8e8e12881ab2cf4ef6",
              "IPY_MODEL_d3890546bd3d4762ac3eb1977dc8b108",
              "IPY_MODEL_f8c62906bfde4acb91d6b812e1c4a24f",
              "IPY_MODEL_f3fbd2017715427b8e1a8cbab86ce5a5",
              "IPY_MODEL_387f13a404384591952ba9c02763f2d6",
              "IPY_MODEL_71ccb155da9e475ab27963f3cddcdd75",
              "IPY_MODEL_42dc6295e37e4121a945cc0b9f53673a",
              "IPY_MODEL_ad91bcb93b164beb8629a818791000e9",
              "IPY_MODEL_addb5be8276d42e8a5e4bc0031559ca9",
              "IPY_MODEL_a97aa64774c848398c403ef17df7c9a3",
              "IPY_MODEL_6c814deeccfc43ff9025b7702def4a0e",
              "IPY_MODEL_27cfced4c3b64a45bf2420abdd4df438",
              "IPY_MODEL_784c2d475ed1427880900d7b091dcb38",
              "IPY_MODEL_c83875007e474fadb78fdcd268ba5c7e",
              "IPY_MODEL_1c26e25f150e42118193b121d5a6d210"
            ],
            "nodes": [
              "IPY_MODEL_d2008ea0b8354e5baa9082751a86502c",
              "IPY_MODEL_3bc2e5ceeaa74275a579af2920ef0aa2",
              "IPY_MODEL_d686a302311647398a278f889f00c63e",
              "IPY_MODEL_0ec1a759efd340208a1f6abb6ac9f2b6",
              "IPY_MODEL_1c4664f6bc3648b493e5763b90b02c1c",
              "IPY_MODEL_65186260665b4885a003e90018f023d0",
              "IPY_MODEL_f735e3e674254e4fa7ba2a038620877e",
              "IPY_MODEL_183a3ea96d1d4be3b938b46c818458d9",
              "IPY_MODEL_e7d2a1548fa64bc6ab6c2817ac9951f8",
              "IPY_MODEL_38f50c7091f34eb1b5711eee53fc2c92",
              "IPY_MODEL_c6a481c5e2a14532b67bb444a17cd135"
            ]
          }
        },
        "2b327fbc27b2462dbb0008f6fac4e75d": {
          "model_module": "@jupyter-widgets/base",
          "model_name": "LayoutModel",
          "model_module_version": "1.2.0",
          "state": {
            "_model_module": "@jupyter-widgets/base",
            "_model_module_version": "1.2.0",
            "_model_name": "LayoutModel",
            "_view_count": null,
            "_view_module": "@jupyter-widgets/base",
            "_view_module_version": "1.2.0",
            "_view_name": "LayoutView",
            "align_content": null,
            "align_items": null,
            "align_self": null,
            "border": null,
            "bottom": null,
            "display": null,
            "flex": null,
            "flex_flow": null,
            "grid_area": null,
            "grid_auto_columns": null,
            "grid_auto_flow": null,
            "grid_auto_rows": null,
            "grid_column": null,
            "grid_gap": null,
            "grid_row": null,
            "grid_template_areas": null,
            "grid_template_columns": null,
            "grid_template_rows": null,
            "height": null,
            "justify_content": null,
            "justify_items": null,
            "left": null,
            "margin": null,
            "max_height": null,
            "max_width": null,
            "min_height": null,
            "min_width": null,
            "object_fit": null,
            "object_position": null,
            "order": null,
            "overflow": null,
            "overflow_x": null,
            "overflow_y": null,
            "padding": null,
            "right": null,
            "top": null,
            "visibility": null,
            "width": null
          }
        },
        "5252e8e7a21140cf836ff65904968122": {
          "model_module": "jupyter-cytoscape",
          "model_name": "EdgeModel",
          "model_module_version": "^1.3.3",
          "state": {
            "_model_module": "jupyter-cytoscape",
            "_model_module_version": "^1.3.3",
            "_model_name": "EdgeModel",
            "_view_count": null,
            "_view_module": "jupyter-cytoscape",
            "_view_module_version": "^1.3.3",
            "_view_name": "EdgeView",
            "classes": " directed  multiple_edges ",
            "data": {
              "source": "-87",
              "target": "-80",
              "weight": 2,
              "label": "OCCURRED_AT",
              "tooltip": "{'count': 28762, 'type': 'OCCURRED_AT', 'in': 28762, 'out': 28762}"
            },
            "pannable": true,
            "removed": false,
            "selectable": false,
            "selected": false
          }
        },
        "2c9f45374ae04ed1bf0b45f0fc9d1385": {
          "model_module": "jupyter-cytoscape",
          "model_name": "EdgeModel",
          "model_module_version": "^1.3.3",
          "state": {
            "_model_module": "jupyter-cytoscape",
            "_model_module_version": "^1.3.3",
            "_model_name": "EdgeModel",
            "_view_count": null,
            "_view_module": "jupyter-cytoscape",
            "_view_module_version": "^1.3.3",
            "_view_name": "EdgeView",
            "classes": " directed  multiple_edges ",
            "data": {
              "source": "-87",
              "target": "-83",
              "weight": 2,
              "label": "INVESTIGATED_BY",
              "tooltip": "{'count': 28762, 'type': 'INVESTIGATED_BY', 'in': 28762, 'out': 28762}"
            },
            "pannable": true,
            "removed": false,
            "selectable": false,
            "selected": false
          }
        },
        "d84d1a6dfeb7480e9130359fb22e8615": {
          "model_module": "jupyter-cytoscape",
          "model_name": "EdgeModel",
          "model_module_version": "^1.3.3",
          "state": {
            "_model_module": "jupyter-cytoscape",
            "_model_module_version": "^1.3.3",
            "_model_name": "EdgeModel",
            "_view_count": null,
            "_view_module": "jupyter-cytoscape",
            "_view_module_version": "^1.3.3",
            "_view_name": "EdgeView",
            "classes": " directed  multiple_edges ",
            "data": {
              "source": "-80",
              "target": "-84",
              "weight": 2,
              "label": "HAS_POSTCODE",
              "tooltip": "{'count': 14904, 'type': 'HAS_POSTCODE', 'in': 14904, 'out': 14904}"
            },
            "pannable": true,
            "removed": false,
            "selectable": false,
            "selected": false
          }
        },
        "1bffcdc9d1d04a8e8e12881ab2cf4ef6": {
          "model_module": "jupyter-cytoscape",
          "model_name": "EdgeModel",
          "model_module_version": "^1.3.3",
          "state": {
            "_model_module": "jupyter-cytoscape",
            "_model_module_version": "^1.3.3",
            "_model_name": "EdgeModel",
            "_view_count": null,
            "_view_module": "jupyter-cytoscape",
            "_view_module_version": "^1.3.3",
            "_view_name": "EdgeView",
            "classes": " directed  multiple_edges ",
            "data": {
              "source": "-80",
              "target": "-85",
              "weight": 2,
              "label": "LOCATION_IN_AREA",
              "tooltip": "{'count': 14904, 'type': 'LOCATION_IN_AREA', 'in': 14904, 'out': 14904}"
            },
            "pannable": true,
            "removed": false,
            "selectable": false,
            "selected": false
          }
        },
        "d3890546bd3d4762ac3eb1977dc8b108": {
          "model_module": "jupyter-cytoscape",
          "model_name": "EdgeModel",
          "model_module_version": "^1.3.3",
          "state": {
            "_model_module": "jupyter-cytoscape",
            "_model_module_version": "^1.3.3",
            "_model_name": "EdgeModel",
            "_view_count": null,
            "_view_module": "jupyter-cytoscape",
            "_view_module_version": "^1.3.3",
            "_view_name": "EdgeView",
            "classes": " directed  multiple_edges ",
            "data": {
              "source": "-88",
              "target": "-87",
              "weight": 2,
              "label": "INVOLVED_IN",
              "tooltip": "{'count': 985, 'type': 'INVOLVED_IN', 'in': 985, 'out': 7}"
            },
            "pannable": true,
            "removed": false,
            "selectable": false,
            "selected": false
          }
        },
        "f8c62906bfde4acb91d6b812e1c4a24f": {
          "model_module": "jupyter-cytoscape",
          "model_name": "EdgeModel",
          "model_module_version": "^1.3.3",
          "state": {
            "_model_module": "jupyter-cytoscape",
            "_model_module_version": "^1.3.3",
            "_model_name": "EdgeModel",
            "_view_count": null,
            "_view_module": "jupyter-cytoscape",
            "_view_module_version": "^1.3.3",
            "_view_name": "EdgeView",
            "classes": " directed  multiple_edges ",
            "data": {
              "source": "-79",
              "target": "-82",
              "weight": 2,
              "label": "HAS_EMAIL",
              "tooltip": "{'count': 328, 'type': 'HAS_EMAIL', 'in': 328, 'out': 328}"
            },
            "pannable": true,
            "removed": false,
            "selectable": false,
            "selected": false
          }
        },
        "f3fbd2017715427b8e1a8cbab86ce5a5": {
          "model_module": "jupyter-cytoscape",
          "model_name": "EdgeModel",
          "model_module_version": "^1.3.3",
          "state": {
            "_model_module": "jupyter-cytoscape",
            "_model_module_version": "^1.3.3",
            "_model_name": "EdgeModel",
            "_view_count": null,
            "_view_module": "jupyter-cytoscape",
            "_view_module_version": "^1.3.3",
            "_view_name": "EdgeView",
            "classes": " directed  multiple_edges ",
            "data": {
              "source": "-79",
              "target": "-79",
              "weight": 2,
              "label": "KNOWS_PHONE",
              "tooltip": "{'count': 118, 'type': 'KNOWS_PHONE', 'in': 118, 'out': 118}"
            },
            "pannable": true,
            "removed": false,
            "selectable": false,
            "selected": false
          }
        },
        "387f13a404384591952ba9c02763f2d6": {
          "model_module": "jupyter-cytoscape",
          "model_name": "EdgeModel",
          "model_module_version": "^1.3.3",
          "state": {
            "_model_module": "jupyter-cytoscape",
            "_model_module_version": "^1.3.3",
            "_model_name": "EdgeModel",
            "_view_count": null,
            "_view_module": "jupyter-cytoscape",
            "_view_module_version": "^1.3.3",
            "_view_name": "EdgeView",
            "classes": " directed  multiple_edges ",
            "data": {
              "source": "-79",
              "target": "-79",
              "weight": 2,
              "label": "KNOWS_LW",
              "tooltip": "{'count': 80, 'type': 'KNOWS_LW', 'in': 80, 'out': 80}"
            },
            "pannable": true,
            "removed": false,
            "selectable": false,
            "selected": false
          }
        },
        "71ccb155da9e475ab27963f3cddcdd75": {
          "model_module": "jupyter-cytoscape",
          "model_name": "EdgeModel",
          "model_module_version": "^1.3.3",
          "state": {
            "_model_module": "jupyter-cytoscape",
            "_model_module_version": "^1.3.3",
            "_model_name": "EdgeModel",
            "_view_count": null,
            "_view_module": "jupyter-cytoscape",
            "_view_module_version": "^1.3.3",
            "_view_name": "EdgeView",
            "classes": " directed  multiple_edges ",
            "data": {
              "source": "-79",
              "target": "-79",
              "weight": 2,
              "label": "FAMILY_REL",
              "tooltip": "{'count': 155, 'type': 'FAMILY_REL', 'in': 155, 'out': 155}"
            },
            "pannable": true,
            "removed": false,
            "selectable": false,
            "selected": false
          }
        },
        "42dc6295e37e4121a945cc0b9f53673a": {
          "model_module": "jupyter-cytoscape",
          "model_name": "EdgeModel",
          "model_module_version": "^1.3.3",
          "state": {
            "_model_module": "jupyter-cytoscape",
            "_model_module_version": "^1.3.3",
            "_model_name": "EdgeModel",
            "_view_count": null,
            "_view_module": "jupyter-cytoscape",
            "_view_module_version": "^1.3.3",
            "_view_name": "EdgeView",
            "classes": " directed  multiple_edges ",
            "data": {
              "source": "-79",
              "target": "-79",
              "weight": 2,
              "label": "KNOWS_SN",
              "tooltip": "{'count': 241, 'type': 'KNOWS_SN', 'in': 241, 'out': 241}"
            },
            "pannable": true,
            "removed": false,
            "selectable": false,
            "selected": false
          }
        },
        "ad91bcb93b164beb8629a818791000e9": {
          "model_module": "jupyter-cytoscape",
          "model_name": "EdgeModel",
          "model_module_version": "^1.3.3",
          "state": {
            "_model_module": "jupyter-cytoscape",
            "_model_module_version": "^1.3.3",
            "_model_name": "EdgeModel",
            "_view_count": null,
            "_view_module": "jupyter-cytoscape",
            "_view_module_version": "^1.3.3",
            "_view_name": "EdgeView",
            "classes": " directed  multiple_edges ",
            "data": {
              "source": "-79",
              "target": "-79",
              "weight": 2,
              "label": "KNOWS",
              "tooltip": "{'count': 586, 'type': 'KNOWS', 'in': 586, 'out': 586}"
            },
            "pannable": true,
            "removed": false,
            "selectable": false,
            "selected": false
          }
        },
        "addb5be8276d42e8a5e4bc0031559ca9": {
          "model_module": "jupyter-cytoscape",
          "model_name": "EdgeModel",
          "model_module_version": "^1.3.3",
          "state": {
            "_model_module": "jupyter-cytoscape",
            "_model_module_version": "^1.3.3",
            "_model_name": "EdgeModel",
            "_view_count": null,
            "_view_module": "jupyter-cytoscape",
            "_view_module_version": "^1.3.3",
            "_view_name": "EdgeView",
            "classes": " directed  multiple_edges ",
            "data": {
              "source": "-79",
              "target": "-87",
              "weight": 2,
              "label": "PARTY_TO",
              "tooltip": "{'count': 55, 'type': 'PARTY_TO', 'in': 55, 'out': 55}"
            },
            "pannable": true,
            "removed": false,
            "selectable": false,
            "selected": false
          }
        },
        "a97aa64774c848398c403ef17df7c9a3": {
          "model_module": "jupyter-cytoscape",
          "model_name": "EdgeModel",
          "model_module_version": "^1.3.3",
          "state": {
            "_model_module": "jupyter-cytoscape",
            "_model_module_version": "^1.3.3",
            "_model_name": "EdgeModel",
            "_view_count": null,
            "_view_module": "jupyter-cytoscape",
            "_view_module_version": "^1.3.3",
            "_view_name": "EdgeView",
            "classes": " directed  multiple_edges ",
            "data": {
              "source": "-79",
              "target": "-80",
              "weight": 2,
              "label": "CURRENT_ADDRESS",
              "tooltip": "{'count': 368, 'type': 'CURRENT_ADDRESS', 'in': 368, 'out': 368}"
            },
            "pannable": true,
            "removed": false,
            "selectable": false,
            "selected": false
          }
        },
        "6c814deeccfc43ff9025b7702def4a0e": {
          "model_module": "jupyter-cytoscape",
          "model_name": "EdgeModel",
          "model_module_version": "^1.3.3",
          "state": {
            "_model_module": "jupyter-cytoscape",
            "_model_module_version": "^1.3.3",
            "_model_name": "EdgeModel",
            "_view_count": null,
            "_view_module": "jupyter-cytoscape",
            "_view_module_version": "^1.3.3",
            "_view_name": "EdgeView",
            "classes": " directed  multiple_edges ",
            "data": {
              "source": "-79",
              "target": "-81",
              "weight": 2,
              "label": "HAS_PHONE",
              "tooltip": "{'count': 328, 'type': 'HAS_PHONE', 'in': 328, 'out': 328}"
            },
            "pannable": true,
            "removed": false,
            "selectable": false,
            "selected": false
          }
        },
        "27cfced4c3b64a45bf2420abdd4df438": {
          "model_module": "jupyter-cytoscape",
          "model_name": "EdgeModel",
          "model_module_version": "^1.3.3",
          "state": {
            "_model_module": "jupyter-cytoscape",
            "_model_module_version": "^1.3.3",
            "_model_name": "EdgeModel",
            "_view_count": null,
            "_view_module": "jupyter-cytoscape",
            "_view_module_version": "^1.3.3",
            "_view_name": "EdgeView",
            "classes": " directed  multiple_edges ",
            "data": {
              "source": "-86",
              "target": "-81",
              "weight": 2,
              "label": "CALLER",
              "tooltip": "{'count': 534, 'type': 'CALLER', 'in': 534, 'out': 534}"
            },
            "pannable": true,
            "removed": false,
            "selectable": false,
            "selected": false
          }
        },
        "784c2d475ed1427880900d7b091dcb38": {
          "model_module": "jupyter-cytoscape",
          "model_name": "EdgeModel",
          "model_module_version": "^1.3.3",
          "state": {
            "_model_module": "jupyter-cytoscape",
            "_model_module_version": "^1.3.3",
            "_model_name": "EdgeModel",
            "_view_count": null,
            "_view_module": "jupyter-cytoscape",
            "_view_module_version": "^1.3.3",
            "_view_name": "EdgeView",
            "classes": " directed  multiple_edges ",
            "data": {
              "source": "-86",
              "target": "-81",
              "weight": 2,
              "label": "CALLED",
              "tooltip": "{'count': 534, 'type': 'CALLED', 'in': 534, 'out': 534}"
            },
            "pannable": true,
            "removed": false,
            "selectable": false,
            "selected": false
          }
        },
        "c83875007e474fadb78fdcd268ba5c7e": {
          "model_module": "jupyter-cytoscape",
          "model_name": "EdgeModel",
          "model_module_version": "^1.3.3",
          "state": {
            "_model_module": "jupyter-cytoscape",
            "_model_module_version": "^1.3.3",
            "_model_name": "EdgeModel",
            "_view_count": null,
            "_view_module": "jupyter-cytoscape",
            "_view_module_version": "^1.3.3",
            "_view_name": "EdgeView",
            "classes": " directed  multiple_edges ",
            "data": {
              "source": "-84",
              "target": "-85",
              "weight": 2,
              "label": "POSTCODE_IN_AREA",
              "tooltip": "{'count': 14196, 'type': 'POSTCODE_IN_AREA', 'in': 14196, 'out': 14196}"
            },
            "pannable": true,
            "removed": false,
            "selectable": false,
            "selected": false
          }
        },
        "1c26e25f150e42118193b121d5a6d210": {
          "model_module": "jupyter-cytoscape",
          "model_name": "EdgeModel",
          "model_module_version": "^1.3.3",
          "state": {
            "_model_module": "jupyter-cytoscape",
            "_model_module_version": "^1.3.3",
            "_model_name": "EdgeModel",
            "_view_count": null,
            "_view_module": "jupyter-cytoscape",
            "_view_module_version": "^1.3.3",
            "_view_name": "EdgeView",
            "classes": " directed  multiple_edges ",
            "data": {
              "source": "-89",
              "target": "-87",
              "weight": 2,
              "label": "INVOLVED_IN",
              "tooltip": "{'count': 985, 'type': 'INVOLVED_IN', 'in': 985, 'out': 978}"
            },
            "pannable": true,
            "removed": false,
            "selectable": false,
            "selected": false
          }
        },
        "d2008ea0b8354e5baa9082751a86502c": {
          "model_module": "jupyter-cytoscape",
          "model_name": "NodeModel",
          "model_module_version": "^1.3.3",
          "state": {
            "_model_module": "jupyter-cytoscape",
            "_model_module_version": "^1.3.3",
            "_model_name": "NodeModel",
            "_view_count": null,
            "_view_module": "jupyter-cytoscape",
            "_view_module_version": "^1.3.3",
            "_view_name": "NodeView",
            "classes": "",
            "data": {
              "label": ":Area",
              "color": "",
              "properties": {
                "name": "Area",
                "count": 93
              },
              "title": ":Area",
              "tooltip": "{'name': 'Area', 'count': 93}",
              "id": "-85"
            },
            "grabbable": true,
            "grabbed": false,
            "locked": false,
            "pannable": false,
            "position": {},
            "removed": false,
            "selectable": false,
            "selected": false
          }
        },
        "3bc2e5ceeaa74275a579af2920ef0aa2": {
          "model_module": "jupyter-cytoscape",
          "model_name": "NodeModel",
          "model_module_version": "^1.3.3",
          "state": {
            "_model_module": "jupyter-cytoscape",
            "_model_module_version": "^1.3.3",
            "_model_name": "NodeModel",
            "_view_count": null,
            "_view_module": "jupyter-cytoscape",
            "_view_module_version": "^1.3.3",
            "_view_name": "NodeView",
            "classes": "",
            "data": {
              "label": ":Crime",
              "color": "#53d5fd",
              "properties": {
                "name": "Crime",
                "count": 28762
              },
              "title": ":Crime",
              "tooltip": "{'name': 'Crime', 'count': 28762}",
              "id": "-87"
            },
            "grabbable": true,
            "grabbed": false,
            "locked": false,
            "pannable": false,
            "position": {},
            "removed": false,
            "selectable": false,
            "selected": false
          }
        },
        "d686a302311647398a278f889f00c63e": {
          "model_module": "jupyter-cytoscape",
          "model_name": "NodeModel",
          "model_module_version": "^1.3.3",
          "state": {
            "_model_module": "jupyter-cytoscape",
            "_model_module_version": "^1.3.3",
            "_model_name": "NodeModel",
            "_view_count": null,
            "_view_module": "jupyter-cytoscape",
            "_view_module_version": "^1.3.3",
            "_view_name": "NodeView",
            "classes": "",
            "data": {
              "label": ":Email",
              "color": "",
              "properties": {
                "name": "Email",
                "count": 328
              },
              "title": ":Email",
              "tooltip": "{'name': 'Email', 'count': 328}",
              "id": "-82"
            },
            "grabbable": true,
            "grabbed": false,
            "locked": false,
            "pannable": false,
            "position": {},
            "removed": false,
            "selectable": false,
            "selected": false
          }
        },
        "0ec1a759efd340208a1f6abb6ac9f2b6": {
          "model_module": "jupyter-cytoscape",
          "model_name": "NodeModel",
          "model_module_version": "^1.3.3",
          "state": {
            "_model_module": "jupyter-cytoscape",
            "_model_module_version": "^1.3.3",
            "_model_name": "NodeModel",
            "_view_count": null,
            "_view_module": "jupyter-cytoscape",
            "_view_module_version": "^1.3.3",
            "_view_name": "NodeView",
            "classes": "",
            "data": {
              "label": ":Location",
              "color": "#ff2600",
              "properties": {
                "name": "Location",
                "count": 14904
              },
              "title": ":Location",
              "tooltip": "{'name': 'Location', 'count': 14904}",
              "id": "-80"
            },
            "grabbable": true,
            "grabbed": false,
            "locked": false,
            "pannable": false,
            "position": {},
            "removed": false,
            "selectable": false,
            "selected": false
          }
        },
        "1c4664f6bc3648b493e5763b90b02c1c": {
          "model_module": "jupyter-cytoscape",
          "model_name": "NodeModel",
          "model_module_version": "^1.3.3",
          "state": {
            "_model_module": "jupyter-cytoscape",
            "_model_module_version": "^1.3.3",
            "_model_name": "NodeModel",
            "_view_count": null,
            "_view_module": "jupyter-cytoscape",
            "_view_module_version": "^1.3.3",
            "_view_name": "NodeView",
            "classes": "",
            "data": {
              "label": ":Object",
              "color": "#00f900",
              "properties": {
                "name": "Object",
                "count": 7
              },
              "title": ":Object",
              "tooltip": "{'name': 'Object', 'count': 7}",
              "id": "-88"
            },
            "grabbable": true,
            "grabbed": false,
            "locked": false,
            "pannable": false,
            "position": {},
            "removed": false,
            "selectable": false,
            "selected": false
          }
        },
        "65186260665b4885a003e90018f023d0": {
          "model_module": "jupyter-cytoscape",
          "model_name": "NodeModel",
          "model_module_version": "^1.3.3",
          "state": {
            "_model_module": "jupyter-cytoscape",
            "_model_module_version": "^1.3.3",
            "_model_name": "NodeModel",
            "_view_count": null,
            "_view_module": "jupyter-cytoscape",
            "_view_module_version": "^1.3.3",
            "_view_name": "NodeView",
            "classes": "",
            "data": {
              "label": ":Officer",
              "color": "",
              "properties": {
                "name": "Officer",
                "count": 1000
              },
              "title": ":Officer",
              "tooltip": "{'name': 'Officer', 'count': 1000}",
              "id": "-83"
            },
            "grabbable": true,
            "grabbed": false,
            "locked": false,
            "pannable": false,
            "position": {},
            "removed": false,
            "selectable": false,
            "selected": false
          }
        },
        "f735e3e674254e4fa7ba2a038620877e": {
          "model_module": "jupyter-cytoscape",
          "model_name": "NodeModel",
          "model_module_version": "^1.3.3",
          "state": {
            "_model_module": "jupyter-cytoscape",
            "_model_module_version": "^1.3.3",
            "_model_name": "NodeModel",
            "_view_count": null,
            "_view_module": "jupyter-cytoscape",
            "_view_module_version": "^1.3.3",
            "_view_name": "NodeView",
            "classes": "",
            "data": {
              "label": ":Person",
              "color": "#fffb00",
              "properties": {
                "name": "Person",
                "count": 369
              },
              "title": ":Person",
              "tooltip": "{'name': 'Person', 'count': 369}",
              "id": "-79"
            },
            "grabbable": true,
            "grabbed": false,
            "locked": false,
            "pannable": false,
            "position": {},
            "removed": false,
            "selectable": false,
            "selected": false
          }
        },
        "183a3ea96d1d4be3b938b46c818458d9": {
          "model_module": "jupyter-cytoscape",
          "model_name": "NodeModel",
          "model_module_version": "^1.3.3",
          "state": {
            "_model_module": "jupyter-cytoscape",
            "_model_module_version": "^1.3.3",
            "_model_name": "NodeModel",
            "_view_count": null,
            "_view_module": "jupyter-cytoscape",
            "_view_module_version": "^1.3.3",
            "_view_name": "NodeView",
            "classes": "",
            "data": {
              "label": ":Phone",
              "color": "",
              "properties": {
                "name": "Phone",
                "count": 328
              },
              "title": ":Phone",
              "tooltip": "{'name': 'Phone', 'count': 328}",
              "id": "-81"
            },
            "grabbable": true,
            "grabbed": false,
            "locked": false,
            "pannable": false,
            "position": {},
            "removed": false,
            "selectable": false,
            "selected": false
          }
        },
        "e7d2a1548fa64bc6ab6c2817ac9951f8": {
          "model_module": "jupyter-cytoscape",
          "model_name": "NodeModel",
          "model_module_version": "^1.3.3",
          "state": {
            "_model_module": "jupyter-cytoscape",
            "_model_module_version": "^1.3.3",
            "_model_name": "NodeModel",
            "_view_count": null,
            "_view_module": "jupyter-cytoscape",
            "_view_module_version": "^1.3.3",
            "_view_name": "NodeView",
            "classes": "",
            "data": {
              "label": ":PhoneCall",
              "color": "",
              "properties": {
                "name": "PhoneCall",
                "count": 534
              },
              "title": ":PhoneCall",
              "tooltip": "{'name': 'PhoneCall', 'count': 534}",
              "id": "-86"
            },
            "grabbable": true,
            "grabbed": false,
            "locked": false,
            "pannable": false,
            "position": {},
            "removed": false,
            "selectable": false,
            "selected": false
          }
        },
        "38f50c7091f34eb1b5711eee53fc2c92": {
          "model_module": "jupyter-cytoscape",
          "model_name": "NodeModel",
          "model_module_version": "^1.3.3",
          "state": {
            "_model_module": "jupyter-cytoscape",
            "_model_module_version": "^1.3.3",
            "_model_name": "NodeModel",
            "_view_count": null,
            "_view_module": "jupyter-cytoscape",
            "_view_module_version": "^1.3.3",
            "_view_name": "NodeView",
            "classes": "",
            "data": {
              "label": ":PostCode",
              "color": "",
              "properties": {
                "name": "PostCode",
                "count": 14196
              },
              "title": ":PostCode",
              "tooltip": "{'name': 'PostCode', 'count': 14196}",
              "id": "-84"
            },
            "grabbable": true,
            "grabbed": false,
            "locked": false,
            "pannable": false,
            "position": {},
            "removed": false,
            "selectable": false,
            "selected": false
          }
        },
        "c6a481c5e2a14532b67bb444a17cd135": {
          "model_module": "jupyter-cytoscape",
          "model_name": "NodeModel",
          "model_module_version": "^1.3.3",
          "state": {
            "_model_module": "jupyter-cytoscape",
            "_model_module_version": "^1.3.3",
            "_model_name": "NodeModel",
            "_view_count": null,
            "_view_module": "jupyter-cytoscape",
            "_view_module_version": "^1.3.3",
            "_view_name": "NodeView",
            "classes": "",
            "data": {
              "label": ":Vehicle",
              "color": "",
              "properties": {
                "name": "Vehicle",
                "count": 1000
              },
              "title": ":Vehicle",
              "tooltip": "{'name': 'Vehicle', 'count': 1000}",
              "id": "-89"
            },
            "grabbable": true,
            "grabbed": false,
            "locked": false,
            "pannable": false,
            "position": {},
            "removed": false,
            "selectable": false,
            "selected": false
          }
        },
        "c7c7a320caed4edb81ce43d77fff320c": {
          "model_module": "jupyter-cytoscape",
          "model_name": "CytoscapeModel",
          "model_module_version": "^1.3.3",
          "state": {
            "_dom_classes": [],
            "_interaction_handlers": {},
            "_model_module": "jupyter-cytoscape",
            "_model_module_version": "^1.3.3",
            "_model_name": "CytoscapeModel",
            "_view_count": null,
            "_view_module": "jupyter-cytoscape",
            "_view_module_version": "^1.3.3",
            "_view_name": "CytoscapeView",
            "auto_ungrabify": false,
            "auto_unselectify": true,
            "autolock": false,
            "box_selection_enabled": false,
            "cytoscape_layout": {
              "name": "dagre",
              "padding": 0,
              "nodeSpacing": 10,
              "edgeLengthVal": 10,
              "animate": true,
              "randomize": true,
              "maxSimulations": 1500
            },
            "cytoscape_style": [
              {
                "selector": "node",
                "style": {
                  "font-size": "10",
                  "label": "data(label)",
                  "height": "60",
                  "width": "60",
                  "text-max-width": "60",
                  "text-wrap": "wrap",
                  "text-valign": "center",
                  "background-color": "data(color)",
                  "background-opacity": 0.6,
                  "border-width": 3,
                  "border-color": "#D3D3D3"
                }
              },
              {
                "selector": "edge",
                "style": {
                  "font-size": "8",
                  "label": "data(label)",
                  "line-color": "#D3D3D3",
                  "text-rotation": "autorotate",
                  "target-arrow-shape": "triangle",
                  "target-arrow-color": "#D3D3D3",
                  "curve-style": "bezier",
                  "text-background-color": "#FCFCFC",
                  "text-background-opacity": 0.8,
                  "text-background-shape": "rectangle",
                  "width": "data(weight)"
                }
              }
            ],
            "desktop_tap_threshold": 4,
            "graph": "IPY_MODEL_fa407e63910f4d7aa153d4f8f4c0c552",
            "headless": false,
            "hide_edges_on_viewport": false,
            "layout": "IPY_MODEL_2f57ba0a48654bbf90443a01a1ec5a1b",
            "max_zoom": 1e+50,
            "min_zoom": 1e-50,
            "motion_blur": false,
            "motion_blur_opacity": 0.2,
            "panning_enabled": true,
            "pixel_ratio": "auto",
            "rendered_position": {
              "renderedPosition": {
                "x": 100,
                "y": 100
              }
            },
            "selection_type": "single",
            "style_enabled": true,
            "texture_on_viewport": false,
            "tooltip_source": "tooltip",
            "touch_tap_threshold": 8,
            "user_panning_enabled": true,
            "user_zooming_enabled": true,
            "wheel_sensitivity": 1,
            "zoom": 2,
            "zooming_enabled": true
          }
        },
        "fa407e63910f4d7aa153d4f8f4c0c552": {
          "model_module": "jupyter-cytoscape",
          "model_name": "GraphModel",
          "model_module_version": "^1.3.3",
          "state": {
            "_adj": {
              "-96": {},
              "-98": {},
              "-93": {},
              "-91": {},
              "-99": {},
              "-94": {},
              "-90": {},
              "-92": {},
              "-97": {},
              "-95": {},
              "-100": {}
            },
            "_model_module": "jupyter-cytoscape",
            "_model_module_version": "^1.3.3",
            "_model_name": "GraphModel",
            "_view_count": null,
            "_view_module": "jupyter-cytoscape",
            "_view_module_version": "^1.3.3",
            "_view_name": null,
            "edges": [
              "IPY_MODEL_5fb5b821a1dc40758660690608d2bdb4",
              "IPY_MODEL_cb1216a2954448ab97787a8d3952d8b3",
              "IPY_MODEL_08a10b15e10547c39efccc9926f91daa",
              "IPY_MODEL_666e6532d919459ea216ebd8a4830d40",
              "IPY_MODEL_91a453588d284bf88cd3d662005e1e94",
              "IPY_MODEL_fae382851d674d0f94a5319bb55b6b36",
              "IPY_MODEL_a61ccfbfb60341e09e9be66707b14433",
              "IPY_MODEL_fe4d12b70de54caea059894e418b2685",
              "IPY_MODEL_729958c98534452cacce6640ebe79784",
              "IPY_MODEL_af02c0bf71a64d3aa09b5016c40f84a4",
              "IPY_MODEL_9dce31b7df1b47f9b130aa3119869ede",
              "IPY_MODEL_e0c44c91217f498a9f859a230c4def38",
              "IPY_MODEL_42b1a2c7bb8f42a5a156da80c525fdb1",
              "IPY_MODEL_3269889e778248bf8798a76b971b14fb",
              "IPY_MODEL_b9d8f60e929e4baba7b58fcc03101d67",
              "IPY_MODEL_038aa231f7cc47e1a2ec4ecf95562ddb",
              "IPY_MODEL_ac8b9cc206c3419884e0484e7f64c31c",
              "IPY_MODEL_e842e9ea91db48448f1087067f74f135"
            ],
            "nodes": [
              "IPY_MODEL_5851cbb6961f472fb211f2931335b8e4",
              "IPY_MODEL_d399b71ad0984334a6295aa52f40f778",
              "IPY_MODEL_15a3e1e657e74768917e5e6272eb774a",
              "IPY_MODEL_489542f11b4b48bbb03a53030b67857b",
              "IPY_MODEL_1173bac70276416890bdcf97d098d846",
              "IPY_MODEL_ce323e076f244422a651452c5c01cd98",
              "IPY_MODEL_957e496e50044928b3c7aaaebec8f0ff",
              "IPY_MODEL_b7f35609e5c2411085adfa228dcf1f39",
              "IPY_MODEL_0ed4faf768b04612beee9a4f6e65bf76",
              "IPY_MODEL_39c54055ddc64f9eae9a75b566cb8a9e",
              "IPY_MODEL_efaa9ed8b5e8491c9e2b5d135ca0b78b"
            ]
          }
        },
        "2f57ba0a48654bbf90443a01a1ec5a1b": {
          "model_module": "@jupyter-widgets/base",
          "model_name": "LayoutModel",
          "model_module_version": "1.2.0",
          "state": {
            "_model_module": "@jupyter-widgets/base",
            "_model_module_version": "1.2.0",
            "_model_name": "LayoutModel",
            "_view_count": null,
            "_view_module": "@jupyter-widgets/base",
            "_view_module_version": "1.2.0",
            "_view_name": "LayoutView",
            "align_content": null,
            "align_items": null,
            "align_self": null,
            "border": null,
            "bottom": null,
            "display": null,
            "flex": null,
            "flex_flow": null,
            "grid_area": null,
            "grid_auto_columns": null,
            "grid_auto_flow": null,
            "grid_auto_rows": null,
            "grid_column": null,
            "grid_gap": null,
            "grid_row": null,
            "grid_template_areas": null,
            "grid_template_columns": null,
            "grid_template_rows": null,
            "height": null,
            "justify_content": null,
            "justify_items": null,
            "left": null,
            "margin": null,
            "max_height": null,
            "max_width": null,
            "min_height": null,
            "min_width": null,
            "object_fit": null,
            "object_position": null,
            "order": null,
            "overflow": null,
            "overflow_x": null,
            "overflow_y": null,
            "padding": null,
            "right": null,
            "top": null,
            "visibility": null,
            "width": null
          }
        },
        "5fb5b821a1dc40758660690608d2bdb4": {
          "model_module": "jupyter-cytoscape",
          "model_name": "EdgeModel",
          "model_module_version": "^1.3.3",
          "state": {
            "_model_module": "jupyter-cytoscape",
            "_model_module_version": "^1.3.3",
            "_model_name": "EdgeModel",
            "_view_count": null,
            "_view_module": "jupyter-cytoscape",
            "_view_module_version": "^1.3.3",
            "_view_name": "EdgeView",
            "classes": " directed  multiple_edges ",
            "data": {
              "source": "-98",
              "target": "-91",
              "weight": 2,
              "label": "OCCURRED_AT",
              "tooltip": "{'count': 28762, 'type': 'OCCURRED_AT', 'in': 28762, 'out': 28762}"
            },
            "pannable": true,
            "removed": false,
            "selectable": false,
            "selected": false
          }
        },
        "cb1216a2954448ab97787a8d3952d8b3": {
          "model_module": "jupyter-cytoscape",
          "model_name": "EdgeModel",
          "model_module_version": "^1.3.3",
          "state": {
            "_model_module": "jupyter-cytoscape",
            "_model_module_version": "^1.3.3",
            "_model_name": "EdgeModel",
            "_view_count": null,
            "_view_module": "jupyter-cytoscape",
            "_view_module_version": "^1.3.3",
            "_view_name": "EdgeView",
            "classes": " directed  multiple_edges ",
            "data": {
              "source": "-98",
              "target": "-94",
              "weight": 2,
              "label": "INVESTIGATED_BY",
              "tooltip": "{'count': 28762, 'type': 'INVESTIGATED_BY', 'in': 28762, 'out': 28762}"
            },
            "pannable": true,
            "removed": false,
            "selectable": false,
            "selected": false
          }
        },
        "08a10b15e10547c39efccc9926f91daa": {
          "model_module": "jupyter-cytoscape",
          "model_name": "EdgeModel",
          "model_module_version": "^1.3.3",
          "state": {
            "_model_module": "jupyter-cytoscape",
            "_model_module_version": "^1.3.3",
            "_model_name": "EdgeModel",
            "_view_count": null,
            "_view_module": "jupyter-cytoscape",
            "_view_module_version": "^1.3.3",
            "_view_name": "EdgeView",
            "classes": " directed  multiple_edges ",
            "data": {
              "source": "-91",
              "target": "-95",
              "weight": 2,
              "label": "HAS_POSTCODE",
              "tooltip": "{'count': 14904, 'type': 'HAS_POSTCODE', 'in': 14904, 'out': 14904}"
            },
            "pannable": true,
            "removed": false,
            "selectable": false,
            "selected": false
          }
        },
        "666e6532d919459ea216ebd8a4830d40": {
          "model_module": "jupyter-cytoscape",
          "model_name": "EdgeModel",
          "model_module_version": "^1.3.3",
          "state": {
            "_model_module": "jupyter-cytoscape",
            "_model_module_version": "^1.3.3",
            "_model_name": "EdgeModel",
            "_view_count": null,
            "_view_module": "jupyter-cytoscape",
            "_view_module_version": "^1.3.3",
            "_view_name": "EdgeView",
            "classes": " directed  multiple_edges ",
            "data": {
              "source": "-91",
              "target": "-96",
              "weight": 2,
              "label": "LOCATION_IN_AREA",
              "tooltip": "{'count': 14904, 'type': 'LOCATION_IN_AREA', 'in': 14904, 'out': 14904}"
            },
            "pannable": true,
            "removed": false,
            "selectable": false,
            "selected": false
          }
        },
        "91a453588d284bf88cd3d662005e1e94": {
          "model_module": "jupyter-cytoscape",
          "model_name": "EdgeModel",
          "model_module_version": "^1.3.3",
          "state": {
            "_model_module": "jupyter-cytoscape",
            "_model_module_version": "^1.3.3",
            "_model_name": "EdgeModel",
            "_view_count": null,
            "_view_module": "jupyter-cytoscape",
            "_view_module_version": "^1.3.3",
            "_view_name": "EdgeView",
            "classes": " directed  multiple_edges ",
            "data": {
              "source": "-99",
              "target": "-98",
              "weight": 2,
              "label": "INVOLVED_IN",
              "tooltip": "{'count': 985, 'type': 'INVOLVED_IN', 'in': 985, 'out': 7}"
            },
            "pannable": true,
            "removed": false,
            "selectable": false,
            "selected": false
          }
        },
        "fae382851d674d0f94a5319bb55b6b36": {
          "model_module": "jupyter-cytoscape",
          "model_name": "EdgeModel",
          "model_module_version": "^1.3.3",
          "state": {
            "_model_module": "jupyter-cytoscape",
            "_model_module_version": "^1.3.3",
            "_model_name": "EdgeModel",
            "_view_count": null,
            "_view_module": "jupyter-cytoscape",
            "_view_module_version": "^1.3.3",
            "_view_name": "EdgeView",
            "classes": " directed  multiple_edges ",
            "data": {
              "source": "-90",
              "target": "-93",
              "weight": 2,
              "label": "HAS_EMAIL",
              "tooltip": "{'count': 328, 'type': 'HAS_EMAIL', 'in': 328, 'out': 328}"
            },
            "pannable": true,
            "removed": false,
            "selectable": false,
            "selected": false
          }
        },
        "a61ccfbfb60341e09e9be66707b14433": {
          "model_module": "jupyter-cytoscape",
          "model_name": "EdgeModel",
          "model_module_version": "^1.3.3",
          "state": {
            "_model_module": "jupyter-cytoscape",
            "_model_module_version": "^1.3.3",
            "_model_name": "EdgeModel",
            "_view_count": null,
            "_view_module": "jupyter-cytoscape",
            "_view_module_version": "^1.3.3",
            "_view_name": "EdgeView",
            "classes": " directed  multiple_edges ",
            "data": {
              "source": "-90",
              "target": "-90",
              "weight": 2,
              "label": "KNOWS_PHONE",
              "tooltip": "{'count': 118, 'type': 'KNOWS_PHONE', 'in': 118, 'out': 118}"
            },
            "pannable": true,
            "removed": false,
            "selectable": false,
            "selected": false
          }
        },
        "fe4d12b70de54caea059894e418b2685": {
          "model_module": "jupyter-cytoscape",
          "model_name": "EdgeModel",
          "model_module_version": "^1.3.3",
          "state": {
            "_model_module": "jupyter-cytoscape",
            "_model_module_version": "^1.3.3",
            "_model_name": "EdgeModel",
            "_view_count": null,
            "_view_module": "jupyter-cytoscape",
            "_view_module_version": "^1.3.3",
            "_view_name": "EdgeView",
            "classes": " directed  multiple_edges ",
            "data": {
              "source": "-90",
              "target": "-90",
              "weight": 2,
              "label": "KNOWS_LW",
              "tooltip": "{'count': 80, 'type': 'KNOWS_LW', 'in': 80, 'out': 80}"
            },
            "pannable": true,
            "removed": false,
            "selectable": false,
            "selected": false
          }
        },
        "729958c98534452cacce6640ebe79784": {
          "model_module": "jupyter-cytoscape",
          "model_name": "EdgeModel",
          "model_module_version": "^1.3.3",
          "state": {
            "_model_module": "jupyter-cytoscape",
            "_model_module_version": "^1.3.3",
            "_model_name": "EdgeModel",
            "_view_count": null,
            "_view_module": "jupyter-cytoscape",
            "_view_module_version": "^1.3.3",
            "_view_name": "EdgeView",
            "classes": " directed  multiple_edges ",
            "data": {
              "source": "-90",
              "target": "-90",
              "weight": 2,
              "label": "FAMILY_REL",
              "tooltip": "{'count': 155, 'type': 'FAMILY_REL', 'in': 155, 'out': 155}"
            },
            "pannable": true,
            "removed": false,
            "selectable": false,
            "selected": false
          }
        },
        "af02c0bf71a64d3aa09b5016c40f84a4": {
          "model_module": "jupyter-cytoscape",
          "model_name": "EdgeModel",
          "model_module_version": "^1.3.3",
          "state": {
            "_model_module": "jupyter-cytoscape",
            "_model_module_version": "^1.3.3",
            "_model_name": "EdgeModel",
            "_view_count": null,
            "_view_module": "jupyter-cytoscape",
            "_view_module_version": "^1.3.3",
            "_view_name": "EdgeView",
            "classes": " directed  multiple_edges ",
            "data": {
              "source": "-90",
              "target": "-90",
              "weight": 2,
              "label": "KNOWS_SN",
              "tooltip": "{'count': 241, 'type': 'KNOWS_SN', 'in': 241, 'out': 241}"
            },
            "pannable": true,
            "removed": false,
            "selectable": false,
            "selected": false
          }
        },
        "9dce31b7df1b47f9b130aa3119869ede": {
          "model_module": "jupyter-cytoscape",
          "model_name": "EdgeModel",
          "model_module_version": "^1.3.3",
          "state": {
            "_model_module": "jupyter-cytoscape",
            "_model_module_version": "^1.3.3",
            "_model_name": "EdgeModel",
            "_view_count": null,
            "_view_module": "jupyter-cytoscape",
            "_view_module_version": "^1.3.3",
            "_view_name": "EdgeView",
            "classes": " directed  multiple_edges ",
            "data": {
              "source": "-90",
              "target": "-90",
              "weight": 2,
              "label": "KNOWS",
              "tooltip": "{'count': 586, 'type': 'KNOWS', 'in': 586, 'out': 586}"
            },
            "pannable": true,
            "removed": false,
            "selectable": false,
            "selected": false
          }
        },
        "e0c44c91217f498a9f859a230c4def38": {
          "model_module": "jupyter-cytoscape",
          "model_name": "EdgeModel",
          "model_module_version": "^1.3.3",
          "state": {
            "_model_module": "jupyter-cytoscape",
            "_model_module_version": "^1.3.3",
            "_model_name": "EdgeModel",
            "_view_count": null,
            "_view_module": "jupyter-cytoscape",
            "_view_module_version": "^1.3.3",
            "_view_name": "EdgeView",
            "classes": " directed  multiple_edges ",
            "data": {
              "source": "-90",
              "target": "-98",
              "weight": 2,
              "label": "PARTY_TO",
              "tooltip": "{'count': 55, 'type': 'PARTY_TO', 'in': 55, 'out': 55}"
            },
            "pannable": true,
            "removed": false,
            "selectable": false,
            "selected": false
          }
        },
        "42b1a2c7bb8f42a5a156da80c525fdb1": {
          "model_module": "jupyter-cytoscape",
          "model_name": "EdgeModel",
          "model_module_version": "^1.3.3",
          "state": {
            "_model_module": "jupyter-cytoscape",
            "_model_module_version": "^1.3.3",
            "_model_name": "EdgeModel",
            "_view_count": null,
            "_view_module": "jupyter-cytoscape",
            "_view_module_version": "^1.3.3",
            "_view_name": "EdgeView",
            "classes": " directed  multiple_edges ",
            "data": {
              "source": "-90",
              "target": "-91",
              "weight": 2,
              "label": "CURRENT_ADDRESS",
              "tooltip": "{'count': 368, 'type': 'CURRENT_ADDRESS', 'in': 368, 'out': 368}"
            },
            "pannable": true,
            "removed": false,
            "selectable": false,
            "selected": false
          }
        },
        "3269889e778248bf8798a76b971b14fb": {
          "model_module": "jupyter-cytoscape",
          "model_name": "EdgeModel",
          "model_module_version": "^1.3.3",
          "state": {
            "_model_module": "jupyter-cytoscape",
            "_model_module_version": "^1.3.3",
            "_model_name": "EdgeModel",
            "_view_count": null,
            "_view_module": "jupyter-cytoscape",
            "_view_module_version": "^1.3.3",
            "_view_name": "EdgeView",
            "classes": " directed  multiple_edges ",
            "data": {
              "source": "-90",
              "target": "-92",
              "weight": 2,
              "label": "HAS_PHONE",
              "tooltip": "{'count': 328, 'type': 'HAS_PHONE', 'in': 328, 'out': 328}"
            },
            "pannable": true,
            "removed": false,
            "selectable": false,
            "selected": false
          }
        },
        "b9d8f60e929e4baba7b58fcc03101d67": {
          "model_module": "jupyter-cytoscape",
          "model_name": "EdgeModel",
          "model_module_version": "^1.3.3",
          "state": {
            "_model_module": "jupyter-cytoscape",
            "_model_module_version": "^1.3.3",
            "_model_name": "EdgeModel",
            "_view_count": null,
            "_view_module": "jupyter-cytoscape",
            "_view_module_version": "^1.3.3",
            "_view_name": "EdgeView",
            "classes": " directed  multiple_edges ",
            "data": {
              "source": "-97",
              "target": "-92",
              "weight": 2,
              "label": "CALLER",
              "tooltip": "{'count': 534, 'type': 'CALLER', 'in': 534, 'out': 534}"
            },
            "pannable": true,
            "removed": false,
            "selectable": false,
            "selected": false
          }
        },
        "038aa231f7cc47e1a2ec4ecf95562ddb": {
          "model_module": "jupyter-cytoscape",
          "model_name": "EdgeModel",
          "model_module_version": "^1.3.3",
          "state": {
            "_model_module": "jupyter-cytoscape",
            "_model_module_version": "^1.3.3",
            "_model_name": "EdgeModel",
            "_view_count": null,
            "_view_module": "jupyter-cytoscape",
            "_view_module_version": "^1.3.3",
            "_view_name": "EdgeView",
            "classes": " directed  multiple_edges ",
            "data": {
              "source": "-97",
              "target": "-92",
              "weight": 2,
              "label": "CALLED",
              "tooltip": "{'count': 534, 'type': 'CALLED', 'in': 534, 'out': 534}"
            },
            "pannable": true,
            "removed": false,
            "selectable": false,
            "selected": false
          }
        },
        "ac8b9cc206c3419884e0484e7f64c31c": {
          "model_module": "jupyter-cytoscape",
          "model_name": "EdgeModel",
          "model_module_version": "^1.3.3",
          "state": {
            "_model_module": "jupyter-cytoscape",
            "_model_module_version": "^1.3.3",
            "_model_name": "EdgeModel",
            "_view_count": null,
            "_view_module": "jupyter-cytoscape",
            "_view_module_version": "^1.3.3",
            "_view_name": "EdgeView",
            "classes": " directed  multiple_edges ",
            "data": {
              "source": "-95",
              "target": "-96",
              "weight": 2,
              "label": "POSTCODE_IN_AREA",
              "tooltip": "{'count': 14196, 'type': 'POSTCODE_IN_AREA', 'in': 14196, 'out': 14196}"
            },
            "pannable": true,
            "removed": false,
            "selectable": false,
            "selected": false
          }
        },
        "e842e9ea91db48448f1087067f74f135": {
          "model_module": "jupyter-cytoscape",
          "model_name": "EdgeModel",
          "model_module_version": "^1.3.3",
          "state": {
            "_model_module": "jupyter-cytoscape",
            "_model_module_version": "^1.3.3",
            "_model_name": "EdgeModel",
            "_view_count": null,
            "_view_module": "jupyter-cytoscape",
            "_view_module_version": "^1.3.3",
            "_view_name": "EdgeView",
            "classes": " directed  multiple_edges ",
            "data": {
              "source": "-100",
              "target": "-98",
              "weight": 2,
              "label": "INVOLVED_IN",
              "tooltip": "{'count': 985, 'type': 'INVOLVED_IN', 'in': 985, 'out': 978}"
            },
            "pannable": true,
            "removed": false,
            "selectable": false,
            "selected": false
          }
        },
        "5851cbb6961f472fb211f2931335b8e4": {
          "model_module": "jupyter-cytoscape",
          "model_name": "NodeModel",
          "model_module_version": "^1.3.3",
          "state": {
            "_model_module": "jupyter-cytoscape",
            "_model_module_version": "^1.3.3",
            "_model_name": "NodeModel",
            "_view_count": null,
            "_view_module": "jupyter-cytoscape",
            "_view_module_version": "^1.3.3",
            "_view_name": "NodeView",
            "classes": "",
            "data": {
              "label": ":Area",
              "color": "",
              "properties": {
                "name": "Area",
                "count": 93
              },
              "title": ":Area",
              "tooltip": "{'name': 'Area', 'count': 93}",
              "id": "-96"
            },
            "grabbable": true,
            "grabbed": false,
            "locked": false,
            "pannable": false,
            "position": {},
            "removed": false,
            "selectable": false,
            "selected": false
          }
        },
        "d399b71ad0984334a6295aa52f40f778": {
          "model_module": "jupyter-cytoscape",
          "model_name": "NodeModel",
          "model_module_version": "^1.3.3",
          "state": {
            "_model_module": "jupyter-cytoscape",
            "_model_module_version": "^1.3.3",
            "_model_name": "NodeModel",
            "_view_count": null,
            "_view_module": "jupyter-cytoscape",
            "_view_module_version": "^1.3.3",
            "_view_name": "NodeView",
            "classes": "",
            "data": {
              "label": ":Crime",
              "color": "#53d5fd",
              "properties": {
                "name": "Crime",
                "count": 28762
              },
              "title": ":Crime",
              "tooltip": "{'name': 'Crime', 'count': 28762}",
              "id": "-98"
            },
            "grabbable": true,
            "grabbed": false,
            "locked": false,
            "pannable": false,
            "position": {},
            "removed": false,
            "selectable": false,
            "selected": false
          }
        },
        "15a3e1e657e74768917e5e6272eb774a": {
          "model_module": "jupyter-cytoscape",
          "model_name": "NodeModel",
          "model_module_version": "^1.3.3",
          "state": {
            "_model_module": "jupyter-cytoscape",
            "_model_module_version": "^1.3.3",
            "_model_name": "NodeModel",
            "_view_count": null,
            "_view_module": "jupyter-cytoscape",
            "_view_module_version": "^1.3.3",
            "_view_name": "NodeView",
            "classes": "",
            "data": {
              "label": ":Email",
              "color": "",
              "properties": {
                "name": "Email",
                "count": 328
              },
              "title": ":Email",
              "tooltip": "{'name': 'Email', 'count': 328}",
              "id": "-93"
            },
            "grabbable": true,
            "grabbed": false,
            "locked": false,
            "pannable": false,
            "position": {},
            "removed": false,
            "selectable": false,
            "selected": false
          }
        },
        "489542f11b4b48bbb03a53030b67857b": {
          "model_module": "jupyter-cytoscape",
          "model_name": "NodeModel",
          "model_module_version": "^1.3.3",
          "state": {
            "_model_module": "jupyter-cytoscape",
            "_model_module_version": "^1.3.3",
            "_model_name": "NodeModel",
            "_view_count": null,
            "_view_module": "jupyter-cytoscape",
            "_view_module_version": "^1.3.3",
            "_view_name": "NodeView",
            "classes": "",
            "data": {
              "label": ":Location",
              "color": "#ff2600",
              "properties": {
                "name": "Location",
                "count": 14904
              },
              "title": ":Location",
              "tooltip": "{'name': 'Location', 'count': 14904}",
              "id": "-91"
            },
            "grabbable": true,
            "grabbed": false,
            "locked": false,
            "pannable": false,
            "position": {},
            "removed": false,
            "selectable": false,
            "selected": false
          }
        },
        "1173bac70276416890bdcf97d098d846": {
          "model_module": "jupyter-cytoscape",
          "model_name": "NodeModel",
          "model_module_version": "^1.3.3",
          "state": {
            "_model_module": "jupyter-cytoscape",
            "_model_module_version": "^1.3.3",
            "_model_name": "NodeModel",
            "_view_count": null,
            "_view_module": "jupyter-cytoscape",
            "_view_module_version": "^1.3.3",
            "_view_name": "NodeView",
            "classes": "",
            "data": {
              "label": ":Object",
              "color": "#00f900",
              "properties": {
                "name": "Object",
                "count": 7
              },
              "title": ":Object",
              "tooltip": "{'name': 'Object', 'count': 7}",
              "id": "-99"
            },
            "grabbable": true,
            "grabbed": false,
            "locked": false,
            "pannable": false,
            "position": {},
            "removed": false,
            "selectable": false,
            "selected": false
          }
        },
        "ce323e076f244422a651452c5c01cd98": {
          "model_module": "jupyter-cytoscape",
          "model_name": "NodeModel",
          "model_module_version": "^1.3.3",
          "state": {
            "_model_module": "jupyter-cytoscape",
            "_model_module_version": "^1.3.3",
            "_model_name": "NodeModel",
            "_view_count": null,
            "_view_module": "jupyter-cytoscape",
            "_view_module_version": "^1.3.3",
            "_view_name": "NodeView",
            "classes": "",
            "data": {
              "label": ":Officer",
              "color": "",
              "properties": {
                "name": "Officer",
                "count": 1000
              },
              "title": ":Officer",
              "tooltip": "{'name': 'Officer', 'count': 1000}",
              "id": "-94"
            },
            "grabbable": true,
            "grabbed": false,
            "locked": false,
            "pannable": false,
            "position": {},
            "removed": false,
            "selectable": false,
            "selected": false
          }
        },
        "957e496e50044928b3c7aaaebec8f0ff": {
          "model_module": "jupyter-cytoscape",
          "model_name": "NodeModel",
          "model_module_version": "^1.3.3",
          "state": {
            "_model_module": "jupyter-cytoscape",
            "_model_module_version": "^1.3.3",
            "_model_name": "NodeModel",
            "_view_count": null,
            "_view_module": "jupyter-cytoscape",
            "_view_module_version": "^1.3.3",
            "_view_name": "NodeView",
            "classes": "",
            "data": {
              "label": ":Person",
              "color": "#fffb00",
              "properties": {
                "name": "Person",
                "count": 369
              },
              "title": ":Person",
              "tooltip": "{'name': 'Person', 'count': 369}",
              "id": "-90"
            },
            "grabbable": true,
            "grabbed": false,
            "locked": false,
            "pannable": false,
            "position": {},
            "removed": false,
            "selectable": false,
            "selected": false
          }
        },
        "b7f35609e5c2411085adfa228dcf1f39": {
          "model_module": "jupyter-cytoscape",
          "model_name": "NodeModel",
          "model_module_version": "^1.3.3",
          "state": {
            "_model_module": "jupyter-cytoscape",
            "_model_module_version": "^1.3.3",
            "_model_name": "NodeModel",
            "_view_count": null,
            "_view_module": "jupyter-cytoscape",
            "_view_module_version": "^1.3.3",
            "_view_name": "NodeView",
            "classes": "",
            "data": {
              "label": ":Phone",
              "color": "",
              "properties": {
                "name": "Phone",
                "count": 328
              },
              "title": ":Phone",
              "tooltip": "{'name': 'Phone', 'count': 328}",
              "id": "-92"
            },
            "grabbable": true,
            "grabbed": false,
            "locked": false,
            "pannable": false,
            "position": {},
            "removed": false,
            "selectable": false,
            "selected": false
          }
        },
        "0ed4faf768b04612beee9a4f6e65bf76": {
          "model_module": "jupyter-cytoscape",
          "model_name": "NodeModel",
          "model_module_version": "^1.3.3",
          "state": {
            "_model_module": "jupyter-cytoscape",
            "_model_module_version": "^1.3.3",
            "_model_name": "NodeModel",
            "_view_count": null,
            "_view_module": "jupyter-cytoscape",
            "_view_module_version": "^1.3.3",
            "_view_name": "NodeView",
            "classes": "",
            "data": {
              "label": ":PhoneCall",
              "color": "",
              "properties": {
                "name": "PhoneCall",
                "count": 534
              },
              "title": ":PhoneCall",
              "tooltip": "{'name': 'PhoneCall', 'count': 534}",
              "id": "-97"
            },
            "grabbable": true,
            "grabbed": false,
            "locked": false,
            "pannable": false,
            "position": {},
            "removed": false,
            "selectable": false,
            "selected": false
          }
        },
        "39c54055ddc64f9eae9a75b566cb8a9e": {
          "model_module": "jupyter-cytoscape",
          "model_name": "NodeModel",
          "model_module_version": "^1.3.3",
          "state": {
            "_model_module": "jupyter-cytoscape",
            "_model_module_version": "^1.3.3",
            "_model_name": "NodeModel",
            "_view_count": null,
            "_view_module": "jupyter-cytoscape",
            "_view_module_version": "^1.3.3",
            "_view_name": "NodeView",
            "classes": "",
            "data": {
              "label": ":PostCode",
              "color": "",
              "properties": {
                "name": "PostCode",
                "count": 14196
              },
              "title": ":PostCode",
              "tooltip": "{'name': 'PostCode', 'count': 14196}",
              "id": "-95"
            },
            "grabbable": true,
            "grabbed": false,
            "locked": false,
            "pannable": false,
            "position": {},
            "removed": false,
            "selectable": false,
            "selected": false
          }
        },
        "efaa9ed8b5e8491c9e2b5d135ca0b78b": {
          "model_module": "jupyter-cytoscape",
          "model_name": "NodeModel",
          "model_module_version": "^1.3.3",
          "state": {
            "_model_module": "jupyter-cytoscape",
            "_model_module_version": "^1.3.3",
            "_model_name": "NodeModel",
            "_view_count": null,
            "_view_module": "jupyter-cytoscape",
            "_view_module_version": "^1.3.3",
            "_view_name": "NodeView",
            "classes": "",
            "data": {
              "label": ":Vehicle",
              "color": "",
              "properties": {
                "name": "Vehicle",
                "count": 1000
              },
              "title": ":Vehicle",
              "tooltip": "{'name': 'Vehicle', 'count': 1000}",
              "id": "-100"
            },
            "grabbable": true,
            "grabbed": false,
            "locked": false,
            "pannable": false,
            "position": {},
            "removed": false,
            "selectable": false,
            "selected": false
          }
        },
        "7b004e7bad4d46599ebf9df5c045bd75": {
          "model_module": "jupyter-cytoscape",
          "model_name": "CytoscapeModel",
          "model_module_version": "^1.3.3",
          "state": {
            "_dom_classes": [],
            "_interaction_handlers": {},
            "_model_module": "jupyter-cytoscape",
            "_model_module_version": "^1.3.3",
            "_model_name": "CytoscapeModel",
            "_view_count": null,
            "_view_module": "jupyter-cytoscape",
            "_view_module_version": "^1.3.3",
            "_view_name": "CytoscapeView",
            "auto_ungrabify": false,
            "auto_unselectify": true,
            "autolock": false,
            "box_selection_enabled": false,
            "cytoscape_layout": {
              "name": "dagre",
              "padding": 0,
              "nodeSpacing": 10,
              "edgeLengthVal": 10,
              "animate": true,
              "randomize": true,
              "maxSimulations": 1500
            },
            "cytoscape_style": [
              {
                "selector": "node",
                "style": {
                  "font-size": "10",
                  "label": "data(label)",
                  "height": "60",
                  "width": "60",
                  "text-max-width": "60",
                  "text-wrap": "wrap",
                  "text-valign": "center",
                  "background-color": "data(color)",
                  "background-opacity": 0.6,
                  "border-width": 3,
                  "border-color": "#D3D3D3"
                }
              },
              {
                "selector": "edge",
                "style": {
                  "font-size": "8",
                  "label": "data(label)",
                  "line-color": "#D3D3D3",
                  "text-rotation": "autorotate",
                  "target-arrow-shape": "triangle",
                  "target-arrow-color": "#D3D3D3",
                  "curve-style": "bezier",
                  "text-background-color": "#FCFCFC",
                  "text-background-opacity": 0.8,
                  "text-background-shape": "rectangle",
                  "width": "data(weight)"
                }
              }
            ],
            "desktop_tap_threshold": 4,
            "graph": "IPY_MODEL_c8d65b6eb2b54467b708dddadd947643",
            "headless": false,
            "hide_edges_on_viewport": false,
            "layout": "IPY_MODEL_1c4344cd802e439a8b4a655649d22f2e",
            "max_zoom": 1e+50,
            "min_zoom": 1e-50,
            "motion_blur": false,
            "motion_blur_opacity": 0.2,
            "panning_enabled": true,
            "pixel_ratio": "auto",
            "rendered_position": {
              "renderedPosition": {
                "x": 100,
                "y": 100
              }
            },
            "selection_type": "single",
            "style_enabled": true,
            "texture_on_viewport": false,
            "tooltip_source": "tooltip",
            "touch_tap_threshold": 8,
            "user_panning_enabled": true,
            "user_zooming_enabled": true,
            "wheel_sensitivity": 1,
            "zoom": 2,
            "zooming_enabled": true
          }
        },
        "c8d65b6eb2b54467b708dddadd947643": {
          "model_module": "jupyter-cytoscape",
          "model_name": "GraphModel",
          "model_module_version": "^1.3.3",
          "state": {
            "_adj": {
              "861": {},
              "863": {},
              "874": {},
              "877": {},
              "1279": {},
              "1286": {}
            },
            "_model_module": "jupyter-cytoscape",
            "_model_module_version": "^1.3.3",
            "_model_name": "GraphModel",
            "_view_count": null,
            "_view_module": "jupyter-cytoscape",
            "_view_module_version": "^1.3.3",
            "_view_name": null,
            "edges": [
              "IPY_MODEL_74f289d2d28b4744bf59a37de388d780",
              "IPY_MODEL_96a92778b6db4daabdc891d1c788c8f7",
              "IPY_MODEL_63c454719ca44307aaf99e07fc1f98d8",
              "IPY_MODEL_6600690e8f924148bb905d0750144572",
              "IPY_MODEL_870a2a257f0e4f0991306f39f6030981",
              "IPY_MODEL_2d63dd669f414f53b888f995854a5945",
              "IPY_MODEL_3220b2fd0a894e50ac4c67365d19afb8",
              "IPY_MODEL_1a2ff306e19146539ec0627d12f96641",
              "IPY_MODEL_bfde1d21c70148cf8f3ed60a760266e1",
              "IPY_MODEL_d80b8e2a6c77426481d7c1e5cc9790d4",
              "IPY_MODEL_38f16a1e338e415c9f7a622882ce47e5",
              "IPY_MODEL_571db1597e6f4189a77fc241221a8209",
              "IPY_MODEL_b9f406bc0e904974ba4555ca10b2b7ce",
              "IPY_MODEL_91f4af05cfdb4125ac843e64d6744d88"
            ],
            "nodes": [
              "IPY_MODEL_b61ad3c0cb434294b65d43ebbe2d6261",
              "IPY_MODEL_b490022da5ad4367b7705872100d0399",
              "IPY_MODEL_0ea4c4fe330a40a78074502e9fa23bf8",
              "IPY_MODEL_1982f0278c9345b092d518e117216ef6",
              "IPY_MODEL_f8f9777286c8455f9fa3b9addc0e4aaf",
              "IPY_MODEL_b2d990cb564a4d38bae1be2764dd9300"
            ]
          }
        },
        "1c4344cd802e439a8b4a655649d22f2e": {
          "model_module": "@jupyter-widgets/base",
          "model_name": "LayoutModel",
          "model_module_version": "1.2.0",
          "state": {
            "_model_module": "@jupyter-widgets/base",
            "_model_module_version": "1.2.0",
            "_model_name": "LayoutModel",
            "_view_count": null,
            "_view_module": "@jupyter-widgets/base",
            "_view_module_version": "1.2.0",
            "_view_name": "LayoutView",
            "align_content": null,
            "align_items": null,
            "align_self": null,
            "border": null,
            "bottom": null,
            "display": null,
            "flex": null,
            "flex_flow": null,
            "grid_area": null,
            "grid_auto_columns": null,
            "grid_auto_flow": null,
            "grid_auto_rows": null,
            "grid_column": null,
            "grid_gap": null,
            "grid_row": null,
            "grid_template_areas": null,
            "grid_template_columns": null,
            "grid_template_rows": null,
            "height": null,
            "justify_content": null,
            "justify_items": null,
            "left": null,
            "margin": null,
            "max_height": null,
            "max_width": null,
            "min_height": null,
            "min_width": null,
            "object_fit": null,
            "object_position": null,
            "order": null,
            "overflow": null,
            "overflow_x": null,
            "overflow_y": null,
            "padding": null,
            "right": null,
            "top": null,
            "visibility": null,
            "width": null
          }
        },
        "74f289d2d28b4744bf59a37de388d780": {
          "model_module": "jupyter-cytoscape",
          "model_name": "EdgeModel",
          "model_module_version": "^1.3.3",
          "state": {
            "_model_module": "jupyter-cytoscape",
            "_model_module_version": "^1.3.3",
            "_model_name": "EdgeModel",
            "_view_count": null,
            "_view_module": "jupyter-cytoscape",
            "_view_module_version": "^1.3.3",
            "_view_name": "EdgeView",
            "classes": " directed  multiple_edges ",
            "data": {
              "source": "863",
              "target": "861",
              "weight": 2,
              "label": "KNOWS",
              "tooltip": "{}"
            },
            "pannable": true,
            "removed": false,
            "selectable": false,
            "selected": false
          }
        },
        "96a92778b6db4daabdc891d1c788c8f7": {
          "model_module": "jupyter-cytoscape",
          "model_name": "EdgeModel",
          "model_module_version": "^1.3.3",
          "state": {
            "_model_module": "jupyter-cytoscape",
            "_model_module_version": "^1.3.3",
            "_model_name": "EdgeModel",
            "_view_count": null,
            "_view_module": "jupyter-cytoscape",
            "_view_module_version": "^1.3.3",
            "_view_name": "EdgeView",
            "classes": " directed  multiple_edges ",
            "data": {
              "source": "863",
              "target": "861",
              "weight": 2,
              "label": "FAMILY_REL",
              "tooltip": "{'rel_type': 'SIBLING'}"
            },
            "pannable": true,
            "removed": false,
            "selectable": false,
            "selected": false
          }
        },
        "63c454719ca44307aaf99e07fc1f98d8": {
          "model_module": "jupyter-cytoscape",
          "model_name": "EdgeModel",
          "model_module_version": "^1.3.3",
          "state": {
            "_model_module": "jupyter-cytoscape",
            "_model_module_version": "^1.3.3",
            "_model_name": "EdgeModel",
            "_view_count": null,
            "_view_module": "jupyter-cytoscape",
            "_view_module_version": "^1.3.3",
            "_view_name": "EdgeView",
            "classes": " directed  multiple_edges ",
            "data": {
              "source": "874",
              "target": "863",
              "weight": 2,
              "label": "KNOWS_SN",
              "tooltip": "{}"
            },
            "pannable": true,
            "removed": false,
            "selectable": false,
            "selected": false
          }
        },
        "6600690e8f924148bb905d0750144572": {
          "model_module": "jupyter-cytoscape",
          "model_name": "EdgeModel",
          "model_module_version": "^1.3.3",
          "state": {
            "_model_module": "jupyter-cytoscape",
            "_model_module_version": "^1.3.3",
            "_model_name": "EdgeModel",
            "_view_count": null,
            "_view_module": "jupyter-cytoscape",
            "_view_module_version": "^1.3.3",
            "_view_name": "EdgeView",
            "classes": " directed  multiple_edges ",
            "data": {
              "source": "874",
              "target": "863",
              "weight": 2,
              "label": "KNOWS",
              "tooltip": "{}"
            },
            "pannable": true,
            "removed": false,
            "selectable": false,
            "selected": false
          }
        },
        "870a2a257f0e4f0991306f39f6030981": {
          "model_module": "jupyter-cytoscape",
          "model_name": "EdgeModel",
          "model_module_version": "^1.3.3",
          "state": {
            "_model_module": "jupyter-cytoscape",
            "_model_module_version": "^1.3.3",
            "_model_name": "EdgeModel",
            "_view_count": null,
            "_view_module": "jupyter-cytoscape",
            "_view_module_version": "^1.3.3",
            "_view_name": "EdgeView",
            "classes": " directed  multiple_edges ",
            "data": {
              "source": "874",
              "target": "1279",
              "weight": 2,
              "label": "KNOWS",
              "tooltip": "{}"
            },
            "pannable": true,
            "removed": false,
            "selectable": false,
            "selected": false
          }
        },
        "2d63dd669f414f53b888f995854a5945": {
          "model_module": "jupyter-cytoscape",
          "model_name": "EdgeModel",
          "model_module_version": "^1.3.3",
          "state": {
            "_model_module": "jupyter-cytoscape",
            "_model_module_version": "^1.3.3",
            "_model_name": "EdgeModel",
            "_view_count": null,
            "_view_module": "jupyter-cytoscape",
            "_view_module_version": "^1.3.3",
            "_view_name": "EdgeView",
            "classes": " directed  multiple_edges ",
            "data": {
              "source": "874",
              "target": "1279",
              "weight": 2,
              "label": "KNOWS_SN",
              "tooltip": "{}"
            },
            "pannable": true,
            "removed": false,
            "selectable": false,
            "selected": false
          }
        },
        "3220b2fd0a894e50ac4c67365d19afb8": {
          "model_module": "jupyter-cytoscape",
          "model_name": "EdgeModel",
          "model_module_version": "^1.3.3",
          "state": {
            "_model_module": "jupyter-cytoscape",
            "_model_module_version": "^1.3.3",
            "_model_name": "EdgeModel",
            "_view_count": null,
            "_view_module": "jupyter-cytoscape",
            "_view_module_version": "^1.3.3",
            "_view_name": "EdgeView",
            "classes": " directed  multiple_edges ",
            "data": {
              "source": "877",
              "target": "874",
              "weight": 2,
              "label": "FAMILY_REL",
              "tooltip": "{'rel_type': 'SIBLING'}"
            },
            "pannable": true,
            "removed": false,
            "selectable": false,
            "selected": false
          }
        },
        "1a2ff306e19146539ec0627d12f96641": {
          "model_module": "jupyter-cytoscape",
          "model_name": "EdgeModel",
          "model_module_version": "^1.3.3",
          "state": {
            "_model_module": "jupyter-cytoscape",
            "_model_module_version": "^1.3.3",
            "_model_name": "EdgeModel",
            "_view_count": null,
            "_view_module": "jupyter-cytoscape",
            "_view_module_version": "^1.3.3",
            "_view_name": "EdgeView",
            "classes": " directed  multiple_edges ",
            "data": {
              "source": "877",
              "target": "874",
              "weight": 2,
              "label": "KNOWS",
              "tooltip": "{}"
            },
            "pannable": true,
            "removed": false,
            "selectable": false,
            "selected": false
          }
        },
        "bfde1d21c70148cf8f3ed60a760266e1": {
          "model_module": "jupyter-cytoscape",
          "model_name": "EdgeModel",
          "model_module_version": "^1.3.3",
          "state": {
            "_model_module": "jupyter-cytoscape",
            "_model_module_version": "^1.3.3",
            "_model_name": "EdgeModel",
            "_view_count": null,
            "_view_module": "jupyter-cytoscape",
            "_view_module_version": "^1.3.3",
            "_view_name": "EdgeView",
            "classes": " directed  multiple_edges ",
            "data": {
              "source": "1279",
              "target": "861",
              "weight": 2,
              "label": "KNOWS",
              "tooltip": "{}"
            },
            "pannable": true,
            "removed": false,
            "selectable": false,
            "selected": false
          }
        },
        "d80b8e2a6c77426481d7c1e5cc9790d4": {
          "model_module": "jupyter-cytoscape",
          "model_name": "EdgeModel",
          "model_module_version": "^1.3.3",
          "state": {
            "_model_module": "jupyter-cytoscape",
            "_model_module_version": "^1.3.3",
            "_model_name": "EdgeModel",
            "_view_count": null,
            "_view_module": "jupyter-cytoscape",
            "_view_module_version": "^1.3.3",
            "_view_name": "EdgeView",
            "classes": " directed  multiple_edges ",
            "data": {
              "source": "1279",
              "target": "861",
              "weight": 2,
              "label": "FAMILY_REL",
              "tooltip": "{'rel_type': 'PARENT'}"
            },
            "pannable": true,
            "removed": false,
            "selectable": false,
            "selected": false
          }
        },
        "38f16a1e338e415c9f7a622882ce47e5": {
          "model_module": "jupyter-cytoscape",
          "model_name": "EdgeModel",
          "model_module_version": "^1.3.3",
          "state": {
            "_model_module": "jupyter-cytoscape",
            "_model_module_version": "^1.3.3",
            "_model_name": "EdgeModel",
            "_view_count": null,
            "_view_module": "jupyter-cytoscape",
            "_view_module_version": "^1.3.3",
            "_view_name": "EdgeView",
            "classes": " directed  multiple_edges ",
            "data": {
              "source": "1286",
              "target": "1279",
              "weight": 2,
              "label": "KNOWS",
              "tooltip": "{}"
            },
            "pannable": true,
            "removed": false,
            "selectable": false,
            "selected": false
          }
        },
        "571db1597e6f4189a77fc241221a8209": {
          "model_module": "jupyter-cytoscape",
          "model_name": "EdgeModel",
          "model_module_version": "^1.3.3",
          "state": {
            "_model_module": "jupyter-cytoscape",
            "_model_module_version": "^1.3.3",
            "_model_name": "EdgeModel",
            "_view_count": null,
            "_view_module": "jupyter-cytoscape",
            "_view_module_version": "^1.3.3",
            "_view_name": "EdgeView",
            "classes": " directed  multiple_edges ",
            "data": {
              "source": "1286",
              "target": "1279",
              "weight": 2,
              "label": "KNOWS_LW",
              "tooltip": "{}"
            },
            "pannable": true,
            "removed": false,
            "selectable": false,
            "selected": false
          }
        },
        "b9f406bc0e904974ba4555ca10b2b7ce": {
          "model_module": "jupyter-cytoscape",
          "model_name": "EdgeModel",
          "model_module_version": "^1.3.3",
          "state": {
            "_model_module": "jupyter-cytoscape",
            "_model_module_version": "^1.3.3",
            "_model_name": "EdgeModel",
            "_view_count": null,
            "_view_module": "jupyter-cytoscape",
            "_view_module_version": "^1.3.3",
            "_view_name": "EdgeView",
            "classes": " directed  multiple_edges ",
            "data": {
              "source": "1286",
              "target": "877",
              "weight": 2,
              "label": "FAMILY_REL",
              "tooltip": "{'rel_type': 'PARENT'}"
            },
            "pannable": true,
            "removed": false,
            "selectable": false,
            "selected": false
          }
        },
        "91f4af05cfdb4125ac843e64d6744d88": {
          "model_module": "jupyter-cytoscape",
          "model_name": "EdgeModel",
          "model_module_version": "^1.3.3",
          "state": {
            "_model_module": "jupyter-cytoscape",
            "_model_module_version": "^1.3.3",
            "_model_name": "EdgeModel",
            "_view_count": null,
            "_view_module": "jupyter-cytoscape",
            "_view_module_version": "^1.3.3",
            "_view_name": "EdgeView",
            "classes": " directed  multiple_edges ",
            "data": {
              "source": "1286",
              "target": "877",
              "weight": 2,
              "label": "KNOWS",
              "tooltip": "{}"
            },
            "pannable": true,
            "removed": false,
            "selectable": false,
            "selected": false
          }
        },
        "b61ad3c0cb434294b65d43ebbe2d6261": {
          "model_module": "jupyter-cytoscape",
          "model_name": "NodeModel",
          "model_module_version": "^1.3.3",
          "state": {
            "_model_module": "jupyter-cytoscape",
            "_model_module_version": "^1.3.3",
            "_model_name": "NodeModel",
            "_view_count": null,
            "_view_module": "jupyter-cytoscape",
            "_view_module_version": "^1.3.3",
            "_view_name": "NodeView",
            "classes": "",
            "data": {
              "label": ":Person",
              "color": "#fffb00",
              "properties": {
                "nhs_no": "879-22-8665",
                "surname": "Walker",
                "name": "Raymond"
              },
              "title": ":Person",
              "tooltip": "{'nhs_no': '879-22-8665', 'surname': 'Walker', 'name': 'Raymond'}",
              "id": "861"
            },
            "grabbable": true,
            "grabbed": false,
            "locked": false,
            "pannable": false,
            "position": {},
            "removed": false,
            "selectable": false,
            "selected": false
          }
        },
        "b490022da5ad4367b7705872100d0399": {
          "model_module": "jupyter-cytoscape",
          "model_name": "NodeModel",
          "model_module_version": "^1.3.3",
          "state": {
            "_model_module": "jupyter-cytoscape",
            "_model_module_version": "^1.3.3",
            "_model_name": "NodeModel",
            "_view_count": null,
            "_view_module": "jupyter-cytoscape",
            "_view_module_version": "^1.3.3",
            "_view_name": "NodeView",
            "classes": "",
            "data": {
              "label": ":Person",
              "color": "#fffb00",
              "properties": {
                "nhs_no": "250-75-5238",
                "surname": "Peters",
                "name": "Kathleen"
              },
              "title": ":Person",
              "tooltip": "{'nhs_no': '250-75-5238', 'surname': 'Peters', 'name': 'Kathleen'}",
              "id": "863"
            },
            "grabbable": true,
            "grabbed": false,
            "locked": false,
            "pannable": false,
            "position": {},
            "removed": false,
            "selectable": false,
            "selected": false
          }
        },
        "0ea4c4fe330a40a78074502e9fa23bf8": {
          "model_module": "jupyter-cytoscape",
          "model_name": "NodeModel",
          "model_module_version": "^1.3.3",
          "state": {
            "_model_module": "jupyter-cytoscape",
            "_model_module_version": "^1.3.3",
            "_model_name": "NodeModel",
            "_view_count": null,
            "_view_module": "jupyter-cytoscape",
            "_view_module_version": "^1.3.3",
            "_view_name": "NodeView",
            "classes": "",
            "data": {
              "label": ":Person",
              "color": "#fffb00",
              "properties": {
                "nhs_no": "881-20-2396",
                "surname": "Ward",
                "name": "Alan"
              },
              "title": ":Person",
              "tooltip": "{'nhs_no': '881-20-2396', 'surname': 'Ward', 'name': 'Alan'}",
              "id": "874"
            },
            "grabbable": true,
            "grabbed": false,
            "locked": false,
            "pannable": false,
            "position": {},
            "removed": false,
            "selectable": false,
            "selected": false
          }
        },
        "1982f0278c9345b092d518e117216ef6": {
          "model_module": "jupyter-cytoscape",
          "model_name": "NodeModel",
          "model_module_version": "^1.3.3",
          "state": {
            "_model_module": "jupyter-cytoscape",
            "_model_module_version": "^1.3.3",
            "_model_name": "NodeModel",
            "_view_count": null,
            "_view_module": "jupyter-cytoscape",
            "_view_module_version": "^1.3.3",
            "_view_name": "NodeView",
            "classes": "",
            "data": {
              "label": ":Person",
              "color": "#fffb00",
              "properties": {
                "nhs_no": "249-54-6589",
                "surname": "Powell",
                "name": "Jack"
              },
              "title": ":Person",
              "tooltip": "{'nhs_no': '249-54-6589', 'surname': 'Powell', 'name': 'Jack'}",
              "id": "877"
            },
            "grabbable": true,
            "grabbed": false,
            "locked": false,
            "pannable": false,
            "position": {},
            "removed": false,
            "selectable": false,
            "selected": false
          }
        },
        "f8f9777286c8455f9fa3b9addc0e4aaf": {
          "model_module": "jupyter-cytoscape",
          "model_name": "NodeModel",
          "model_module_version": "^1.3.3",
          "state": {
            "_model_module": "jupyter-cytoscape",
            "_model_module_version": "^1.3.3",
            "_model_name": "NodeModel",
            "_view_count": null,
            "_view_module": "jupyter-cytoscape",
            "_view_module_version": "^1.3.3",
            "_view_name": "NodeView",
            "classes": "",
            "data": {
              "label": ":Person",
              "color": "#fffb00",
              "properties": {
                "nhs_no": "337-28-4424",
                "surname": "Williamson",
                "name": "Phillip"
              },
              "title": ":Person",
              "tooltip": "{'nhs_no': '337-28-4424', 'surname': 'Williamson', 'name': 'Phillip'}",
              "id": "1279"
            },
            "grabbable": true,
            "grabbed": false,
            "locked": false,
            "pannable": false,
            "position": {},
            "removed": false,
            "selectable": false,
            "selected": false
          }
        },
        "b2d990cb564a4d38bae1be2764dd9300": {
          "model_module": "jupyter-cytoscape",
          "model_name": "NodeModel",
          "model_module_version": "^1.3.3",
          "state": {
            "_model_module": "jupyter-cytoscape",
            "_model_module_version": "^1.3.3",
            "_model_name": "NodeModel",
            "_view_count": null,
            "_view_module": "jupyter-cytoscape",
            "_view_module_version": "^1.3.3",
            "_view_name": "NodeView",
            "classes": "",
            "data": {
              "label": ":Person",
              "color": "#fffb00",
              "properties": {
                "nhs_no": "335-71-7747",
                "surname": "Morales",
                "name": "Brian"
              },
              "title": ":Person",
              "tooltip": "{'nhs_no': '335-71-7747', 'surname': 'Morales', 'name': 'Brian'}",
              "id": "1286"
            },
            "grabbable": true,
            "grabbed": false,
            "locked": false,
            "pannable": false,
            "position": {},
            "removed": false,
            "selectable": false,
            "selected": false
          }
        }
      }
    }
  },
  "cells": [
    {
      "cell_type": "markdown",
      "metadata": {
        "id": "view-in-github",
        "colab_type": "text"
      },
      "source": [
        "<a href=\"https://colab.research.google.com/github/conker84/cy2py/blob/main/examples/Neo4j_Crime_Investigation_Dataset.ipynb\" target=\"_parent\"><img src=\"https://colab.research.google.com/assets/colab-badge.svg\" alt=\"Open In Colab\"/></a>"
      ]
    },
    {
      "cell_type": "markdown",
      "source": [
        "# Crime Investigation Dataset with Neo4j and cy2py\n",
        "\n",
        "This notebook shows how to dive into a the Neo4j crime dataset sandbox.\n"
      ],
      "metadata": {
        "id": "THP0Rihk_hi8"
      }
    },
    {
      "cell_type": "markdown",
      "source": [
        "# Create the sandbox instance\n",
        "\n",
        "You can easily spin-up a Neo4j sandbox by click [here](https://sandbox.neo4j.com/?usecase=pole&_gl=1*15exsk4*_ga*MTc2OTMwNjEwMy4xNjQ5NDI3MDE0*_ga_DL38Q8KGQC*MTY2MjM2OTA2OS4yMzcuMS4xNjYyMzY5MTg5LjAuMC4w&_ga=2.160268413.1162643613.1662369070-1769306103.1649427014)\n",
        "\n",
        "After that you'll be redirect in a webpage like this:\n",
        "\n",
        "<img src=\"data:image/png;base64,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\" > \n",
        "\n",
        "Please click in the **Connection details tab** and copy your connection parameters into the Python variables below"
      ],
      "metadata": {
        "id": "Zo-EL7LU_-6m"
      }
    },
    {
      "cell_type": "code",
      "execution_count": null,
      "metadata": {
        "id": "mKoJWlCc_Ww6"
      },
      "outputs": [],
      "source": [
        "neo4j_url = \"\"\n",
        "neo4j_user = \"\"\n",
        "neo4j_pwd = \"\""
      ]
    },
    {
      "cell_type": "markdown",
      "source": [
        "# Install cy2py, a Neo4j Jupyter extension\n",
        "\n",
        "cy2py is a Neo4j Jupyter extension that allows you to interact with Cypher queries and DataFrame seamlessly.\n",
        "\n",
        "You can write Cypher queries and get back Dataframe data or visualize the resulting graph directly in the notebook.\n",
        "\n",
        "Please star it on [GitHub](https://github.com/conker84/cy2py)"
      ],
      "metadata": {
        "id": "A9UWHGsjBvH_"
      }
    },
    {
      "cell_type": "code",
      "source": [
        "!pip install cy2py==1.1.1"
      ],
      "metadata": {
        "colab": {
          "base_uri": "https://localhost:8080/"
        },
        "id": "BPDmt5HPC91d",
        "outputId": "e0ef52e8-d10d-4769-f8f0-973621d3b7b9"
      },
      "execution_count": null,
      "outputs": [
        {
          "output_type": "stream",
          "name": "stdout",
          "text": [
            "Looking in indexes: https://pypi.org/simple, https://us-python.pkg.dev/colab-wheels/public/simple/\n",
            "Collecting cy2py==1.1.0\n",
            "  Downloading cy2py-1.1.0.tar.gz (386 kB)\n",
            "\u001b[K     |████████████████████████████████| 386 kB 4.3 MB/s \n",
            "\u001b[?25hRequirement already satisfied: ipython>=1.0 in /usr/local/lib/python3.7/dist-packages (from cy2py==1.1.0) (7.9.0)\n",
            "Collecting neo4j>=4.4.5\n",
            "  Downloading neo4j-4.4.6.tar.gz (95 kB)\n",
            "\u001b[K     |████████████████████████████████| 95 kB 3.4 MB/s \n",
            "\u001b[?25hRequirement already satisfied: ipython-genutils>=0.1.0 in /usr/local/lib/python3.7/dist-packages (from cy2py==1.1.0) (0.2.0)\n",
            "Collecting ipycytoscape>=1.3.3\n",
            "  Downloading ipycytoscape-1.3.3-py2.py3-none-any.whl (3.6 MB)\n",
            "\u001b[K     |████████████████████████████████| 3.6 MB 58.8 MB/s \n",
            "\u001b[?25hRequirement already satisfied: networkx in /usr/local/lib/python3.7/dist-packages (from cy2py==1.1.0) (2.6.3)\n",
            "Requirement already satisfied: ipywidgets>=7.6.0 in /usr/local/lib/python3.7/dist-packages (from ipycytoscape>=1.3.3->cy2py==1.1.0) (7.7.1)\n",
            "Collecting spectate>=1.0.0\n",
            "  Downloading spectate-1.0.1-py2.py3-none-any.whl (11 kB)\n",
            "Requirement already satisfied: pygments in /usr/local/lib/python3.7/dist-packages (from ipython>=1.0->cy2py==1.1.0) (2.6.1)\n",
            "Requirement already satisfied: traitlets>=4.2 in /usr/local/lib/python3.7/dist-packages (from ipython>=1.0->cy2py==1.1.0) (5.1.1)\n",
            "Requirement already satisfied: setuptools>=18.5 in /usr/local/lib/python3.7/dist-packages (from ipython>=1.0->cy2py==1.1.0) (57.4.0)\n",
            "Requirement already satisfied: decorator in /usr/local/lib/python3.7/dist-packages (from ipython>=1.0->cy2py==1.1.0) (4.4.2)\n",
            "Requirement already satisfied: backcall in /usr/local/lib/python3.7/dist-packages (from ipython>=1.0->cy2py==1.1.0) (0.2.0)\n",
            "Requirement already satisfied: pickleshare in /usr/local/lib/python3.7/dist-packages (from ipython>=1.0->cy2py==1.1.0) (0.7.5)\n",
            "Requirement already satisfied: pexpect in /usr/local/lib/python3.7/dist-packages (from ipython>=1.0->cy2py==1.1.0) (4.8.0)\n",
            "Collecting jedi>=0.10\n",
            "  Downloading jedi-0.18.1-py2.py3-none-any.whl (1.6 MB)\n",
            "\u001b[K     |████████████████████████████████| 1.6 MB 37.2 MB/s \n",
            "\u001b[?25hRequirement already satisfied: prompt-toolkit<2.1.0,>=2.0.0 in /usr/local/lib/python3.7/dist-packages (from ipython>=1.0->cy2py==1.1.0) (2.0.10)\n",
            "Requirement already satisfied: jupyterlab-widgets>=1.0.0 in /usr/local/lib/python3.7/dist-packages (from ipywidgets>=7.6.0->ipycytoscape>=1.3.3->cy2py==1.1.0) (3.0.2)\n",
            "Requirement already satisfied: ipykernel>=4.5.1 in /usr/local/lib/python3.7/dist-packages (from ipywidgets>=7.6.0->ipycytoscape>=1.3.3->cy2py==1.1.0) (5.3.4)\n",
            "Requirement already satisfied: widgetsnbextension~=3.6.0 in /usr/local/lib/python3.7/dist-packages (from ipywidgets>=7.6.0->ipycytoscape>=1.3.3->cy2py==1.1.0) (3.6.1)\n",
            "Requirement already satisfied: tornado>=4.2 in /usr/local/lib/python3.7/dist-packages (from ipykernel>=4.5.1->ipywidgets>=7.6.0->ipycytoscape>=1.3.3->cy2py==1.1.0) (5.1.1)\n",
            "Requirement already satisfied: jupyter-client in /usr/local/lib/python3.7/dist-packages (from ipykernel>=4.5.1->ipywidgets>=7.6.0->ipycytoscape>=1.3.3->cy2py==1.1.0) (6.1.12)\n",
            "Requirement already satisfied: parso<0.9.0,>=0.8.0 in /usr/local/lib/python3.7/dist-packages (from jedi>=0.10->ipython>=1.0->cy2py==1.1.0) (0.8.3)\n",
            "Requirement already satisfied: pytz in /usr/local/lib/python3.7/dist-packages (from neo4j>=4.4.5->cy2py==1.1.0) (2022.2.1)\n",
            "Requirement already satisfied: wcwidth in /usr/local/lib/python3.7/dist-packages (from prompt-toolkit<2.1.0,>=2.0.0->ipython>=1.0->cy2py==1.1.0) (0.2.5)\n",
            "Requirement already satisfied: six>=1.9.0 in /usr/local/lib/python3.7/dist-packages (from prompt-toolkit<2.1.0,>=2.0.0->ipython>=1.0->cy2py==1.1.0) (1.15.0)\n",
            "Requirement already satisfied: notebook>=4.4.1 in /usr/local/lib/python3.7/dist-packages (from widgetsnbextension~=3.6.0->ipywidgets>=7.6.0->ipycytoscape>=1.3.3->cy2py==1.1.0) (5.3.1)\n",
            "Requirement already satisfied: jupyter-core>=4.4.0 in /usr/local/lib/python3.7/dist-packages (from notebook>=4.4.1->widgetsnbextension~=3.6.0->ipywidgets>=7.6.0->ipycytoscape>=1.3.3->cy2py==1.1.0) (4.11.1)\n",
            "Requirement already satisfied: Send2Trash in /usr/local/lib/python3.7/dist-packages (from notebook>=4.4.1->widgetsnbextension~=3.6.0->ipywidgets>=7.6.0->ipycytoscape>=1.3.3->cy2py==1.1.0) (1.8.0)\n",
            "Requirement already satisfied: nbconvert in /usr/local/lib/python3.7/dist-packages (from notebook>=4.4.1->widgetsnbextension~=3.6.0->ipywidgets>=7.6.0->ipycytoscape>=1.3.3->cy2py==1.1.0) (5.6.1)\n",
            "Requirement already satisfied: terminado>=0.8.1 in /usr/local/lib/python3.7/dist-packages (from notebook>=4.4.1->widgetsnbextension~=3.6.0->ipywidgets>=7.6.0->ipycytoscape>=1.3.3->cy2py==1.1.0) (0.13.3)\n",
            "Requirement already satisfied: nbformat in /usr/local/lib/python3.7/dist-packages (from notebook>=4.4.1->widgetsnbextension~=3.6.0->ipywidgets>=7.6.0->ipycytoscape>=1.3.3->cy2py==1.1.0) (5.4.0)\n",
            "Requirement already satisfied: jinja2 in /usr/local/lib/python3.7/dist-packages (from notebook>=4.4.1->widgetsnbextension~=3.6.0->ipywidgets>=7.6.0->ipycytoscape>=1.3.3->cy2py==1.1.0) (2.11.3)\n",
            "Requirement already satisfied: pyzmq>=13 in /usr/local/lib/python3.7/dist-packages (from jupyter-client->ipykernel>=4.5.1->ipywidgets>=7.6.0->ipycytoscape>=1.3.3->cy2py==1.1.0) (23.2.1)\n",
            "Requirement already satisfied: python-dateutil>=2.1 in /usr/local/lib/python3.7/dist-packages (from jupyter-client->ipykernel>=4.5.1->ipywidgets>=7.6.0->ipycytoscape>=1.3.3->cy2py==1.1.0) (2.8.2)\n",
            "Requirement already satisfied: ptyprocess in /usr/local/lib/python3.7/dist-packages (from terminado>=0.8.1->notebook>=4.4.1->widgetsnbextension~=3.6.0->ipywidgets>=7.6.0->ipycytoscape>=1.3.3->cy2py==1.1.0) (0.7.0)\n",
            "Requirement already satisfied: MarkupSafe>=0.23 in /usr/local/lib/python3.7/dist-packages (from jinja2->notebook>=4.4.1->widgetsnbextension~=3.6.0->ipywidgets>=7.6.0->ipycytoscape>=1.3.3->cy2py==1.1.0) (2.0.1)\n",
            "Requirement already satisfied: bleach in /usr/local/lib/python3.7/dist-packages (from nbconvert->notebook>=4.4.1->widgetsnbextension~=3.6.0->ipywidgets>=7.6.0->ipycytoscape>=1.3.3->cy2py==1.1.0) (5.0.1)\n",
            "Requirement already satisfied: testpath in /usr/local/lib/python3.7/dist-packages (from nbconvert->notebook>=4.4.1->widgetsnbextension~=3.6.0->ipywidgets>=7.6.0->ipycytoscape>=1.3.3->cy2py==1.1.0) (0.6.0)\n",
            "Requirement already satisfied: defusedxml in /usr/local/lib/python3.7/dist-packages (from nbconvert->notebook>=4.4.1->widgetsnbextension~=3.6.0->ipywidgets>=7.6.0->ipycytoscape>=1.3.3->cy2py==1.1.0) (0.7.1)\n",
            "Requirement already satisfied: mistune<2,>=0.8.1 in /usr/local/lib/python3.7/dist-packages (from nbconvert->notebook>=4.4.1->widgetsnbextension~=3.6.0->ipywidgets>=7.6.0->ipycytoscape>=1.3.3->cy2py==1.1.0) (0.8.4)\n",
            "Requirement already satisfied: pandocfilters>=1.4.1 in /usr/local/lib/python3.7/dist-packages (from nbconvert->notebook>=4.4.1->widgetsnbextension~=3.6.0->ipywidgets>=7.6.0->ipycytoscape>=1.3.3->cy2py==1.1.0) (1.5.0)\n",
            "Requirement already satisfied: entrypoints>=0.2.2 in /usr/local/lib/python3.7/dist-packages (from nbconvert->notebook>=4.4.1->widgetsnbextension~=3.6.0->ipywidgets>=7.6.0->ipycytoscape>=1.3.3->cy2py==1.1.0) (0.4)\n",
            "Requirement already satisfied: jsonschema>=2.6 in /usr/local/lib/python3.7/dist-packages (from nbformat->notebook>=4.4.1->widgetsnbextension~=3.6.0->ipywidgets>=7.6.0->ipycytoscape>=1.3.3->cy2py==1.1.0) (4.3.3)\n",
            "Requirement already satisfied: fastjsonschema in /usr/local/lib/python3.7/dist-packages (from nbformat->notebook>=4.4.1->widgetsnbextension~=3.6.0->ipywidgets>=7.6.0->ipycytoscape>=1.3.3->cy2py==1.1.0) (2.16.1)\n",
            "Requirement already satisfied: pyrsistent!=0.17.0,!=0.17.1,!=0.17.2,>=0.14.0 in /usr/local/lib/python3.7/dist-packages (from jsonschema>=2.6->nbformat->notebook>=4.4.1->widgetsnbextension~=3.6.0->ipywidgets>=7.6.0->ipycytoscape>=1.3.3->cy2py==1.1.0) (0.18.1)\n",
            "Requirement already satisfied: importlib-resources>=1.4.0 in /usr/local/lib/python3.7/dist-packages (from jsonschema>=2.6->nbformat->notebook>=4.4.1->widgetsnbextension~=3.6.0->ipywidgets>=7.6.0->ipycytoscape>=1.3.3->cy2py==1.1.0) (5.9.0)\n",
            "Requirement already satisfied: importlib-metadata in /usr/local/lib/python3.7/dist-packages (from jsonschema>=2.6->nbformat->notebook>=4.4.1->widgetsnbextension~=3.6.0->ipywidgets>=7.6.0->ipycytoscape>=1.3.3->cy2py==1.1.0) (4.12.0)\n",
            "Requirement already satisfied: typing-extensions in /usr/local/lib/python3.7/dist-packages (from jsonschema>=2.6->nbformat->notebook>=4.4.1->widgetsnbextension~=3.6.0->ipywidgets>=7.6.0->ipycytoscape>=1.3.3->cy2py==1.1.0) (4.1.1)\n",
            "Requirement already satisfied: attrs>=17.4.0 in /usr/local/lib/python3.7/dist-packages (from jsonschema>=2.6->nbformat->notebook>=4.4.1->widgetsnbextension~=3.6.0->ipywidgets>=7.6.0->ipycytoscape>=1.3.3->cy2py==1.1.0) (22.1.0)\n",
            "Requirement already satisfied: zipp>=3.1.0 in /usr/local/lib/python3.7/dist-packages (from importlib-resources>=1.4.0->jsonschema>=2.6->nbformat->notebook>=4.4.1->widgetsnbextension~=3.6.0->ipywidgets>=7.6.0->ipycytoscape>=1.3.3->cy2py==1.1.0) (3.8.1)\n",
            "Requirement already satisfied: webencodings in /usr/local/lib/python3.7/dist-packages (from bleach->nbconvert->notebook>=4.4.1->widgetsnbextension~=3.6.0->ipywidgets>=7.6.0->ipycytoscape>=1.3.3->cy2py==1.1.0) (0.5.1)\n",
            "Building wheels for collected packages: cy2py, neo4j\n",
            "  Building wheel for cy2py (setup.py) ... \u001b[?25l\u001b[?25hdone\n",
            "  Created wheel for cy2py: filename=cy2py-1.1.0-py3-none-any.whl size=8588 sha256=0169a1fd42a06d1c91f472365fb05938000f04be9bdba4624de5f47c9e21c0d5\n",
            "  Stored in directory: /root/.cache/pip/wheels/e6/37/16/4392d3ae82ae0409bce131185a828ea8cc576dfcbdc69b6047\n",
            "  Building wheel for neo4j (setup.py) ... \u001b[?25l\u001b[?25hdone\n",
            "  Created wheel for neo4j: filename=neo4j-4.4.6-py3-none-any.whl size=123403 sha256=bb1249adbae3915df6aaffa2154716ead43451b34ba9184ef904fc756e124e42\n",
            "  Stored in directory: /root/.cache/pip/wheels/34/30/b5/3da327d55fe820a6b5a8ddfa2993dbc89b1b971f6ae7ed1147\n",
            "Successfully built cy2py neo4j\n",
            "Installing collected packages: jedi, spectate, neo4j, ipycytoscape, cy2py\n",
            "Successfully installed cy2py-1.1.0 ipycytoscape-1.3.3 jedi-0.18.1 neo4j-4.4.6 spectate-1.0.1\n"
          ]
        }
      ]
    },
    {
      "cell_type": "code",
      "source": [
        "%load_ext cy2py"
      ],
      "metadata": {
        "id": "t7AXf4ZJD39f"
      },
      "execution_count": null,
      "outputs": []
    },
    {
      "cell_type": "markdown",
      "source": [
        "## How you can use it\n",
        "\n",
        "You can use cy2py in two ways:\n",
        "\n",
        "* as a line magic, it returns a Python dataframe that you can than manipulate as you wish\n",
        "\n",
        "* as cell magic that will print a graph or dataframe if the result is tabular"
      ],
      "metadata": {
        "id": "o45t3GUzDXFW"
      }
    },
    {
      "cell_type": "markdown",
      "source": [
        "### cy2py example as line magic"
      ],
      "metadata": {
        "id": "Ly2xv99XDUZC"
      }
    },
    {
      "cell_type": "code",
      "source": [
        "%cypher?"
      ],
      "metadata": {
        "id": "gLz6jf3qD6UH"
      },
      "execution_count": null,
      "outputs": []
    },
    {
      "cell_type": "code",
      "source": [
        "my_simple_df = %cypher -u $neo4j_url -us $neo4j_user -pw $neo4j_pwd RETURN 1 AS foo, 'bar' AS bar\n",
        "my_simple_df"
      ],
      "metadata": {
        "colab": {
          "base_uri": "https://localhost:8080/",
          "height": 116
        },
        "id": "_hJUm3f8DTzj",
        "outputId": "0665386c-6625-4dae-cdd8-229539e7b70a"
      },
      "execution_count": null,
      "outputs": [
        {
          "output_type": "stream",
          "name": "stderr",
          "text": [
            "/usr/local/lib/python3.7/dist-packages/cy2py/utils.py:112: ExperimentalWarning: pandas support is experimental and might be changed or removed in future versions\n",
            "  return result.to_df()\n"
          ]
        },
        {
          "output_type": "execute_result",
          "data": {
            "text/plain": [
              "   foo  bar\n",
              "0    1  bar"
            ],
            "text/html": [
              "\n",
              "  <div id=\"df-8618ad7a-b292-40a2-9a16-2845e0f6dd59\">\n",
              "    <div class=\"colab-df-container\">\n",
              "      <div>\n",
              "<style scoped>\n",
              "    .dataframe tbody tr th:only-of-type {\n",
              "        vertical-align: middle;\n",
              "    }\n",
              "\n",
              "    .dataframe tbody tr th {\n",
              "        vertical-align: top;\n",
              "    }\n",
              "\n",
              "    .dataframe thead th {\n",
              "        text-align: right;\n",
              "    }\n",
              "</style>\n",
              "<table border=\"1\" class=\"dataframe\">\n",
              "  <thead>\n",
              "    <tr style=\"text-align: right;\">\n",
              "      <th></th>\n",
              "      <th>foo</th>\n",
              "      <th>bar</th>\n",
              "    </tr>\n",
              "  </thead>\n",
              "  <tbody>\n",
              "    <tr>\n",
              "      <th>0</th>\n",
              "      <td>1</td>\n",
              "      <td>bar</td>\n",
              "    </tr>\n",
              "  </tbody>\n",
              "</table>\n",
              "</div>\n",
              "      <button class=\"colab-df-convert\" onclick=\"convertToInteractive('df-8618ad7a-b292-40a2-9a16-2845e0f6dd59')\"\n",
              "              title=\"Convert this dataframe to an interactive table.\"\n",
              "              style=\"display:none;\">\n",
              "        \n",
              "  <svg xmlns=\"http://www.w3.org/2000/svg\" height=\"24px\"viewBox=\"0 0 24 24\"\n",
              "       width=\"24px\">\n",
              "    <path d=\"M0 0h24v24H0V0z\" fill=\"none\"/>\n",
              "    <path d=\"M18.56 5.44l.94 2.06.94-2.06 2.06-.94-2.06-.94-.94-2.06-.94 2.06-2.06.94zm-11 1L8.5 8.5l.94-2.06 2.06-.94-2.06-.94L8.5 2.5l-.94 2.06-2.06.94zm10 10l.94 2.06.94-2.06 2.06-.94-2.06-.94-.94-2.06-.94 2.06-2.06.94z\"/><path d=\"M17.41 7.96l-1.37-1.37c-.4-.4-.92-.59-1.43-.59-.52 0-1.04.2-1.43.59L10.3 9.45l-7.72 7.72c-.78.78-.78 2.05 0 2.83L4 21.41c.39.39.9.59 1.41.59.51 0 1.02-.2 1.41-.59l7.78-7.78 2.81-2.81c.8-.78.8-2.07 0-2.86zM5.41 20L4 18.59l7.72-7.72 1.47 1.35L5.41 20z\"/>\n",
              "  </svg>\n",
              "      </button>\n",
              "      \n",
              "  <style>\n",
              "    .colab-df-container {\n",
              "      display:flex;\n",
              "      flex-wrap:wrap;\n",
              "      gap: 12px;\n",
              "    }\n",
              "\n",
              "    .colab-df-convert {\n",
              "      background-color: #E8F0FE;\n",
              "      border: none;\n",
              "      border-radius: 50%;\n",
              "      cursor: pointer;\n",
              "      display: none;\n",
              "      fill: #1967D2;\n",
              "      height: 32px;\n",
              "      padding: 0 0 0 0;\n",
              "      width: 32px;\n",
              "    }\n",
              "\n",
              "    .colab-df-convert:hover {\n",
              "      background-color: #E2EBFA;\n",
              "      box-shadow: 0px 1px 2px rgba(60, 64, 67, 0.3), 0px 1px 3px 1px rgba(60, 64, 67, 0.15);\n",
              "      fill: #174EA6;\n",
              "    }\n",
              "\n",
              "    [theme=dark] .colab-df-convert {\n",
              "      background-color: #3B4455;\n",
              "      fill: #D2E3FC;\n",
              "    }\n",
              "\n",
              "    [theme=dark] .colab-df-convert:hover {\n",
              "      background-color: #434B5C;\n",
              "      box-shadow: 0px 1px 3px 1px rgba(0, 0, 0, 0.15);\n",
              "      filter: drop-shadow(0px 1px 2px rgba(0, 0, 0, 0.3));\n",
              "      fill: #FFFFFF;\n",
              "    }\n",
              "  </style>\n",
              "\n",
              "      <script>\n",
              "        const buttonEl =\n",
              "          document.querySelector('#df-8618ad7a-b292-40a2-9a16-2845e0f6dd59 button.colab-df-convert');\n",
              "        buttonEl.style.display =\n",
              "          google.colab.kernel.accessAllowed ? 'block' : 'none';\n",
              "\n",
              "        async function convertToInteractive(key) {\n",
              "          const element = document.querySelector('#df-8618ad7a-b292-40a2-9a16-2845e0f6dd59');\n",
              "          const dataTable =\n",
              "            await google.colab.kernel.invokeFunction('convertToInteractive',\n",
              "                                                     [key], {});\n",
              "          if (!dataTable) return;\n",
              "\n",
              "          const docLinkHtml = 'Like what you see? Visit the ' +\n",
              "            '<a target=\"_blank\" href=https://colab.research.google.com/notebooks/data_table.ipynb>data table notebook</a>'\n",
              "            + ' to learn more about interactive tables.';\n",
              "          element.innerHTML = '';\n",
              "          dataTable['output_type'] = 'display_data';\n",
              "          await google.colab.output.renderOutput(dataTable, element);\n",
              "          const docLink = document.createElement('div');\n",
              "          docLink.innerHTML = docLinkHtml;\n",
              "          element.appendChild(docLink);\n",
              "        }\n",
              "      </script>\n",
              "    </div>\n",
              "  </div>\n",
              "  "
            ]
          },
          "metadata": {},
          "execution_count": 5
        }
      ]
    },
    {
      "cell_type": "markdown",
      "source": [
        "### cy2py example as cell magic\n",
        "\n",
        "As in the previous call (the line magic test) we already passed authentication info, we don't need to to that again. So we just need:"
      ],
      "metadata": {
        "id": "rgjPO9k2P_d-"
      }
    },
    {
      "cell_type": "code",
      "source": [
        "%%cypher\n",
        "CALL apoc.meta.graph()"
      ],
      "metadata": {
        "colab": {
          "base_uri": "https://localhost:8080/",
          "height": 417,
          "referenced_widgets": [
            "365c350707e04be7b50c0e46ec3902c8",
            "0cf0dd9e231e43b090611c7d2e7b326b",
            "8840525bc08e47b4b5b0ccddd8d0f85e",
            "de507af4b80e4543bd79e6aa95c65c47",
            "03272d9e19a648519e072c6d464dfa57",
            "870019a5de22422c87a503d9ddb2289e",
            "999d1a8f39c14d94ad87e3e5a3e89429",
            "e1810fe693e847a09b0d4593d4d3e9ad",
            "e7434eea6de24369aa60b7b1cf734a05",
            "523473702ad148b3b192ffd6a756cc79",
            "5911567b3deb4509a97a66ebdc756f23",
            "b2f982227af944ebb4967b5e3466a397",
            "2eea8ee5a34745009c28511117f64525",
            "0645eec3e439478c91406df92b0fe1e6",
            "1486d7dba2e74a1ca1a613e4fc378c02",
            "06ae98e3202445b0862ed80d2857854b",
            "7ecc0a835abb40ce9b645a8efbefa646",
            "99ca38d259974441bce11f9f656ec4b3",
            "a8032d3b99d44b0e9e59170fe61b26c7",
            "898d4233a5a547e38e8021b1dbc6508f",
            "fa09cdec15344bfb83455064bc4943e1",
            "5e0ce731e9514371aab7631aa6e7273e",
            "b997a2d0cabd4b8395ac277b1339f1d3",
            "14dc2918acef4e529ecdd9b52a0aff17",
            "91571522a305416db33a14302ce7e06a",
            "1b37ce142bfc461fa1ee5ba9d95b213d",
            "0b2de282ee1748728a3d936a758740bf",
            "473d5460c3ed446382ab64196dc571cf",
            "3d5733b0adbd4e9db72ac36f3981a374",
            "a31734cc3fa2477d9b59e374a3ba9a89",
            "92d1964cc9cb45c8a90ba645f1d4c5e8",
            "0d926f74a8844ec1bccac0117df4fbd1"
          ]
        },
        "id": "DGwSIT9gQXjW",
        "outputId": "7913236f-4d47-42f2-adfb-164ac51c9d0a"
      },
      "execution_count": null,
      "outputs": [
        {
          "output_type": "display_data",
          "data": {
            "text/plain": [
              "CytoscapeWidget(cytoscape_layout={'name': 'dagre', 'padding': 0, 'nodeSpacing': 10, 'edgeLengthVal': 10, 'anim…"
            ],
            "application/vnd.jupyter.widget-view+json": {
              "version_major": 2,
              "version_minor": 0,
              "model_id": "365c350707e04be7b50c0e46ec3902c8"
            }
          },
          "metadata": {
            "application/vnd.jupyter.widget-view+json": {
              "colab": {
                "custom_widget_manager": {
                  "url": "https://ssl.gstatic.com/colaboratory-static/widgets/colab-cdn-widget-manager/d2e234f7cc04bf79/manager.min.js"
                }
              }
            }
          }
        }
      ]
    },
    {
      "cell_type": "markdown",
      "source": [
        "As you noticed the nodes are all with the same color, cy2py allows to attach colors to node labels"
      ],
      "metadata": {
        "id": "iHkrhswYQuuK"
      }
    },
    {
      "cell_type": "code",
      "source": [
        "colors = {\n",
        "  ':Person': '#fffb00',\n",
        "  ':Object': '#00f900',\n",
        "  ':Location': '#ff2600',\n",
        "  ':Crime': '#53d5fd'\n",
        "}"
      ],
      "metadata": {
        "id": "cetAgLUYQ5no"
      },
      "execution_count": null,
      "outputs": []
    },
    {
      "cell_type": "code",
      "source": [
        "%%cypher -co $colors\n",
        "CALL apoc.meta.graph()"
      ],
      "metadata": {
        "colab": {
          "base_uri": "https://localhost:8080/",
          "height": 417,
          "referenced_widgets": [
            "ff40614f36a24271b3beb93a838f828f",
            "92cdb70b7b864a5b93631e6afeabc77c",
            "2b327fbc27b2462dbb0008f6fac4e75d",
            "5252e8e7a21140cf836ff65904968122",
            "2c9f45374ae04ed1bf0b45f0fc9d1385",
            "d84d1a6dfeb7480e9130359fb22e8615",
            "1bffcdc9d1d04a8e8e12881ab2cf4ef6",
            "d3890546bd3d4762ac3eb1977dc8b108",
            "f8c62906bfde4acb91d6b812e1c4a24f",
            "f3fbd2017715427b8e1a8cbab86ce5a5",
            "387f13a404384591952ba9c02763f2d6",
            "71ccb155da9e475ab27963f3cddcdd75",
            "42dc6295e37e4121a945cc0b9f53673a",
            "ad91bcb93b164beb8629a818791000e9",
            "addb5be8276d42e8a5e4bc0031559ca9",
            "a97aa64774c848398c403ef17df7c9a3",
            "6c814deeccfc43ff9025b7702def4a0e",
            "27cfced4c3b64a45bf2420abdd4df438",
            "784c2d475ed1427880900d7b091dcb38",
            "c83875007e474fadb78fdcd268ba5c7e",
            "1c26e25f150e42118193b121d5a6d210",
            "d2008ea0b8354e5baa9082751a86502c",
            "3bc2e5ceeaa74275a579af2920ef0aa2",
            "d686a302311647398a278f889f00c63e",
            "0ec1a759efd340208a1f6abb6ac9f2b6",
            "1c4664f6bc3648b493e5763b90b02c1c",
            "65186260665b4885a003e90018f023d0",
            "f735e3e674254e4fa7ba2a038620877e",
            "183a3ea96d1d4be3b938b46c818458d9",
            "e7d2a1548fa64bc6ab6c2817ac9951f8",
            "38f50c7091f34eb1b5711eee53fc2c92",
            "c6a481c5e2a14532b67bb444a17cd135"
          ]
        },
        "id": "FPDvx3adRE37",
        "outputId": "9a37c320-ebc3-4f80-822a-837874150917"
      },
      "execution_count": null,
      "outputs": [
        {
          "output_type": "display_data",
          "data": {
            "text/plain": [
              "CytoscapeWidget(cytoscape_layout={'name': 'dagre', 'padding': 0, 'nodeSpacing': 10, 'edgeLengthVal': 10, 'anim…"
            ],
            "application/vnd.jupyter.widget-view+json": {
              "version_major": 2,
              "version_minor": 0,
              "model_id": "ff40614f36a24271b3beb93a838f828f"
            }
          },
          "metadata": {
            "application/vnd.jupyter.widget-view+json": {
              "colab": {
                "custom_widget_manager": {
                  "url": "https://ssl.gstatic.com/colaboratory-static/widgets/colab-cdn-widget-manager/d2e234f7cc04bf79/manager.min.js"
                }
              }
            }
          }
        }
      ]
    },
    {
      "cell_type": "markdown",
      "source": [
        "# The data model\n",
        "\n",
        "This notebook will demonstrate how Neo4j can be used with a POLE data model in the context of police and child protection investigations.\n",
        "\n",
        "The **POLE** data model focuses on four basic types of entities and the relationships between them: **P**ersons, **O**bjects, **L**ocations, and **E**vents."
      ],
      "metadata": {
        "id": "vlYoLDmVC8C8"
      }
    },
    {
      "cell_type": "code",
      "source": [
        "%%cypher\n",
        "CALL apoc.meta.graph()"
      ],
      "metadata": {
        "colab": {
          "base_uri": "https://localhost:8080/",
          "height": 417,
          "referenced_widgets": [
            "c7c7a320caed4edb81ce43d77fff320c",
            "fa407e63910f4d7aa153d4f8f4c0c552",
            "2f57ba0a48654bbf90443a01a1ec5a1b",
            "5fb5b821a1dc40758660690608d2bdb4",
            "cb1216a2954448ab97787a8d3952d8b3",
            "08a10b15e10547c39efccc9926f91daa",
            "666e6532d919459ea216ebd8a4830d40",
            "91a453588d284bf88cd3d662005e1e94",
            "fae382851d674d0f94a5319bb55b6b36",
            "a61ccfbfb60341e09e9be66707b14433",
            "fe4d12b70de54caea059894e418b2685",
            "729958c98534452cacce6640ebe79784",
            "af02c0bf71a64d3aa09b5016c40f84a4",
            "9dce31b7df1b47f9b130aa3119869ede",
            "e0c44c91217f498a9f859a230c4def38",
            "42b1a2c7bb8f42a5a156da80c525fdb1",
            "3269889e778248bf8798a76b971b14fb",
            "b9d8f60e929e4baba7b58fcc03101d67",
            "038aa231f7cc47e1a2ec4ecf95562ddb",
            "ac8b9cc206c3419884e0484e7f64c31c",
            "e842e9ea91db48448f1087067f74f135",
            "5851cbb6961f472fb211f2931335b8e4",
            "d399b71ad0984334a6295aa52f40f778",
            "15a3e1e657e74768917e5e6272eb774a",
            "489542f11b4b48bbb03a53030b67857b",
            "1173bac70276416890bdcf97d098d846",
            "ce323e076f244422a651452c5c01cd98",
            "957e496e50044928b3c7aaaebec8f0ff",
            "b7f35609e5c2411085adfa228dcf1f39",
            "0ed4faf768b04612beee9a4f6e65bf76",
            "39c54055ddc64f9eae9a75b566cb8a9e",
            "efaa9ed8b5e8491c9e2b5d135ca0b78b"
          ]
        },
        "id": "8B3wJZXXBUgJ",
        "outputId": "fae49486-7b9b-4aab-b482-a58f300ac186"
      },
      "execution_count": null,
      "outputs": [
        {
          "output_type": "display_data",
          "data": {
            "text/plain": [
              "CytoscapeWidget(cytoscape_layout={'name': 'dagre', 'padding': 0, 'nodeSpacing': 10, 'edgeLengthVal': 10, 'anim…"
            ],
            "application/vnd.jupyter.widget-view+json": {
              "version_major": 2,
              "version_minor": 0,
              "model_id": "c7c7a320caed4edb81ce43d77fff320c"
            }
          },
          "metadata": {
            "application/vnd.jupyter.widget-view+json": {
              "colab": {
                "custom_widget_manager": {
                  "url": "https://ssl.gstatic.com/colaboratory-static/widgets/colab-cdn-widget-manager/d2e234f7cc04bf79/manager.min.js"
                }
              }
            }
          }
        }
      ]
    },
    {
      "cell_type": "markdown",
      "source": [
        "The POLE data model is a standard approach used in policing, investigative, and security use cases. It can also, however, be applied in other areas. Typical POLE use cases include:\n",
        "\n",
        "* Policing\n",
        "* Counter Terrorism\n",
        "* Border Control / Immigration\n",
        "* Child Protection / Social Services\n",
        "* Missing Persons\n",
        "* Offender Rehabilitation\n",
        "* Insurance Fraud Investigations\n",
        "\n",
        "Graphs are a perfect fit for use cases like these, where it is important to be able to work with highly connected data in real time. Using a real-time graph helps investigators to be proactive and prevent crime or other incidents, rather than simply being reactive after an incident has occurred. A POLE graph can also be used to generate insights into patterns of behaviour and incidents, which can inform new approaches and enable more targeted use of limited resources.\n",
        "\n",
        "Crime data for this demo was downloaded from public sources (http://data.gov.uk), and is freely provided for download with locations defined to the block or street level and crimes defined by month only (i.e. no day or timestamp). This public crime data does not include any sort of information about persons related to crimes, not even as anonymised tokens - it supplies only crime and location data, or in other words only the 'L' and 'E' for the POLE model. This demo uses street crime data for Greater Manchester, UK from August 2017."
      ],
      "metadata": {
        "id": "_W4eVYbaQpZv"
      }
    },
    {
      "cell_type": "markdown",
      "source": [
        "# Dive into the data"
      ],
      "metadata": {
        "id": "Zxnh1KrmaWsF"
      }
    },
    {
      "cell_type": "markdown",
      "source": [
        "## The count of total crimes by the type"
      ],
      "metadata": {
        "id": "2_zpGgToa3Ip"
      }
    },
    {
      "cell_type": "code",
      "source": [
        "%%cypher\n",
        "MATCH (c:Crime)\n",
        "RETURN c.type AS crime_type, count(c) AS total\n",
        "ORDER BY count(c) DESC"
      ],
      "metadata": {
        "colab": {
          "base_uri": "https://localhost:8080/",
          "height": 524
        },
        "id": "av_qJUHVQoi6",
        "outputId": "0e760591-43b7-4aaf-9e44-fe4e3f960e56"
      },
      "execution_count": null,
      "outputs": [
        {
          "output_type": "stream",
          "name": "stderr",
          "text": [
            "/usr/local/lib/python3.7/dist-packages/cy2py/utils.py:111: ExperimentalWarning: pandas support is experimental and might be changed or removed in future versions\n",
            "  return result.to_df()\n"
          ]
        },
        {
          "output_type": "execute_result",
          "data": {
            "text/plain": [
              "                      crime_type  total\n",
              "0   Violence and sexual offences   8765\n",
              "1                   Public order   4839\n",
              "2      Criminal damage and arson   3587\n",
              "3                       Burglary   2807\n",
              "4                  Vehicle crime   2598\n",
              "5                    Other theft   2140\n",
              "6                    Shoplifting   1427\n",
              "7                    Other crime    651\n",
              "8                        Robbery    541\n",
              "9          Theft from the person    423\n",
              "10                 Bicycle theft    414\n",
              "11                         Drugs    333\n",
              "12         Possession of weapons    236\n",
              "13                          None      1"
            ],
            "text/html": [
              "\n",
              "  <div id=\"df-2f8e55d0-e5a3-4227-b9fc-74455e64dd9a\">\n",
              "    <div class=\"colab-df-container\">\n",
              "      <div>\n",
              "<style scoped>\n",
              "    .dataframe tbody tr th:only-of-type {\n",
              "        vertical-align: middle;\n",
              "    }\n",
              "\n",
              "    .dataframe tbody tr th {\n",
              "        vertical-align: top;\n",
              "    }\n",
              "\n",
              "    .dataframe thead th {\n",
              "        text-align: right;\n",
              "    }\n",
              "</style>\n",
              "<table border=\"1\" class=\"dataframe\">\n",
              "  <thead>\n",
              "    <tr style=\"text-align: right;\">\n",
              "      <th></th>\n",
              "      <th>crime_type</th>\n",
              "      <th>total</th>\n",
              "    </tr>\n",
              "  </thead>\n",
              "  <tbody>\n",
              "    <tr>\n",
              "      <th>0</th>\n",
              "      <td>Violence and sexual offences</td>\n",
              "      <td>8765</td>\n",
              "    </tr>\n",
              "    <tr>\n",
              "      <th>1</th>\n",
              "      <td>Public order</td>\n",
              "      <td>4839</td>\n",
              "    </tr>\n",
              "    <tr>\n",
              "      <th>2</th>\n",
              "      <td>Criminal damage and arson</td>\n",
              "      <td>3587</td>\n",
              "    </tr>\n",
              "    <tr>\n",
              "      <th>3</th>\n",
              "      <td>Burglary</td>\n",
              "      <td>2807</td>\n",
              "    </tr>\n",
              "    <tr>\n",
              "      <th>4</th>\n",
              "      <td>Vehicle crime</td>\n",
              "      <td>2598</td>\n",
              "    </tr>\n",
              "    <tr>\n",
              "      <th>5</th>\n",
              "      <td>Other theft</td>\n",
              "      <td>2140</td>\n",
              "    </tr>\n",
              "    <tr>\n",
              "      <th>6</th>\n",
              "      <td>Shoplifting</td>\n",
              "      <td>1427</td>\n",
              "    </tr>\n",
              "    <tr>\n",
              "      <th>7</th>\n",
              "      <td>Other crime</td>\n",
              "      <td>651</td>\n",
              "    </tr>\n",
              "    <tr>\n",
              "      <th>8</th>\n",
              "      <td>Robbery</td>\n",
              "      <td>541</td>\n",
              "    </tr>\n",
              "    <tr>\n",
              "      <th>9</th>\n",
              "      <td>Theft from the person</td>\n",
              "      <td>423</td>\n",
              "    </tr>\n",
              "    <tr>\n",
              "      <th>10</th>\n",
              "      <td>Bicycle theft</td>\n",
              "      <td>414</td>\n",
              "    </tr>\n",
              "    <tr>\n",
              "      <th>11</th>\n",
              "      <td>Drugs</td>\n",
              "      <td>333</td>\n",
              "    </tr>\n",
              "    <tr>\n",
              "      <th>12</th>\n",
              "      <td>Possession of weapons</td>\n",
              "      <td>236</td>\n",
              "    </tr>\n",
              "    <tr>\n",
              "      <th>13</th>\n",
              "      <td>None</td>\n",
              "      <td>1</td>\n",
              "    </tr>\n",
              "  </tbody>\n",
              "</table>\n",
              "</div>\n",
              "      <button class=\"colab-df-convert\" onclick=\"convertToInteractive('df-2f8e55d0-e5a3-4227-b9fc-74455e64dd9a')\"\n",
              "              title=\"Convert this dataframe to an interactive table.\"\n",
              "              style=\"display:none;\">\n",
              "        \n",
              "  <svg xmlns=\"http://www.w3.org/2000/svg\" height=\"24px\"viewBox=\"0 0 24 24\"\n",
              "       width=\"24px\">\n",
              "    <path d=\"M0 0h24v24H0V0z\" fill=\"none\"/>\n",
              "    <path d=\"M18.56 5.44l.94 2.06.94-2.06 2.06-.94-2.06-.94-.94-2.06-.94 2.06-2.06.94zm-11 1L8.5 8.5l.94-2.06 2.06-.94-2.06-.94L8.5 2.5l-.94 2.06-2.06.94zm10 10l.94 2.06.94-2.06 2.06-.94-2.06-.94-.94-2.06-.94 2.06-2.06.94z\"/><path d=\"M17.41 7.96l-1.37-1.37c-.4-.4-.92-.59-1.43-.59-.52 0-1.04.2-1.43.59L10.3 9.45l-7.72 7.72c-.78.78-.78 2.05 0 2.83L4 21.41c.39.39.9.59 1.41.59.51 0 1.02-.2 1.41-.59l7.78-7.78 2.81-2.81c.8-.78.8-2.07 0-2.86zM5.41 20L4 18.59l7.72-7.72 1.47 1.35L5.41 20z\"/>\n",
              "  </svg>\n",
              "      </button>\n",
              "      \n",
              "  <style>\n",
              "    .colab-df-container {\n",
              "      display:flex;\n",
              "      flex-wrap:wrap;\n",
              "      gap: 12px;\n",
              "    }\n",
              "\n",
              "    .colab-df-convert {\n",
              "      background-color: #E8F0FE;\n",
              "      border: none;\n",
              "      border-radius: 50%;\n",
              "      cursor: pointer;\n",
              "      display: none;\n",
              "      fill: #1967D2;\n",
              "      height: 32px;\n",
              "      padding: 0 0 0 0;\n",
              "      width: 32px;\n",
              "    }\n",
              "\n",
              "    .colab-df-convert:hover {\n",
              "      background-color: #E2EBFA;\n",
              "      box-shadow: 0px 1px 2px rgba(60, 64, 67, 0.3), 0px 1px 3px 1px rgba(60, 64, 67, 0.15);\n",
              "      fill: #174EA6;\n",
              "    }\n",
              "\n",
              "    [theme=dark] .colab-df-convert {\n",
              "      background-color: #3B4455;\n",
              "      fill: #D2E3FC;\n",
              "    }\n",
              "\n",
              "    [theme=dark] .colab-df-convert:hover {\n",
              "      background-color: #434B5C;\n",
              "      box-shadow: 0px 1px 3px 1px rgba(0, 0, 0, 0.15);\n",
              "      filter: drop-shadow(0px 1px 2px rgba(0, 0, 0, 0.3));\n",
              "      fill: #FFFFFF;\n",
              "    }\n",
              "  </style>\n",
              "\n",
              "      <script>\n",
              "        const buttonEl =\n",
              "          document.querySelector('#df-2f8e55d0-e5a3-4227-b9fc-74455e64dd9a button.colab-df-convert');\n",
              "        buttonEl.style.display =\n",
              "          google.colab.kernel.accessAllowed ? 'block' : 'none';\n",
              "\n",
              "        async function convertToInteractive(key) {\n",
              "          const element = document.querySelector('#df-2f8e55d0-e5a3-4227-b9fc-74455e64dd9a');\n",
              "          const dataTable =\n",
              "            await google.colab.kernel.invokeFunction('convertToInteractive',\n",
              "                                                     [key], {});\n",
              "          if (!dataTable) return;\n",
              "\n",
              "          const docLinkHtml = 'Like what you see? Visit the ' +\n",
              "            '<a target=\"_blank\" href=https://colab.research.google.com/notebooks/data_table.ipynb>data table notebook</a>'\n",
              "            + ' to learn more about interactive tables.';\n",
              "          element.innerHTML = '';\n",
              "          dataTable['output_type'] = 'display_data';\n",
              "          await google.colab.output.renderOutput(dataTable, element);\n",
              "          const docLink = document.createElement('div');\n",
              "          docLink.innerHTML = docLinkHtml;\n",
              "          element.appendChild(docLink);\n",
              "        }\n",
              "      </script>\n",
              "    </div>\n",
              "  </div>\n",
              "  "
            ]
          },
          "metadata": {},
          "execution_count": 11
        }
      ]
    },
    {
      "cell_type": "markdown",
      "source": [
        "## An heat map representation of where the crime occured\n",
        "\n",
        "In this case we're using [Ploty](https://plotly.com/python/) in order to visualize the heatmap from the DataFrame returned by our query."
      ],
      "metadata": {
        "id": "_NtMAF2Yavgc"
      }
    },
    {
      "cell_type": "code",
      "source": [
        "import plotly.express as px\n",
        "location_query = \"\"\"\n",
        "  MATCH (l:Location)<-[:OCCURRED_AT]-(:Crime)\n",
        "  RETURN l.latitude AS latitude, l.longitude AS longitude, count(l) AS total\n",
        "\"\"\"\n",
        "\n",
        "crime_locations_df = %cypher -q $location_query\n",
        "\n",
        "fig = px.density_mapbox(crime_locations_df, lat='latitude', lon='longitude', z='total', radius=10,\n",
        "                        center=dict(lat=53.51481, lon=-2.407476), zoom=9,\n",
        "                        mapbox_style=\"stamen-terrain\")\n",
        "fig.show()"
      ],
      "metadata": {
        "colab": {
          "base_uri": "https://localhost:8080/",
          "height": 578
        },
        "id": "yZXIodwuSVv2",
        "outputId": "e4522d1e-f8fb-4a17-c3bc-11f04626317a"
      },
      "execution_count": null,
      "outputs": [
        {
          "output_type": "stream",
          "name": "stderr",
          "text": [
            "/usr/local/lib/python3.7/dist-packages/cy2py/utils.py:111: ExperimentalWarning: pandas support is experimental and might be changed or removed in future versions\n",
            "  return result.to_df()\n"
          ]
        },
        {
          "output_type": "display_data",
          "data": {
            "text/html": [
              "<html>\n",
              "<head><meta charset=\"utf-8\" /></head>\n",
              "<body>\n",
              "    <div>            <script src=\"https://cdnjs.cloudflare.com/ajax/libs/mathjax/2.7.5/MathJax.js?config=TeX-AMS-MML_SVG\"></script><script type=\"text/javascript\">if (window.MathJax) {MathJax.Hub.Config({SVG: {font: \"STIX-Web\"}});}</script>                <script type=\"text/javascript\">window.PlotlyConfig = {MathJaxConfig: 'local'};</script>\n",
              "        <script src=\"https://cdn.plot.ly/plotly-2.8.3.min.js\"></script>                <div id=\"c930a74b-998e-46d9-8608-086c5a18091d\" class=\"plotly-graph-div\" style=\"height:525px; width:100%;\"></div>            <script type=\"text/javascript\">                                    window.PLOTLYENV=window.PLOTLYENV || {};                                    if (document.getElementById(\"c930a74b-998e-46d9-8608-086c5a18091d\")) {                    Plotly.newPlot(                        \"c930a74b-998e-46d9-8608-086c5a18091d\",                        [{\"coloraxis\":\"coloraxis\",\"hovertemplate\":\"total=%{z}<br>latitude=%{lat}<br>longitude=%{lon}<extra></extra>\",\"lat\":[53.530988,53.59882,53.582711,53.471473,53.50318,53.428044,53.583791,53.51599,53.546754,53.475887,53.455828,53.401627,53.590367,53.586995,53.510167,53.561217,53.517608,53.556775,53.522686,53.521354,53.549644,53.392336,53.528675,53.461413,53.499747,53.609572,53.478533,53.533264,53.490143,53.418715,53.426788,53.584893,53.526736,53.56534,53.457942,53.572995,53.488959,53.385781,53.414009,53.451405,53.392793,53.445435,53.406426,53.417093,53.606857,53.58883,53.445358,53.429391,53.482447,53.570565,53.530787,53.380052,53.529563,53.397826,53.613955,53.541561,53.463571,53.4809,53.457025,53.482531,53.55487,53.395783,53.452516,53.515832,53.513985,53.508058,53.583593,53.475467,53.463182,53.472222,53.545307,53.541402,53.50547,53.523675,53.617485,53.521905,53.432225,53.535381,53.575754,53.520257,53.466442,53.535504,53.426376,53.516364,53.554775,53.602362,53.463284,53.482273,53.544153,53.535519,53.566543,53.455993,53.554913,53.46669,53.49288,53.578258,53.550309,53.612383,53.520345,53.380625,53.475461,53.586749,53.558364,53.399811,53.530293,53.469534,53.584122,53.495458,53.390035,53.501294,53.505146,53.358188,53.600678,53.573693,53.556433,53.553049,53.443978,53.419041,53.404456,53.580398,53.472154,53.397287,53.548565,53.412516,53.522359,53.612129,53.476454,53.490859,53.415794,53.490294,53.453238,53.482161,53.601311,53.376347,53.521829,53.450767,53.516222,53.415866,53.447251,53.38518,53.551822,53.529578,53.478026,53.434361,53.515463,53.447199,53.619842,53.525511,53.571551,53.490574,53.397101,53.542731,53.599141,53.431812,53.56221,53.545477,53.389736,53.46468,53.587883,53.417309,53.563848,53.621173,53.547505,53.463811,53.422588,53.486205,53.362566,53.518876,53.39517,53.403229,53.619896,53.518334,53.496928,53.490248,53.552621,53.464036,53.483298,53.379929,53.563277,53.493472,53.459916,53.415236,53.504714,53.604381,53.569117,53.559661,53.374101,53.515414,53.44068,53.629047,53.391844,53.574129,53.385248,53.489884,53.55087,53.548304,53.460102,53.451967,53.414161,53.535773,53.564641,53.42849,53.599524,53.548377,53.454077,53.533865,53.487841,53.569442,53.488461,53.518991,53.561008,53.625854,53.451392,53.548965,53.521537,53.596369,53.543671,53.472561,53.561521,53.504359,53.601775,53.573322,53.543032,53.428255,53.62225,53.638637,53.57233,53.539343,53.381128,53.4978,53.442154,53.531346,53.594714,53.59509,53.450273,53.53342,53.471305,53.506683,53.478863,53.584968,53.442112,53.545931,53.408905,53.565212,53.5353,53.530781,53.506625,53.576557,53.426842,53.529517,53.475431,53.58748,53.443496,53.4561,53.401715,53.615148,53.571168,53.562893,53.544623,53.551633,53.398548,53.593815,53.507136,53.577583,53.58634,53.506586,53.62624,53.630013,53.63002,53.628889,53.626031,53.619748,53.623353,53.614425,53.609378,53.603422,53.605463,53.601774,53.608206,53.604163,53.617694,53.620221,53.619804,53.617243,53.616526,53.616222,53.604132,53.604498,53.613768,53.610982,53.611866,53.603492,53.603555,53.609668,53.608952,53.60866,53.610311,53.605819,53.606669,53.604308,53.604711,53.607382,53.606279,53.605394,53.603486,53.603408,53.603419,53.60396,53.617229,53.616344,53.617019,53.61533,53.614334,53.616007,53.59389,53.594941,53.597635,53.594683,53.595126,53.595803,53.596985,53.595927,53.598275,53.597425,53.596319,53.600138,53.599563,53.60007,53.600711,53.601293,53.600971,53.60227,53.59945,53.601704,53.599828,53.600613,53.602001,53.605209,53.607211,53.600779,53.602485,53.603953,53.603412,53.606126,53.606286,53.598767,53.598797,53.600564,53.600332,53.59859,53.601783,53.599211,53.598862,53.600172,53.598442,53.601343,53.600077,53.599218,53.599327,53.601791,53.598535,53.60022,53.600981,53.60233,53.599076,53.601467,53.598591,53.600367,53.602201,53.596108,53.602362,53.604756,53.605523,53.604615,53.604264,53.606459,53.605189,53.607068,53.601705,53.603944,53.604548,53.604927,53.603198,53.594256,53.594733,53.595245,53.591857,53.593963,53.594595,53.597443,53.598496,53.589019,53.59236,53.592931,53.595009,53.602551,53.60093,53.603958,53.603431,53.601616,53.597921,53.600838,53.599568,53.599297,53.59679,53.597915,53.594478,53.594984,53.596486,53.598685,53.594862,53.593366,53.596142,53.59176,53.586325,53.585903,53.585445,53.588704,53.582404,53.591991,53.588328,53.589752,53.59224,53.594864,53.597458,53.595674,53.59368,53.5909,53.599987,53.60102,53.598383,53.594639,53.595588,53.598084,53.596133,53.595369,53.594492,53.591974,53.59011,53.589149,53.592018,53.58946,53.589726,53.591411,53.588569,53.588287,53.591538,53.600262,53.59557,53.597594,53.5981,53.596879,53.594296,53.595048,53.593814,53.594281,53.59461,53.592172,53.590506,53.596579,53.589534,53.592565,53.596665,53.5768,53.592723,53.591915,53.593066,53.592982,53.582478,53.578699,53.586422,53.587007,53.590136,53.601083,53.598965,53.599896,53.601334,53.600066,53.599871,53.598588,53.600207,53.59991,53.591762,53.59171,53.591218,53.591388,53.591132,53.58972,53.592899,53.587504,53.58765,53.587649,53.585746,53.5891,53.58557,53.587708,53.586832,53.585259,53.587458,53.587055,53.586167,53.587563,53.584859,53.586699,53.58715,53.586366,53.597452,53.588943,53.590359,53.587058,53.58604,53.594176,53.59462,53.590823,53.588404,53.595225,53.590417,53.59549,53.595277,53.597064,53.591773,53.595267,53.59048,53.591483,53.588674,53.589921,53.590367,53.589671,53.591725,53.589494,53.589324,53.589129,53.590042,53.591871,53.58981,53.595146,53.594691,53.592955,53.595533,53.594802,53.593478,53.593941,53.591505,53.594828,53.593625,53.590582,53.593699,53.59349,53.59046,53.591027,53.592114,53.59271,53.594068,53.594257,53.593297,53.594896,53.59143,53.592427,53.590553,53.59398,53.593295,53.593165,53.596213,53.594533,53.594424,53.595504,53.594484,53.59249,53.595084,53.592291,53.584943,53.585759,53.588773,53.58915,53.588023,53.586673,53.588606,53.589069,53.584377,53.589955,53.590638,53.588095,53.586442,53.58814,53.59075,53.588773,53.588984,53.59353,53.592781,53.592674,53.580627,53.586439,53.59695,53.583061,53.591635,53.594926,53.593314,53.594628,53.591878,53.595795,53.597038,53.596386,53.594126,53.594206,53.595779,53.587389,53.586447,53.586701,53.585721,53.584547,53.588969,53.592115,53.587956,53.592651,53.593201,53.586635,53.592226,53.591662,53.588126,53.591013,53.589782,53.59358,53.58932,53.588658,53.587771,53.588722,53.591478,53.589931,53.589971,53.588663,53.590895,53.586864,53.587004,53.583766,53.5854,53.585224,53.586909,53.589605,53.587434,53.5852,53.584299,53.589188,53.589333,53.590835,53.590414,53.591154,53.589771,53.582992,53.581505,53.583448,53.583962,53.583937,53.585155,53.586588,53.585608,53.584876,53.582393,53.586937,53.584911,53.584372,53.58588,53.581827,53.582034,53.580205,53.58503,53.583526,53.583643,53.585078,53.580979,53.577839,53.5789,53.582112,53.586481,53.584501,53.582812,53.596202,53.589321,53.588678,53.586496,53.589104,53.590755,53.590226,53.586884,53.585752,53.591209,53.588834,53.591948,53.588452,53.590209,53.589322,53.589839,53.582825,53.583392,53.583534,53.58407,53.581738,53.583576,53.582984,53.583341,53.580217,53.583725,53.583799,53.587786,53.584627,53.588116,53.587513,53.58741,53.584755,53.584266,53.586168,53.584329,53.588856,53.585958,53.587117,53.586821,53.586743,53.582136,53.583419,53.584098,53.578356,53.582117,53.583784,53.582779,53.580783,53.580882,53.584095,53.578756,53.582023,53.578983,53.581645,53.575672,53.576331,53.576823,53.576492,53.577231,53.576772,53.577331,53.576161,53.576357,53.57611,53.578002,53.576148,53.585056,53.584906,53.585284,53.584492,53.588957,53.589487,53.58712,53.58592,53.587124,53.586246,53.589285,53.586615,53.587793,53.58829,53.593492,53.593325,53.591388,53.587238,53.588606,53.590739,53.587306,53.58862,53.591349,53.590343,53.590642,53.581004,53.583543,53.585683,53.586147,53.581697,53.583087,53.581207,53.587647,53.58362,53.58269,53.58526,53.582284,53.583022,53.587596,53.582985,53.581079,53.582812,53.583117,53.583107,53.584429,53.58272,53.576147,53.570632,53.570091,53.574385,53.574823,53.57092,53.572905,53.571623,53.571516,53.569262,53.567915,53.571406,53.572607,53.568579,53.567442,53.584466,53.585015,53.576967,53.577693,53.580388,53.577449,53.578843,53.579876,53.579467,53.584731,53.578518,53.57864,53.57895,53.581549,53.577441,53.576687,53.584554,53.579675,53.575832,53.579423,53.58206,53.581223,53.577033,53.578689,53.583649,53.585805,53.582419,53.58422,53.581678,53.583468,53.584405,53.585037,53.582404,53.58221,53.584707,53.584069,53.585593,53.584129,53.584053,53.578166,53.57915,53.576554,53.57812,53.577561,53.579339,53.575115,53.578684,53.577831,53.576755,53.576334,53.579728,53.576547,53.57207,53.572626,53.572717,53.574939,53.571336,53.588312,53.588717,53.584779,53.589764,53.587594,53.588802,53.589939,53.589214,53.589401,53.58756,53.589311,53.585595,53.586288,53.583363,53.58978,53.584973,53.583642,53.5843,53.580238,53.583355,53.579267,53.580955,53.580855,53.580821,53.581059,53.578511,53.582795,53.580052,53.581672,53.579706,53.579856,53.579239,53.566751,53.568441,53.566467,53.566565,53.566666,53.566662,53.568308,53.569606,53.568304,53.567328,53.567583,53.56622,53.566725,53.565898,53.567549,53.569374,53.56766,53.566462,53.566601,53.567257,53.565865,53.565465,53.567489,53.567416,53.582846,53.58583,53.585373,53.587057,53.581792,53.584159,53.578221,53.579025,53.584032,53.583095,53.583972,53.583488,53.58098,53.580167,53.581271,53.579297,53.581314,53.580864,53.580493,53.5794,53.578282,53.579455,53.581256,53.582227,53.574934,53.579828,53.578239,53.580069,53.576089,53.575895,53.578196,53.575907,53.576843,53.571773,53.572898,53.575216,53.571913,53.578781,53.573373,53.573218,53.577801,53.57615,53.571229,53.576578,53.576804,53.575127,53.576974,53.571605,53.571257,53.570857,53.56958,53.570586,53.564646,53.565777,53.569763,53.570291,53.572389,53.568815,53.564274,53.569827,53.564584,53.572647,53.56353,53.564765,53.564937,53.569144,53.567759,53.563755,53.571472,53.567765,53.573506,53.581501,53.573573,53.578617,53.573784,53.580387,53.578537,53.577021,53.573587,53.567008,53.568177,53.570948,53.570218,53.568704,53.565311,53.569885,53.565196,53.569218,53.567549,53.567988,53.56747,53.564929,53.573807,53.573899,53.574634,53.573615,53.573944,53.572675,53.573741,53.573074,53.574857,53.573432,53.574098,53.571651,53.573199,53.57013,53.570324,53.569971,53.570907,53.572661,53.572803,53.571671,53.569392,53.570719,53.570782,53.571186,53.571959,53.570709,53.569706,53.570634,53.570776,53.57104,53.569796,53.568596,53.567623,53.568947,53.568181,53.567895,53.568159,53.567903,53.567206,53.564613,53.563429,53.565634,53.565044,53.566443,53.564227,53.564109,53.56399,53.563747,53.56852,53.566381,53.562354,53.567723,53.565162,53.560753,53.561863,53.567726,53.562401,53.562602,53.565369,53.567443,53.56059,53.565688,53.560038,53.566005,53.560189,53.558787,53.561815,53.562551,53.562973,53.561994,53.559983,53.562306,53.561562,53.563486,53.559489,53.559246,53.55762,53.561122,53.562561,53.561124,53.561477,53.562737,53.559989,53.5637,53.560717,53.577822,53.570971,53.578731,53.575024,53.574219,53.578177,53.575532,53.578662,53.568248,53.579666,53.57449,53.568147,53.579294,53.567894,53.574619,53.579634,53.571328,53.577973,53.57162,53.569932,53.577608,53.577197,53.577453,53.573721,53.570591,53.577111,53.578738,53.577236,53.576793,53.57699,53.572987,53.571428,53.56648,53.566645,53.566101,53.567532,53.567561,53.567911,53.568026,53.565724,53.567573,53.566666,53.567594,53.563356,53.565529,53.567382,53.56596,53.566722,53.565675,53.566485,53.564113,53.564943,53.562272,53.562036,53.564489,53.564768,53.559399,53.559168,53.560816,53.560562,53.561174,53.559793,53.559517,53.559605,53.559414,53.559987,53.562193,53.56058,53.559038,53.564976,53.565497,53.560095,53.559397,53.558801,53.559043,53.559145,53.558513,53.561223,53.562135,53.562023,53.562639,53.562818,53.565233,53.565262,53.564219,53.562962,53.562741,53.566915,53.575263,53.574564,53.571674,53.564154,53.561414,53.561687,53.563462,53.566253,53.56124,53.555804,53.556154,53.558266,53.560125,53.558217,53.556185,53.560552,53.558276,53.556463,53.557552,53.559996,53.558127,53.558248,53.560417,53.560654,53.559124,53.567577,53.567363,53.56886,53.565684,53.563204,53.562473,53.561216,53.562464,53.561777,53.562821,53.561993,53.560996,53.562228,53.560091,53.565278,53.563282,53.559673,53.561758,53.565039,53.561593,53.562085,53.563151,53.562426,53.563033,53.560781,53.565854,53.567545,53.56828,53.56703,53.568272,53.566968,53.566522,53.567604,53.55792,53.558804,53.557686,53.558934,53.556666,53.556463,53.560273,53.556413,53.560598,53.558162,53.559537,53.557745,53.558301,53.557382,53.557361,53.561351,53.563688,53.560765,53.561438,53.558761,53.561772,53.559415,53.558057,53.563532,53.562214,53.558853,53.559767,53.557897,53.564975,53.558186,53.555929,53.557562,53.557214,53.55759,53.556896,53.549012,53.557679,53.544212,53.549408,53.54942,53.555643,53.557247,53.556774,53.564268,53.564524,53.566085,53.565863,53.564708,53.562482,53.563254,53.564317,53.563865,53.564495,53.563983,53.563279,53.562503,53.563751,53.562935,53.56406,53.56324,53.561864,53.564744,53.563541,53.563215,53.563863,53.562832,53.562105,53.562527,53.562001,53.563565,53.55652,53.557905,53.556794,53.558576,53.558409,53.558156,53.559948,53.558138,53.556645,53.558451,53.557763,53.550549,53.552542,53.550912,53.550697,53.55134,53.551196,53.551848,53.550769,53.550775,53.552168,53.550707,53.550022,53.551516,53.554918,53.555419,53.555465,53.554259,53.554719,53.555987,53.554945,53.555775,53.555536,53.552581,53.556048,53.555148,53.554975,53.554622,53.556615,53.554666,53.553016,53.554349,53.555962,53.555272,53.550708,53.552916,53.553608,53.552178,53.55425,53.555731,53.552043,53.554651,53.552444,53.554666,53.551371,53.552212,53.549606,53.542527,53.546071,53.548163,53.548904,53.551588,53.547796,53.552033,53.549556,53.553203,53.549398,53.553887,53.55239,53.553371,53.552465,53.553696,53.552543,53.554438,53.555879,53.556962,53.556851,53.558859,53.563711,53.560187,53.55873,53.565143,53.563279,53.558639,53.560127,53.561616,53.56086,53.561404,53.548075,53.547779,53.547954,53.547326,53.54795,53.548392,53.548454,53.551477,53.547343,53.547064,53.547445,53.550936,53.549655,53.554609,53.553246,53.55364,53.552963,53.552847,53.552035,53.552408,53.552106,53.550016,53.5508,53.547991,53.546594,53.547871,53.546758,53.547744,53.549783,53.548242,53.555771,53.550283,53.554575,53.556006,53.556687,53.546776,53.549031,53.547037,53.545502,53.549995,53.533918,53.54143,53.540568,53.53338,53.533833,53.536336,53.562157,53.559016,53.558388,53.55419,53.552155,53.558172,53.557511,53.55913,53.559221,53.559891,53.560789,53.560991,53.559807,53.559771,53.556359,53.557389,53.561257,53.560257,53.559211,53.559259,53.556294,53.560124,53.561526,53.557806,53.558671,53.563043,53.543068,53.543754,53.544014,53.545775,53.541217,53.541405,53.543727,53.542611,53.544327,53.545966,53.552017,53.551789,53.548626,53.549119,53.550194,53.551524,53.550324,53.549183,53.554765,53.554285,53.553137,53.552794,53.548154,53.548003,53.551038,53.547592,53.554991,53.548215,53.543403,53.54638,53.544524,53.545234,53.540341,53.542227,53.545017,53.544046,53.545696,53.54327,53.551864,53.549775,53.551772,53.548642,53.548247,53.547287,53.54876,53.547716,53.548161,53.549063,53.549681,53.549133,53.547028,53.549421,53.548268,53.549268,53.549487,53.54997,53.548604,53.547788,53.549071,53.548581,53.549151,53.54687,53.546455,53.546396,53.549634,53.547644,53.549829,53.547531,53.550682,53.548112,53.550481,53.549765,53.546361,53.550381,53.546031,53.547093,53.543118,53.548986,53.549476,53.549404,53.545276,53.542777,53.542783,53.547453,53.547408,53.54249,53.548119,53.542656,53.548188,53.54172,53.543261,53.5452,53.545206,53.548528,53.546043,53.543167,53.545,53.542901,53.544363,53.541851,53.543758,53.541688,53.544899,53.541289,53.543371,53.542237,53.54363,53.545878,53.545375,53.548703,53.545192,53.544766,53.542794,53.544939,53.547815,53.544331,53.545283,53.544022,53.544149,53.545043,53.543054,53.546003,53.54545,53.545695,53.548455,53.546123,53.544607,53.544718,53.54449,53.542043,53.544147,53.543331,53.545383,53.542534,53.543808,53.540655,53.542198,53.54238,53.543935,53.541976,53.546393,53.54278,53.544795,53.544102,53.545136,53.543614,53.543134,53.541368,53.540899,53.539874,53.540754,53.541823,53.539529,53.543662,53.541069,53.540454,53.545041,53.546074,53.544907,53.543811,53.544618,53.545126,53.546251,53.545145,53.54504,53.544425,53.544239,53.539078,53.543006,53.545808,53.545269,53.540213,53.53557,53.537716,53.541781,53.544579,53.543348,53.544514,53.543314,53.541834,53.541785,53.543292,53.544814,53.544811,53.535833,53.536638,53.537145,53.537219,53.536766,53.535463,53.536651,53.540059,53.535236,53.533716,53.535821,53.535844,53.538101,53.53821,53.537479,53.538999,53.540179,53.536781,53.537033,53.547295,53.547222,53.545915,53.549371,53.533433,53.532761,53.532182,53.535887,53.53845,53.535617,53.539209,53.53403,53.535962,53.536457,53.536398,53.538202,53.539535,53.539636,53.537445,53.538765,53.540406,53.539123,53.65024,53.650005,53.653321,53.652692,53.650952,53.650485,53.648996,53.645401,53.647356,53.647949,53.651741,53.653051,53.65034,53.649326,53.652387,53.651668,53.650088,53.649292,53.647317,53.646789,53.647497,53.643845,53.646487,53.643549,53.639864,53.64489,53.64674,53.647267,53.642185,53.641981,53.642625,53.645353,53.644504,53.643053,53.633896,53.636827,53.63344,53.635734,53.628788,53.634882,53.630503,53.629029,53.62711,53.625214,53.628377,53.625374,53.632513,53.635847,53.638435,53.631033,53.630565,53.630828,53.631469,53.617361,53.618065,53.618518,53.615103,53.613651,53.615406,53.622078,53.609632,53.615827,53.609561,53.609968,53.607301,53.610043,53.608798,53.61038,53.607055,53.608328,53.614419,53.61434,53.612932,53.60579,53.603408,53.60502,53.607074,53.608632,53.603916,53.60519,53.621938,53.619706,53.622596,53.631739,53.613235,53.619373,53.615494,53.618894,53.602851,53.602137,53.598699,53.597432,53.600627,53.599337,53.614805,53.614258,53.608784,53.613718,53.606614,53.610276,53.606367,53.606733,53.608129,53.605663,53.605515,53.607889,53.602722,53.605546,53.604442,53.604871,53.607222,53.611139,53.608415,53.606661,53.609176,53.610471,53.609051,53.599693,53.601102,53.602445,53.599323,53.601631,53.599167,53.60205,53.600358,53.600953,53.601559,53.600783,53.598928,53.598204,53.599286,53.599054,53.600667,53.599381,53.598737,53.599386,53.600337,53.600726,53.59706,53.601385,53.601121,53.59937,53.598792,53.602021,53.598252,53.603454,53.603662,53.600432,53.599156,53.60304,53.603809,53.593604,53.595798,53.597714,53.594126,53.596243,53.595609,53.595567,53.594352,53.593964,53.594963,53.598342,53.597412,53.594964,53.59388,53.597058,53.59385,53.603306,53.59875,53.602428,53.605065,53.599638,53.601619,53.600472,53.598048,53.599652,53.60134,53.603065,53.602827,53.595909,53.596077,53.59617,53.597773,53.596981,53.596247,53.598463,53.593498,53.598645,53.596709,53.596837,53.599285,53.5971,53.594761,53.597167,53.59684,53.594933,53.59815,53.595571,53.594039,53.593951,53.593964,53.593019,53.596691,53.597281,53.602546,53.60346,53.601269,53.601211,53.601457,53.600934,53.602155,53.600777,53.597729,53.596997,53.601012,53.599408,53.603848,53.603139,53.603505,53.602246,53.60165,53.598964,53.593942,53.593454,53.595926,53.591812,53.593706,53.596702,53.593372,53.59107,53.589352,53.593834,53.593894,53.591425,53.596083,53.594918,53.594417,53.589741,53.591021,53.592595,53.591663,53.59037,53.589148,53.590641,53.588471,53.590663,53.590696,53.59046,53.589524,53.589002,53.595787,53.59264,53.591185,53.593353,53.591897,53.592112,53.587546,53.59006,53.592042,53.592345,53.594117,53.588561,53.600923,53.597157,53.601751,53.598892,53.603446,53.597478,53.597287,53.596631,53.595945,53.596474,53.597218,53.601654,53.591077,53.590841,53.595234,53.590777,53.587091,53.587552,53.596546,53.596373,53.579953,53.581046,53.581965,53.580283,53.585207,53.582892,53.58952,53.591056,53.59271,53.588378,53.593662,53.592318,53.592793,53.586242,53.586008,53.591335,53.591628,53.592181,53.594675,53.584804,53.584445,53.584512,53.584815,53.58321,53.586102,53.583172,53.583024,53.584226,53.584185,53.588616,53.584444,53.582888,53.584688,53.58546,53.58425,53.582846,53.57758,53.570639,53.57292,53.569862,53.571079,53.571278,53.572635,53.571066,53.570582,53.586644,53.586571,53.586786,53.587662,53.589729,53.587289,53.580022,53.589283,53.586879,53.579822,53.580054,53.578237,53.57766,53.578369,53.578606,53.577025,53.57801,53.579672,53.574547,53.576581,53.567919,53.568201,53.57365,53.568688,53.571484,53.580963,53.577083,53.575517,53.578624,53.57664,53.58055,53.575602,53.576248,53.582205,53.5811,53.574798,53.572143,53.564644,53.566848,53.56943,53.56624,53.568031,53.565256,53.566295,53.573624,53.572125,53.571808,53.572678,53.570959,53.575303,53.56912,53.569012,53.567088,53.570413,53.570376,53.570417,53.571291,53.567762,53.567289,53.571044,53.571156,53.564828,53.564965,53.569109,53.569159,53.56461,53.570415,53.564942,53.566233,53.566732,53.567736,53.567638,53.569854,53.570291,53.569002,53.570387,53.56421,53.562113,53.563942,53.561667,53.563235,53.563827,53.566222,53.563612,53.565316,53.563703,53.565137,53.562236,53.562782,53.564914,53.56301,53.563117,53.564823,53.562986,53.563796,53.564256,53.562554,53.563486,53.563199,53.568522,53.566896,53.568288,53.569111,53.56803,53.567578,53.568938,53.566417,53.568466,53.567068,53.568628,53.566487,53.559883,53.55987,53.562003,53.559089,53.561621,53.559801,53.561798,53.56006,53.559032,53.556456,53.556291,53.559205,53.558192,53.561879,53.557592,53.561675,53.56336,53.558411,53.560532,53.55759,53.56343,53.56266,53.563922,53.558716,53.562028,53.552769,53.554093,53.563506,53.559929,53.557896,53.561639,53.557076,53.566381,53.562566,53.567408,53.559386,53.554557,53.559375,53.564141,53.564601,53.559996,53.559777,53.562749,53.548089,53.55273,53.556399,53.54918,53.553084,53.549817,53.555102,53.552212,53.554726,53.554364,53.553648,53.554205,53.54592,53.548086,53.55055,53.552959,53.554907,53.549228,53.554141,53.555843,53.551879,53.556495,53.553532,53.554591,53.55484,53.544315,53.54238,53.54365,53.545818,53.544197,53.541794,53.537939,53.544672,53.539208,53.541143,53.542377,53.552832,53.55056,53.55233,53.545464,53.55037,53.557538,53.556066,53.563391,53.558748,53.557286,53.55584,53.556188,53.555538,53.554598,53.555668,53.554605,53.541766,53.540988,53.542303,53.540467,53.543998,53.544808,53.545138,53.543047,53.543567,53.547147,53.548394,53.547275,53.547596,53.557171,53.557795,53.5587,53.557439,53.556068,53.554668,53.554155,53.552529,53.548914,53.550347,53.550863,53.550651,53.55057,53.549655,53.551595,53.550488,53.550257,53.548268,53.54784,53.546622,53.5465,53.550209,53.546956,53.549565,53.546201,53.547068,53.543602,53.544289,53.544525,53.548253,53.547918,53.546131,53.546834,53.54886,53.553956,53.54857,53.553706,53.554078,53.550545,53.547391,53.554878,53.554386,53.555615,53.553152,53.541778,53.549105,53.549955,53.541119,53.543319,53.543477,53.543446,53.541547,53.541479,53.539771,53.543101,53.542809,53.536069,53.536821,53.539044,53.535834,53.533155,53.539624,53.537451,53.539812,53.539088,53.540011,53.536832,53.538994,53.536894,53.533987,53.538754,53.53545,53.535134,53.540007,53.539988,53.538276,53.533507,53.532551,53.531196,53.527954,53.526681,53.527597,53.526488,53.527672,53.524894,53.535278,53.536995,53.534564,53.535903,53.522081,53.521112,53.519031,53.521112,53.51896,53.519964,53.518381,53.518886,53.531925,53.525942,53.531123,53.532252,53.529311,53.53397,53.531063,53.531856,53.530266,53.531885,53.533031,53.529171,53.531565,53.529792,53.532652,53.523018,53.525192,53.526901,53.525405,53.523271,53.514913,53.520779,53.51483,53.515321,53.519262,53.517503,53.526358,53.530991,53.531065,53.530773,53.531936,53.531893,53.531049,53.52074,53.518663,53.524381,53.520408,53.523684,53.525419,53.528434,53.526907,53.52567,53.524442,53.524493,53.52626,53.52622,53.521121,53.523789,53.522937,53.523186,53.520065,53.521426,53.522178,53.524697,53.524602,53.524078,53.523554,53.526924,53.523542,53.52172,53.525425,53.523499,53.518363,53.519249,53.533839,53.534443,53.536159,53.536556,53.536745,53.537323,53.536397,53.534294,53.536815,53.536575,53.534025,53.537404,53.534562,53.535554,53.53597,53.534895,53.534126,53.534206,53.535476,53.533985,53.53361,53.536682,53.534284,53.534065,53.534225,53.533174,53.532918,53.534357,53.527889,53.527723,53.532527,53.532351,53.531721,53.528125,53.526181,53.530447,53.532469,53.528022,53.530287,53.529592,53.53229,53.531418,53.532589,53.527779,53.531574,53.532991,53.530363,53.531221,53.531445,53.530251,53.531108,53.528358,53.531217,53.527668,53.528788,53.529514,53.526065,53.525061,53.525835,53.525088,53.524773,53.528714,53.52641,53.527482,53.526395,53.527882,53.525417,53.528292,53.528574,53.524554,53.528034,53.525951,53.526111,53.523699,53.526271,53.529151,53.524621,53.525165,53.527744,53.520388,53.522216,53.522034,53.51883,53.521612,53.525738,53.521934,53.523332,53.520007,53.522598,53.523005,53.522869,53.52085,53.520909,53.521585,53.518671,53.519139,53.522312,53.521099,53.519311,53.520381,53.524685,53.523238,53.519793,53.524219,53.523309,53.526966,53.531155,53.528184,53.527022,53.531022,53.530141,53.52927,53.53003,53.531413,53.530679,53.521023,53.52095,53.525945,53.52457,53.524291,53.522539,53.522516,53.524952,53.525702,53.521616,53.525605,53.524944,53.521128,53.525495,53.520678,53.52229,53.524983,53.521252,53.52308,53.522895,53.522746,53.52408,53.522917,53.52184,53.522877,53.523568,53.521794,53.520482,53.521263,53.523754,53.522366,53.519539,53.522769,53.525236,53.519092,53.523137,53.526376,53.524192,53.523418,53.526521,53.525045,53.525592,53.523696,53.528684,53.523784,53.528668,53.52428,53.523088,53.527773,53.52975,53.527142,53.532115,53.526213,53.524696,53.525279,53.528985,53.525226,53.522979,53.527905,53.520475,53.521866,53.525144,53.520412,53.521766,53.52139,53.52062,53.522319,53.518983,53.51998,53.521209,53.520148,53.5194,53.519787,53.51821,53.514205,53.515728,53.512069,53.509125,53.510035,53.514697,53.509466,53.51537,53.508007,53.512851,53.510973,53.514982,53.511609,53.514418,53.509077,53.513617,53.513086,53.514006,53.508174,53.519444,53.520259,53.517548,53.520046,53.519072,53.519566,53.515853,53.516003,53.518807,53.521255,53.516804,53.519145,53.519146,53.51746,53.521344,53.517735,53.518852,53.517455,53.520362,53.517328,53.519385,53.520615,53.520306,53.51653,53.517556,53.518917,53.518576,53.518634,53.52161,53.513317,53.519034,53.520082,53.512336,53.512155,53.520324,53.510382,53.516563,53.510867,53.508778,53.510471,53.512769,53.509572,53.509881,53.510638,53.513287,53.513693,53.511029,53.508395,53.510503,53.510051,53.514554,53.517858,53.517538,53.518706,53.511047,53.516508,53.511776,53.517557,53.516114,53.511085,53.518899,53.517306,53.51447,53.516468,53.516249,53.515376,53.51415,53.515985,53.514905,53.516851,53.516526,53.515967,53.515274,53.516647,53.514369,53.514283,53.514379,53.514482,53.514955,53.516856,53.515102,53.515128,53.514445,53.514738,53.515188,53.516009,53.511259,53.509624,53.513516,53.513533,53.512742,53.513187,53.510877,53.509349,53.510041,53.511525,53.509416,53.512305,53.511653,53.513226,53.513175,53.510232,53.509735,53.509052,53.509325,53.51003,53.508392,53.509157,53.508535,53.509784,53.508291,53.50999,53.509668,53.508797,53.513216,53.512668,53.510645,53.511088,53.509235,53.509805,53.512624,53.510486,53.514457,53.51366,53.517378,53.518377,53.51763,53.515438,53.506371,53.508505,53.507171,53.505341,53.509108,53.508324,53.50259,53.507395,53.506702,53.50945,53.506918,53.508494,53.509321,53.502096,53.510113,53.507328,53.502159,53.511641,53.51032,53.511402,53.509645,53.511393,53.51025,53.51072,53.517275,53.517524,53.513469,53.516589,53.518072,53.515994,53.515309,53.516867,53.517688,53.514912,53.51514,53.516479,53.513806,53.512233,53.518826,53.515862,53.512376,53.515603,53.514924,53.515991,53.516569,53.514908,53.516597,53.515047,53.516894,53.515341,53.517406,53.513521,53.513118,53.513274,53.51129,53.513728,53.514103,53.513785,53.511043,53.513628,53.514451,53.511491,53.499928,53.500521,53.51221,53.500145,53.508319,53.51336,53.499747,53.510064,53.502037,53.511787,53.509514,53.511942,53.50859,53.511871,53.500618,53.500601,53.512793,53.502976,53.505107,53.506364,53.509539,53.506964,53.505496,53.507491,53.502664,53.506638,53.507062,53.51005,53.507863,53.506129,53.509957,53.507272,53.509885,53.50297,53.504816,53.506123,53.509357,53.510905,53.507527,53.509267,53.509765,53.509488,53.510047,53.508486,53.507238,53.508655,53.510835,53.510566,53.507191,53.506617,53.507135,53.510126,53.507686,53.510571,53.511177,53.509633,53.507663,53.506128,53.506897,53.507545,53.504888,53.507984,53.507868,53.50466,53.507527,53.506826,53.507833,53.507272,53.50379,53.506202,53.507575,53.49995,53.500251,53.499805,53.50054,53.500113,53.504676,53.50083,53.503815,53.50387,53.497906,53.50069,53.498563,53.497578,53.498699,53.501363,53.499164,53.501959,53.499637,53.498168,53.501626,53.496291,53.497151,53.496572,53.496054,53.500237,53.497472,53.49673,53.495647,53.497334,53.496654,53.499506,53.499269,53.498784,53.50172,53.501274,53.501648,53.504002,53.501673,53.503508,53.50031,53.501797,53.501244,53.502466,53.501257,53.501315,53.500644,53.504974,53.504424,53.50265,53.501847,53.503316,53.502809,53.501947,53.5022,53.495937,53.497125,53.498517,53.493991,53.500191,53.496112,53.497479,53.497728,53.501905,53.496093,53.493854,53.494272,53.49494,53.497321,53.493126,53.495072,53.494043,53.501951,53.493357,53.499099,53.495687,53.497981,53.500822,53.501539,53.501245,53.498365,53.500467,53.497491,53.496842,53.499502,53.497772,53.499379,53.498529,53.49546,53.499632,53.498002,53.500326,53.49939,53.49924,53.49945,53.496591,53.495497,53.494949,53.498775,53.49778,53.494429,53.495699,53.494878,53.494794,53.495939,53.496007,53.496578,53.493607,53.494582,53.495264,53.445261,53.446492,53.446154,53.447697,53.487225,53.486778,53.486862,53.485288,53.484497,53.486241,53.487049,53.48493,53.48345,53.484949,53.484296,53.484644,53.487898,53.48229,53.482503,53.482959,53.481079,53.481157,53.480638,53.481491,53.481151,53.483631,53.48264,53.483385,53.483826,53.482048,53.48422,53.48263,53.487656,53.488058,53.487977,53.486002,53.487051,53.487779,53.48666,53.487404,53.488386,53.486413,53.488836,53.488371,53.493355,53.493232,53.494798,53.494705,53.493813,53.494131,53.494432,53.494067,53.494394,53.496389,53.495448,53.495675,53.495936,53.495791,53.498388,53.496072,53.495402,53.496814,53.497488,53.498213,53.496823,53.495941,53.494536,53.493971,53.489448,53.494292,53.490504,53.492911,53.490627,53.493707,53.489467,53.489667,53.489945,53.492901,53.493531,53.491298,53.491668,53.490419,53.489508,53.487636,53.489397,53.48907,53.486589,53.488113,53.490465,53.486497,53.488009,53.487588,53.487847,53.490203,53.489619,53.485252,53.485849,53.490488,53.484366,53.485317,53.483142,53.484544,53.485607,53.484275,53.483355,53.488303,53.484621,53.486472,53.484775,53.487834,53.483529,53.482359,53.483352,53.481382,53.48252,53.480635,53.486051,53.481484,53.4792,53.478061,53.479897,53.481913,53.480713,53.479095,53.48671,53.483146,53.479609,53.479408,53.476344,53.479986,53.479481,53.478049,53.478428,53.480673,53.48475,53.482857,53.481015,53.480539,53.480879,53.479957,53.477431,53.481534,53.484873,53.486085,53.485721,53.484316,53.485253,53.482143,53.484619,53.485372,53.483922,53.485783,53.485625,53.477177,53.474954,53.478696,53.476631,53.477922,53.478301,53.476408,53.475919,53.478995,53.476348,53.476416,53.477519,53.475459,53.474911,53.47446,53.478585,53.477923,53.475242,53.47403,53.47446,53.47957,53.474002,53.475567,53.474954,53.477688,53.476426,53.473386,53.475016,53.475304,53.475695,53.476756,53.47521,53.476612,53.477862,53.479361,53.475402,53.475413,53.472716,53.475708,53.478686,53.474279,53.476873,53.47554,53.476455,53.488591,53.487369,53.484963,53.487162,53.486611,53.479803,53.483522,53.480699,53.486245,53.481028,53.486303,53.480267,53.48408,53.480546,53.479622,53.480044,53.474311,53.471552,53.474195,53.475803,53.473785,53.477013,53.470185,53.473443,53.4703,53.473654,53.471236,53.473787,53.471852,53.474885,53.47051,53.475019,53.469908,53.471811,53.477396,53.470499,53.472091,53.473804,53.475428,53.467093,53.463913,53.463457,53.462524,53.463043,53.465043,53.463679,53.463443,53.465509,53.464398,53.463831,53.468361,53.464643,53.465007,53.463409,53.46828,53.467088,53.465905,53.468509,53.467722,53.466888,53.467078,53.464313,53.467869,53.466574,53.467239,53.467492,53.471887,53.472355,53.47228,53.47253,53.47203,53.470174,53.47299,53.470996,53.474655,53.471944,53.474492,53.473639,53.473078,53.471667,53.469794,53.471297,53.466388,53.466248,53.466385,53.472158,53.468676,53.469489,53.468922,53.466199,53.467009,53.466804,53.46688,53.466505,53.469558,53.470259,53.466189,53.465126,53.465595,53.465613,53.465818,53.46356,53.465629,53.468201,53.466699,53.465315,53.466742,53.464854,53.465515,53.463184,53.463075,53.461166,53.467046,53.464348,53.463355,53.465314,53.472048,53.466942,53.467025,53.468225,53.468789,53.470112,53.470515,53.468723,53.47284,53.471853,53.471229,53.470156,53.467937,53.473132,53.471115,53.468181,53.470465,53.468312,53.472565,53.471081,53.472452,53.473078,53.472153,53.472912,53.471316,53.464207,53.4673,53.466158,53.464505,53.461134,53.461915,53.460923,53.465128,53.462793,53.460887,53.462274,53.460398,53.460263,53.461976,53.463131,53.458994,53.464382,53.462895,53.46089,53.462676,53.467088,53.465836,53.468863,53.46408,53.463575,53.464652,53.468592,53.465599,53.466468,53.466125,53.463823,53.467365,53.467656,53.46692,53.465671,53.46642,53.465014,53.46537,53.464881,53.464288,53.467055,53.46656,53.466508,53.469001,53.465701,53.468556,53.4681,53.468012,53.465143,53.471183,53.467413,53.467032,53.468501,53.462776,53.466122,53.469967,53.465452,53.468342,53.464579,53.463098,53.464556,53.465799,53.467179,53.465243,53.465358,53.467496,53.463559,53.458621,53.456794,53.459477,53.457522,53.461647,53.457806,53.461401,53.461161,53.46037,53.458429,53.460274,53.459503,53.459206,53.45765,53.455545,53.456429,53.458544,53.457715,53.459752,53.457373,53.456606,53.456887,53.457555,53.457317,53.457881,53.462846,53.464833,53.460837,53.461022,53.463151,53.461685,53.460948,53.465986,53.463616,53.462761,53.459776,53.468025,53.468913,53.467428,53.469736,53.469477,53.468045,53.468641,53.46661,53.469223,53.466526,53.465897,53.468204,53.469022,53.469012,53.467198,53.465912,53.465747,53.466312,53.466938,53.466605,53.467558,53.465593,53.463892,53.466315,53.464871,53.465342,53.462142,53.4649,53.462463,53.463066,53.465169,53.462877,53.463076,53.46238,53.463015,53.46551,53.463787,53.457942,53.456803,53.456544,53.457442,53.458328,53.460722,53.461489,53.458971,53.457558,53.462504,53.456497,53.45721,53.457404,53.458479,53.458046,53.457066,53.45732,53.455975,53.457922,53.454349,53.45468,53.458131,53.457124,53.459391,53.458617,53.456586,53.459763,53.457577,53.457525,53.457895,53.459672,53.458616,53.459539,53.459301,53.459524,53.459448,53.459402,53.456813,53.457534,53.458389,53.459338,53.456107,53.456142,53.456244,53.456457,53.454494,53.456455,53.455158,53.456902,53.45483,53.455582,53.454912,53.45649,53.457199,53.453998,53.455102,53.453272,53.454812,53.456234,53.452135,53.454858,53.462475,53.461854,53.46164,53.461022,53.460632,53.461655,53.461344,53.459117,53.461598,53.460604,53.460156,53.460005,53.461208,53.460523,53.461227,53.45999,53.462169,53.461039,53.458089,53.455385,53.455929,53.457254,53.453951,53.453743,53.45665,53.457253,53.456665,53.456389,53.454339,53.454319,53.451132,53.45639,53.456052,53.454315,53.450943,53.451567,53.453937,53.454708,53.452131,53.452845,53.453433,53.451164,53.461096,53.460443,53.459277,53.46031,53.460167,53.459347,53.458232,53.460142,53.458091,53.460074,53.460684,53.458979,53.457069,53.457734,53.458488,53.460568,53.458442,53.457101,53.455414,53.454133,53.455072,53.456769,53.453858,53.456831,53.455985,53.460566,53.45786,53.461477,53.460171,53.460898,53.460832,53.460553,53.460993,53.460662,53.461032,53.459488,53.459773,53.460339,53.460151,53.462271,53.457251,53.458589,53.450742,53.451632,53.454102,53.454152,53.454114,53.454135,53.452508,53.45334,53.454788,53.45198,53.452522,53.451583,53.455565,53.455211,53.460021,53.460233,53.45765,53.454181,53.45519,53.456041,53.459666,53.456055,53.458475,53.456328,53.455779,53.45778,53.457613,53.456222,53.457741,53.457066,53.456697,53.455744,53.455784,53.459399,53.456016,53.454891,53.458434,53.458909,53.454107,53.456886,53.458045,53.457049,53.45687,53.454497,53.456942,53.45627,53.455124,53.454236,53.453749,53.455663,53.454342,53.452277,53.450781,53.44926,53.451169,53.4501,53.450601,53.44865,53.449034,53.450404,53.449591,53.452711,53.452407,53.454585,53.455277,53.454673,53.453365,53.453854,53.45408,53.454605,53.453729,53.454445,53.453379,53.455209,53.452291,53.454192,53.457659,53.456154,53.456929,53.456924,53.456963,53.457133,53.457029,53.456934,53.455718,53.456695,53.455599,53.456761,53.454793,53.452773,53.453782,53.454091,53.452641,53.453268,53.45547,53.455557,53.453049,53.451999,53.451842,53.453211,53.453379,53.451983,53.451153,53.453425,53.450445,53.454665,53.454765,53.450649,53.452404,53.453506,53.451196,53.44729,53.449912,53.447192,53.447097,53.449294,53.450477,53.449695,53.449006,53.449953,53.446065,53.445283,53.450027,53.450562,53.457398,53.457647,53.453574,53.454707,53.4585,53.458596,53.456042,53.45518,53.457828,53.456919,53.457085,53.45267,53.452436,53.454494,53.454515,53.451583,53.451045,53.452791,53.452366,53.451737,53.453716,53.451593,53.454698,53.451917,53.452101,53.451852,53.452053,53.453266,53.454225,53.454034,53.453336,53.451486,53.450653,53.453356,53.452883,53.44787,53.447795,53.450198,53.449989,53.449667,53.452997,53.452455,53.452743,53.448335,53.449705,53.448417,53.447061,53.448599,53.446529,53.447902,53.448851,53.448817,53.448587,53.448505,53.446745,53.449094,53.446316,53.445488,53.449526,53.446547,53.446447,53.444794,53.445564,53.445242,53.449501,53.445536,53.446421,53.448033,53.444723,53.454597,53.454125,53.45428,53.454995,53.45636,53.455066,53.45561,53.45382,53.453389,53.45601,53.455329,53.455925,53.455215,53.452179,53.455654,53.456448,53.454511,53.452637,53.453211,53.455828,53.451705,53.449516,53.449688,53.450921,53.447581,53.449779,53.451131,53.44645,53.447514,53.448983,53.450734,53.450081,53.449179,53.447499,53.449152,53.449385,53.450564,53.447447,53.447509,53.451445,53.452402,53.452396,53.453208,53.455686,53.455491,53.454502,53.452067,53.454635,53.454964,53.453636,53.454192,53.451061,53.450894,53.453051,53.452202,53.450436,53.45263,53.451909,53.450622,53.442218,53.441847,53.443589,53.443861,53.442061,53.445727,53.442602,53.443073,53.44547,53.443175,53.446078,53.447906,53.45043,53.449841,53.445013,53.446808,53.446998,53.449555,53.446723,53.445601,53.445141,53.449936,53.449571,53.448897,53.448768,53.443848,53.447419,53.446026,53.445573,53.447398,53.448134,53.445396,53.44799,53.443269,53.447816,53.443063,53.446609,53.441969,53.442579,53.440291,53.440589,53.447134,53.448323,53.446903,53.448871,53.444339,53.441475,53.444417,53.446678,53.446024,53.44455,53.444593,53.443245,53.446301,53.445683,53.444708,53.444771,53.44632,53.448482,53.445396,53.446491,53.444485,53.447717,53.445785,53.444834,53.446624,53.445577,53.444967,53.445779,53.44381,53.446425,53.443427,53.443046,53.442972,53.442887,53.441352,53.444564,53.44468,53.443787,53.445099,53.442713,53.44335,53.442664,53.44255,53.439372,53.443142,53.443137,53.44249,53.440694,53.443412,53.447441,53.444779,53.442613,53.442053,53.44197,53.447607,53.443869,53.442296,53.442158,53.441497,53.444303,53.441789,53.441253,53.442042,53.440175,53.440985,53.438798,53.437993,53.438531,53.440846,53.43685,53.438922,53.43832,53.439561,53.447381,53.44147,53.444858,53.441436,53.447063,53.447603,53.445303,53.443497,53.441087,53.441984,53.441609,53.4415,53.441467,53.441302,53.43994,53.438089,53.441246,53.44173,53.439547,53.441653,53.440816,53.439492,53.437975,53.438401,53.437887,53.438095,53.437887,53.432616,53.433347,53.434796,53.443564,53.441189,53.440115,53.44161,53.4423,53.439607,53.443252,53.443034,53.443464,53.441855,53.434975,53.436452,53.436007,53.433373,53.432818,53.431969,53.433153,53.43368,53.435022,53.430626,53.435653,53.436899,53.436018,53.437088,53.436397,53.438817,53.438501,53.438535,53.440171,53.436543,53.436795,53.439386,53.43862,53.441956,53.441583,53.441764,53.442268,53.442056,53.440092,53.436331,53.434865,53.43672,53.435425,53.438529,53.437497,53.439582,53.432817,53.432801,53.435196,53.433249,53.434667,53.432928,53.436101,53.434397,53.433352,53.434069,53.433697,53.432643,53.437827,53.436441,53.435582,53.435773,53.435235,53.434685,53.435612,53.438388,53.440173,53.439729,53.43608,53.440259,53.439827,53.440098,53.435934,53.440144,53.438028,53.437572,53.440283,53.438397,53.439127,53.433714,53.432075,53.430624,53.431864,53.432816,53.434481,53.438012,53.438514,53.437353,53.436615,53.438903,53.435854,53.439417,53.439867,53.439798,53.439911,53.440085,53.440327,53.439593,53.439182,53.436553,53.4381,53.437613,53.435123,53.437511,53.435378,53.436165,53.438465,53.437551,53.439123,53.439324,53.436801,53.436864,53.438973,53.438067,53.436629,53.437472,53.435717,53.436163,53.430268,53.429957,53.430803,53.428708,53.430333,53.429389,53.428617,53.429102,53.437916,53.43844,53.439086,53.43935,53.437017,53.440459,53.43895,53.439718,53.438435,53.431686,53.434367,53.436839,53.433288,53.433929,53.434226,53.434309,53.432632,53.434841,53.430268,53.433792,53.434262,53.43356,53.435157,53.434435,53.429739,53.431667,53.428396,53.430167,53.430626,53.431547,53.428554,53.430912,53.432459,53.43128,53.430796,53.432068,53.430954,53.425369,53.426034,53.42576,53.424753,53.427508,53.424425,53.425252,53.427572,53.425617,53.424458,53.428085,53.423975,53.42664,53.43273,53.433241,53.432529,53.434906,53.434477,53.435096,53.434101,53.433419,53.433587,53.433376,53.432855,53.435361,53.425767,53.421897,53.423368,53.423915,53.424458,53.42466,53.430223,53.429258,53.426593,53.428936,53.427093,53.426273,53.427792,53.430448,53.427021,53.431128,53.427298,53.420758,53.422319,53.423938,53.422553,53.422856,53.424502,53.423394,53.422597,53.423403,53.434522,53.435374,53.433924,53.434013,53.435193,53.434768,53.435405,53.432564,53.425295,53.423505,53.426428,53.431574,53.429275,53.431182,53.431853,53.430639,53.428848,53.432244,53.427488,53.427344,53.429886,53.42551,53.429059,53.429077,53.426118,53.425402,53.426458,53.427045,53.428267,53.426507,53.425024,53.428401,53.426907,53.423812,53.426724,53.426763,53.426645,53.432074,53.42818,53.429817,53.428856,53.427498,53.428012,53.430315,53.430761,53.429271,53.43182,53.42612,53.429904,53.429206,53.428104,53.43146,53.430542,53.425868,53.425957,53.429791,53.425692,53.428566,53.428375,53.425983,53.429229,53.42574,53.421898,53.423201,53.424067,53.421357,53.42531,53.423313,53.424423,53.424211,53.425245,53.421524,53.423953,53.42003,53.420188,53.421992,53.421776,53.424394,53.422914,53.421047,53.422091,53.423705,53.4203,53.418399,53.423228,53.416044,53.425197,53.42067,53.422657,53.421496,53.420734,53.421606,53.422387,53.423474,53.423955,53.425175,53.426992,53.427214,53.421915,53.423771,53.424116,53.421272,53.418249,53.419282,53.416075,53.4171,53.416993,53.417369,53.417875,53.41876,53.420613,53.418864,53.418809,53.420948,53.419122,53.416527,53.41768,53.416548,53.418116,53.420599,53.415891,53.418643,53.418626,53.416887,53.417605,53.417034,53.420047,53.417123,53.415404,53.416742,53.417273,53.416356,53.416109,53.417311,53.416177,53.413938,53.417859,53.414081,53.414158,53.4153,53.413868,53.416392,53.415277,53.41644,53.412757,53.41477,53.408782,53.409983,53.409889,53.405632,53.40695,53.408708,53.410565,53.409272,53.408156,53.412684,53.4072,53.411133,53.409231,53.414852,53.411373,53.410593,53.410015,53.412731,53.411039,53.412432,53.412713,53.41095,53.41199,53.413843,53.413255,53.413735,53.408522,53.407601,53.411235,53.409163,53.410753,53.408382,53.40994,53.410452,53.414147,53.415031,53.41495,53.41534,53.411898,53.414791,53.411507,53.412002,53.413031,53.413593,53.413776,53.416304,53.419249,53.418748,53.417205,53.415339,53.419353,53.412779,53.413064,53.412588,53.411956,53.407226,53.405596,53.407837,53.410203,53.411544,53.410444,53.402522,53.410406,53.404087,53.402842,53.402848,53.403043,53.406601,53.403976,53.400736,53.399664,53.407081,53.404099,53.402893,53.41073,53.411254,53.408084,53.41001,53.410418,53.411612,53.410904,53.40876,53.407534,53.406062,53.407354,53.408007,53.406196,53.407196,53.411611,53.407,53.405944,53.402928,53.404734,53.399164,53.402915,53.390953,53.391711,53.396809,53.397558,53.397931,53.396157,53.398267,53.408214,53.405937,53.408702,53.408959,53.406852,53.405033,53.407485,53.408339,53.399541,53.399176,53.403657,53.403526,53.401751,53.398921,53.399916,53.403094,53.399472,53.404095,53.402284,53.400189,53.409371,53.406413,53.406301,53.401222,53.408693,53.407999,53.40405,53.406272,53.402942,53.405374,53.404132,53.404034,53.406807,53.406022,53.397097,53.396828,53.395731,53.395843,53.397205,53.395234,53.395958,53.394271,53.391961,53.392535,53.391931,53.391797,53.395902,53.394541,53.395323,53.395201,53.392408,53.396103,53.394168,53.391459,53.397319,53.389168,53.39539,53.394112,53.391886,53.399169,53.400226,53.39973,53.399959,53.398501,53.399964,53.399202,53.406952,53.39904,53.401142,53.398526,53.400101,53.39941,53.399631,53.402126,53.398477,53.399616,53.398198,53.399472,53.399737,53.394414,53.395986,53.394455,53.3967,53.396844,53.39661,53.390389,53.395365,53.390906,53.392475,53.392634,53.390458,53.392971,53.388814,53.388145,53.388043,53.384308,53.385819,53.385636,53.388285,53.389777,53.386081,53.388001,53.386449,53.387192,53.385189,53.388927,53.387024,53.384963,53.386717,53.38856,53.38913,53.387178,53.392974,53.393732,53.391557,53.390085,53.391354,53.396927,53.394549,53.389331,53.395186,53.39466,53.39149,53.397335,53.391707,53.390019,53.392423,53.389093,53.39258,53.390984,53.388676,53.389783,53.389854,53.387027,53.390964,53.390103,53.392465,53.386634,53.384318,53.386048,53.38849,53.388245,53.387459,53.390061,53.386998,53.380652,53.382508,53.381924,53.383964,53.384001,53.381903,53.384234,53.383794,53.381322,53.382951,53.384812,53.38282,53.38636,53.384073,53.382603,53.384945,53.383643,53.382354,53.385058,53.383561,53.382999,53.383656,53.381354,53.379922,53.381577,53.380488,53.3855,53.381538,53.381698,53.379075,53.383301,53.381321,53.384433,53.378531,53.380429,53.38002,53.378615,53.380437,53.380538,53.379681,53.392853,53.393598,53.393354,53.392527,53.392525,53.386561,53.388285,53.39269,53.381746,53.39112,53.388489,53.385898,53.386188,53.389666,53.387626,53.386772,53.38158,53.381591,53.383053,53.384704,53.384202,53.381673,53.384126,53.386924,53.385605,53.37757,53.37868,53.377534,53.379869,53.380681,53.375626,53.380071,53.379305,53.378391,53.385371,53.386875,53.384184,53.382771,53.382274,53.381155,53.382242,53.380543,53.382637,53.37896,53.379384,53.380496,53.377774,53.376293,53.377956,53.377205,53.373855,53.376501,53.374949,53.370662,53.371082,53.368003,53.373692,53.367859,53.369319,53.371524,53.367879,53.366026,53.369993,53.373805,53.376677,53.378387,53.375742,53.376172,53.377255,53.377972,53.376913,53.378147,53.375177,53.374975,53.373068,53.372494,53.372068,53.373375,53.371549,53.370164,53.37489,53.373151,53.373544,53.373409,53.373879,53.371524,53.371818,53.370076,53.372851,53.36972,53.367021,53.362562,53.364673,53.374781,53.37631,53.376546,53.365001,53.375505,53.376109,53.377418,53.361928,53.363983,53.376495,53.376554,53.375189,53.375048,53.368628,53.369178,53.371346,53.367978,53.366631,53.370466,53.48939,53.489662,53.494909,53.49227,53.493737,53.495269,53.489621,53.486949,53.487315,53.489019,53.487351,53.485243,53.488024,53.485575,53.486311,53.4863,53.490659,53.486323,53.487527,53.483645,53.479028,53.480932,53.481723,53.484496,53.48597,53.480466,53.483353,53.481833,53.486754,53.481453,53.484639,53.486338,53.48166,53.481448,53.480612,53.480066,53.479107,53.480483,53.481749,53.483204,53.483556,53.479532,53.479625,53.481916,53.478531,53.480927,53.482737,53.482916,53.483241,53.482141,53.48314,53.481269,53.483727,53.48047,53.481882,53.48246,53.481934,53.478962,53.5293,53.532263,53.529785,53.529791,53.484647,53.488902,53.480513,53.482135,53.480628,53.480072,53.485086,53.488994,53.48543,53.485418,53.486003,53.485086,53.48451,53.484793,53.487,53.488479,53.483271,53.48407,53.483027,53.48446,53.484157,53.483096,53.486532,53.483382,53.484453,53.484922,53.484161,53.483935,53.483688,53.483869,53.475697,53.474111,53.471657,53.472142,53.472423,53.472266,53.480133,53.477194,53.479976,53.479547,53.480277,53.480729,53.479896,53.478179,53.480434,53.477021,53.482125,53.477843,53.477304,53.479717,53.478436,53.478732,53.479434,53.482495,53.476524,53.476126,53.479937,53.478071,53.47733,53.481371,53.482064,53.482686,53.480905,53.478497,53.481278,53.479366,53.478493,53.478228,53.476458,53.476341,53.475036,53.479421,53.480404,53.480782,53.47787,53.475995,53.479583,53.475947,53.477059,53.481296,53.479502,53.48108,53.483693,53.484293,53.482671,53.48309,53.483445,53.483444,53.484243,53.484873,53.482487,53.48162,53.480321,53.480698,53.478843,53.478247,53.485336,53.477268,53.474095,53.485214,53.475355,53.483399,53.47444,53.47492,53.502956,53.505753,53.503823,53.503988,53.501668,53.502161,53.50168,53.501052,53.501634,53.49086,53.491972,53.491113,53.490405,53.492291,53.493654,53.492862,53.494114,53.493875,53.49327,53.49368,53.490052,53.4931,53.501882,53.501584,53.501793,53.502189,53.501431,53.500412,53.503013,53.495665,53.501797,53.502244,53.494557,53.501407,53.498689,53.50071,53.503434,53.501568,53.469749,53.469958,53.468549,53.468995,53.470027,53.46706,53.468293,53.46841,53.466622,53.469272,53.472272,53.473609,53.473249,53.471538,53.472122,53.473508,53.473916,53.474059,53.475401,53.476534,53.473675,53.508031,53.508751,53.503325,53.508742,53.510482,53.509114,53.508964,53.511676,53.506754,53.509626,53.510696,53.50927,53.50732,53.510906,53.498467,53.49553,53.504636,53.502585,53.500483,53.500839,53.502532,53.505846,53.500126,53.50265,53.499938,53.497012,53.504203,53.495328,53.506303,53.503053,53.501425,53.500715,53.498307,53.491608,53.49343,53.494058,53.496631,53.496198,53.495633,53.494647,53.488848,53.487648,53.490829,53.490088,53.491265,53.491605,53.493917,53.494244,53.501376,53.498791,53.502225,53.502073,53.498988,53.49956,53.500848,53.503495,53.465527,53.468328,53.469095,53.465866,53.469275,53.466467,53.469306,53.469819,53.469007,53.466787,53.469841,53.467205,53.467669,53.47025,53.468733,53.469968,53.470884,53.469933,53.470289,53.470305,53.469546,53.46993,53.469332,53.471236,53.469676,53.472248,53.472876,53.475452,53.47503,53.475608,53.47542,53.475729,53.474162,53.479002,53.476777,53.478742,53.477837,53.478199,53.477203,53.47834,53.478728,53.481189,53.479273,53.478607,53.472554,53.477691,53.476082,53.475472,53.477158,53.477679,53.476169,53.476574,53.473223,53.473769,53.471931,53.475029,53.473141,53.471695,53.472125,53.472,53.473298,53.580846,53.581017,53.58141,53.58489,53.581583,53.584582,53.583981,53.58027,53.582301,53.583135,53.58479,53.585711,53.583436,53.586934,53.58123,53.580466,53.582576,53.582712,53.584807,53.588259,53.590671,53.586173,53.587398,53.58603,53.584176,53.589015,53.5881,53.582956,53.583579,53.586485,53.582667,53.579329,53.582837,53.583805,53.581738,53.580501,53.580805,53.579369,53.578288,53.577774,53.5825,53.577245,53.579462,53.578165,53.585523,53.579859,53.578165,53.57727,53.576265,53.579275,53.572291,53.574666,53.575385,53.575879,53.576589,53.577143,53.572839,53.57417,53.576815,53.573101,53.570321,53.575633,53.57442,53.573533,53.573711,53.576795,53.568044,53.57043,53.58173,53.583281,53.582239,53.583528,53.582364,53.574294,53.57077,53.573845,53.574199,53.575078,53.574685,53.575227,53.572846,53.57201,53.571425,53.572504,53.574145,53.57208,53.574011,53.570629,53.568575,53.56759,53.565969,53.569267,53.572778,53.570138,53.570485,53.552087,53.576742,53.561076,53.556195,53.556357,53.563081,53.554731,53.583034,53.597315,53.590606,53.571318,53.593562,53.594011,53.567788,53.57123,53.571141,53.567644,53.565337,53.567053,53.563949,53.560405,53.558113,53.559514,53.567211,53.566552,53.569387,53.567876,53.569772,53.567487,53.568396,53.56964,53.568738,53.558173,53.566459,53.565728,53.566496,53.564261,53.564586,53.567059,53.564037,53.563232,53.564176,53.563351,53.568607,53.560646,53.562209,53.567043,53.566439,53.563569,53.562346,53.566314,53.563442,53.568111,53.568253,53.565329,53.568064,53.567016,53.565461,53.563627,53.563018,53.56307,53.560705,53.561606,53.559745,53.560772,53.563736,53.562507,53.561936,53.557365,53.556805,53.558902,53.557286,53.558318,53.562136,53.566686,53.5598,53.565512,53.563735,53.566795,53.565932,53.565859,53.563343,53.564254,53.559778,53.561737,53.559252,53.560066,53.559093,53.566416,53.564662,53.564489,53.565314,53.563033,53.56684,53.563569,53.567295,53.557133,53.556811,53.55617,53.558036,53.555587,53.554528,53.550259,53.549785,53.550359,53.550323,53.548894,53.551976,53.552765,53.552383,53.552024,53.553229,53.551698,53.55167,53.554213,53.554836,53.554327,53.55368,53.553273,53.551728,53.551605,53.553404,53.55191,53.553288,53.55131,53.548025,53.547164,53.554296,53.551769,53.547983,53.552379,53.552874,53.550012,53.552143,53.552863,53.550995,53.555114,53.554726,53.555216,53.553527,53.553651,53.555377,53.556258,53.553837,53.554227,53.553849,53.553368,53.554132,53.555916,53.556248,53.551894,53.552505,53.549445,53.544831,53.549494,53.546245,53.549432,53.546711,53.552151,53.551137,53.551368,53.545697,53.552643,53.549229,53.550863,53.551688,53.551238,53.550223,53.550315,53.550518,53.549877,53.544561,53.548246,53.546127,53.547581,53.546297,53.543645,53.546611,53.547175,53.547202,53.549135,53.545876,53.547478,53.548855,53.549107,53.546139,53.546356,53.547416,53.547063,53.548952,53.545976,53.547621,53.551119,53.554408,53.551417,53.55264,53.550617,53.553967,53.553547,53.552877,53.553759,53.556402,53.552591,53.554353,53.547691,53.55052,53.550808,53.551248,53.55107,53.550547,53.549998,53.547781,53.550809,53.548339,53.549649,53.546739,53.549275,53.536204,53.534226,53.538785,53.540677,53.537416,53.549391,53.547162,53.547396,53.554828,53.564085,53.548197,53.567851,53.560741,53.563583,53.549398,53.544591,53.544984,53.549175,53.545456,53.549165,53.550387,53.549958,53.551545,53.552217,53.552604,53.55072,53.550618,53.551591,53.552139,53.544715,53.544502,53.545989,53.543349,53.541891,53.549538,53.546159,53.549024,53.544005,53.54804,53.547981,53.546642,53.544095,53.54698,53.547163,53.546877,53.545577,53.546296,53.54469,53.547414,53.543256,53.545391,53.550279,53.552607,53.552363,53.550963,53.551733,53.54682,53.550164,53.541974,53.54147,53.545225,53.540867,53.546858,53.541928,53.545718,53.542401,53.542547,53.546022,53.542197,53.542075,53.542346,53.546426,53.541442,53.548682,53.546568,53.545542,53.548688,53.542568,53.54788,53.544379,53.536595,53.534294,53.538679,53.540233,53.547081,53.549035,53.546941,53.54892,53.547205,53.548563,53.554539,53.553835,53.549819,53.54987,53.551741,53.548031,53.546765,53.54414,53.547326,53.548493,53.54542,53.547763,53.544411,53.548932,53.546769,53.549359,53.55028,53.548664,53.550074,53.546029,53.549003,53.551315,53.545878,53.543477,53.544696,53.544115,53.544784,53.544051,53.544148,53.539396,53.540264,53.543151,53.543876,53.540955,53.542814,53.542745,53.541085,53.545025,53.540522,53.540794,53.540174,53.539564,53.541497,53.539893,53.554463,53.549453,53.553332,53.553858,53.550853,53.548912,53.553072,53.543512,53.543081,53.544548,53.543417,53.546839,53.546951,53.544795,53.53943,53.539693,53.544067,53.542272,53.541587,53.544821,53.544207,53.538256,53.54269,53.539297,53.539273,53.539424,53.544169,53.539259,53.544721,53.538262,53.538059,53.539108,53.536895,53.537201,53.536351,53.537425,53.536883,53.538339,53.539504,53.549534,53.548264,53.550327,53.54543,53.54784,53.546311,53.546544,53.54651,53.550462,53.545303,53.546148,53.546051,53.547304,53.546081,53.543996,53.547834,53.548968,53.544618,53.540374,53.538933,53.530306,53.536569,53.53755,53.534542,53.538458,53.537011,53.536857,53.538798,53.538118,53.533087,53.536985,53.536814,53.538286,53.532006,53.530693,53.542516,53.541719,53.543873,53.542509,53.540009,53.542249,53.540861,53.540053,53.54176,53.541404,53.544734,53.541275,53.542004,53.539787,53.540127,53.543134,53.540576,53.545159,53.541215,53.540827,53.54081,53.541701,53.541931,53.53727,53.536672,53.535908,53.53782,53.53736,53.537819,53.537167,53.5378,53.537299,53.545476,53.542527,53.542322,53.5428,53.545342,53.543832,53.542224,53.5443,53.54678,53.54163,53.539483,53.537868,53.53853,53.540996,53.540417,53.538361,53.541533,53.538181,53.539621,53.530488,53.54105,53.531738,53.533985,53.532079,53.5359,53.527432,53.536187,53.538453,53.541536,53.548097,53.547612,53.53984,53.538536,53.53376,53.537309,53.536735,53.535207,53.536187,53.537644,53.538697,53.537059,53.535827,53.546557,53.536919,53.537819,53.538069,53.533371,53.532794,53.533022,53.531997,53.53364,53.53267,53.535386,53.531783,53.534656,53.536464,53.537266,53.535803,53.535011,53.536215,53.536456,53.535388,53.536539,53.538533,53.538758,53.53855,53.536988,53.537609,53.536568,53.538956,53.540914,53.536121,53.536608,53.540366,53.541964,53.53713,53.535674,53.537772,53.538678,53.539102,53.53894,53.538966,53.536098,53.535283,53.536125,53.539685,53.536953,53.535731,53.531778,53.528874,53.528324,53.528914,53.531119,53.540213,53.530886,53.5312,53.541341,53.539552,53.541989,53.530077,53.539789,53.529916,53.535981,53.531874,53.533623,53.531181,53.539603,53.540616,53.53945,53.54043,53.530663,53.539314,53.528557,53.529688,53.529231,53.536244,53.528139,53.526116,53.528725,53.53037,53.528426,53.530422,53.527005,53.538204,53.534115,53.536141,53.535007,53.53651,53.535997,53.539816,53.536657,53.540315,53.536571,53.535562,53.535669,53.529957,53.528743,53.528953,53.531838,53.530225,53.529434,53.531012,53.529951,53.529579,53.53129,53.529264,53.524931,53.5277,53.527669,53.52563,53.52858,53.528381,53.528947,53.528327,53.527781,53.526997,53.525468,53.537982,53.537226,53.535049,53.537163,53.535623,53.530431,53.526142,53.530017,53.529961,53.531148,53.529362,53.529011,53.530573,53.528615,53.526681,53.527581,53.525934,53.526498,53.530433,53.526337,53.528102,53.530317,53.528546,53.531421,53.526656,53.52544,53.525412,53.525625,53.528507,53.529311,53.5304,53.52771,53.525451,53.526837,53.525507,53.525813,53.526501,53.525728,53.525536,53.52595,53.52747,53.52659,53.523374,53.527124,53.526842,53.525652,53.5228,53.524195,53.534197,53.531557,53.536691,53.530529,53.53213,53.531085,53.534843,53.534239,53.531955,53.533074,53.535521,53.535376,53.533098,53.530257,53.529775,53.526144,53.529243,53.529403,53.531812,53.525182,53.523097,53.522849,53.52243,53.52561,53.520832,53.524628,53.521605,53.524632,53.524362,53.526389,53.528832,53.525701,53.526564,53.527652,53.526288,53.526735,53.527147,53.526502,53.519492,53.517308,53.523477,53.522969,53.518991,53.519009,53.522648,53.520676,53.523194,53.521257,53.51715,53.520496,53.522048,53.523919,53.522261,53.524567,53.52462,53.527237,53.521359,53.526275,53.524941,53.524277,53.524549,53.525012,53.523552,53.524981,53.52294,53.526022,53.525943,53.526525,53.524026,53.527135,53.52511,53.526307,53.528997,53.525393,53.524391,53.5279,53.515448,53.519028,53.516994,53.517856,53.516536,53.51945,53.519382,53.519791,53.517359,53.52009,53.510868,53.511819,53.509334,53.509818,53.513303,53.52166,53.522325,53.520403,53.521822,53.521047,53.521682,53.522054,53.522458,53.522872,53.522187,53.521202,53.521564,53.520738,53.521539,53.522766,53.519795,53.523305,53.522129,53.523237,53.520468,53.513073,53.516445,53.515993,53.509843,53.509489,53.510809,53.509965,53.511086,53.510572,53.516089,53.514015,53.513081,53.5145,53.514551,53.515814,53.513939,53.515151,53.51268,53.517272,53.51607,53.515568,53.520747,53.522562,53.522245,53.521165,53.520782,53.520698,53.521593,53.521882,53.522633,53.521093,53.518644,53.519514,53.521256,53.522596,53.514209,53.519824,53.519372,53.519247,53.517251,53.518131,53.516165,53.519142,53.517577,53.516298,53.521163,53.507594,53.511861,53.511515,53.51206,53.510325,53.510234,53.509614,53.512019,53.509031,53.509423,53.510241,53.510875,53.509813,53.509587,53.506564,53.509664,53.510262,53.510242,53.511311,53.508279,53.511671,53.506248,53.510195,53.505357,53.505254,53.502499,53.503792,53.504332,53.506703,53.507106,53.505444,53.504351,53.502639,53.510301,53.511862,53.510254,53.509346,53.509074,53.508303,53.510644,53.51185,53.503663,53.505362,53.508629,53.508548,53.50799,53.507814,53.508951,53.505316,53.504895,53.507029,53.509248,53.505698,53.507142,53.505185,53.499295,53.502248,53.503176,53.505009,53.512867,53.514298,53.507337,53.513626,53.514418,53.513913,53.510923,53.506751,53.50722,53.502171,53.505072,53.500986,53.500683,53.502502,53.501069,53.5043,53.498874,53.504393,53.501587,53.503518,53.497179,53.493533,53.497205,53.531851,53.531863,53.530428,53.531105,53.530884,53.529161,53.530923,53.527033,53.527651,53.527988,53.528581,53.528405,53.535102,53.53425,53.533768,53.535463,53.535361,53.532451,53.533778,53.531908,53.535768,53.534753,53.531775,53.533957,53.535378,53.534337,53.534022,53.53481,53.532955,53.533812,53.528669,53.528265,53.531531,53.531179,53.529519,53.529005,53.531815,53.530208,53.533037,53.533218,53.532641,53.534243,53.531085,53.53544,53.537246,53.538084,53.538666,53.535165,53.533825,53.537733,53.535669,53.53789,53.537393,53.535573,53.536417,53.534284,53.535493,53.534231,53.53561,53.535756,53.658513,53.659646,53.66203,53.661381,53.66369,53.657489,53.648631,53.643047,53.645076,53.645508,53.643063,53.644735,53.644799,53.644764,53.643603,53.642811,53.643676,53.645377,53.639343,53.641727,53.639245,53.641809,53.641751,53.641743,53.649338,53.638818,53.639053,53.637461,53.638331,53.637632,53.636442,53.650228,53.64862,53.650612,53.648259,53.640523,53.642373,53.643704,53.635577,53.634266,53.633785,53.632254,53.62931,53.632804,53.632823,53.631621,53.631599,53.631502,53.640327,53.638836,53.633011,53.636424,53.633729,53.637289,53.634092,53.6398,53.629964,53.631611,53.629339,53.631308,53.631577,53.630992,53.630141,53.620874,53.622489,53.621443,53.624495,53.625842,53.633202,53.636963,53.633971,53.635331,53.634172,53.632697,53.636507,53.637015,53.633398,53.638997,53.639186,53.638021,53.63903,53.639747,53.639964,53.638539,53.640393,53.641429,53.642129,53.637159,53.634826,53.634049,53.635106,53.636141,53.636506,53.637259,53.635953,53.637453,53.634815,53.631853,53.637572,53.636311,53.634222,53.632669,53.63738,53.632864,53.632726,53.634597,53.635217,53.634093,53.631283,53.636762,53.632548,53.63182,53.635455,53.637843,53.638629,53.63026,53.62916,53.6302,53.630599,53.634177,53.633744,53.633104,53.630787,53.629802,53.632055,53.631948,53.629371,53.63007,53.632319,53.627996,53.629346,53.631275,53.626778,53.62832,53.628017,53.627834,53.62877,53.63421,53.637726,53.633413,53.636265,53.632591,53.60171,53.598277,53.59831,53.604376,53.599093,53.598701,53.62958,53.629723,53.627274,53.626859,53.626851,53.628437,53.627918,53.627856,53.630852,53.627329,53.626602,53.625142,53.625499,53.622597,53.627119,53.621341,53.620676,53.622087,53.622404,53.616278,53.612607,53.615114,53.614268,53.622164,53.622112,53.612755,53.61381,53.620579,53.614946,53.625399,53.625421,53.626505,53.626139,53.625937,53.626697,53.626727,53.624779,53.623488,53.625602,53.625859,53.623335,53.623894,53.622801,53.624544,53.622877,53.628055,53.624756,53.628649,53.62534,53.628007,53.627658,53.628171,53.627012,53.62799,53.625528,53.623288,53.626133,53.627405,53.626928,53.627543,53.626478,53.628637,53.62806,53.626554,53.624537,53.619553,53.621549,53.620602,53.620908,53.620722,53.622812,53.622086,53.620322,53.619787,53.619034,53.619073,53.619488,53.620047,53.618384,53.618553,53.621242,53.617381,53.620453,53.622559,53.62566,53.619432,53.619657,53.620598,53.622322,53.621517,53.622055,53.618819,53.625364,53.621821,53.623055,53.625124,53.625327,53.628995,53.629792,53.628606,53.631321,53.630057,53.628071,53.632334,53.632119,53.630676,53.622166,53.622498,53.622922,53.61921,53.625457,53.620059,53.623278,53.617572,53.61461,53.616288,53.616604,53.617961,53.614374,53.613374,53.619441,53.622016,53.621325,53.623174,53.622585,53.617534,53.618669,53.613719,53.6139,53.617867,53.618922,53.617413,53.606732,53.606646,53.605389,53.603183,53.603992,53.605818,53.606972,53.606499,53.60374,53.604221,53.603776,53.605156,53.604518,53.608879,53.605916,53.603204,53.606137,53.607043,53.618238,53.617362,53.614301,53.616422,53.617549,53.614951,53.617572,53.615033,53.61185,53.61723,53.615338,53.618947,53.620256,53.618977,53.620753,53.619297,53.619489,53.61368,53.61993,53.618156,53.621481,53.617296,53.616984,53.614182,53.620682,53.613752,53.622336,53.614816,53.616335,53.614497,53.616891,53.619189,53.618571,53.620394,53.618845,53.621542,53.616043,53.615365,53.612762,53.609424,53.611523,53.611866,53.611634,53.613009,53.615741,53.614439,53.615546,53.608946,53.624553,53.62549,53.621648,53.621102,53.626262,53.624987,53.622323,53.624555,53.625207,53.622551,53.626021,53.625392,53.621918,53.621359,53.621107,53.624665,53.621408,53.621956,53.621368,53.622293,53.621069,53.622382,53.604356,53.603184,53.603273,53.606479,53.606058,53.607797,53.610899,53.612293,53.608518,53.609573,53.613003,53.614029,53.613594,53.611237,53.613024,53.610826,53.611146,53.613984,53.612892,53.614612,53.601937,53.602171,53.603744,53.60161,53.60201,53.602136,53.5999,53.602281,53.602755,53.603689,53.605915,53.606742,53.60608,53.608764,53.606344,53.606227,53.607366,53.605516,53.607255,53.600207,53.600575,53.600237,53.603424,53.603929,53.601381,53.597842,53.603171,53.600057,53.61463,53.613315,53.618182,53.614691,53.618198,53.616621,53.615836,53.612903,53.615869,53.614384,53.615982,53.611372,53.613682,53.613562,53.612414,53.611486,53.611675,53.611002,53.611431,53.612983,53.611658,53.610483,53.613202,53.613492,53.611487,53.612473,53.612168,53.613931,53.60969,53.61452,53.610354,53.611229,53.610608,53.611222,53.609976,53.605939,53.607982,53.611779,53.61271,53.610766,53.513795,53.511443,53.509771,53.513401,53.611187,53.611716,53.608433,53.610705,53.611224,53.616631,53.612145,53.611459,53.611941,53.605145,53.601182,53.600084,53.615903,53.612801,53.616314,53.614583,53.61558,53.615131,53.61386,53.616342,53.61145,53.615337,53.627297,53.615007,53.608181,53.610079,53.607397,53.606206,53.606802,53.600607,53.601489,53.603919,53.59975,53.600501,53.600145,53.599705,53.600044,53.597802,53.600415,53.598654,53.598962,53.60791,53.607272,53.606567,53.607623,53.605464,53.607768,53.605532,53.607607,53.605777,53.604996,53.60364,53.606652,53.599992,53.605839,53.604812,53.602602,53.606031,53.601206,53.603667,53.600782,53.604679,53.605455,53.602223,53.605178,53.602077,53.611591,53.610281,53.612027,53.611099,53.610368,53.610668,53.612249,53.6125,53.608549,53.608768,53.608868,53.607298,53.605326,53.609131,53.604524,53.609144,53.610545,53.609496,53.608672,53.605002,53.606758,53.608228,53.609771,53.607639,53.598238,53.599784,53.598989,53.598817,53.598756,53.600768,53.598132,53.601226,53.595936,53.597392,53.599539,53.595704,53.595629,53.601345,53.593781,53.599826,53.594626,53.595829,53.596737,53.595576,53.595659,53.596416,53.59174,53.596968,53.593853,53.594826,53.595503,53.59276,53.594325,53.592685,53.595369,53.592681,53.592322,53.592681,53.594095,53.591646,53.593841,53.592628,53.593159,53.591504,53.59183,53.591849,53.590737,53.583443,53.592497,53.595172,53.595174,53.585527,53.595325,53.595398,53.595711,53.59177,53.593803,53.589642,53.591561,53.593936,53.590448,53.590612,53.593425,53.591392,53.589466,53.592186,53.591022,53.594735,53.593621,53.593269,53.592697,53.594947,53.588597,53.59074,53.591848,53.592729,53.589745,53.590035,53.589927,53.584519,53.58368,53.582677,53.588333,53.58342,53.579069,53.58205,53.584442,53.600329,53.60278,53.597007,53.598318,53.601502,53.599298,53.60062,53.60183,53.594802,53.599197,53.601414,53.602161,53.601519,53.596331,53.60075,53.601881,53.598619,53.598456,53.599673,53.600029,53.597945,53.595888,53.601092,53.59891,53.599497,53.598329,53.593116,53.595382,53.593955,53.593912,53.59207,53.59229,53.593983,53.59288,53.593431,53.59117,53.595107,53.588428,53.591909,53.595462,53.596787,53.593016,53.593313,53.596263,53.593555,53.592093,53.594833,53.58949,53.589219,53.588762,53.591247,53.587457,53.591767,53.591252,53.588593,53.590554,53.586484,53.59373,53.592644,53.589242,53.588906,53.589338,53.592543,53.590036,53.59294,53.58819,53.592522,53.588656,53.589506,53.588029,53.588098,53.593752,53.590975,53.591522,53.592172,53.588139,53.588301,53.592702,53.589646,53.593455,53.592051,53.591902,53.589705,53.593021,53.593719,53.589867,53.59002,53.593325,53.591843,53.589749,53.593744,53.594515,53.597309,53.597309,53.59629,53.596605,53.596235,53.593828,53.595687,53.594553,53.595173,53.596862,53.597827,53.591435,53.591767,53.594537,53.593695,53.591202,53.59304,53.595214,53.592163,53.590434,53.593006,53.588838,53.593159,53.592302,53.59225,53.589275,53.590804,53.589143,53.590893,53.589109,53.587637,53.587052,53.590169,53.588461,53.586452,53.589069,53.588607,53.58685,53.587201,53.586598,53.586822,53.585754,53.589911,53.586635,53.58573,53.589566,53.594927,53.596959,53.594487,53.594925,53.594588,53.595642,53.594783,53.596798,53.593762,53.593333,53.593806,53.593919,53.59355,53.585402,53.579882,53.584381,53.583149,53.585317,53.588009,53.583933,53.584729,53.585904,53.584637,53.587108,53.587425,53.584708,53.584791,53.586643,53.584127,53.5846,53.582739,53.584543,53.584503,53.585757,53.591378,53.583987,53.583768,53.585451,53.579638,53.580266,53.579585,53.580874,53.580609,53.554892,53.553776,53.554036,53.555468,53.557253,53.564943,53.560462,53.562707,53.566209,53.562546,53.565776,53.565327,53.565215,53.564285,53.566046,53.563751,53.563817,53.56111,53.559159,53.559586,53.562333,53.55869,53.563605,53.562762,53.559293,53.559887,53.557502,53.557181,53.555269,53.55836,53.557353,53.555898,53.55613,53.57183,53.560362,53.559565,53.563242,53.560698,53.562807,53.561656,53.559223,53.563392,53.560744,53.562301,53.556698,53.557629,53.554124,53.556687,53.553286,53.556237,53.556185,53.558118,53.555054,53.555937,53.557662,53.559957,53.561972,53.562096,53.560908,53.556547,53.561484,53.563447,53.563603,53.557789,53.557952,53.55671,53.554591,53.554852,53.556678,53.551246,53.554008,53.554642,53.552132,53.552911,53.555725,53.552578,53.556573,53.552729,53.552917,53.555241,53.567137,53.556787,53.562746,53.558712,53.545488,53.544723,53.545882,53.54603,53.54433,53.541927,53.543937,53.543925,53.543053,53.541645,53.54219,53.556528,53.555635,53.557017,53.557014,53.556282,53.555022,53.55868,53.556174,53.555739,53.554402,53.556069,53.556733,53.560683,53.551136,53.550269,53.555479,53.552748,53.550262,53.554179,53.550747,53.550991,53.550345,53.551813,53.551369,53.548416,53.548923,53.547388,53.547158,53.549738,53.550384,53.544861,53.547098,53.546217,53.544693,53.548561,53.550455,53.555848,53.55201,53.553541,53.552338,53.550728,53.549533,53.555495,53.554794,53.553631,53.555795,53.54822,53.550072,53.549289,53.551014,53.552456,53.552669,53.551329,53.55052,53.546078,53.544515,53.546329,53.545614,53.54559,53.545107,53.541958,53.542489,53.542312,53.542061,53.543371,53.543619,53.542458,53.549512,53.548879,53.551529,53.549582,53.552237,53.544148,53.544121,53.543222,53.542523,53.535954,53.533505,53.534938,53.535004,53.5364,53.540585,53.539101,53.539823,53.538456,53.536978,53.537844,53.539577,53.538754,53.534583,53.535959,53.535405,53.533543,53.539943,53.538748,53.5397,53.541126,53.542926,53.538022,53.54044,53.541817,53.660651,53.533731,53.536133,53.536074,53.53203,53.533198,53.534812,53.532933,53.534329,53.537372,53.532486,53.529525,53.529577,53.535282,53.533752,53.534958,53.533225,53.52703,53.537197,53.537934,53.534873,53.539043,53.537809,53.538995,53.538103,53.537766,53.53843,53.537953,53.537414,53.539734,53.539432,53.537244,53.539914,53.537557,53.538726,53.536053,53.538224,53.533503,53.533302,53.535119,53.532262,53.532232,53.532894,53.532212,53.530918,53.532354,53.530561,53.530073,53.533821,53.532101,53.530651,53.530114,53.534769,53.53355,53.532927,53.534919,53.527042,53.530114,53.530314,53.528935,53.529729,53.528219,53.529022,53.528772,53.52967,53.527989,53.526385,53.526532,53.52556,53.526537,53.527156,53.528901,53.526999,53.527348,53.524021,53.527232,53.525977,53.524629,53.52608,53.529061,53.525972,53.531782,53.532465,53.532001,53.533889,53.534645,53.536564,53.537363,53.530336,53.535514,53.532821,53.532708,53.532096,53.53545,53.536201,53.533184,53.524152,53.524634,53.523732,53.522656,53.525603,53.522797,53.523276,53.523671,53.52356,53.525673,53.523243,53.525573,53.528943,53.530638,53.532406,53.526815,53.527821,53.524764,53.528914,53.526407,53.525916,53.532688,53.526577,53.527563,53.524832,53.528592,53.526144,53.527573,53.526936,53.524862,53.524686,53.53323,53.530137,53.528323,53.530045,53.532015,53.527362,53.53084,53.522963,53.52332,53.524386,53.5229,53.522054,53.523281,53.523305,53.522787,53.523111,53.523343,53.521771,53.518005,53.517175,53.51734,53.52019,53.518222,53.520478,53.518506,53.519929,53.519748,53.51522,53.511591,53.515645,53.512582,53.510713,53.513009,53.511929,53.514292,53.515748,53.510157,53.511571,53.52999,53.533084,53.532219,53.52517,53.523358,53.523765,53.529374,53.529092,53.514963,53.513569,53.514246,53.514599,53.516846,53.51745,53.518422,53.517963,53.520741,53.518945,53.521621,53.518453,53.522152,53.519281,53.521523,53.523731,53.519409,53.521389,53.523119,53.518858,53.519084,53.519696,53.519298,53.519852,53.521806,53.519362,53.5172,53.519982,53.522485,53.523171,53.521209,53.521557,53.520805,53.52001,53.519718,53.518856,53.521404,53.521693,53.514892,53.515979,53.516361,53.516683,53.51546,53.517649,53.518011,53.51457,53.518029,53.512503,53.513387,53.51365,53.51247,53.515179,53.513645,53.516928,53.514813,53.521977,53.522362,53.525047,53.523757,53.525369,53.523949,53.522448,53.522743,53.523019,53.521746,53.508982,53.509076,53.508652,53.511576,53.509416,53.50937,53.51235,53.505068,53.503537,53.512857,53.503336,53.503755,53.504302,53.512405,53.522091,53.522244,53.523142,53.522601,53.523113,53.522769,53.52207,53.520671,53.519613,53.520328,53.518765,53.518715,53.518472,53.519659,53.518593,53.521776,53.521763,53.519058,53.518789,53.519734,53.510732,53.511085,53.51276,53.51728,53.509067,53.514093,53.509713,53.51706,53.512474,53.5129,53.513451,53.514377,53.514464,53.513584,53.510684,53.515303,53.514632,53.510419,53.512617,53.507789,53.50671,53.510314,53.509487,53.508278,53.509205,53.518494,53.515779,53.516884,53.518735,53.518096,53.515586,53.513732,53.516124,53.512988,53.517209,53.513057,53.514019,53.51522,53.511481,53.51375,53.513124,53.506494,53.509693,53.510373,53.505025,53.504795,53.505746,53.511595,53.51364,53.512203,53.511646,53.510801,53.512488,53.509565,53.513031,53.510872,53.516646,53.515179,53.515366,53.512779,53.513417,53.513927,53.50856,53.511273,53.508788,53.507634,53.512018,53.508779,53.510213,53.50944,53.511367,53.512701,53.506793,53.507097,53.502002,53.502559,53.5014,53.504318,53.505883,53.505571,53.502791,53.506706,53.51212,53.514126,53.516515,53.516205,53.513638,53.509816,53.509851,53.516323,53.509425,53.508054,53.509418,53.508519,53.508392,53.507007,53.509412,53.509598,53.507129,53.507799,53.502588,53.503417,53.502146,53.503803,53.495919,53.503934,53.502914,53.503734,53.502166,53.50194,53.502648,53.499852,53.503254,53.507467,53.507181,53.507237,53.506768,53.504749,53.506059,53.50835,53.505992,53.504256,53.507651,53.505775,53.507099,53.505316,53.504335,53.506589,53.509092,53.510853,53.511159,53.513003,53.511076,53.511295,53.510836,53.510629,53.510693,53.509809,53.502947,53.501897,53.502101,53.503559,53.500331,53.503989,53.503714,53.504089,53.504565,53.504136,53.504351,53.507373,53.500289,53.504898,53.50501,53.50709,53.499695,53.497917,53.501363,53.498922,53.49686,53.506785,53.50455,53.504873,53.503224,53.504783,53.496621,53.497725,53.497242,53.496649,53.498917,53.497529,53.497891,53.502034,53.497732,53.495889,53.49651,53.507373,53.512236,53.508797,53.512683,53.511201,53.512612,53.508906,53.507827,53.505984,53.507721,53.504792,53.507009,53.506703,53.510388,53.51018,53.501764,53.4951,53.496036,53.507505,53.507002,53.506169,53.508481,53.503503,53.507574,53.504311,53.506159,53.504799,53.505524,53.497024,53.49763,53.494381,53.496111,53.497507,53.498476,53.496975,53.496648,53.496539,53.49775,53.493175,53.498063,53.497977,53.496628,53.498612,53.498371,53.496156,53.500269,53.49532,53.500508,53.498852,53.498538,53.49636,53.500201,53.502978,53.497437,53.497919,53.497503,53.496653,53.497315,53.496583,53.50089,53.499976,53.496912,53.501916,53.5008,53.500354,53.49774,53.497352,53.499173,53.503699,53.504053,53.503014,53.505135,53.506822,53.50316,53.502344,53.503332,53.500375,53.505962,53.504778,53.509956,53.507838,53.509444,53.503728,53.505462,53.503717,53.504415,53.505274,53.505315,53.50624,53.50739,53.503941,53.507612,53.504518,53.505039,53.508476,53.507122,53.506262,53.506753,53.506595,53.507601,53.508622,53.507461,53.507426,53.502391,53.50086,53.50341,53.502502,53.504115,53.501993,53.501546,53.505166,53.503317,53.502743,53.502837,53.504952,53.50101,53.499293,53.501915,53.500281,53.500169,53.500625,53.501084,53.50299,53.501574,53.488807,53.490757,53.493707,53.491319,53.492628,53.491926,53.49214,53.489675,53.492996,53.495848,53.495324,53.494748,53.499732,53.495274,53.501027,53.497184,53.497321,53.496065,53.500549,53.499156,53.494622,53.49682,53.500609,53.496608,53.500309,53.497966,53.498648,53.493181,53.49703,53.499343,53.502044,53.496631,53.49305,53.49754,53.496596,53.497081,53.494611,53.495506,53.495944,53.497678,53.496269,53.496716,53.49867,53.496894,53.497375,53.495199,53.499087,53.497184,53.498,53.498685,53.49829,53.496234,53.49362,53.499565,53.498606,53.499327,53.499091,53.499896,53.50151,53.498913,53.499384,53.500217,53.500104,53.495591,53.496249,53.49775,53.495787,53.497421,53.497356,53.500095,53.496471,53.496529,53.496749,53.494005,53.492303,53.492795,53.494051,53.494021,53.494559,53.489929,53.49207,53.490716,53.488755,53.49097,53.491653,53.487807,53.488028,53.492539,53.490942,53.490801,53.490687,53.491826,53.491681,53.48559,53.486982,53.486428,53.487416,53.485866,53.495849,53.494592,53.493909,53.486188,53.484212,53.484558,53.483259,53.482884,53.484682,53.482884,53.484989,53.48354,53.486614,53.484316,53.487423,53.488573,53.483833,53.484314,53.488215,53.484211,53.483891,53.484055,53.485581,53.487992,53.494834,53.494307,53.493367,53.495867,53.496308,53.493645,53.492247,53.495525,53.496609,53.493821,53.492074,53.49536,53.494907,53.493168,53.491627,53.491088,53.494693,53.489605,53.49034,53.487018,53.48772,53.494369,53.495217,53.491839,53.486803,53.488984,53.486554,53.489918,53.490712,53.491174,53.492067,53.492051,53.492045,53.495313,53.49483,53.489343,53.493312,53.493515,53.494108,53.49083,53.4906,53.488859,53.486607,53.487466,53.487577,53.483134,53.484721,53.484428,53.48424,53.488596,53.488481,53.488571,53.488198,53.487508,53.481503,53.487703,53.477646,53.481129,53.484833,53.485446,53.486167,53.481717,53.484153,53.486719,53.484553,53.489997,53.488383,53.48579,53.490573,53.485766,53.486632,53.485626,53.488472,53.491243,53.484583,53.481531,53.481963,53.48451,53.481744,53.485031,53.481356,53.484625,53.481173,53.480836,53.480541,53.481638,53.489719,53.493328,53.490482,53.488825,53.490844,53.492006,53.486922,53.493797,53.492914,53.491701,53.490544,53.493406,53.494199,53.485455,53.490043,53.485637,53.48767,53.486274,53.486556,53.489186,53.488343,53.486022,53.484993,53.488724,53.48342,53.483007,53.485362,53.486931,53.482672,53.487019,53.484546,53.483766,53.484006,53.484608,53.483013,53.485369,53.481416,53.483858,53.48397,53.484373,53.482732,53.482008,53.484493,53.483998,53.483522,53.482368,53.482874,53.482831,53.483183,53.481603,53.481868,53.488032,53.483227,53.479485,53.480187,53.479278,53.490353,53.48852,53.483384,53.485071,53.485086,53.484308,53.486362,53.484226,53.484332,53.484152,53.485399,53.493229,53.485361,53.489926,53.489195,53.489071,53.489225,53.491637,53.488878,53.487641,53.492948,53.492232,53.493303,53.48843,53.489907,53.487843,53.496633,53.492136,53.496149,53.490084,53.491,53.484775,53.482704,53.483593,53.485493,53.485598,53.485656,53.484624,53.48467,53.483167,53.486789,53.483303,53.485768,53.48464,53.483293,53.482582,53.48828,53.48721,53.48753,53.48749,53.486459,53.487642,53.488378,53.4872,53.488225,53.487901,53.487378,53.487053,53.48964,53.489396,53.488922,53.491466,53.485626,53.491086,53.484464,53.486857,53.485366,53.487238,53.485279,53.487214,53.485806,53.486157,53.483945,53.483139,53.482729,53.48354,53.483241,53.481547,53.481979,53.481803,53.48408,53.481591,53.489038,53.491153,53.490181,53.488422,53.490029,53.490079,53.489452,53.486962,53.485131,53.486483,53.487295,53.486164,53.487362,53.486005,53.488071,53.485269,53.482194,53.48437,53.482065,53.481882,53.483961,53.48196,53.48365,53.481073,53.48284,53.478859,53.483741,53.484787,53.479032,53.480243,53.478818,53.481198,53.480343,53.481518,53.480122,53.480548,53.480207,53.480955,53.478052,53.481752,53.472778,53.477139,53.477713,53.476415,53.476753,53.477713,53.478562,53.48002,53.482309,53.482564,53.482984,53.483341,53.482618,53.481373,53.482671,53.481536,53.482458,53.480533,53.479543,53.481441,53.479603,53.478906,53.48026,53.482415,53.478264,53.476292,53.48225,53.481938,53.47945,53.482682,53.476449,53.481814,53.479865,53.480288,53.480841,53.478429,53.477001,53.47916,53.474974,53.478318,53.478282,53.476559,53.480095,53.476983,53.477077,53.477166,53.481354,53.477813,53.477742,53.479817,53.480546,53.47836,53.47562,53.475014,53.474691,53.475184,53.475446,53.475412,53.477424,53.475217,53.475805,53.476279,53.47548,53.475925,53.483653,53.483088,53.481609,53.483789,53.483574,53.484336,53.484755,53.483358,53.484621,53.48328,53.484412,53.470061,53.474131,53.470365,53.470479,53.473185,53.476474,53.471919,53.47741,53.473308,53.477495,53.477446,53.476947,53.473927,53.474477,53.471539,53.467328,53.470608,53.4726,53.469664,53.472264,53.469061,53.467598,53.474139,53.47268,53.473256,53.475741,53.469551,53.476469,53.47804,53.475356,53.466659,53.47081,53.47467,53.476974,53.478725,53.476101,53.477867,53.477044,53.476994,53.477819,53.480823,53.476225,53.476906,53.47637,53.474087,53.476705,53.474613,53.472679,53.473462,53.473312,53.476141,53.472391,53.474815,53.473667,53.474915,53.474701,53.473537,53.475255,53.477171,53.475784,53.454504,53.45651,53.453925,53.455928,53.455117,53.453692,53.454608,53.453296,53.452932,53.455605,53.454392,53.466506,53.456488,53.458021,53.453922,53.451515,53.454651,53.452824,53.452099,53.452534,53.450314,53.452677,53.450973,53.452602,53.450323,53.447485,53.447815,53.449298,53.450091,53.446798,53.446834,53.444946,53.448355,53.449977,53.428696,53.42882,53.426063,53.429047,53.424374,53.42946,53.426798,53.426366,53.427455,53.428794,53.424602,53.426938,53.426142,53.424581,53.426661,53.427236,53.425055,53.428107,53.420357,53.422151,53.422255,53.420324,53.421479,53.441134,53.440523,53.439288,53.443673,53.439072,53.441267,53.442673,53.432624,53.439248,53.431138,53.431985,53.430672,53.429861,53.439134,53.428545,53.432098,53.435422,53.435459,53.459365,53.450498,53.450251,53.447697,53.445237,53.447561,53.447775,53.446896,53.44603,53.443069,53.445993,53.444612,53.443807,53.444971,53.445491,53.444602,53.442901,53.441525,53.44209,53.442209,53.442122,53.44151,53.441842,53.449095,53.448941,53.447267,53.446663,53.446867,53.449044,53.446703,53.445461,53.443303,53.445105,53.443968,53.442643,53.443756,53.444721,53.443715,53.445368,53.440594,53.437642,53.438783,53.437567,53.438901,53.440653,53.442074,53.439352,53.43848,53.449964,53.453739,53.453005,53.450908,53.453631,53.450669,53.450663,53.45295,53.436535,53.435158,53.435763,53.435375,53.437607,53.434096,53.437022,53.437084,53.437547,53.425796,53.435179,53.436944,53.438373,53.433611,53.438363,53.438288,53.434888,53.431094,53.429102,53.430358,53.430988,53.435326,53.434375,53.430768,53.433743,53.434676,53.432068,53.428267,53.435577,53.43447,53.435971,53.436952,53.437583,53.436944,53.432714,53.374554,53.367349,53.429541,53.428521,53.428868,53.42651,53.427744,53.428612,53.427719,53.42742,53.424693,53.43103,53.430051,53.429412,53.429275,53.432372,53.427637,53.431291,53.433403,53.427377,53.430205,53.4307,53.432309,53.422842,53.425437,53.424018,53.422958,53.432956,53.432915,53.433258,53.433464,53.431977,53.432936,53.432028,53.43184,53.434299,53.432589,53.428889,53.42835,53.428927,53.428696,53.427564,53.425462,53.42449,53.423016,53.427041,53.427321,53.423036,53.428334,53.432041,53.424485,53.425896,53.428178,53.425096,53.424897,53.421846,53.423062,53.423996,53.423217,53.421721,53.425538,53.426639,53.424197,53.427618,53.423384,53.427468,53.42731,53.425825,53.425641,53.427038,53.426087,53.42891,53.428465,53.427756,53.425974,53.428127,53.428813,53.430771,53.434641,53.4303,53.432585,53.435758,53.433573,53.429383,53.424196,53.423958,53.425048,53.425472,53.421752,53.420202,53.421551,53.426756,53.426184,53.422475,53.425875,53.419953,53.421005,53.421694,53.422306,53.420761,53.421327,53.420561,53.422969,53.419592,53.42209,53.419572,53.4229,53.409678,53.413163,53.412918,53.416914,53.409957,53.41799,53.41103,53.4113,53.41837,53.417699,53.417053,53.417956,53.41592,53.41906,53.41426,53.416052,53.422103,53.420687,53.420051,53.419499,53.41803,53.418777,53.423855,53.42071,53.42626,53.422674,53.42251,53.427469,53.422334,53.419311,53.418278,53.423098,53.41755,53.421848,53.421631,53.420179,53.421572,53.421525,53.418737,53.416802,53.418128,53.416629,53.416122,53.417739,53.421026,53.420132,53.417987,53.424484,53.431163,53.433914,53.424739,53.427812,53.427896,53.428596,53.428819,53.424546,53.423961,53.428458,53.432478,53.427633,53.419874,53.421158,53.420369,53.422493,53.416706,53.415407,53.418943,53.417903,53.417014,53.415614,53.416583,53.420393,53.421631,53.421137,53.420768,53.419787,53.412754,53.410964,53.414003,53.414671,53.416146,53.415968,53.417222,53.411109,53.411218,53.41175,53.414843,53.414005,53.413528,53.414249,53.415071,53.412769,53.414296,53.413394,53.41675,53.421817,53.419335,53.421195,53.417349,53.415751,53.413512,53.4108,53.410334,53.409292,53.412765,53.411242,53.40957,53.41068,53.412159,53.412912,53.412079,53.409478,53.412889,53.418172,53.416903,53.41223,53.415442,53.415048,53.416418,53.41655,53.41363,53.415944,53.416956,53.416023,53.410189,53.41284,53.411658,53.415113,53.410937,53.413629,53.412272,53.413236,53.408007,53.411759,53.410311,53.406351,53.407302,53.410152,53.413847,53.411203,53.417703,53.416425,53.415924,53.414794,53.414069,53.418023,53.417859,53.418388,53.418034,53.416108,53.419055,53.417177,53.410877,53.407757,53.41175,53.412066,53.413603,53.413596,53.4161,53.415403,53.415711,53.416993,53.413711,53.417188,53.414271,53.412521,53.41391,53.412714,53.410672,53.408679,53.409014,53.417764,53.415415,53.412255,53.415495,53.41746,53.414805,53.414313,53.417239,53.417203,53.415703,53.417544,53.416476,53.422575,53.417043,53.413266,53.417006,53.416133,53.418751,53.409521,53.410129,53.405078,53.404812,53.407841,53.408416,53.409902,53.410614,53.404798,53.411028,53.414387,53.412046,53.412347,53.409223,53.409932,53.414305,53.40975,53.407897,53.411282,53.409833,53.410803,53.406011,53.406657,53.406776,53.410034,53.40677,53.409332,53.407909,53.398676,53.400599,53.401699,53.399794,53.401099,53.400919,53.399555,53.398795,53.412473,53.414615,53.417759,53.416139,53.418729,53.418127,53.415015,53.414537,53.415423,53.416239,53.413075,53.409606,53.407075,53.408574,53.410138,53.405412,53.4034,53.406169,53.409404,53.407347,53.403822,53.406075,53.402962,53.402377,53.403146,53.401993,53.406179,53.401728,53.404183,53.404113,53.405329,53.403503,53.405193,53.403565,53.403289,53.397922,53.397874,53.396871,53.401846,53.399831,53.400252,53.399901,53.396176,53.402244,53.403778,53.402226,53.404532,53.402432,53.404143,53.406626,53.403033,53.403166,53.404858,53.405585,53.40436,53.40453,53.403297,53.407704,53.403458,53.406575,53.402797,53.404003,53.404434,53.403576,53.408219,53.405486,53.407933,53.403503,53.403189,53.407397,53.403773,53.407912,53.407886,53.408183,53.403446,53.402018,53.402276,53.400532,53.400598,53.398773,53.407497,53.395255,53.399228,53.398422,53.397832,53.398819,53.398894,53.397813,53.397779,53.401105,53.402561,53.403244,53.397607,53.40326,53.402059,53.402911,53.398795,53.40078,53.399684,53.399938,53.400045,53.400687,53.402275,53.399138,53.39876,53.402383,53.399771,53.401293,53.40205,53.402438,53.402982,53.403741,53.399752,53.397782,53.401385,53.404156,53.403148,53.402174,53.403604,53.397456,53.404911,53.405108,53.403418,53.405672,53.402244,53.404088,53.405448,53.39574,53.392863,53.395544,53.407808,53.406126,53.408752,53.409064,53.406009,53.40678,53.406029,53.405548,53.402081,53.400808,53.401203,53.402663,53.403065,53.401725,53.405293,53.400913,53.403081,53.403823,53.403416,53.40287,53.398065,53.399405,53.397533,53.398619,53.401145,53.401203,53.400088,53.401202,53.401926,53.400827,53.400675,53.391046,53.395252,53.395162,53.393284,53.394201,53.391354,53.395091,53.398151,53.395543,53.394592,53.397648,53.396838,53.397005,53.39822,53.396406,53.397286,53.400917,53.392346,53.397218,53.395555,53.393658,53.396604,53.395786,53.39373,53.397741,53.398006,53.403796,53.400129,53.398494,53.400814,53.400928,53.396854,53.394236,53.397044,53.396116,53.399811,53.399824,53.393193,53.390945,53.394829,53.393737,53.391064,53.392249,53.392434,53.394056,53.393526,53.393834,53.394783,53.394032,53.395145,53.395119,53.394094,53.396291,53.394622,53.396179,53.395677,53.397157,53.394761,53.394768,53.395763,53.393444,53.390763,53.393026,53.393877,53.394211,53.393406,53.395301,53.38745,53.390932,53.390297,53.389764,53.389311,53.389542,53.388962,53.389424,53.389127,53.391181,53.390066,53.390789,53.391773,53.397298,53.397325,53.397508,53.396605,53.397663,53.396347,53.394757,53.397323,53.395666,53.395969,53.396095,53.392962,53.394203,53.395217,53.389992,53.39029,53.389427,53.387962,53.394303,53.392893,53.396256,53.394583,53.396588,53.396572,53.400452,53.395602,53.40088,53.399022,53.400891,53.394871,53.39719,53.395187,53.391792,53.395216,53.394388,53.393831,53.396444,53.391978,53.391599,53.395389,53.395183,53.394045,53.39302,53.396378,53.390754,53.390829,53.390761,53.389265,53.391289,53.388428,53.389058,53.388542,53.389144,53.39206,53.393611,53.395124,53.39359,53.393574,53.392556,53.393522,53.395314,53.395366,53.391124,53.392599,53.391819,53.397409,53.390545,53.390589,53.384999,53.392733,53.389118,53.391305,53.388806,53.387267,53.391151,53.39345,53.39401,53.394019,53.394422,53.394583,53.393348,53.391867,53.391343,53.39167,53.389132,53.387751,53.388003,53.39091,53.388338,53.387339,53.388345,53.387261,53.388789,53.386728,53.386627,53.386973,53.391116,53.39277,53.39101,53.386789,53.385613,53.385622,53.385498,53.387671,53.387587,53.386788,53.386289,53.387504,53.382928,53.385701,53.385084,53.384479,53.384087,53.390466,53.390669,53.391279,53.389022,53.390675,53.388233,53.386244,53.388021,53.390338,53.388191,53.38523,53.391206,53.390738,53.383549,53.385675,53.38435,53.388294,53.38689,53.391043,53.390459,53.392732,53.390189,53.390606,53.392042,53.389174,53.390021,53.394323,53.392786,53.386671,53.391742,53.3893,53.389432,53.3891,53.393242,53.391468,53.392628,53.383101,53.382218,53.386657,53.395522,53.385113,53.391728,53.383333,53.389157,53.393077,53.390496,53.387375,53.390611,53.3868,53.390532,53.387875,53.387757,53.390292,53.39082,53.378178,53.383305,53.383835,53.384478,53.384069,53.386807,53.385523,53.383139,53.383189,53.384599,53.386903,53.385579,53.380418,53.385146,53.379718,53.380377,53.385815,53.383979,53.37815,53.381499,53.382999,53.379575,53.377129,53.381151,53.377966,53.379255,53.385301,53.384277,53.384146,53.390244,53.385154,53.385088,53.378059,53.383763,53.38075,53.380799,53.375842,53.38143,53.381476,53.384691,53.379976,53.37957,53.382241,53.38359,53.380164,53.383008,53.378611,53.383346,53.380969,53.379646,53.380775,53.382179,53.382848,53.383206,53.378784,53.377303,53.38103,53.383872,53.379916,53.383142,53.378741,53.379219,53.376248,53.380037,53.38029,53.380447,53.379597,53.37582,53.372762,53.372678,53.362426,53.365823,53.371853,53.37446,53.373972,53.375148,53.374872,53.372836,53.372272,53.376217,53.376674,53.373916,53.376482,53.373803,53.374692,53.373864,53.374106,53.377093,53.370139,53.368108,53.370026,53.374188,53.371759,53.373568,53.371499,53.370021,53.369725,53.368642,53.370876,53.369971,53.368533,53.369712,53.37858,53.373344,53.370016,53.373105,53.373188,53.370905,53.372689,53.372388,53.371296,53.365255,53.368764,53.367374,53.37572,53.373826,53.37738,53.377502,53.368366,53.365232,53.363823,53.365323,53.36287,53.36201,53.367725,53.378401,53.378718,53.379467,53.379912,53.373651,53.377875,53.378606,53.380476,53.366726,53.363898,53.362985,53.367965,53.368459,53.368024,53.369097,53.371226,53.369125,53.364698,53.367115,53.372933,53.374641,53.37235,53.371679,53.369753,53.37639,53.361193,53.367413,53.362675,53.367253,53.368124,53.361831,53.36132,53.359882,53.362446,53.362829,53.359372,53.359155,53.358325,53.354575,53.376536,53.376034,53.373088,53.371665,53.363785,53.36589,53.367874,53.36689,53.368853,53.359059,53.367005,53.361038,53.362574,53.364396,53.362519,53.36154,53.363107,53.360681,53.36454,53.36386,53.366644,53.365352,53.365277,53.361261,53.35645,53.354533,53.359889,53.359854,53.359859,53.359595,53.357659,53.356192,53.355187,53.356583,53.358871,53.357264,53.354963,53.352166,53.354243,53.358787,53.351806,53.353357,53.526575,53.529209,53.526091,53.520969,53.52141,53.521175,53.523648,53.516259,53.521373,53.515557,53.514706,53.519998,53.518632,53.520963,53.517323,53.517674,53.514872,53.513362,53.510468,53.512972,53.513089,53.515328,53.517933,53.512218,53.518184,53.518346,53.518858,53.518257,53.518169,53.513934,53.513352,53.511499,53.514242,53.519516,53.503839,53.519703,53.504497,53.505405,53.502104,53.503149,53.508593,53.50781,53.508508,53.50744,53.503443,53.507713,53.505844,53.497373,53.500383,53.517803,53.51675,53.517066,53.517397,53.518171,53.51844,53.516437,53.515987,53.515637,53.516094,53.516967,53.5021,53.503791,53.500357,53.500518,53.499745,53.50041,53.497884,53.49747,53.500582,53.504771,53.505374,53.505051,53.496379,53.495215,53.502425,53.502369,53.502329,53.5024,53.505559,53.504262,53.503326,53.50251,53.499409,53.503481,53.503598,53.503302,53.499043,53.495228,53.499857,53.500428,53.498942,53.500183,53.498479,53.497422,53.49926,53.496433,53.496892,53.498396,53.499245,53.495918,53.4949,53.495081,53.494669,53.496828,53.495503,53.496054,53.497266,53.499525,53.493109,53.494381,53.493816,53.494689,53.494203,53.492252,53.493106,53.493967,53.493321,53.492703,53.502732,53.501941,53.504745,53.502328,53.502518,53.499599,53.502892,53.501277,53.50291,53.502713,53.500685,53.500306,53.498212,53.501001,53.498337,53.502646,53.499655,53.500547,53.498921,53.498551,53.496225,53.497817,53.496776,53.497896,53.496328,53.495353,53.501435,53.498423,53.496686,53.497468,53.499196,53.498934,53.501688,53.495309,53.492485,53.494422,53.49303,53.494102,53.496318,53.493438,53.492896,53.493364,53.495242,53.502712,53.502431,53.500212,53.503261,53.502342,53.501596,53.504084,53.503285,53.502094,53.500459,53.500924,53.502506,53.501314,53.50193,53.501931,53.500241,53.502726,53.49913,53.502941,53.497256,53.500739,53.50117,53.497477,53.500754,53.497037,53.500974,53.496785,53.494005,53.491641,53.493546,53.495406,53.489944,53.491795,53.495979,53.492478,53.492841,53.494727,53.494712,53.494628,53.496302,53.491127,53.492661,53.48757,53.492087,53.488451,53.491331,53.494082,53.493883,53.492015,53.487223,53.485794,53.49104,53.48689,53.490007,53.489861,53.483619,53.485909,53.483703,53.48722,53.483547,53.484459,53.484956,53.48719,53.48475,53.4863,53.486015,53.484859,53.485386,53.48554,53.485763,53.484999,53.493289,53.489318,53.496913,53.496705,53.495555,53.496471,53.483673,53.48403,53.483799,53.486386,53.487592,53.487888,53.483698,53.486873,53.483925,53.484625,53.486801,53.488086,53.486062,53.486136,53.483665,53.485774,53.486404,53.491492,53.49079,53.490728,53.494797,53.492497,53.49221,53.494204,53.491787,53.49285,53.491754,53.493181,53.493614,53.4893,53.491466,53.49249,53.488723,53.487991,53.487887,53.487041,53.48803,53.487418,53.489513,53.485431,53.485547,53.488028,53.489505,53.488984,53.489982,53.491564,53.485578,53.484304,53.482671,53.487497,53.484271,53.484309,53.4851,53.486728,53.483167,53.482843,53.482592,53.483625,53.488833,53.488536,53.493004,53.494091,53.494288,53.491549,53.493375,53.487335,53.489075,53.48748,53.486719,53.487742,53.487051,53.486996,53.484391,53.485032,53.485007,53.487419,53.486428,53.484683,53.485813,53.482717,53.483025,53.483863,53.482245,53.48314,53.485716,53.482382,53.485663,53.480822,53.484289,53.48253,53.479922,53.478495,53.478141,53.479006,53.475175,53.475512,53.477243,53.475128,53.479153,53.478685,53.48721,53.491254,53.487546,53.48903,53.488553,53.473408,53.479462,53.475757,53.476509,53.47955,53.479134,53.477294,53.478104,53.476923,53.477155,53.476462,53.473884,53.479238,53.48342,53.482151,53.481371,53.484258,53.485742,53.483936,53.490877,53.491162,53.49077,53.490235,53.490224,53.488913,53.487218,53.487773,53.488271,53.478616,53.479974,53.480178,53.477003,53.480175,53.480037,53.478468,53.477954,53.480442,53.480355,53.485546,53.485249,53.485324,53.48094,53.482098,53.48261,53.482699,53.484217,53.483853,53.481315,53.483021,53.482202,53.483035,53.49166,53.48805,53.488083,53.490338,53.487371,53.485679,53.489556,53.489812,53.488172,53.487729,53.489521,53.492234,53.486647,53.484087,53.492538,53.487064,53.485963,53.48939,53.487092,53.492302,53.490885,53.487782,53.484275,53.489432,53.487099,53.485055,53.493087,53.486803,53.486384,53.488093,53.489954,53.489308,53.485827,53.485612,53.488447,53.48897,53.482697,53.488466,53.487146,53.487587,53.487893,53.487263,53.485857,53.484769,53.486147,53.475948,53.478983,53.478222,53.477545,53.480099,53.478777,53.483195,53.485016,53.487149,53.479251,53.480834,53.479145,53.482292,53.483219,53.480871,53.482411,53.482085,53.480287,53.482708,53.482087,53.483705,53.48033,53.48148,53.482575,53.481532,53.480167,53.478484,53.478609,53.479224,53.480092,53.480625,53.470634,53.473536,53.47585,53.471526,53.475659,53.477133,53.480385,53.477897,53.474317,53.474449,53.482292,53.481626,53.479313,53.481533,53.481302,53.483016,53.483214,53.479619,53.481965,53.482038,53.482022,53.481986,53.483089,53.480239,53.478922,53.479641,53.48434,53.478362,53.478703,53.481217,53.48534,53.47857,53.485044,53.480218,53.481853,53.481664,53.472462,53.474801,53.476408,53.467236,53.474153,53.475023,53.46976,53.471009,53.468565,53.475469,53.476674,53.478151,53.47625,53.477054,53.470738,53.470803,53.473157,53.472727,53.477094,53.470559,53.473694,53.478645,53.475596,53.475004,53.476741,53.4745,53.475348,53.477695,53.477483,53.476062,53.475967,53.47769,53.476707,53.47492,53.468473,53.466764,53.467473,53.470243,53.468075,53.467941,53.477479,53.477116,53.477286,53.478651,53.477238,53.476619,53.478525,53.477356,53.477681,53.478221,53.4783,53.477095,53.478825,53.474018,53.47659,53.478341,53.477258,53.479618,53.468423,53.480569,53.48065,53.478411,53.479622,53.479004,53.480458,53.481627,53.479782,53.478958,53.480479,53.480979,53.479358,53.472835,53.474912,53.475449,53.47398,53.474272,53.473008,53.473966,53.469739,53.472662,53.470494,53.473813,53.47055,53.473664,53.470102,53.472316,53.471735,53.472981,53.472424,53.472839,53.473773,53.472179,53.472613,53.473009,53.469745,53.471446,53.470079,53.470627,53.470803,53.470024,53.473882,53.473456,53.474809,53.471518,53.475353,53.466744,53.473296,53.468748,53.467871,53.470349,53.465142,53.464346,53.466009,53.465701,53.465567,53.471526,53.462281,53.465433,53.464323,53.464036,53.464224,53.469835,53.468491,53.468053,53.466365,53.464872,53.468882,53.465816,53.46913,53.464418,53.461373,53.462712,53.458325,53.457741,53.45956,53.459565,53.457968,53.461256,53.462514,53.463352,53.461016,53.463856,53.460521,53.464194,53.462139,53.464252,53.464534,53.463778,53.464389,53.462385,53.459952,53.462914,53.464003,53.464443,53.465438,53.46419,53.466008,53.465343,53.463643,53.465457,53.462519,53.464513,53.465413,53.464633,53.455853,53.458227,53.453943,53.459156,53.454317,53.453711,53.459421,53.459047,53.458768,53.455701,53.457897,53.461843,53.463777,53.462822,53.457006,53.462833,53.463573,53.461987,53.459094,53.461248,53.460677,53.459875,53.461779,53.456786,53.455802,53.455275,53.455452,53.456673,53.460311,53.453496,53.456776,53.459927,53.456737,53.455966,53.45407,53.457133,53.456675,53.455148,53.446311,53.452822,53.45112,53.44862,53.453797,53.453961,53.449246,53.44977,53.452569,53.454736,53.45329,53.451974,53.452664,53.451903,53.454069,53.451355,53.454492,53.451635,53.454304,53.453514,53.454251,53.46283,53.465151,53.462638,53.465969,53.460779,53.460329,53.458179,53.46232,53.462887,53.457988,53.46329,53.457835,53.458905,53.466282,53.458365,53.460847,53.459633,53.46286,53.462878,53.461251,53.459525,53.445438,53.440298,53.447255,53.453313,53.454026,53.452427,53.452342,53.45042,53.449747,53.447551,53.448836,53.453833,53.454631,53.450765,53.453771,53.453218,53.455224,53.456453,53.456234,53.393623,53.393841,53.394158,53.392452,53.454768,53.454542,53.454809,53.455781,53.456124,53.460261,53.460591,53.459766,53.460527,53.45702,53.460511,53.458614,53.449528,53.453202,53.444093,53.44758,53.448486,53.446889,53.448098,53.447985,53.455986,53.454691,53.455128,53.454573,53.455575,53.453124,53.454661,53.45797,53.450792,53.45576,53.451276,53.452646,53.45353,53.451613,53.452523,53.450393,53.448145,53.449283,53.448856,53.448379,53.447452,53.447963,53.448665,53.44851,53.447445,53.449421,53.446896,53.449428,53.450982,53.44754,53.452877,53.451612,53.452547,53.449077,53.452698,53.453084,53.451034,53.451824,53.450045,53.450036,53.447007,53.447844,53.45036,53.447492,53.448571,53.445112,53.452813,53.447182,53.445699,53.451352,53.449734,53.445249,53.450579,53.447325,53.444592,53.444701,53.452008,53.448737,53.449132,53.445761,53.456325,53.455273,53.450338,53.454041,53.4505,53.450212,53.455632,53.448656,53.450831,53.452085,53.451387,53.451967,53.447966,53.451658,53.449198,53.446903,53.451984,53.450494,53.451723,53.451537,53.449318,53.446587,53.449891,53.45028,53.447046,53.446822,53.450991,53.446847,53.448547,53.44872,53.449795,53.442079,53.443169,53.446529,53.443131,53.443922,53.443439,53.442814,53.449645,53.447109,53.446921,53.448235,53.453054,53.447616,53.449699,53.450489,53.452625,53.453174,53.450813,53.453086,53.450131,53.449118,53.45495,53.451779,53.447805,53.44796,53.444995,53.443529,53.447356,53.444284,53.446639,53.44627,53.445842,53.444007,53.443885,53.441637,53.441151,53.442328,53.44351,53.44215,53.444939,53.445683,53.447805,53.444837,53.44401,53.44286,53.446501,53.448124,53.443603,53.44477,53.44213,53.443937,53.447707,53.444213,53.448737,53.443486,53.442196,53.440726,53.435986,53.435969,53.440978,53.438495,53.438636,53.440458,53.436181,53.437314,53.440585,53.437797,53.439181,53.438247,53.436281,53.439757,53.444584,53.443317,53.439245,53.443272,53.442283,53.436899,53.436784,53.439316,53.444494,53.439643,53.444803,53.442719,53.439975,53.445914,53.442721,53.43895,53.43909,53.437093,53.439408,53.435985,53.441249,53.440054,53.439452,53.433796,53.432476,53.437811,53.433594,53.436189,53.436861,53.438847,53.436401,53.459553,53.461828,53.460226,53.460651,53.462101,53.460043,53.460573,53.461562,53.457517,53.457794,53.457658,53.456241,53.460288,53.457512,53.458083,53.45912,53.460555,53.46162,53.45931,53.458852,53.459666,53.463699,53.462281,53.458572,53.461703,53.458086,53.464237,53.464536,53.466243,53.467364,53.466981,53.469091,53.461675,53.463758,53.46741,53.461032,53.465883,53.462402,53.467711,53.464175,53.46515,53.466199,53.462933,53.463243,53.461887,53.466207,53.457358,53.461416,53.466189,53.462635,53.45981,53.461322,53.456458,53.452414,53.454846,53.455666,53.452271,53.45772,53.455965,53.457509,53.458106,53.455527,53.456537,53.455738,53.467963,53.468126,53.468375,53.461895,53.47257,53.458786,53.472456,53.461562,53.465135,53.467998,53.470079,53.474851,53.463279,53.461007,53.451373,53.451919,53.451088,53.454042,53.452389,53.460111,53.461289,53.460082,53.459487,53.461078,53.460502,53.460152,53.458571,53.459836,53.457923,53.461602,53.454286,53.455837,53.45484,53.454653,53.453787,53.454031,53.454563,53.453158,53.456461,53.454746,53.457246,53.455828,53.455949,53.45354,53.454315,53.452905,53.455143,53.453012,53.45224,53.453579,53.453435,53.457586,53.458378,53.457011,53.45398,53.456765,53.456409,53.452164,53.453444,53.451462,53.45554,53.455863,53.45638,53.454742,53.453256,53.451322,53.455862,53.451899,53.455526,53.455696,53.454068,53.455104,53.456574,53.45971,53.460842,53.45743,53.458897,53.452618,53.452324,53.452388,53.450859,53.450958,53.450393,53.459559,53.456992,53.46063,53.459525,53.458904,53.452267,53.452984,53.456001,53.462909,53.460451,53.458073,53.457846,53.458666,53.450724,53.451419,53.451639,53.449233,53.446493,53.44303,53.450232,53.446395,53.448592,53.450485,53.446824,53.454924,53.453114,53.466062,53.453218,53.464293,53.470391,53.46528,53.464808,53.466588,53.464923,53.453655,53.454674,53.455609,53.45485,53.453977,53.451526,53.455943,53.453361,53.45605,53.453852,53.447401,53.449524,53.451054,53.450482,53.446678,53.4489,53.449966,53.447135,53.446658,53.449092,53.450589,53.452444,53.455881,53.455799,53.452682,53.4488,53.451631,53.452903,53.455524,53.448578,53.447574,53.447446,53.446085,53.444791,53.446365,53.445468,53.446805,53.451299,53.452051,53.451498,53.449071,53.452341,53.451071,53.440637,53.442097,53.445472,53.442518,53.446148,53.443908,53.44229,53.440648,53.453993,53.45143,53.449831,53.453894,53.45129,53.457087,53.456569,53.456334,53.456644,53.466674,53.465129,53.455776,53.456202,53.453326,53.44195,53.443914,53.443236,53.446261,53.440991,53.443046,53.444705,53.445335,53.444577,53.444684,53.447791,53.446935,53.445421,53.444522,53.445291,53.446098,53.449415,53.451418,53.449051,53.452061,53.448487,53.449169,53.450333,53.451687,53.448687,53.445475,53.446109,53.447262,53.450251,53.447652,53.446161,53.448124,53.447538,53.446427,53.446348,53.447244,53.444876,53.453627,53.455968,53.453698,53.448171,53.447918,53.451183,53.43849,53.438449,53.447798,53.452211,53.45121,53.452203,53.451551,53.445942,53.445022,53.444467,53.443619,53.450261,53.448517,53.444344,53.44312,53.448927,53.449625,53.444536,53.445,53.445918,53.447163,53.444196,53.443569,53.443481,53.446641,53.441904,53.443945,53.442235,53.44254,53.443037,53.441637,53.441558,53.443929,53.447337,53.446917,53.446416,53.450708,53.446833,53.449001,53.44818,53.449503,53.448751,53.450247,53.450749,53.451847,53.452824,53.451122,53.429296,53.42734,53.430687,53.428289,53.429032,53.422967,53.423046,53.418991,53.421482,53.426162,53.429772,53.431174,53.42741,53.428358,53.422902,53.425705,53.424122,53.422795,53.429589,53.429831,53.428643,53.431979,53.42888,53.43203,53.429689,53.430759,53.428195,53.427598,53.429233,53.429025,53.428741,53.427548,53.427837,53.428433,53.429536,53.427709,53.426675,53.41484,53.415278,53.416746,53.41414,53.417023,53.416496,53.414639,53.427573,53.426939,53.425284,53.427603,53.421019,53.42083,53.421769,53.421461,53.421024,53.42248,53.421428,53.421569,53.423928,53.422079,53.423222,53.42095,53.421039,53.417602,53.416855,53.417093,53.415558,53.413912,53.413558,53.416017,53.413679,53.413074,53.425714,53.426254,53.424707,53.4234,53.422826,53.421573,53.427361,53.427123,53.426734,53.423633,53.422956,53.427007,53.42167,53.41923,53.421289,53.417384,53.422435,53.4261,53.425526,53.427205,53.421582,53.416536,53.416141,53.419672,53.41527,53.420102,53.421298,53.411743,53.414439,53.412577,53.413857,53.426005,53.420943,53.41633,53.419306,53.417194,53.414381,53.420318,53.420077,53.412373,53.413185,53.414531,53.413422,53.414104,53.412105,53.412701,53.412734,53.418515,53.416842,53.417852,53.417225,53.418246,53.418295,53.41542,53.418993,53.416766,53.419831,53.432784,53.43132,53.432607,53.421781,53.432938,53.420342,53.430845,53.414421,53.414191,53.415798,53.415829,53.415197,53.41428,53.41293,53.413514,53.410514,53.412755,53.412464,53.412073,53.410239,53.416133,53.415052,53.4172,53.417176,53.416072,53.413801,53.416392,53.416028,53.414548,53.417278,53.416698,53.419117,53.422126,53.414745,53.412884,53.411989,53.411173,53.412756,53.413016,53.413114,53.412816,53.411286,53.404996,53.405683,53.405281,53.408442,53.404504,53.402894,53.403778,53.405489,53.40232,53.39746,53.402345,53.399069,53.400955,53.402231,53.402036,53.40126,53.406898,53.410788,53.409656,53.410628,53.407088,53.418899,53.419924,53.417111,53.419073,53.415022,53.415245,53.418472,53.41165,53.416853,53.412909,53.41439,53.414058,53.400186,53.398952,53.39871,53.403261,53.402416,53.399196,53.411715,53.408708,53.409248,53.410127,53.40589,53.406992,53.406461,53.406975,53.413906,53.415466,53.413741,53.411013,53.410731,53.408743,53.409446,53.41034,53.411028,53.411787,53.400167,53.397713,53.403228,53.400769,53.40343,53.402902,53.408325,53.406058,53.408532,53.406004,53.405086,53.408461,53.405509,53.406845,53.40895,53.411079,53.409284,53.400543,53.39744,53.398423,53.399879,53.392038,53.395705,53.394167,53.397029,53.392909,53.393795,53.393101,53.389555,53.39368,53.392679,53.390244,53.389596,53.390545,53.390547,53.391471,53.401715,53.401975,53.40138,53.403249,53.400188,53.404245,53.400958,53.402143,53.402422,53.40163,53.398657,53.392358,53.393045,53.396132,53.397095,53.396288,53.394274,53.393731,53.39658,53.392562,53.393985,53.388016,53.388822,53.39677,53.396381,53.396307,53.394683,53.397942,53.396854,53.398329,53.398767,53.395286,53.390039,53.39518,53.394343,53.39568,53.393308,53.393734,53.400549,53.403028,53.401167,53.399738,53.402098,53.39192,53.393408,53.394719,53.383534,53.38808,53.386432,53.387992,53.385346,53.382618,53.385423,53.383312,53.384547,53.384709,53.382902,53.384583,53.386257,53.393177,53.392783,53.390879,53.393388,53.394979,53.391869,53.386645,53.388954,53.390383,53.387351,53.385359,53.389185,53.388787,53.393369,53.386667,53.384941,53.390824,53.385354,53.385818,53.382409,53.387009,53.384023,53.386901,53.384079,53.392002,53.39275,53.378454,53.378609,53.375746,53.378681,53.37737,53.374574,53.373628,53.371654,53.372029,53.380311,53.381393,53.382435,53.38114,53.380721,53.37967,53.380638,53.381686,53.383399,53.381072,53.379307,53.380917,53.380666,53.378512,53.380306,53.381922,53.382601,53.380435,53.382283,53.373442,53.377036,53.376429,53.378171,53.37881,53.377558,53.378664,53.377691,53.369303,53.371537,53.371029,53.370022,53.374966,53.36919,53.370785,53.371551,53.368571,53.366922,53.368017,53.368394,53.376058,53.376965,53.373656,53.368749,53.369561,53.372505,53.365444,53.367834,53.362471,53.363879,53.361461,53.362992,53.359225,53.38114,53.381578,53.375345,53.594226,53.595335,53.585557,53.587262,53.58539,53.590022,53.596115,53.594709,53.587449,53.586476,53.587891,53.58539,53.586153,53.584604,53.584431,53.583966,53.565927,53.582008,53.58254,53.582882,53.58167,53.577064,53.575594,53.578979,53.576306,53.5894,53.589603,53.591612,53.58939,53.586766,53.586881,53.585923,53.58491,53.58456,53.584797,53.561765,53.56165,53.572407,53.573697,53.572492,53.570873,53.571328,53.568162,53.569327,53.5654,53.572623,53.566065,53.570786,53.573566,53.571331,53.575916,53.576336,53.57808,53.580927,53.583677,53.582088,53.577273,53.580271,53.576835,53.572771,53.570369,53.571506,53.577269,53.573868,53.572574,53.572705,53.564863,53.571949,53.56919,53.571106,53.569045,53.569292,53.569334,53.568425,53.570665,53.570542,53.559814,53.559227,53.558468,53.560348,53.561727,53.559,53.558714,53.559339,53.561036,53.560978,53.562119,53.561515,53.560994,53.557738,53.559054,53.557965,53.557249,53.556481,53.558013,53.555687,53.553853,53.557943,53.557885,53.55328,53.557239,53.555288,53.557129,53.557634,53.555131,53.561625,53.561449,53.562285,53.549732,53.551001,53.550717,53.550486,53.548272,53.553872,53.549844,53.550961,53.552646,53.547619,53.551555,53.552072,53.548683,53.555412,53.554001,53.565931,53.561733,53.563182,53.5644,53.568604,53.566026,53.561695,53.560993,53.56293,53.560627,53.560174,53.562528,53.557262,53.560348,53.556361,53.558025,53.555238,53.558944,53.557118,53.553617,53.553127,53.556313,53.553244,53.556707,53.55578,53.553338,53.562048,53.566633,53.554168,53.562144,53.556144,53.557674,53.554922,53.55704,53.558418,53.556734,53.555597,53.557854,53.558625,53.548993,53.55227,53.549523,53.550887,53.553964,53.553562,53.554733,53.555013,53.556155,53.555669,53.554064,53.552132,53.553444,53.554289,53.550356,53.55194,53.553075,53.552536,53.553253,53.549482,53.545117,53.546384,53.545894,53.544957,53.546145,53.545404,53.54507,53.551549,53.548465,53.547121,53.544666,53.546093,53.550193,53.546806,53.546919,53.547574,53.545312,53.548146,53.544705,53.547823,53.54707,53.552039,53.547193,53.551736,53.551315,53.551192,53.550487,53.546565,53.550939,53.551288,53.550812,53.555769,53.555889,53.551333,53.554241,53.552758,53.551619,53.555647,53.555695,53.545625,53.543831,53.543447,53.544352,53.544613,53.542944,53.545478,53.544233,53.542259,53.545519,53.543378,53.541463,53.543755,53.545581,53.545401,53.548257,53.544697,53.54597,53.544837,53.545531,53.547971,53.546428,53.546785,53.545593,53.547026,53.546493,53.546893,53.546406,53.54737,53.549011,53.544829,53.546125,53.546682,53.551911,53.5523,53.55154,53.550731,53.551312,53.552122,53.55155,53.552222,53.551847,53.546383,53.547973,53.546268,53.5452,53.55032,53.546807,53.546941,53.547877,53.54485,53.544744,53.543396,53.543883,53.546393,53.542549,53.546883,53.540282,53.540151,53.540956,53.539071,53.540533,53.539727,53.537905,53.542118,53.53909,53.541347,53.539797,53.540827,53.54206,53.54096,53.540189,53.542874,53.541006,53.540759,53.539489,53.541354,53.546433,53.542161,53.541559,53.550019,53.548509,53.549219,53.547455,53.54985,53.54887,53.54858,53.548021,53.549637,53.547696,53.547495,53.547744,53.550801,53.54828,53.551346,53.554655,53.547787,53.548533,53.552982,53.549994,53.548312,53.540583,53.545198,53.541004,53.539449,53.541924,53.54137,53.54198,53.560554,53.550432,53.550232,53.547866,53.545261,53.546162,53.547307,53.54276,53.544478,53.541321,53.54373,53.541985,53.543454,53.538047,53.537445,53.538179,53.537548,53.544961,53.544475,53.545729,53.542782,53.544493,53.544443,53.544643,53.542187,53.541362,53.543341,53.54291,53.544385,53.539996,53.542196,53.54218,53.542647,53.542822,53.537518,53.535991,53.539256,53.538218,53.536644,53.537166,53.5375,53.543331,53.538134,53.538191,53.536262,53.537526,53.53655,53.535766,53.538045,53.542389,53.536406,53.537816,53.534984,53.536316,53.535462,53.534726,53.537516,53.548733,53.548127,53.546806,53.548729,53.549096,53.547577,53.546046,53.547293,53.54907,53.532578,53.53563,53.532349,53.534879,53.534046,53.534184,53.52843,53.528388,53.533658,53.534406,53.543174,53.540236,53.541674,53.537962,53.539944,53.535742,53.537026,53.534531,53.53525,53.533554,53.536681,53.535475,53.538326,53.53706,53.53387,53.53706,53.537618,53.539447,53.537554,53.538606,53.539577,53.540293,53.539357,53.531616,53.531783,53.532016,53.531773,53.528673,53.529333,53.53135,53.534579,53.535955,53.538627,53.538872,53.534903,53.534575,53.534474,53.536987,53.535,53.532367,53.532135,53.534042,53.531159,53.53385,53.532927,53.532845,53.531926,53.536395,53.537524,53.533335,53.534696,53.536519,53.535073,53.537085,53.534698,53.533505,53.535591,53.534708,53.538001,53.539385,53.539037,53.535808,53.536643,53.538514,53.533675,53.532266,53.537187,53.532805,53.539583,53.538355,53.531697,53.536426,53.535523,53.530878,53.536344,53.536848,53.545757,53.537455,53.537678,53.54195,53.538532,53.540616,53.542041,53.539771,53.540766,53.54145,53.541417,53.54065,53.537822,53.537088,53.545176,53.542128,53.536833,53.537135,53.546673,53.544997,53.538432,53.541532,53.543952,53.537497,53.536534,53.540404,53.542839,53.539442,53.536762,53.537364,53.537424,53.527494,53.528051,53.532832,53.529764,53.527117,53.526686,53.531859,53.532742,53.531793,53.53185,53.534007,53.535079,53.53637,53.531745,53.531778,53.532027,53.532868,53.534739,53.530776,53.533374,53.535199,53.533804,53.53523,53.534336,53.531527,53.534263,53.531884,53.535061,53.535748,53.536259,53.535044,53.534653,53.536908,53.534102,53.531455,53.532483,53.531679,53.532753,53.532636,53.531192,53.534248,53.535843,53.533713,53.53513,53.53585,53.536547,53.535363,53.534423,53.536131,53.537534,53.527366,53.529857,53.530656,53.532489,53.529147,53.530937,53.531801,53.530468,53.529075,53.524471,53.525823,53.526444,53.529322,53.531831,53.525015,53.527995,53.526424,53.529484,53.528795,53.527342,53.529001,53.527748,53.53049,53.533239,53.533279,53.533973,53.534744,53.530471,53.532671,53.53402,53.532764,53.530777,53.531312,53.531577,53.535821,53.531243,53.531696,53.531886,53.531993,53.528485,53.533121,53.530183,53.531237,53.531959,53.529576,53.533334,53.531962,53.530118,53.528055,53.532061,53.532413,53.539285,53.541025,53.548478,53.542232,53.542756,53.539292,53.53796,53.532079,53.530915,53.531641,53.537846,53.532443,53.533944,53.530939,53.533099,53.532145,53.529172,53.52818,53.525979,53.52547,53.520622,53.511585,53.513574,53.500991,53.50096,53.523096,53.526422,53.524329,53.522234,53.524531,53.527688,53.523941,53.521477,53.524878,53.526013,53.527923,53.52719,53.527255,53.52469,53.527028,53.526236,53.525937,53.52129,53.532767,53.53104,53.532715,53.52747,53.525562,53.526788,53.524681,53.528082,53.526126,53.523413,53.521082,53.522761,53.525414,53.529539,53.526028,53.527471,53.528116,53.530889,53.527973,53.525227,53.528647,53.526982,53.520607,53.517157,53.519318,53.520786,53.520323,53.522417,53.522581,53.523205,53.519608,53.519139,53.51543,53.514785,53.516877,53.515303,53.528025,53.523736,53.52231,53.52176,53.523396,53.523174,53.521747,53.529031,53.529004,53.518596,53.529339,53.525782,53.524736,53.519907,53.527059,53.51975,53.52114,53.522366,53.52118,53.524706,53.522157,53.520729,53.523473,53.531654,53.525485,53.525549,53.525319,53.526503,53.526027,53.521631,53.518943,53.521217,53.521727,53.521138,53.52354,53.521976,53.517552,53.512274,53.516352,53.517909,53.516915,53.517224,53.517324,53.517598,53.516835,53.517005,53.515048,53.525191,53.525578,53.522373,53.522521,53.524463,53.52251,53.526833,53.523569,53.520998,53.522411,53.522755,53.522214,53.522374,53.517973,53.522146,53.523722,53.523942,53.52249,53.523753,53.524639,53.524985,53.522791,53.522977,53.523544,53.516641,53.478144,53.47729,53.482736,53.523222,53.514387,53.524266,53.517075,53.520971,53.520722,53.52445,53.525794,53.520832,53.52475,53.527895,53.52477,53.520076,53.525004,53.521838,53.525157,53.525071,53.525435,53.51799,53.504598,53.518099,53.518914,53.520324,53.518246,53.507892,53.518723,53.510425,53.530658,53.529395,53.52757,53.528447,53.531728,53.530256,53.530861,53.531076,53.531383,53.531527,53.531632,53.521866,53.52281,53.521696,53.521111,53.523359,53.522654,53.522058,53.520618,53.523607,53.525064,53.521226,53.52133,53.522224,53.522116,53.522345,53.517065,53.517874,53.517689,53.51332,53.515122,53.516136,53.513758,53.523874,53.521363,53.52082,53.521984,53.524303,53.523482,53.523308,53.513612,53.51462,53.514249,53.516194,53.515544,53.513877,53.514459,53.515185,53.516478,53.512962,53.51979,53.51662,53.51449,53.517398,53.517419,53.516833,53.513449,53.517338,53.513241,53.51418,53.517007,53.51536,53.510346,53.516492,53.516301,53.517277,53.515944,53.512574,53.512947,53.519276,53.509777,53.510742,53.512288,53.511714,53.520014,53.515962,53.50846,53.505828,53.504081,53.507908,53.507447,53.51316,53.514077,53.512638,53.519749,53.514117,53.512699,53.512855,53.513163,53.513223,53.515084,53.514632,53.513155,53.516172,53.51177,53.517858,53.516687,53.517138,53.516577,53.51359,53.510964,53.512742,53.509805,53.510421,53.510149,53.508779,53.50455,53.511552,53.512061,53.511393,53.507234,53.504149,53.511078,53.508994,53.508131,53.515691,53.51275,53.511601,53.511063,53.509964,53.511323,53.507695,53.505758,53.505574,53.506742,53.5119,53.508484,53.510466,53.508159,53.506474,53.508001,53.501949,53.504586,53.505168,53.503631,53.502749,53.500847,53.511911,53.508825,53.511588,53.505907,53.504121,53.506483,53.501916,53.500095,53.494381,53.497637,53.501069,53.500512,53.498816,53.494171,53.495405,53.491005,53.509047,53.5088,53.506909,53.51349,53.505885,53.508198,53.514581,53.514044,53.513669,53.50494,53.514362,53.513651,53.513648,53.513995,53.507145,53.495075,53.496807,53.494777,53.496327,53.496473,53.495927,53.49797,53.497373,53.499128,53.495446,53.497181,53.497513,53.495908,53.498679,53.496931,53.499357,53.496113,53.498731,53.496814,53.496207,53.494464,53.498697,53.496853,53.496963,53.501983,53.501109,53.49496,53.494807,53.494178,53.497439,53.498721,53.499795,53.501795,53.504409,53.500557,53.500118,53.501918,53.502609,53.501915,53.499753,53.50756,53.504781,53.506806,53.503222,53.50684,53.505714,53.503427,53.506299,53.507183,53.50452,53.505875,53.506008,53.506611,53.503273,53.505758,53.50561,53.505546,53.507349,53.503655,53.506538,53.504786,53.502362,53.492549,53.501467,53.505704,53.503113,53.503609,53.500938,53.502614,53.498743,53.498441,53.49904,53.497196,53.495462,53.494708,53.496225,53.495842,53.497122,53.506705,53.504002,53.508708,53.508548,53.509358,53.501922,53.509638,53.509736,53.510267,53.5053,53.508363,53.494012,53.497439,53.495349,53.494742,53.494832,53.493468,53.502292,53.501997,53.501355,53.499211,53.494564,53.500036,53.497982,53.496837,53.499018,53.49818,53.498202,53.502335,53.498771,53.497781,53.502268,53.499139,53.49618,53.49587,53.502689,53.506679,53.502567,53.505299,53.50769,53.498454,53.499852,53.502053,53.500996,53.499904,53.496988,53.500123,53.497616,53.497069,53.497594,53.493273,53.498876,53.494651,53.497765,53.498112,53.493629,53.497868,53.497995,53.497468,53.497671,53.498651,53.497842,53.498776,53.497587,53.495561,53.49629,53.497932,53.497119,53.49569,53.498647,53.495631,53.491591,53.49029,53.492053,53.492164,53.494092,53.491088,53.491833,53.490953,53.489243,53.490502,53.491094,53.484582,53.483814,53.488765,53.49493,53.496847,53.497158,53.495485,53.496124,53.496984,53.487761,53.487694,53.482736,53.491158,53.486128,53.490227,53.486797,53.485854,53.485468,53.492806,53.492178,53.493777,53.493484,53.492368,53.491946,53.492209,53.493639,53.492656,53.498699,53.485235,53.494781,53.49306,53.492447,53.49017,53.48981,53.491129,53.492928,53.491881,53.491315,53.491074,53.49072,53.492815,53.490145,53.488456,53.489377,53.485038,53.489274,53.488902,53.483256,53.484248,53.48512,53.483969,53.4816,53.483732,53.483776,53.482947,53.48427,53.484941,53.485095,53.487982,53.49197,53.490649,53.488212,53.487853,53.487978,53.486794,53.488801,53.487085,53.485887,53.486964,53.487567,53.4873,53.486004,53.483198,53.48501,53.48565,53.482471,53.484325,53.484228,53.492861,53.491505,53.494754,53.493578,53.495007,53.494524,53.491856,53.48941,53.486403,53.491075,53.487735,53.489978,53.486922,53.489005,53.487978,53.486855,53.490205,53.490197,53.490068,53.491234,53.489734,53.491175,53.492853,53.490562,53.493488,53.492796,53.490257,53.490495,53.492366,53.49316,53.494037,53.48776,53.48742,53.484798,53.491644,53.488972,53.488088,53.493348,53.484973,53.493814,53.48066,53.480494,53.480871,53.481789,53.480871,53.477506,53.480036,53.479407,53.484435,53.480299,53.477115,53.480775,53.484944,53.478789,53.475941,53.475605,53.479489,53.474466,53.47895,53.479953,53.476838,53.478332,53.474021,53.477158,53.476271,53.47678,53.471808,53.476715,53.476637,53.4754,53.476559,53.48228,53.477837,53.481157,53.481657,53.482992,53.480622,53.480002,53.477786,53.470184,53.47316,53.470922,53.4716,53.473362,53.47613,53.476291,53.473188,53.477184,53.471395,53.468998,53.472589,53.476664,53.46684,53.466068,53.465843,53.476583,53.477532,53.478659,53.480339,53.47892,53.463317,53.465207,53.47507,53.47235,53.475937,53.475397,53.47669,53.475374,53.47293,53.474504,53.471828,53.470502,53.468443,53.615199,53.607798,53.609759,53.599869,53.601581,53.581438,53.597146,53.598373,53.591046,53.585541,53.587521,53.590913,53.591192,53.579743,53.595403,53.588903,53.586248,53.585349,53.583357,53.574742,53.572961,53.564011,53.57493,53.573433,53.579748,53.582003,53.577038,53.579915,53.57744,53.580056,53.580907,53.581165,53.581166,53.579321,53.580356,53.579515,53.57951,53.578544,53.586446,53.590548,53.581649,53.580316,53.566696,53.57975,53.566863,53.570494,53.574145,53.574378,53.565976,53.566719,53.578526,53.577349,53.575927,53.579094,53.578673,53.575895,53.561798,53.564612,53.547282,53.545163,53.54367,53.548178,53.547998,53.549316,53.548105,53.549158,53.546771,53.543389,53.536864,53.542223,53.54298,53.53088,53.648187,53.651692,53.648818,53.625481,53.632614,53.614771,53.608545,53.60825,53.608456,53.600505,53.596435,53.60184,53.604749,53.603186,53.592253,53.596518,53.602384,53.591915,53.59205,53.593235,53.592269,53.592891,53.594906,53.595262,53.592209,53.592418,53.589002,53.600654,53.595599,53.588118,53.593584,53.590644,53.59189,53.590109,53.593931,53.570369,53.564361,53.559228,53.559835,53.563144,53.557441,53.556638,53.558877,53.560008,53.557898,53.545491,53.55803,53.557307,53.555126,53.539368,53.543399,53.544571,53.551854,53.551443,53.539581,53.540518,53.535197,53.534317,53.54018,53.52904,53.520648,53.531443,53.533001,53.532994,53.52785,53.517725,53.537089,53.533138,53.534703,53.534033,53.533499,53.52749,53.531377,53.524435,53.516221,53.512943,53.514246,53.512218,53.514018,53.511892,53.509051,53.513726,53.50705,53.510562,53.510572,53.516055,53.511821,53.508141,53.503102,53.491808,53.50044,53.482973,53.481326,53.488372,53.486127,53.48442,53.484247,53.478627,53.476237,53.475579,53.473744,53.484434,53.473027,53.462457,53.465381,53.467477,53.47263,53.472724,53.462436,53.467926,53.463017,53.469702,53.470912,53.461362,53.465775,53.461603,53.460859,53.465385,53.464324,53.46337,53.466174,53.463395,53.466281,53.465544,53.457543,53.459828,53.45841,53.459636,53.461323,53.462773,53.461069,53.454232,53.451362,53.456989,53.456614,53.45448,53.455608,53.45279,53.458762,53.458359,53.452801,53.451949,53.452381,53.442941,53.442949,53.442176,53.443378,53.445603,53.44271,53.448811,53.441668,53.444531,53.443676,53.442248,53.442117,53.443755,53.444207,53.436274,53.435095,53.437592,53.437314,53.432768,53.436109,53.438558,53.439846,53.438197,53.435309,53.432137,53.433932,53.434288,53.429446,53.42974,53.42864,53.421903,53.42024,53.420315,53.416241,53.421841,53.418027,53.415167,53.417063,53.416406,53.414625,53.419704,53.412277,53.409823,53.40809,53.403052,53.402392,53.410019,53.407379,53.400452,53.402119,53.400542,53.4003,53.386327,53.38795,53.382624,53.380144,53.383548,53.379527,53.379322,53.380426,53.388821,53.386508,53.368727,53.364793,53.362505,53.366659,53.366476,53.370053,53.367413,53.482818,53.47927,53.482225,53.48245,53.48343,53.485065,53.482641,53.483698,53.480659,53.487488,53.482627,53.47821,53.483451,53.483718,53.48085,53.484631,53.483332,53.483839,53.482879,53.480913,53.484064,53.481854,53.485169,53.485789,53.482293,53.482518,53.483509,53.475272,53.474591,53.472848,53.47264,53.474106,53.480923,53.48125,53.478023,53.476636,53.481316,53.479835,53.478672,53.476724,53.482186,53.477185,53.47834,53.480507,53.48214,53.482962,53.477841,53.479049,53.477477,53.477226,53.475073,53.476142,53.478375,53.478652,53.479559,53.475987,53.47811,53.477025,53.475279,53.491664,53.49047,53.499863,53.470174,53.469769,53.470118,53.469079,53.473853,53.470864,53.474767,53.475545,53.499179,53.498111,53.492717,53.491902,53.488562,53.469492,53.472663,53.471349,53.47013,53.472036,53.473322,53.476377,53.47851,53.477944,53.474639,53.47657,53.475276,53.477072,53.474405,53.477502,53.475524,53.475338,53.479595,53.47384,53.473886,53.582894,53.580798,53.577194,53.577641,53.576355,53.577658,53.577102,53.589221,53.566135,53.565525,53.557421,53.564836,53.565987,53.565796,53.567621,53.551002,53.553957,53.545996,53.546238,53.554716,53.548121,53.548034,53.542218,53.543647,53.545229,53.543932,53.539559,53.545559,53.543026,53.539864,53.553248,53.55013,53.546236,53.545579,53.545955,53.540163,53.54228,53.544551,53.537868,53.546246,53.548232,53.536982,53.541147,53.540138,53.541724,53.541412,53.53893,53.541809,53.537032,53.529251,53.528459,53.516025,53.521531,53.514411,53.521815,53.523181,53.515897,53.514339,53.514781,53.513168,53.517127,53.520269,53.515605,53.505411,53.656231,53.652265,53.646172,53.644816,53.63439,53.642794,53.621664,53.637173,53.635559,53.622203,53.614049,53.626167,53.625057,53.626569,53.621528,53.625319,53.622353,53.607011,53.603906,53.602803,53.619643,53.61804,53.6186,53.617765,53.617764,53.61721,53.617615,53.616665,53.618482,53.619686,53.617605,53.620326,53.618528,53.619891,53.615922,53.616379,53.611427,53.613371,53.622165,53.61276,53.621022,53.610881,53.612152,53.60806,53.609903,53.601119,53.609923,53.610052,53.61049,53.605694,53.590131,53.602529,53.59628,53.59241,53.589831,53.593902,53.59544,53.594619,53.594342,53.587965,53.588255,53.581405,53.554691,53.547631,53.550624,53.549088,53.547871,53.545853,53.548233,53.537264,53.537443,53.5332,53.530829,53.534323,53.53117,53.52497,53.526099,53.524737,53.512977,53.515802,53.521774,53.52307,53.514251,53.513325,53.511829,53.503761,53.513678,53.512912,53.513005,53.510304,53.506213,53.51104,53.510841,53.500327,53.500973,53.49934,53.497175,53.503478,53.50849,53.489446,53.489497,53.4926,53.488704,53.488624,53.495916,53.484518,53.483437,53.484101,53.483617,53.48879,53.489437,53.483872,53.483762,53.480082,53.483755,53.486825,53.495836,53.489832,53.490277,53.489878,53.49089,53.481807,53.482461,53.481572,53.480756,53.471504,53.470752,53.470791,53.468872,53.469417,53.476464,53.479962,53.479879,53.476007,53.454511,53.451628,53.449739,53.42862,53.436757,53.423534,53.449087,53.443669,53.427364,53.437456,53.437081,53.435745,53.42629,53.426325,53.429288,53.423529,53.428457,53.420768,53.418843,53.421374,53.41922,53.419386,53.417515,53.418244,53.417473,53.425837,53.422494,53.42884,53.421585,53.415299,53.413768,53.413608,53.413938,53.414598,53.414338,53.415679,53.411897,53.412348,53.410806,53.412421,53.416408,53.411636,53.411169,53.409561,53.410908,53.417793,53.413572,53.410437,53.412373,53.41104,53.407066,53.400226,53.401985,53.415654,53.407825,53.405359,53.404717,53.401906,53.408637,53.401699,53.402639,53.405826,53.401454,53.40238,53.402759,53.405983,53.405199,53.402163,53.400167,53.400513,53.395201,53.396015,53.395079,53.394521,53.393352,53.39605,53.39364,53.394552,53.395409,53.395869,53.396893,53.391624,53.393112,53.398409,53.395998,53.394168,53.394534,53.3925,53.391533,53.391623,53.392141,53.383778,53.384315,53.389263,53.393139,53.376865,53.37794,53.378397,53.373434,53.376168,53.37554,53.370828,53.373276,53.376227,53.369378,53.364665,53.365274,53.374285,53.366732,53.357757,53.358459,53.358297,53.357594,53.356196,53.356669,53.515444,53.501872,53.507655,53.500558,53.49043,53.494572,53.491153,53.491853,53.484426,53.487059,53.481071,53.4807,53.488799,53.488933,53.486472,53.488973,53.48865,53.487753,53.488665,53.490121,53.484042,53.477396,53.474141,53.47937,53.482461,53.481219,53.481157,53.481973,53.477915,53.476757,53.469362,53.478186,53.479488,53.455528,53.454358,53.461324,53.455742,53.454751,53.447513,53.451096,53.451718,53.450495,53.45291,53.448464,53.452046,53.45087,53.451177,53.451435,53.440114,53.458232,53.467652,53.466179,53.462888,53.466179,53.46124,53.463098,53.458175,53.463577,53.454943,53.450841,53.460983,53.463264,53.454051,53.462622,53.469854,53.448752,53.443876,53.457037,53.466338,53.449832,53.445641,53.448444,53.4482,53.448217,53.445446,53.450339,53.445836,53.445677,53.424783,53.43375,53.42869,53.426775,53.432767,53.420479,53.424487,53.424454,53.424691,53.424731,53.423342,53.417785,53.414777,53.418793,53.415148,53.396813,53.40051,53.418947,53.418848,53.408279,53.397459,53.396773,53.396747,53.397029,53.403788,53.38828,53.387542,53.386427,53.388204,53.388472,53.385217,53.383929,53.375609,53.375925,53.368324,53.359504,53.480063,53.588508,53.572884,53.587046,53.572135,53.570821,53.573423,53.555026,53.548909,53.555376,53.54527,53.544421,53.544252,53.548824,53.547308,53.54638,53.547886,53.547098,53.545748,53.549987,53.543693,53.548434,53.546187,53.549316,53.549949,53.537185,53.54106,53.54006,53.54393,53.542624,53.542421,53.534254,53.53668,53.536302,53.536789,53.536295,53.535057,53.539749,53.542578,53.540581,53.533372,53.535223,53.536566,53.531181,53.533341,53.523955,53.525887,53.521339,53.518751,53.518879,53.526079,53.522702,53.52412,53.524234,53.523509,53.524859,53.525977,53.518799,53.521037,53.518177,53.514512,53.514926,53.510023,53.507816,53.499935,53.502602,53.496564,53.495695,53.495406,53.496161,53.495533,53.50265,53.503683,53.503804,53.503385,53.49474,53.506126,53.497061,53.497763,53.488473,53.476952],\"lon\":[-2.61741,-2.177916,-2.442103,-2.077441,-2.105902,-2.1876,-2.451419,-2.468207,-2.086,-2.252312,-2.420453,-2.16924,-2.531105,-2.175615,-2.190527,-2.208827,-2.131592,-2.639855,-2.602658,-2.241918,-2.416825,-2.173398,-2.111291,-2.249605,-2.254308,-2.157285,-2.228581,-2.568048,-2.363701,-2.192645,-2.222644,-2.461778,-2.142934,-2.333077,-2.083048,-2.446894,-2.055529,-2.263174,-2.090485,-2.315545,-2.311307,-2.074578,-2.315633,-2.244094,-2.443851,-2.440369,-2.192088,-2.2339,-2.281253,-2.026176,-2.40362,-2.119291,-2.499071,-2.347257,-2.15975,-2.673488,-2.206931,-2.091984,-2.297259,-2.057781,-2.402521,-2.348308,-2.195343,-2.386663,-2.347091,-2.204811,-2.20634,-2.169534,-2.018382,-2.283656,-2.16343,-2.645327,-2.523288,-2.643972,-2.420426,-2.331017,-2.203121,-2.617926,-2.300236,-2.357021,-2.164075,-2.114191,-2.22651,-2.287465,-2.191286,-2.177961,-2.184291,-2.106121,-2.42418,-2.535307,-2.101803,-2.41684,-2.64508,-2.201388,-2.297284,-2.275817,-2.416771,-2.137132,-2.108856,-2.370192,-2.08141,-2.53606,-2.284912,-2.301417,-2.273439,-2.275804,-2.093115,-2.084554,-2.138655,-2.081355,-2.163938,-2.161089,-2.160697,-2.686488,-2.19958,-2.202462,-2.351698,-2.17936,-2.229823,-2.283111,-2.06554,-2.197466,-2.231373,-2.349558,-2.42345,-2.10477,-2.369475,-2.361958,-2.180941,-2.626585,-2.224259,-2.265007,-2.54983,-2.248836,-2.12616,-2.237752,-2.203478,-2.232638,-2.234089,-2.227313,-2.631494,-2.402356,-2.36096,-2.239045,-2.264792,-2.335103,-2.15303,-2.408879,-2.469666,-2.128916,-2.159657,-2.558079,-2.41225,-2.321646,-2.27375,-2.086495,-2.308052,-2.21983,-2.220304,-2.421336,-2.291758,-2.211693,-2.4063,-2.08309,-2.134036,-2.306701,-2.269883,-2.166661,-2.215577,-2.180121,-2.166379,-2.13354,-2.523861,-2.638793,-2.183352,-2.218185,-2.21313,-2.321901,-2.422515,-2.522884,-2.204669,-2.233251,-2.471655,-2.161437,-2.126286,-2.326028,-2.230245,-2.147947,-2.074946,-2.145185,-2.195095,-2.101565,-2.142924,-2.294791,-2.098566,-2.633796,-2.077721,-2.201123,-2.179069,-2.53282,-2.464562,-2.230645,-2.228947,-2.434304,-2.2414,-2.425812,-2.101267,-2.447733,-2.623031,-2.124266,-2.45566,-2.440059,-2.285008,-2.642967,-2.597061,-2.283641,-2.055691,-2.10102,-2.45784,-2.266638,-2.14633,-2.421226,-2.413349,-2.265559,-2.167326,-2.129685,-2.451569,-2.395885,-2.145752,-2.529842,-2.220451,-2.109578,-2.143858,-2.436899,-2.162492,-2.211798,-2.073463,-2.234085,-2.199547,-2.532457,-2.19808,-2.06576,-2.264506,-2.467724,-2.235239,-2.108943,-2.245106,-2.443836,-2.180462,-2.565885,-2.219283,-2.176282,-2.318663,-2.249679,-2.17673,-2.132591,-2.30111,-2.424443,-2.686802,-2.13609,-2.195937,-2.230034,-2.167972,-2.428563,-2.531191,-2.168708,-2.442588,-2.445531,-2.441358,-2.440922,-2.438458,-2.428446,-2.428361,-2.429102,-2.40712,-2.398298,-2.398091,-2.407259,-2.408061,-2.39971,-2.406701,-2.421829,-2.415218,-2.417642,-2.411769,-2.416574,-2.406208,-2.409612,-2.429322,-2.429037,-2.423242,-2.424956,-2.422448,-2.422101,-2.421278,-2.432535,-2.430693,-2.427564,-2.43129,-2.432989,-2.430923,-2.430315,-2.432344,-2.428376,-2.431439,-2.433207,-2.430335,-2.429767,-2.421406,-2.422803,-2.427435,-2.424788,-2.426834,-2.418869,-2.545231,-2.547178,-2.55164,-2.546691,-2.553919,-2.549365,-2.552327,-2.551784,-2.551437,-2.552514,-2.55052,-2.552867,-2.556516,-2.549874,-2.551303,-2.551824,-2.549523,-2.55436,-2.549956,-2.552298,-2.551835,-2.549186,-2.550216,-2.542611,-2.545176,-2.540408,-2.538798,-2.544151,-2.552381,-2.546446,-2.548942,-2.548044,-2.541259,-2.546027,-2.539828,-2.547225,-2.543005,-2.53723,-2.54871,-2.547276,-2.540258,-2.444791,-2.43482,-2.436246,-2.440645,-2.435381,-2.440893,-2.437435,-2.433348,-2.43306,-2.438088,-2.42817,-2.428005,-2.426542,-2.431517,-2.420999,-2.431715,-2.447834,-2.439757,-2.444901,-2.444988,-2.439646,-2.437849,-2.445138,-2.43937,-2.434134,-2.436165,-2.438119,-2.43665,-2.426374,-2.431003,-2.43131,-2.431019,-2.427716,-2.429611,-2.384915,-2.390183,-2.391213,-2.391894,-2.393229,-2.389864,-2.397882,-2.387803,-2.390868,-2.390107,-2.389879,-2.381625,-2.380125,-2.378316,-2.375729,-2.381101,-2.555316,-2.559879,-2.557438,-2.555221,-2.554087,-2.558539,-2.563294,-2.559614,-2.541215,-2.53255,-2.530309,-2.530228,-2.539227,-2.524918,-2.541747,-2.532802,-2.535947,-2.542233,-2.544397,-2.543176,-2.544181,-2.542025,-2.536475,-2.536681,-2.524666,-2.537461,-2.449238,-2.450381,-2.446283,-2.451082,-2.451316,-2.447847,-2.448031,-2.446501,-2.460706,-2.457913,-2.461571,-2.460078,-2.46132,-2.459416,-2.460304,-2.458693,-2.45986,-2.462182,-2.457081,-2.461076,-2.460579,-2.454492,-2.587158,-2.584195,-2.58056,-2.59034,-2.579791,-2.563558,-2.56033,-2.569437,-2.58025,-2.56509,-2.561458,-2.581189,-2.595515,-2.580861,-2.586964,-2.571366,-2.570363,-2.573655,-2.575445,-2.577074,-2.417135,-2.416253,-2.414675,-2.414855,-2.415039,-2.416745,-2.411081,-2.415827,-2.413451,-2.409564,-2.411392,-2.405525,-2.408398,-2.409725,-2.410089,-2.40811,-2.416472,-2.415809,-2.416262,-2.410277,-2.414992,-2.411906,-2.414722,-2.413384,-2.413505,-2.414221,-2.416589,-2.413393,-2.415007,-2.411975,-2.412703,-2.414898,-2.415615,-2.419698,-2.41629,-2.414974,-2.410471,-2.413769,-2.410464,-2.409426,-2.413272,-2.41352,-2.41132,-2.413721,-2.415403,-2.411804,-2.412336,-2.414218,-2.407015,-2.433935,-2.437526,-2.436394,-2.43683,-2.435566,-2.434048,-2.435308,-2.433291,-2.435616,-2.432411,-2.433357,-2.436986,-2.435318,-2.436099,-2.4328,-2.435487,-2.43364,-2.434524,-2.432727,-2.433775,-2.433886,-2.432243,-2.434285,-2.443061,-2.438743,-2.441551,-2.442063,-2.439289,-2.441959,-2.441256,-2.438384,-2.435938,-2.438013,-2.438181,-2.439747,-2.439908,-2.443409,-2.445333,-2.443286,-2.444539,-2.444344,-2.446442,-2.441878,-2.448885,-2.442694,-2.444819,-2.445602,-2.445089,-2.446295,-2.439461,-2.438828,-2.446158,-2.439862,-2.440165,-2.444914,-2.438906,-2.441365,-2.439807,-2.444724,-2.444591,-2.439589,-2.437416,-2.443743,-2.443707,-2.444888,-2.480289,-2.480916,-2.483105,-2.477077,-2.486644,-2.463209,-2.477497,-2.477669,-2.47742,-2.478142,-2.475376,-2.479742,-2.475782,-2.472926,-2.476273,-2.475144,-2.479738,-2.473032,-2.469479,-2.46678,-2.463746,-2.473131,-2.476668,-2.465418,-2.469909,-2.467023,-2.461424,-2.472671,-2.47364,-2.475833,-2.475449,-2.47408,-2.47585,-2.473449,-2.474383,-2.386911,-2.385923,-2.38528,-2.388658,-2.383924,-2.384454,-2.38311,-2.384639,-2.383752,-2.390559,-2.391739,-2.386679,-2.387358,-2.386118,-2.393158,-2.393379,-2.39215,-2.390951,-2.388828,-2.394327,-2.396806,-2.396352,-2.39603,-2.395085,-2.39746,-2.381596,-2.388168,-2.37944,-2.379037,-2.384067,-2.385211,-2.378351,-2.378433,-2.385314,-2.386228,-2.376148,-2.382928,-2.382908,-2.394523,-2.394364,-2.39139,-2.39811,-2.396086,-2.394335,-2.388837,-2.395255,-2.525807,-2.534724,-2.530478,-2.521667,-2.517506,-2.515941,-2.517854,-2.514241,-2.533811,-2.530842,-2.526434,-2.532132,-2.530748,-2.534503,-2.525986,-2.523797,-2.529681,-2.524076,-2.527288,-2.522939,-2.521963,-2.525487,-2.526582,-2.454913,-2.452351,-2.455162,-2.451437,-2.45247,-2.453773,-2.450912,-2.45158,-2.455293,-2.452355,-2.454198,-2.452685,-2.449071,-2.451133,-2.451353,-2.452258,-2.448469,-2.449415,-2.447879,-2.451908,-2.452697,-2.446487,-2.451349,-2.448762,-2.450514,-2.44687,-2.445146,-2.443975,-2.448325,-2.447263,-2.44361,-2.443191,-2.450556,-2.448126,-2.442178,-2.449447,-2.445887,-2.451156,-2.451003,-2.445065,-2.446597,-2.449623,-2.446735,-2.446275,-2.446315,-2.450655,-2.44646,-2.444423,-2.443288,-2.449077,-2.444995,-2.459106,-2.456023,-2.456057,-2.458526,-2.456928,-2.45219,-2.457769,-2.456532,-2.456681,-2.458303,-2.457974,-2.434062,-2.431491,-2.435529,-2.428709,-2.430354,-2.431467,-2.430866,-2.432632,-2.426974,-2.431954,-2.426408,-2.42976,-2.429523,-2.428861,-2.437222,-2.435798,-2.435835,-2.436716,-2.434389,-2.432863,-2.435623,-2.436852,-2.43953,-2.435653,-2.438278,-2.438458,-2.440868,-2.436172,-2.441049,-2.436165,-2.434386,-2.439449,-2.439721,-2.43697,-2.437285,-2.425573,-2.434412,-2.42743,-2.428047,-2.436418,-2.436816,-2.434661,-2.431311,-2.436172,-2.430623,-2.430337,-2.424212,-2.427591,-2.432896,-2.431691,-2.429282,-2.423895,-2.429946,-2.437973,-2.428606,-2.430948,-2.430705,-2.431002,-2.432297,-2.430417,-2.43114,-2.434524,-2.435886,-2.442967,-2.435599,-2.437691,-2.424751,-2.431771,-2.43081,-2.434305,-2.440737,-2.433629,-2.436577,-2.438527,-2.431524,-2.42919,-2.418386,-2.430261,-2.432199,-2.424408,-2.431094,-2.432898,-2.42772,-2.421646,-2.434677,-2.432042,-2.433387,-2.422904,-2.424097,-2.418978,-2.41494,-2.417271,-2.414099,-2.417235,-2.41757,-2.417332,-2.419799,-2.416981,-2.416382,-2.41597,-2.411819,-2.416576,-2.409117,-2.409561,-2.411661,-2.411169,-2.408068,-2.411722,-2.411469,-2.40927,-2.412854,-2.408648,-2.412859,-2.411571,-2.408059,-2.411113,-2.408149,-2.406127,-2.407058,-2.406747,-2.402792,-2.405512,-2.404982,-2.40793,-2.407423,-2.40175,-2.407791,-2.401741,-2.407602,-2.402798,-2.399475,-2.408857,-2.402157,-2.408556,-2.403621,-2.408213,-2.402425,-2.408407,-2.410093,-2.460357,-2.460255,-2.459358,-2.459691,-2.456687,-2.460024,-2.459951,-2.456523,-2.458502,-2.45982,-2.461468,-2.462994,-2.462501,-2.462401,-2.465469,-2.460869,-2.464701,-2.460852,-2.466682,-2.462129,-2.468531,-2.465099,-2.46254,-2.462841,-2.470516,-2.463465,-2.463309,-2.464672,-2.461744,-2.461105,-2.457809,-2.466109,-2.461421,-2.459644,-2.458354,-2.455494,-2.386683,-2.385196,-2.39377,-2.387453,-2.394374,-2.394687,-2.39272,-2.38605,-2.398197,-2.396743,-2.387411,-2.390169,-2.385752,-2.384498,-2.383592,-2.381993,-2.389976,-2.386033,-2.386039,-2.382303,-2.376149,-2.376316,-2.378863,-2.390104,-2.394287,-2.391179,-2.392956,-2.393801,-2.391185,-2.39046,-2.402525,-2.39134,-2.388458,-2.392595,-2.391253,-2.392245,-2.402209,-2.395606,-2.395881,-2.398578,-2.381627,-2.379373,-2.400322,-2.390029,-2.480306,-2.479496,-2.475413,-2.476049,-2.476549,-2.48114,-2.477156,-2.476325,-2.469276,-2.471331,-2.473958,-2.472509,-2.471477,-2.476917,-2.475305,-2.476377,-2.476605,-2.48515,-2.477785,-2.474129,-2.47361,-2.490735,-2.495255,-2.454169,-2.454076,-2.451071,-2.451682,-2.452542,-2.458424,-2.45411,-2.45566,-2.452215,-2.456078,-2.454286,-2.455669,-2.457378,-2.443717,-2.440712,-2.441203,-2.446901,-2.443053,-2.441122,-2.434881,-2.444917,-2.446672,-2.443018,-2.440427,-2.45058,-2.452378,-2.448752,-2.449796,-2.450411,-2.449983,-2.449654,-2.450139,-2.44762,-2.449106,-2.449921,-2.444938,-2.440246,-2.445207,-2.440332,-2.441982,-2.441282,-2.441843,-2.438433,-2.439462,-2.443073,-2.448559,-2.445266,-2.448278,-2.450268,-2.444639,-2.445874,-2.444614,-2.423449,-2.417836,-2.422025,-2.423635,-2.422078,-2.428458,-2.423852,-2.419397,-2.419213,-2.42681,-2.408957,-2.41938,-2.418437,-2.415679,-2.414322,-2.415767,-2.417742,-2.418656,-2.417692,-2.41556,-2.418978,-2.412101,-2.417013,-2.413319,-2.416351,-2.423933,-2.426546,-2.429384,-2.429769,-2.429728,-2.429537,-2.428958,-2.430205,-2.429593,-2.429613,-2.426206,-2.426415,-2.426096,-2.427173,-2.421662,-2.423897,-2.4207,-2.427854,-2.422074,-2.425131,-2.424724,-2.419473,-2.420009,-2.426928,-2.417799,-2.416659,-2.423328,-2.421595,-2.426006,-2.414743,-2.426817,-2.421343,-2.417973,-2.425182,-2.415857,-2.417946,-2.425744,-2.420707,-2.42757,-2.419563,-2.408568,-2.426796,-2.425991,-2.41959,-2.415129,-2.418239,-2.427455,-2.424874,-2.42507,-2.428343,-2.423618,-2.421857,-2.41275,-2.45362,-2.452882,-2.451593,-2.453496,-2.452937,-2.450872,-2.451221,-2.45642,-2.452379,-2.449576,-2.451579,-2.455081,-2.453112,-2.450534,-2.446126,-2.446768,-2.447874,-2.450027,-2.444974,-2.448999,-2.451628,-2.452214,-2.445234,-2.445222,-2.450676,-2.452455,-2.454148,-2.454523,-2.447343,-2.448763,-2.452987,-2.453456,-2.449287,-2.454502,-2.446418,-2.449949,-2.45117,-2.442552,-2.445109,-2.447287,-2.44183,-2.449704,-2.442641,-2.444197,-2.449761,-2.441245,-2.371263,-2.375701,-2.371132,-2.37136,-2.375352,-2.374401,-2.38037,-2.377234,-2.375888,-2.319244,-2.313009,-2.31243,-2.303499,-2.366525,-2.368962,-2.36522,-2.372528,-2.367872,-2.358196,-2.372234,-2.375468,-2.372678,-2.373057,-2.373871,-2.376962,-2.37448,-2.366474,-2.368557,-2.367962,-2.368421,-2.365144,-2.369659,-2.368802,-2.367853,-2.365485,-2.372941,-2.375371,-2.370839,-2.374722,-2.433037,-2.43617,-2.431024,-2.4338,-2.432298,-2.434422,-2.432376,-2.432033,-2.432076,-2.431239,-2.436153,-2.436148,-2.437424,-2.440193,-2.435034,-2.436085,-2.434354,-2.437717,-2.439325,-2.435466,-2.436892,-2.435888,-2.440405,-2.436079,-2.438678,-2.440865,-2.436126,-2.439971,-2.439212,-2.442493,-2.446548,-2.440257,-2.445463,-2.436442,-2.442856,-2.44054,-2.439247,-2.440121,-2.435325,-2.430554,-2.433963,-2.436625,-2.434789,-2.437974,-2.455196,-2.452881,-2.457997,-2.453476,-2.45544,-2.453162,-2.45602,-2.453907,-2.451143,-2.452684,-2.457207,-2.455662,-2.453543,-2.44992,-2.460068,-2.467365,-2.461224,-2.458019,-2.463201,-2.458937,-2.468616,-2.45176,-2.449775,-2.452019,-2.46767,-2.457716,-2.45174,-2.455705,-2.458534,-2.459789,-2.460622,-2.459895,-2.458765,-2.467195,-2.465196,-2.457447,-2.467512,-2.458098,-2.457942,-2.456213,-2.464206,-2.457381,-2.46406,-2.463559,-2.468623,-2.47134,-2.463295,-2.46769,-2.470585,-2.4633,-2.455634,-2.467191,-2.471846,-2.466088,-2.456699,-2.401133,-2.398232,-2.397271,-2.404473,-2.403355,-2.403699,-2.405453,-2.411776,-2.404123,-2.40417,-2.402896,-2.388262,-2.394454,-2.392869,-2.386965,-2.388451,-2.393777,-2.389783,-2.389789,-2.393471,-2.390783,-2.394829,-2.39274,-2.395033,-2.412393,-2.410481,-2.409999,-2.410621,-2.410157,-2.409732,-2.414748,-2.408915,-2.412913,-2.414967,-2.407936,-2.408245,-2.413919,-2.409432,-2.410176,-2.407093,-2.397869,-2.402576,-2.401248,-2.398132,-2.402632,-2.39562,-2.398237,-2.395899,-2.405126,-2.397835,-2.401272,-2.400934,-2.402407,-2.508137,-2.500867,-2.506039,-2.503684,-2.513393,-2.514976,-2.511183,-2.52076,-2.517337,-2.517079,-2.520391,-2.52178,-2.522157,-2.518714,-2.517803,-2.523082,-2.508287,-2.51205,-2.514238,-2.508564,-2.51716,-2.52071,-2.513568,-2.512057,-2.511342,-2.499035,-2.509818,-2.492878,-2.502479,-2.503333,-2.422544,-2.416233,-2.417003,-2.414716,-2.418616,-2.418228,-2.420625,-2.411631,-2.413995,-2.412854,-2.415062,-2.415258,-2.414443,-2.419277,-2.416829,-2.416048,-2.414966,-2.413746,-2.415907,-2.417539,-2.418087,-2.418744,-2.416041,-2.416893,-2.418135,-2.419641,-2.418489,-2.417757,-2.429229,-2.425367,-2.427583,-2.424704,-2.425514,-2.425791,-2.429579,-2.420206,-2.421797,-2.423017,-2.422548,-2.420411,-2.468094,-2.481928,-2.472398,-2.469785,-2.494602,-2.473806,-2.467371,-2.467271,-2.471205,-2.470154,-2.469216,-2.474514,-2.482072,-2.484194,-2.470787,-2.469406,-2.484055,-2.464876,-2.464788,-2.471447,-2.470216,-2.470271,-2.464688,-2.46866,-2.466411,-2.534272,-2.532926,-2.528189,-2.526667,-2.535546,-2.524707,-2.52458,-2.524189,-2.530472,-2.526063,-2.525681,-2.53496,-2.515196,-2.516457,-2.514543,-2.518911,-2.519172,-2.515145,-2.520682,-2.518993,-2.519074,-2.520528,-2.524059,-2.522924,-2.522628,-2.527057,-2.525908,-2.523751,-2.522891,-2.522635,-2.524651,-2.525461,-2.526941,-2.527253,-2.521627,-2.53142,-2.523941,-2.520714,-2.524428,-2.526291,-2.52273,-2.5266,-2.52546,-2.525529,-2.528245,-2.526473,-2.529843,-2.529846,-2.530832,-2.532643,-2.406507,-2.404752,-2.404439,-2.407578,-2.410231,-2.407022,-2.407202,-2.405139,-2.406442,-2.405469,-2.406064,-2.406043,-2.409132,-2.411223,-2.411891,-2.398091,-2.394184,-2.395049,-2.397738,-2.394334,-2.389652,-2.390855,-2.38994,-2.391971,-2.395212,-2.3966,-2.395845,-2.394499,-2.388603,-2.390347,-2.396957,-2.396827,-2.389922,-2.394488,-2.393717,-2.393045,-2.395585,-2.395097,-2.401263,-2.404427,-2.400161,-2.403058,-2.400966,-2.403583,-2.401908,-2.400489,-2.403099,-2.403414,-2.402925,-2.40239,-2.401039,-2.405369,-2.404146,-2.402293,-2.403229,-2.401525,-2.402618,-2.391982,-2.392105,-2.39619,-2.397109,-2.392981,-2.395217,-2.39891,-2.392753,-2.399887,-2.392769,-2.393166,-2.393209,-2.392898,-2.398281,-2.386645,-2.391096,-2.389462,-2.390394,-2.385947,-2.386154,-2.387617,-2.382268,-2.391387,-2.388551,-2.389887,-2.387967,-2.387541,-2.389061,-2.391161,-2.385391,-2.38955,-2.417907,-2.411691,-2.415355,-2.410789,-2.413013,-2.415254,-2.414489,-2.416966,-2.414911,-2.411862,-2.412843,-2.40948,-2.409465,-2.409295,-2.410831,-2.408246,-2.407707,-2.407927,-2.40519,-2.408813,-2.409683,-2.408293,-2.411397,-2.406362,-2.406642,-2.404132,-2.404533,-2.399925,-2.401213,-2.404964,-2.434889,-2.434884,-2.432081,-2.434393,-2.427324,-2.428717,-2.428186,-2.423451,-2.430165,-2.431215,-2.425268,-2.371936,-2.374778,-2.36697,-2.369621,-2.362364,-2.363984,-2.367549,-2.361201,-2.363232,-2.362859,-2.381265,-2.382416,-2.381588,-2.377061,-2.383955,-2.380015,-2.383909,-2.380538,-2.387501,-2.380671,-2.379977,-2.383791,-2.383733,-2.380561,-2.382855,-2.367467,-2.364813,-2.36717,-2.365662,-2.376666,-2.382159,-2.371575,-2.382845,-2.379008,-2.370785,-2.379085,-2.374363,-2.371872,-2.37014,-2.374562,-2.519182,-2.528875,-2.525654,-2.531343,-2.531013,-2.527251,-2.51782,-2.522283,-2.524645,-2.518239,-2.515281,-2.538343,-2.531676,-2.535163,-2.524573,-2.524755,-2.525711,-2.523266,-2.317589,-2.321551,-2.318641,-2.321662,-2.320499,-2.316955,-2.315688,-2.315767,-2.31737,-2.317526,-2.317661,-2.315386,-2.303353,-2.309912,-2.304367,-2.304377,-2.307073,-2.309125,-2.307961,-2.320891,-2.325056,-2.322578,-2.329541,-2.322545,-2.319099,-2.308306,-2.308864,-2.31026,-2.321733,-2.327177,-2.32517,-2.323633,-2.325079,-2.323283,-2.335341,-2.328695,-2.33443,-2.330743,-2.329963,-2.333353,-2.327209,-2.323992,-2.322223,-2.328574,-2.33879,-2.339144,-2.335103,-2.318706,-2.315489,-2.300115,-2.320934,-2.367073,-2.368968,-2.349798,-2.352041,-2.371713,-2.341269,-2.33973,-2.335814,-2.341219,-2.334045,-2.348999,-2.336765,-2.29859,-2.293931,-2.297396,-2.295438,-2.29554,-2.295365,-2.293092,-2.290595,-2.289763,-2.292096,-2.290838,-2.298166,-2.296711,-2.291164,-2.289845,-2.29625,-2.293448,-2.292279,-2.29695,-2.298649,-2.290835,-2.289589,-2.300697,-2.291963,-2.294617,-2.304871,-2.31005,-2.304811,-2.308202,-2.306654,-2.304861,-2.319137,-2.318664,-2.311761,-2.315334,-2.313014,-2.318498,-2.31469,-2.315675,-2.314869,-2.309138,-2.303742,-2.310318,-2.323307,-2.325867,-2.315326,-2.31276,-2.334253,-2.328435,-2.328746,-2.329246,-2.336112,-2.339297,-2.339089,-2.339437,-2.340128,-2.33896,-2.340008,-2.258138,-2.258954,-2.264019,-2.26079,-2.260038,-2.262581,-2.263785,-2.265511,-2.267516,-2.261872,-2.260933,-2.271219,-2.271513,-2.270118,-2.265514,-2.270295,-2.265099,-2.268536,-2.279716,-2.280938,-2.280186,-2.285531,-2.284556,-2.28169,-2.282767,-2.282073,-2.287325,-2.279535,-2.286784,-2.284689,-2.266716,-2.27013,-2.273451,-2.262217,-2.272369,-2.274102,-2.26901,-2.277569,-2.266326,-2.265652,-2.269919,-2.271923,-2.269188,-2.275587,-2.273266,-2.277218,-2.273004,-2.272355,-2.275522,-2.274315,-2.273464,-2.271693,-2.274164,-2.273121,-2.274975,-2.276013,-2.276221,-2.27424,-2.280556,-2.281917,-2.280467,-2.28282,-2.287332,-2.278367,-2.279999,-2.285224,-2.279184,-2.284203,-2.279686,-2.278418,-2.278479,-2.283419,-2.28067,-2.28236,-2.279039,-2.275464,-2.275039,-2.280921,-2.283701,-2.278201,-2.278784,-2.276512,-2.293242,-2.293944,-2.295159,-2.294146,-2.292287,-2.290823,-2.291666,-2.292143,-2.28961,-2.290148,-2.287801,-2.289082,-2.290628,-2.287303,-2.290593,-2.287845,-2.287957,-2.289177,-2.288706,-2.298386,-2.296162,-2.292054,-2.283747,-2.295846,-2.287315,-2.29663,-2.289377,-2.290105,-2.287507,-2.292493,-2.28382,-2.286661,-2.288905,-2.295338,-2.289005,-2.294936,-2.290883,-2.282175,-2.288904,-2.285104,-2.284796,-2.286534,-2.286761,-2.288151,-2.285384,-2.285861,-2.286236,-2.315231,-2.315661,-2.318369,-2.314442,-2.314431,-2.314735,-2.318221,-2.315732,-2.313964,-2.311564,-2.310837,-2.31841,-2.317098,-2.317084,-2.320277,-2.320271,-2.321695,-2.314503,-2.315605,-2.315282,-2.313132,-2.310235,-2.310996,-2.30926,-2.338205,-2.329244,-2.339945,-2.339441,-2.323414,-2.335563,-2.320555,-2.317895,-2.303423,-2.301225,-2.29658,-2.307896,-2.3013,-2.296133,-2.302026,-2.29539,-2.298755,-2.302139,-2.302735,-2.304539,-2.297759,-2.301126,-2.301004,-2.298881,-2.300183,-2.298087,-2.307381,-2.297144,-2.300509,-2.29545,-2.285407,-2.28742,-2.288331,-2.288311,-2.290122,-2.283696,-2.289496,-2.293243,-2.289996,-2.294139,-2.293487,-2.293916,-2.292502,-2.292976,-2.367593,-2.356162,-2.365755,-2.354675,-2.365331,-2.370754,-2.370857,-2.369544,-2.363364,-2.357369,-2.360646,-2.351796,-2.350534,-2.341381,-2.351951,-2.341077,-2.346242,-2.353942,-2.308965,-2.309661,-2.306688,-2.303678,-2.304031,-2.306283,-2.298931,-2.300449,-2.30771,-2.279327,-2.289414,-2.292103,-2.283287,-2.282417,-2.282535,-2.28577,-2.287556,-2.293631,-2.294541,-2.295605,-2.298174,-2.283701,-2.29285,-2.293474,-2.282882,-2.294021,-2.294491,-2.295922,-2.331018,-2.336818,-2.329727,-2.339033,-2.334835,-2.333982,-2.335334,-2.340542,-2.342825,-2.337598,-2.338299,-2.332381,-2.338018,-2.334541,-2.350108,-2.35044,-2.350497,-2.348066,-2.33659,-2.306018,-2.31848,-2.316921,-2.314292,-2.302333,-2.309339,-2.30857,-2.312073,-2.313387,-2.310213,-2.314181,-2.310608,-2.311689,-2.31361,-2.311202,-2.307336,-2.305404,-2.303369,-2.304824,-2.304426,-2.319012,-2.320038,-2.318315,-2.318585,-2.320635,-2.310584,-2.315977,-2.317332,-2.315472,-2.320095,-2.344218,-2.346852,-2.34444,-2.343688,-2.34636,-2.334162,-2.334628,-2.339173,-2.335586,-2.334805,-2.339155,-2.340264,-2.339975,-2.342675,-2.348369,-2.339351,-2.344114,-2.347865,-2.345733,-2.347858,-2.349226,-2.343113,-2.344838,-2.34636,-2.350057,-2.32686,-2.325154,-2.330469,-2.324695,-2.325575,-2.330709,-2.330151,-2.327782,-2.332212,-2.317942,-2.322364,-2.321858,-2.320823,-2.323282,-2.323219,-2.32245,-2.324275,-2.322652,-2.322834,-2.320774,-2.32817,-2.326926,-2.325849,-2.323167,-2.328024,-2.282731,-2.281728,-2.288222,-2.272905,-2.277255,-2.275755,-2.28214,-2.277129,-2.271337,-2.272365,-2.286036,-2.282969,-2.344609,-2.356228,-2.352412,-2.347407,-2.342197,-2.349664,-2.349724,-2.326382,-2.341747,-2.322687,-2.314898,-2.313063,-2.316619,-2.315133,-2.315982,-2.313474,-2.315642,-2.315827,-2.311495,-2.304779,-2.314457,-2.324542,-2.325448,-2.324981,-2.323012,-2.318481,-2.321711,-2.320146,-2.322147,-2.319558,-2.320541,-2.306744,-2.30753,-2.306664,-2.305819,-2.314077,-2.311736,-2.304299,-2.310987,-2.307386,-2.313346,-2.308752,-2.297553,-2.296783,-2.297021,-2.303478,-2.297144,-2.299247,-2.2983,-2.291105,-2.29687,-2.299049,-2.298661,-2.299917,-2.300757,-2.299332,-2.306207,-2.307211,-2.290625,-2.289095,-2.288108,-2.288745,-2.289644,-2.289212,-2.290044,-2.292324,-2.292961,-2.291959,-2.292964,-2.29116,-2.292023,-2.294806,-2.289542,-2.290847,-2.291864,-2.289938,-2.289143,-2.296823,-2.289008,-2.289678,-2.268753,-2.275126,-2.281313,-2.277343,-2.268975,-2.281425,-2.285704,-2.284495,-2.289477,-2.28801,-2.285964,-2.288061,-2.281989,-2.289332,-2.288022,-2.285433,-2.283749,-2.285959,-2.280561,-2.279491,-2.284315,-2.277672,-2.276982,-2.279944,-2.282176,-2.274648,-2.27161,-2.273997,-2.272641,-2.27283,-2.272492,-2.272737,-2.27533,-2.272545,-2.276695,-2.236482,-2.257652,-2.255062,-2.271351,-2.272647,-2.273961,-2.267955,-2.276967,-2.275352,-2.279415,-2.277339,-2.279178,-2.290208,-2.287543,-2.282458,-2.286691,-2.28702,-2.276547,-2.275899,-2.273198,-2.275185,-2.276338,-2.279033,-2.273118,-2.27161,-2.269374,-2.268227,-2.270168,-2.270799,-2.270363,-2.271072,-2.268979,-2.270985,-2.268309,-2.271317,-2.270422,-2.272782,-2.273104,-2.274772,-2.275594,-2.275863,-2.27854,-2.274719,-2.280301,-2.272856,-2.28322,-2.275099,-2.272989,-2.282882,-2.276653,-2.2739,-2.274387,-2.273697,-2.286544,-2.281134,-2.279825,-2.284917,-2.28191,-2.284355,-2.282224,-2.281279,-2.284768,-2.284583,-2.28625,-2.280295,-2.283057,-2.280269,-2.286972,-2.286107,-2.286876,-2.286314,-2.291719,-2.289276,-2.288842,-2.279229,-2.289626,-2.287322,-2.285584,-2.288468,-2.295361,-2.289736,-2.292663,-2.291002,-2.289411,-2.288701,-2.292075,-2.287962,-2.28828,-2.283778,-2.283812,-2.282325,-2.25422,-2.247827,-2.251695,-2.250119,-2.252827,-2.254049,-2.251721,-2.249036,-2.258825,-2.263592,-2.258625,-2.255911,-2.260749,-2.25492,-2.256358,-2.255257,-2.261878,-2.27091,-2.276291,-2.268635,-2.26985,-2.268497,-2.271582,-2.264948,-2.270391,-2.263986,-2.241839,-2.240892,-2.232573,-2.23603,-2.23152,-2.234782,-2.230462,-2.215574,-2.213369,-2.216733,-2.210157,-2.215485,-2.211547,-2.214796,-2.213395,-2.216452,-2.213914,-2.214714,-2.21813,-2.217353,-2.220791,-2.226706,-2.226075,-2.218198,-2.224023,-2.237505,-2.23512,-2.239005,-2.227987,-2.230324,-2.227936,-2.226382,-2.226755,-2.227143,-2.22834,-2.230203,-2.23035,-2.228998,-2.214498,-2.216335,-2.215594,-2.220387,-2.214298,-2.215043,-2.203522,-2.210212,-2.207438,-2.204893,-2.210174,-2.204285,-2.20794,-2.20767,-2.212194,-2.20664,-2.208245,-2.204613,-2.213285,-2.211832,-2.215954,-2.2169,-2.216763,-2.209738,-2.206091,-2.209792,-2.209787,-2.202357,-2.208666,-2.203883,-2.202014,-2.208843,-2.207683,-2.206527,-2.207734,-2.198506,-2.208263,-2.201217,-2.211181,-2.209027,-2.204092,-2.216333,-2.219299,-2.220625,-2.217984,-2.224997,-2.219996,-2.221183,-2.227932,-2.21802,-2.211985,-2.220253,-2.215923,-2.219277,-2.216502,-2.220517,-2.22103,-2.220851,-2.220898,-2.220862,-2.220415,-2.220179,-2.225602,-2.225654,-2.216949,-2.220063,-2.221024,-2.201388,-2.196007,-2.19898,-2.195218,-2.195101,-2.200663,-2.199784,-2.202111,-2.197592,-2.195763,-2.191782,-2.192551,-2.193901,-2.193638,-2.194316,-2.1939,-2.196857,-2.196868,-2.19387,-2.19177,-2.192828,-2.195691,-2.193728,-2.194547,-2.193922,-2.191742,-2.193927,-2.194799,-2.168593,-2.172182,-2.176329,-2.17368,-2.175576,-2.168694,-2.172499,-2.173316,-2.175451,-2.181614,-2.18219,-2.180829,-2.183854,-2.180931,-2.178999,-2.176083,-2.185182,-2.179031,-2.183012,-2.182444,-2.183512,-2.181957,-2.183232,-2.184155,-2.189833,-2.190127,-2.19098,-2.194034,-2.18976,-2.187236,-2.191933,-2.192093,-2.233082,-2.236745,-2.234721,-2.238453,-2.234504,-2.246684,-2.247205,-2.247343,-2.247024,-2.245533,-2.233053,-2.243433,-2.236664,-2.238452,-2.237499,-2.253694,-2.253402,-2.24557,-2.241247,-2.242581,-2.247024,-2.234849,-2.243629,-2.236727,-2.16518,-2.161597,-2.175365,-2.178158,-2.176759,-2.172586,-2.178506,-2.179436,-2.180807,-2.181461,-2.181106,-2.180565,-2.182496,-2.178979,-2.180675,-2.180061,-2.180436,-2.178269,-2.1774,-2.178276,-2.173876,-2.171663,-2.178445,-2.174384,-2.174506,-2.175396,-2.170827,-2.17767,-2.175026,-2.17644,-2.173947,-2.173253,-2.176428,-2.169838,-2.166732,-2.171547,-2.167379,-2.165128,-2.168585,-2.169167,-2.170107,-2.16641,-2.166999,-2.15919,-2.163328,-2.156042,-2.159753,-2.159191,-2.224124,-2.23355,-2.230645,-2.224842,-2.225957,-2.231325,-2.21206,-2.213855,-2.21262,-2.214314,-2.21286,-2.214243,-2.213066,-2.210836,-2.214685,-2.21601,-2.215424,-2.21244,-2.212442,-2.214835,-2.211576,-2.211432,-2.218643,-2.216575,-2.216898,-2.217356,-2.219269,-2.216651,-2.216062,-2.218679,-2.21624,-2.219508,-2.215443,-2.217917,-2.206872,-2.2085,-2.203761,-2.205926,-2.21061,-2.206035,-2.20327,-2.204083,-2.205422,-2.205962,-2.212152,-2.199066,-2.201795,-2.203454,-2.201027,-2.203276,-2.20051,-2.201407,-2.196159,-2.201841,-2.198555,-2.198391,-2.196615,-2.204193,-2.198425,-2.198263,-2.199002,-2.198651,-2.201548,-2.201387,-2.20141,-2.201624,-2.200892,-2.199103,-2.197066,-2.199626,-2.199558,-2.198005,-2.199936,-2.201969,-2.190868,-2.188804,-2.192049,-2.192946,-2.192467,-2.193459,-2.188384,-2.194393,-2.188566,-2.187765,-2.187369,-2.195034,-2.194715,-2.194841,-2.193516,-2.194126,-2.197717,-2.194006,-2.193076,-2.194617,-2.192789,-2.189156,-2.188105,-2.19418,-2.193762,-2.241592,-2.239991,-2.237435,-2.239746,-2.239587,-2.236205,-2.226208,-2.22848,-2.229094,-2.234809,-2.233559,-2.227219,-2.227269,-2.230894,-2.22673,-2.230575,-2.230698,-2.240219,-2.240227,-2.238288,-2.24057,-2.242842,-2.239442,-2.238013,-2.249858,-2.246798,-2.242944,-2.242404,-2.251492,-2.243275,-2.244206,-2.242888,-2.250147,-2.240977,-2.243572,-2.243504,-2.241046,-2.245289,-2.252039,-2.237604,-2.241626,-2.236894,-2.234854,-2.236172,-2.239282,-2.238293,-2.238468,-2.236107,-2.234187,-2.237616,-2.22971,-2.230353,-2.229521,-2.232855,-2.226601,-2.235179,-2.236116,-2.233234,-2.224534,-2.230896,-2.233117,-2.20534,-2.207274,-2.207322,-2.205148,-2.206537,-2.209502,-2.205576,-2.208208,-2.209284,-2.199023,-2.205764,-2.209809,-2.204438,-2.209051,-2.20878,-2.208649,-2.20779,-2.205754,-2.206671,-2.216677,-2.217558,-2.216353,-2.213717,-2.225107,-2.215589,-2.220208,-2.224601,-2.219266,-2.217095,-2.218621,-2.213124,-2.218361,-2.212376,-2.213973,-2.22027,-2.213721,-2.216502,-2.217634,-2.206348,-2.205472,-2.202148,-2.205347,-2.204486,-2.203554,-2.201677,-2.200661,-2.207588,-2.204885,-2.204582,-2.202123,-2.201487,-2.203133,-2.204278,-2.201854,-2.206693,-2.204886,-2.203371,-2.188239,-2.192438,-2.195216,-2.188781,-2.192433,-2.200529,-2.200407,-2.194075,-2.194164,-2.199558,-2.194421,-2.1908,-2.192955,-2.191248,-2.19834,-2.210244,-2.212673,-2.205842,-2.21186,-2.209356,-2.216253,-2.210957,-2.215239,-2.214802,-2.21248,-2.213474,-2.212061,-2.214574,-2.211158,-2.214141,-2.212577,-2.212802,-2.209172,-2.216386,-2.217715,-2.220386,-2.21727,-2.219061,-2.217596,-2.215808,-2.218839,-2.216439,-2.218981,-2.215567,-2.218594,-2.217342,-2.218939,-2.21369,-2.215725,-2.181351,-2.177583,-2.178302,-2.184488,-2.183592,-2.182553,-2.186192,-2.188753,-2.18903,-2.180311,-2.189462,-2.193454,-2.183327,-2.184259,-2.186558,-2.176423,-2.179777,-2.188398,-2.187399,-2.175083,-2.191458,-2.20111,-2.196941,-2.188283,-2.195291,-2.188851,-2.19353,-2.200751,-2.191545,-2.211024,-2.184198,-2.187169,-2.207175,-2.207442,-2.201046,-2.18669,-2.205964,-2.191168,-2.185718,-2.197848,-2.19022,-2.171463,-2.176871,-2.171869,-2.17015,-2.172821,-2.174021,-2.174129,-2.175679,-2.18172,-2.178984,-2.179926,-2.177797,-2.174,-2.17955,-2.175397,-2.17803,-2.179021,-2.17694,-2.180634,-2.175362,-2.173156,-2.173139,-2.17519,-2.173377,-2.172006,-2.170685,-2.16628,-2.16833,-2.166088,-2.168697,-2.165383,-2.168747,-2.165556,-2.1669,-2.196017,-2.196459,-2.194365,-2.19648,-2.180959,-2.179842,-2.183625,-2.177967,-2.172283,-2.172154,-2.178592,-2.176926,-2.175157,-2.176609,-2.174407,-2.175794,-2.169644,-2.169561,-2.171009,-2.172532,-2.167567,-2.16927,-2.167792,-2.174907,-2.167598,-2.174238,-2.175816,-2.176799,-2.176349,-2.168686,-2.171242,-2.17669,-2.175837,-2.182847,-2.176923,-2.175921,-2.171359,-2.171512,-2.174266,-2.181985,-2.185923,-2.177143,-2.179911,-2.178417,-2.181528,-2.173162,-2.178308,-2.179861,-2.175531,-2.172955,-2.182196,-2.173783,-2.177448,-2.184254,-2.181914,-2.186482,-2.180665,-2.181146,-2.18164,-2.185203,-2.177075,-2.176176,-2.182691,-2.184111,-2.188341,-2.183197,-2.21189,-2.216455,-2.217185,-2.212854,-2.219708,-2.21559,-2.216227,-2.213137,-2.216507,-2.215287,-2.215666,-2.211566,-2.210755,-2.212929,-2.217212,-2.217175,-2.208489,-2.210183,-2.210599,-2.207221,-2.212559,-2.214616,-2.206354,-2.213689,-2.212476,-2.212127,-2.212927,-2.20694,-2.207194,-2.216109,-2.214499,-2.203445,-2.224182,-2.220329,-2.220182,-2.22034,-2.218612,-2.219841,-2.221569,-2.219093,-2.222134,-2.217456,-2.221471,-2.219905,-2.219461,-2.220283,-2.218058,-2.218877,-2.21599,-2.219611,-2.212104,-2.20732,-2.207505,-2.211281,-2.204961,-2.213591,-2.206065,-2.211452,-2.21051,-2.207765,-2.215478,-2.21736,-2.211438,-2.215826,-2.206481,-2.212863,-2.21746,-2.218587,-2.210591,-2.213625,-2.218167,-2.217984,-2.214098,-2.206755,-2.211971,-2.209369,-2.185033,-2.186018,-2.189045,-2.185181,-2.183317,-2.183303,-2.186735,-2.18814,-2.178323,-2.183756,-2.18698,-2.202975,-2.199408,-2.202982,-2.195845,-2.203521,-2.202468,-2.205547,-2.20791,-2.206856,-2.209389,-2.206451,-2.202735,-2.208933,-2.198188,-2.204544,-2.19938,-2.203023,-2.193308,-2.187321,-2.181869,-2.196462,-2.182199,-2.192857,-2.182233,-2.187232,-2.177885,-2.184787,-2.176854,-2.188683,-2.191607,-2.191251,-2.190972,-2.179618,-2.179578,-2.180865,-2.177609,-2.176299,-2.176589,-2.177008,-2.174881,-2.177243,-2.173291,-2.175395,-2.176408,-2.187355,-2.187199,-2.196095,-2.186987,-2.194113,-2.202324,-2.187197,-2.198139,-2.198331,-2.2056,-2.190073,-2.19862,-2.186491,-2.203593,-2.197366,-2.202792,-2.16736,-2.17345,-2.166681,-2.173543,-2.170868,-2.169857,-2.167615,-2.176953,-2.169122,-2.168216,-2.1678,-2.169105,-2.17089,-2.16801,-2.172452,-2.168643,-2.166439,-2.167968,-2.172103,-2.168143,-2.167411,-2.17007,-2.171703,-2.173718,-2.172425,-2.176806,-2.175356,-2.171352,-2.173906,-2.17863,-2.173944,-2.175459,-2.178663,-2.172846,-2.173317,-2.170877,-2.174237,-2.173131,-2.166794,-2.164439,-2.168517,-2.170064,-2.167545,-2.1659,-2.171444,-2.169535,-2.171628,-2.172014,-2.166112,-2.171566,-2.158643,-2.158223,-2.153823,-2.161854,-2.151909,-2.162643,-2.153494,-2.159121,-2.15912,-2.162695,-2.160174,-2.158785,-2.162157,-2.154966,-2.170882,-2.162587,-2.214687,-2.207592,-2.21163,-2.214852,-2.206941,-2.204746,-2.204999,-2.215153,-2.214269,-2.213228,-2.210819,-2.209627,-2.205981,-2.206316,-2.220606,-2.231356,-2.22577,-2.2305,-2.216884,-2.222837,-2.221974,-2.226115,-2.226303,-2.22131,-2.222884,-2.222829,-2.220301,-2.211915,-2.212592,-2.209329,-2.218502,-2.214346,-2.216796,-2.217077,-2.216117,-2.22656,-2.220324,-2.227546,-2.22895,-2.222962,-2.228523,-2.221056,-2.2204,-2.224462,-2.226357,-2.218909,-2.222875,-2.218352,-2.22958,-2.222289,-2.226639,-2.224549,-2.223713,-2.237926,-2.230928,-2.232363,-2.232313,-2.230238,-2.23264,-2.249953,-2.245437,-2.250024,-2.249427,-2.249618,-2.249819,-2.251455,-2.252142,-2.251511,-2.229329,-2.236943,-2.235532,-2.24017,-2.233372,-2.240277,-2.241217,-2.239425,-2.241119,-2.232372,-2.242819,-2.238898,-2.240518,-2.241318,-2.241758,-2.242734,-2.243283,-2.241919,-2.242083,-2.256187,-2.25269,-2.257226,-2.252894,-2.251494,-2.255196,-2.250775,-2.253475,-2.259537,-2.256708,-2.258648,-2.254457,-2.250738,-2.255359,-2.197395,-2.195313,-2.190869,-2.198294,-2.196499,-2.201214,-2.190761,-2.196468,-2.193408,-2.201224,-2.193111,-2.181217,-2.185584,-2.192907,-2.177251,-2.191665,-2.18383,-2.182679,-2.175169,-2.185281,-2.18836,-2.184842,-2.179872,-2.18684,-2.186597,-2.194467,-2.20101,-2.198462,-2.201209,-2.19058,-2.203379,-2.192582,-2.196587,-2.196659,-2.196319,-2.194625,-2.198884,-2.188461,-2.188755,-2.195311,-2.1939,-2.18656,-2.193484,-2.183749,-2.193257,-2.195482,-2.193631,-2.191857,-2.194988,-2.190352,-2.204879,-2.20986,-2.202505,-2.204509,-2.205348,-2.205762,-2.205473,-2.208344,-2.20651,-2.207259,-2.202696,-2.156278,-2.157969,-2.159379,-2.160593,-2.159507,-2.161219,-2.159685,-2.158954,-2.161254,-2.161696,-2.161121,-2.163811,-2.15702,-2.157547,-2.163295,-2.163245,-2.159132,-2.160414,-2.155596,-2.156333,-2.156186,-2.159915,-2.16164,-2.1582,-2.16199,-2.166496,-2.166468,-2.166991,-2.168081,-2.167361,-2.167761,-2.167661,-2.166638,-2.169783,-2.165493,-2.16838,-2.166535,-2.161497,-2.159309,-2.158299,-2.158875,-2.161996,-2.166463,-2.16371,-2.15123,-2.159523,-2.16415,-2.159895,-2.157519,-2.160802,-2.163201,-2.163998,-2.15809,-2.155742,-2.160104,-2.162807,-2.160038,-2.160566,-2.207582,-2.20812,-2.207031,-2.207585,-2.207244,-2.209819,-2.210953,-2.204718,-2.203711,-2.210497,-2.212992,-2.214397,-2.216881,-2.213282,-2.215044,-2.215706,-2.21601,-2.215049,-2.21918,-2.216293,-2.213672,-2.203763,-2.207588,-2.20911,-2.211164,-2.210119,-2.211483,-2.211763,-2.209313,-2.210928,-2.2085,-2.205782,-2.205982,-2.201569,-2.202267,-2.200436,-2.203877,-2.20289,-2.203036,-2.203109,-2.2164,-2.221743,-2.215959,-2.214946,-2.221406,-2.217314,-2.215475,-2.223958,-2.219182,-2.212399,-2.211192,-2.205453,-2.221183,-2.207142,-2.21064,-2.213601,-2.211533,-2.220323,-2.178064,-2.177029,-2.180163,-2.177579,-2.180336,-2.175004,-2.178856,-2.178061,-2.174594,-2.172891,-2.173305,-2.181045,-2.172313,-2.165964,-2.169758,-2.171106,-2.172207,-2.169213,-2.171647,-2.172689,-2.171383,-2.168314,-2.172051,-2.168714,-2.174582,-2.172546,-2.164755,-2.171808,-2.171009,-2.165689,-2.172794,-2.169744,-2.17088,-2.173283,-2.173602,-2.165266,-2.168949,-2.175156,-2.169662,-2.17324,-2.170475,-2.183707,-2.182029,-2.184553,-2.187599,-2.182953,-2.188091,-2.183872,-2.190103,-2.18074,-2.181075,-2.178575,-2.180513,-2.180937,-2.177082,-2.177427,-2.177941,-2.176328,-2.175471,-2.180209,-2.175737,-2.176146,-2.175467,-2.182374,-2.179265,-2.180295,-2.241562,-2.246009,-2.242108,-2.244186,-2.245044,-2.243509,-2.239253,-2.241215,-2.240681,-2.242532,-2.245788,-2.239037,-2.25195,-2.257791,-2.253076,-2.250532,-2.252354,-2.256113,-2.25508,-2.256185,-2.255333,-2.258413,-2.252886,-2.256698,-2.257207,-2.245969,-2.244025,-2.238596,-2.238635,-2.247878,-2.238945,-2.247975,-2.250219,-2.249668,-2.247149,-2.247669,-2.246741,-2.247422,-2.248508,-2.243268,-2.239239,-2.247049,-2.237967,-2.247004,-2.246898,-2.245629,-2.24371,-2.242801,-2.238913,-2.23915,-2.239037,-2.233575,-2.23069,-2.231601,-2.239095,-2.234105,-2.235688,-2.235753,-2.232307,-2.230613,-2.23243,-2.236784,-2.235819,-2.234536,-2.234495,-2.235455,-2.233249,-2.231535,-2.230753,-2.233241,-2.230766,-2.232457,-2.230765,-2.237265,-2.23097,-2.233254,-2.234447,-2.22718,-2.226176,-2.229037,-2.231778,-2.23711,-2.230152,-2.228329,-2.234512,-2.230888,-2.230807,-2.229232,-2.229462,-2.228051,-2.226701,-2.229458,-2.226589,-2.227632,-2.22796,-2.22921,-2.229498,-2.22386,-2.226118,-2.22459,-2.225901,-2.222731,-2.229262,-2.225314,-2.227782,-2.225546,-2.224854,-2.224787,-2.223712,-2.225209,-2.225166,-2.203284,-2.20444,-2.207785,-2.205376,-2.208699,-2.205271,-2.205463,-2.208502,-2.20167,-2.214856,-2.215002,-2.21605,-2.21798,-2.225621,-2.221857,-2.222438,-2.222369,-2.227238,-2.219437,-2.224831,-2.224465,-2.225879,-2.217049,-2.224761,-2.220551,-2.220957,-2.216103,-2.214115,-2.215471,-2.224142,-2.218233,-2.214722,-2.219763,-2.218599,-2.219958,-2.217429,-2.219207,-2.216919,-2.205549,-2.208712,-2.208839,-2.205229,-2.206523,-2.204999,-2.187613,-2.191193,-2.187049,-2.191023,-2.189208,-2.19109,-2.189535,-2.190844,-2.189608,-2.186987,-2.188416,-2.188673,-2.190791,-2.188403,-2.190099,-2.188994,-2.188775,-2.190211,-2.186182,-2.182859,-2.18709,-2.184845,-2.185598,-2.190152,-2.182589,-2.17669,-2.177529,-2.18238,-2.178934,-2.179581,-2.178836,-2.181173,-2.179621,-2.180663,-2.175603,-2.178768,-2.176817,-2.178324,-2.192596,-2.195425,-2.19383,-2.190942,-2.191701,-2.191695,-2.194077,-2.194912,-2.194805,-2.191519,-2.190476,-2.194274,-2.193849,-2.198112,-2.200236,-2.198584,-2.195653,-2.198295,-2.199111,-2.198445,-2.196905,-2.199605,-2.193628,-2.19782,-2.261584,-2.254912,-2.261455,-2.260885,-2.259009,-2.257422,-2.262492,-2.268917,-2.270372,-2.26607,-2.270477,-2.266549,-2.269839,-2.269202,-2.265333,-2.265869,-2.264234,-2.266538,-2.261468,-2.262703,-2.261196,-2.265331,-2.26506,-2.262094,-2.263858,-2.254499,-2.254984,-2.252179,-2.254768,-2.254887,-2.26089,-2.258846,-2.258573,-2.25491,-2.260037,-2.283426,-2.277145,-2.281643,-2.276842,-2.281618,-2.278526,-2.280839,-2.283371,-2.284396,-2.285615,-2.28187,-2.280558,-2.273377,-2.275496,-2.264188,-2.273489,-2.239448,-2.237354,-2.237639,-2.241066,-2.237781,-2.240217,-2.238167,-2.238118,-2.252723,-2.254365,-2.253151,-2.249003,-2.254947,-2.254582,-2.255083,-2.231459,-2.233265,-2.234368,-2.230222,-2.2339,-2.231586,-2.250244,-2.255215,-2.253214,-2.256679,-2.247594,-2.242015,-2.241931,-2.242048,-2.243242,-2.241253,-2.240261,-2.192862,-2.191669,-2.196661,-2.1977,-2.197995,-2.197889,-2.196561,-2.193846,-2.199267,-2.196985,-2.194647,-2.190522,-2.186206,-2.186875,-2.183486,-2.188838,-2.182345,-2.181238,-2.189936,-2.188909,-2.187257,-2.187399,-2.187621,-2.191086,-2.193237,-2.194335,-2.191399,-2.189977,-2.18829,-2.188983,-2.190741,-2.190566,-2.187891,-2.18836,-2.178827,-2.182681,-2.18622,-2.183271,-2.186477,-2.180784,-2.185458,-2.220473,-2.219124,-2.220074,-2.229637,-2.231125,-2.232238,-2.221729,-2.230818,-2.216327,-2.22283,-2.22099,-2.219936,-2.218628,-2.216623,-2.217425,-2.221209,-2.220581,-2.22224,-2.224479,-2.225641,-2.227385,-2.225391,-2.22322,-2.22281,-2.222606,-2.20223,-2.2058,-2.200953,-2.204264,-2.199353,-2.198798,-2.198321,-2.202919,-2.20905,-2.209702,-2.213268,-2.209097,-2.212394,-2.21432,-2.273761,-2.273448,-2.27255,-2.273245,-2.272765,-2.275443,-2.275663,-2.269212,-2.272348,-2.266766,-2.2672,-2.270768,-2.275133,-2.272871,-2.275525,-2.274796,-2.257043,-2.261936,-2.259611,-2.26236,-2.263403,-2.265856,-2.271915,-2.265079,-2.269749,-2.269573,-2.203706,-2.207085,-2.204599,-2.204737,-2.208603,-2.205754,-2.196744,-2.198733,-2.196662,-2.202662,-2.184382,-2.181106,-2.181012,-2.186315,-2.180336,-2.184577,-2.191169,-2.186864,-2.19229,-2.201065,-2.206455,-2.205082,-2.195174,-2.200112,-2.20291,-2.202158,-2.195883,-2.199585,-2.196731,-2.238018,-2.238446,-2.232255,-2.232669,-2.235576,-2.23959,-2.244148,-2.246894,-2.241355,-2.239216,-2.246444,-2.243277,-2.245449,-2.240967,-2.243546,-2.240003,-2.241091,-2.242654,-2.244033,-2.231523,-2.227933,-2.230653,-2.229405,-2.228785,-2.229489,-2.228832,-2.229599,-2.235992,-2.233716,-2.242427,-2.242436,-2.251541,-2.237979,-2.243194,-2.245897,-2.260743,-2.24242,-2.239515,-2.243418,-2.242143,-2.220152,-2.216862,-2.214266,-2.219269,-2.214804,-2.218621,-2.219105,-2.220101,-2.220938,-2.221492,-2.218538,-2.219696,-2.213091,-2.212672,-2.215697,-2.2079,-2.211198,-2.211816,-2.209901,-2.208438,-2.210924,-2.210164,-2.211291,-2.211233,-2.213066,-2.209759,-2.21169,-2.207246,-2.210944,-2.216145,-2.214762,-2.21794,-2.212928,-2.214639,-2.213656,-2.218933,-2.215038,-2.216234,-2.213135,-2.269846,-2.268354,-2.271956,-2.271943,-2.276875,-2.269298,-2.268466,-2.272758,-2.278113,-2.280962,-2.277564,-2.280245,-2.278318,-2.278627,-2.27818,-2.284192,-2.286727,-2.278645,-2.277849,-2.277489,-2.277662,-2.229997,-2.234439,-2.22881,-2.235815,-2.22809,-2.240663,-2.231411,-2.229803,-2.230311,-2.231674,-2.233477,-2.239802,-2.237435,-2.23701,-2.23687,-2.236902,-2.239346,-2.234859,-2.233036,-2.232472,-2.228718,-2.232508,-2.235089,-2.229815,-2.236346,-2.236169,-2.233835,-2.233935,-2.231723,-2.231796,-2.23162,-2.231106,-2.237943,-2.24224,-2.239988,-2.241259,-2.238791,-2.266219,-2.259012,-2.259475,-2.257743,-2.265101,-2.257263,-2.260192,-2.255537,-2.256937,-2.258803,-2.258483,-2.259221,-2.243707,-2.241744,-2.247847,-2.244133,-2.246619,-2.244499,-2.249377,-2.242057,-2.244419,-2.241453,-2.241683,-2.242747,-2.24238,-2.244743,-2.246243,-2.246553,-2.246576,-2.217241,-2.213908,-2.213029,-2.208703,-2.215401,-2.214777,-2.215614,-2.209335,-2.210769,-2.22568,-2.226482,-2.227829,-2.22345,-2.227294,-2.223529,-2.224496,-2.224947,-2.227783,-2.228436,-2.227548,-2.220487,-2.224524,-2.22342,-2.225335,-2.225705,-2.221903,-2.227625,-2.223536,-2.218358,-2.219696,-2.22342,-2.219435,-2.219767,-2.220444,-2.219025,-2.221424,-2.220132,-2.220154,-2.219227,-2.20399,-2.200409,-2.201621,-2.203247,-2.203185,-2.206903,-2.202011,-2.207305,-2.208761,-2.207956,-2.207485,-2.207674,-2.206803,-2.206032,-2.207915,-2.206644,-2.208673,-2.209729,-2.193538,-2.197042,-2.19502,-2.198301,-2.199336,-2.214543,-2.215176,-2.212456,-2.21236,-2.21391,-2.215308,-2.215447,-2.214966,-2.211141,-2.207782,-2.20839,-2.206393,-2.208802,-2.210026,-2.205878,-2.208426,-2.206017,-2.205872,-2.211121,-2.209703,-2.262047,-2.263733,-2.26096,-2.264917,-2.263744,-2.262561,-2.265318,-2.264843,-2.245562,-2.244669,-2.247021,-2.246101,-2.247127,-2.258377,-2.25701,-2.256902,-2.257511,-2.256228,-2.256218,-2.256659,-2.252813,-2.263335,-2.260408,-2.263835,-2.260962,-2.233047,-2.234968,-2.237814,-2.239739,-2.236532,-2.236824,-2.23634,-2.244816,-2.244545,-2.236272,-2.235056,-2.241651,-2.222883,-2.230307,-2.226259,-2.225969,-2.222063,-2.22077,-2.224011,-2.22402,-2.221696,-2.220791,-2.224212,-2.223459,-2.232216,-2.22995,-2.230345,-2.228145,-2.232134,-2.233622,-2.229746,-2.230491,-2.225408,-2.230323,-2.227764,-2.233744,-2.225207,-2.23019,-2.233762,-2.235471,-2.237066,-2.237073,-2.238283,-2.234717,-2.23954,-2.233483,-2.236457,-2.232346,-2.283038,-2.28461,-2.286309,-2.292297,-2.293645,-2.291581,-2.289022,-2.295933,-2.296331,-2.29388,-2.297708,-2.295916,-2.294413,-2.289216,-2.293119,-2.292301,-2.293456,-2.289307,-2.270897,-2.274878,-2.273992,-2.274613,-2.275823,-2.27922,-2.28045,-2.278918,-2.278959,-2.276802,-2.279443,-2.277595,-2.285774,-2.273257,-2.275915,-2.283891,-2.287301,-2.285787,-2.282146,-2.28445,-2.284172,-2.285018,-2.278618,-2.285947,-2.28782,-2.282047,-2.280769,-2.219535,-2.211847,-2.215425,-2.218622,-2.216611,-2.218904,-2.225565,-2.217111,-2.226542,-2.223003,-2.229236,-2.225993,-2.228938,-2.232847,-2.227439,-2.228922,-2.230639,-2.220723,-2.220796,-2.222985,-2.224444,-2.226175,-2.222268,-2.249735,-2.251581,-2.252627,-2.252099,-2.251029,-2.251503,-2.268729,-2.263377,-2.257746,-2.260767,-2.263477,-2.259934,-2.258952,-2.265121,-2.258435,-2.26181,-2.254794,-2.255941,-2.254095,-2.257124,-2.256414,-2.264313,-2.266247,-2.264679,-2.26093,-2.263678,-2.262393,-2.296031,-2.298472,-2.301396,-2.307191,-2.305434,-2.303196,-2.304233,-2.305432,-2.306785,-2.308053,-2.302474,-2.303918,-2.305349,-2.305999,-2.302274,-2.305385,-2.303638,-2.305701,-2.30403,-2.302122,-2.301741,-2.302816,-2.304147,-2.307641,-2.306486,-2.304623,-2.304713,-2.316964,-2.313783,-2.311932,-2.308796,-2.301104,-2.29818,-2.302951,-2.302064,-2.300326,-2.301817,-2.291595,-2.295069,-2.300338,-2.294526,-2.286795,-2.282567,-2.282936,-2.288711,-2.290255,-2.287549,-2.278095,-2.284595,-2.280565,-2.285155,-2.278234,-2.277572,-2.278817,-2.276687,-2.280467,-2.278692,-2.281636,-2.281389,-2.274565,-2.276171,-2.27651,-2.27563,-2.270978,-2.275587,-2.274084,-2.276973,-2.270889,-2.279398,-2.281249,-2.282293,-2.279279,-2.274371,-2.269713,-2.285921,-2.290477,-2.287,-2.293403,-2.292781,-2.294347,-2.292319,-2.288428,-2.296903,-2.285088,-2.289789,-2.287745,-2.265483,-2.265628,-2.259077,-2.264114,-2.263949,-2.260098,-2.256421,-2.258151,-2.258319,-2.260013,-2.261472,-2.257565,-2.259384,-2.257284,-2.263189,-2.256212,-2.258414,-2.257988,-2.259565,-2.260784,-2.260598,-2.257433,-2.254964,-2.253361,-2.250644,-2.25424,-2.250594,-2.253544,-2.250646,-2.249919,-2.25426,-2.252189,-2.248929,-2.253896,-2.248336,-2.248008,-2.255517,-2.254954,-2.250295,-2.252687,-2.250746,-2.253488,-2.255545,-2.249932,-2.253275,-2.253632,-2.252645,-2.267155,-2.265089,-2.269397,-2.263853,-2.262952,-2.266101,-2.262748,-2.264776,-2.268589,-2.267562,-2.264494,-2.271554,-2.274291,-2.268092,-2.269416,-2.270617,-2.268176,-2.270253,-2.269421,-2.273425,-2.267394,-2.275478,-2.267824,-2.270981,-2.272922,-2.271614,-2.267236,-2.267446,-2.266494,-2.270204,-2.260811,-2.265463,-2.263043,-2.265365,-2.262974,-2.262274,-2.26395,-2.264779,-2.25868,-2.257023,-2.264905,-2.256908,-2.258433,-2.261645,-2.258481,-2.255881,-2.259119,-2.251408,-2.259164,-2.254545,-2.251165,-2.254551,-2.284851,-2.287916,-2.289732,-2.283424,-2.284638,-2.279874,-2.285099,-2.287323,-2.295042,-2.284664,-2.288433,-2.29299,-2.287386,-2.288119,-2.287863,-2.282227,-2.282935,-2.278001,-2.278871,-2.2817,-2.281933,-2.281739,-2.281719,-2.287923,-2.290524,-2.284731,-2.285614,-2.285024,-2.286375,-2.283355,-2.289418,-2.284883,-2.280606,-2.267234,-2.276802,-2.277629,-2.276642,-2.281901,-2.26807,-2.269162,-2.271772,-2.248769,-2.247439,-2.249062,-2.249791,-2.251171,-2.24482,-2.249352,-2.249176,-2.24519,-2.245364,-2.249049,-2.246049,-2.254061,-2.252804,-2.24859,-2.251051,-2.245335,-2.248251,-2.246333,-2.254875,-2.251706,-2.253912,-2.250128,-2.241257,-2.252267,-2.251138,-2.257488,-2.253991,-2.239376,-2.256126,-2.262397,-2.265519,-2.262676,-2.258936,-2.261228,-2.266072,-2.269268,-2.268328,-2.2661,-2.25956,-2.260556,-2.264084,-2.265585,-2.268043,-2.264334,-2.260478,-2.261439,-2.259564,-2.264467,-2.27667,-2.26737,-2.271398,-2.268679,-2.267872,-2.269001,-2.266231,-2.279064,-2.271671,-2.272181,-2.274244,-2.277561,-2.276646,-2.274076,-2.271964,-2.279048,-2.272743,-2.269834,-2.27147,-2.27149,-2.273324,-2.272684,-2.279101,-2.264196,-2.263733,-2.258621,-2.261486,-2.256865,-2.254152,-2.224193,-2.22326,-2.219369,-2.222249,-2.221428,-2.219295,-2.225882,-2.22204,-2.22361,-2.220951,-2.233165,-2.230681,-2.23356,-2.226403,-2.22689,-2.227718,-2.228284,-2.225428,-2.234703,-2.238961,-2.246198,-2.242472,-2.242612,-2.244813,-2.244836,-2.241791,-2.24559,-2.245897,-2.243605,-2.242791,-2.240835,-2.244974,-2.246846,-2.249391,-2.249748,-2.244064,-2.242853,-2.246568,-2.242898,-2.247819,-2.247053,-2.250133,-2.248763,-2.240549,-2.25189,-2.244868,-2.247786,-2.247953,-2.247578,-2.248958,-2.244338,-2.249179,-2.238253,-2.244353,-2.243924,-2.238231,-2.244888,-2.247719,-2.105922,-2.11041,-2.106542,-2.110087,-2.241378,-2.239367,-2.245347,-2.247632,-2.245966,-2.245646,-2.242089,-2.233701,-2.236454,-2.237554,-2.237588,-2.237477,-2.238001,-2.240007,-2.237895,-2.235266,-2.237362,-2.237502,-2.237737,-2.236012,-2.234383,-2.234919,-2.233507,-2.235328,-2.234987,-2.234176,-2.236884,-2.237576,-2.235465,-2.234833,-2.235481,-2.237536,-2.242148,-2.242181,-2.241188,-2.243326,-2.23305,-2.241787,-2.235083,-2.238757,-2.237782,-2.240768,-2.23463,-2.239533,-2.235357,-2.238683,-2.234929,-2.241188,-2.236424,-2.234403,-2.241041,-2.236975,-2.241182,-2.233876,-2.239976,-2.236749,-2.24105,-2.239231,-2.236952,-2.234066,-2.23404,-2.232762,-2.2334,-2.237712,-2.231428,-2.239073,-2.239655,-2.237529,-2.236781,-2.232396,-2.228667,-2.234025,-2.232539,-2.23236,-2.231907,-2.230194,-2.233725,-2.231791,-2.233093,-2.231052,-2.229264,-2.226937,-2.232738,-2.229531,-2.231376,-2.228726,-2.231003,-2.231546,-2.231716,-2.231704,-2.228903,-2.231039,-2.228726,-2.224524,-2.221516,-2.222959,-2.22919,-2.227263,-2.222606,-2.22726,-2.221588,-2.226934,-2.220619,-2.223755,-2.237155,-2.23616,-2.239602,-2.237643,-2.238113,-2.238824,-2.236756,-2.240551,-2.237449,-2.240464,-2.241615,-2.239455,-2.243053,-2.23916,-2.240947,-2.227618,-2.226193,-2.23825,-2.235081,-2.237148,-2.2396,-2.239165,-2.22551,-2.221423,-2.224771,-2.219587,-2.221302,-2.232784,-2.235497,-2.223488,-2.232369,-2.228633,-2.224793,-2.224377,-2.221574,-2.231851,-2.231383,-2.224921,-2.247711,-2.237875,-2.249707,-2.242705,-2.239005,-2.243884,-2.238709,-2.247432,-2.242827,-2.243761,-2.249066,-2.249933,-2.250292,-2.238727,-2.243416,-2.242158,-2.240805,-2.241016,-2.239608,-2.239569,-2.239658,-2.247436,-2.242736,-2.24572,-2.246913,-2.244721,-2.245588,-2.2442,-2.245392,-2.243599,-2.245772,-2.245386,-2.248182,-2.243648,-2.243985,-2.238818,-2.237792,-2.242094,-2.242822,-2.241995,-2.234942,-2.237741,-2.243775,-2.236355,-2.245837,-2.240274,-2.242805,-2.242394,-2.244302,-2.244094,-2.23803,-2.242905,-2.242811,-2.246747,-2.243693,-2.24919,-2.250038,-2.248696,-2.253653,-2.244591,-2.251715,-2.24422,-2.246127,-2.246718,-2.244287,-2.248801,-2.245004,-2.253082,-2.251396,-2.249161,-2.25195,-2.251669,-2.251186,-2.24773,-2.249377,-2.243852,-2.25032,-2.259254,-2.256545,-2.259457,-2.260175,-2.254893,-2.260812,-2.248747,-2.257006,-2.258613,-2.258494,-2.259175,-2.260394,-2.261768,-2.257234,-2.256171,-2.254401,-2.259016,-2.262701,-2.260052,-2.260971,-2.262924,-2.259733,-2.262049,-2.258566,-2.264899,-2.260259,-2.260926,-2.262539,-2.262326,-2.243782,-2.24348,-2.242156,-2.247977,-2.245535,-2.243518,-2.245623,-2.243916,-2.247338,-2.246579,-2.248559,-2.252072,-2.252946,-2.253793,-2.253895,-2.255938,-2.253739,-2.253774,-2.253047,-2.250873,-2.251102,-2.255251,-2.255088,-2.258277,-2.250868,-2.248657,-2.250318,-2.250533,-2.254275,-2.254775,-2.250044,-2.252387,-2.098862,-2.097805,-2.10054,-2.099687,-2.098335,-2.102043,-2.100199,-2.099586,-2.110375,-2.111812,-2.11023,-2.115731,-2.116601,-2.115055,-2.111052,-2.111367,-2.113835,-2.112521,-2.09082,-2.089468,-2.086255,-2.090189,-2.087215,-2.089629,-2.092435,-2.087914,-2.085903,-2.089698,-2.086377,-2.082062,-2.091435,-2.095415,-2.092508,-2.095999,-2.095873,-2.090871,-2.093183,-2.090763,-2.093721,-2.096106,-2.086601,-2.104411,-2.108585,-2.101469,-2.082574,-2.0843,-2.090307,-2.084642,-2.082994,-2.084465,-2.09629,-2.094015,-2.093911,-2.093776,-2.093914,-2.09837,-2.096472,-2.09498,-2.09254,-2.094102,-2.098294,-2.09746,-2.097911,-2.093967,-2.096248,-2.095454,-2.129,-2.125927,-2.132652,-2.135889,-2.135403,-2.132295,-2.128274,-2.13423,-2.135004,-2.1345,-2.1313,-2.133311,-2.130878,-2.136437,-2.098375,-2.099264,-2.100169,-2.099522,-2.103362,-2.101107,-2.102803,-2.105845,-2.101189,-2.107211,-2.110544,-2.120186,-2.12373,-2.120868,-2.124282,-1.986981,-1.981446,-1.994768,-2.007389,-2.014046,-2.002257,-2.0052,-2.049128,-2.050685,-2.037851,-2.033726,-2.040347,-2.041782,-2.024694,-2.026267,-2.02151,-2.023818,-2.065398,-2.067077,-2.071314,-2.075822,-2.076558,-2.077662,-2.07366,-2.077449,-2.071882,-2.072363,-2.073363,-2.07742,-2.075006,-2.070055,-2.074508,-2.080573,-2.082144,-2.0856,-2.080438,-2.075935,-2.073882,-2.085211,-2.075013,-2.081987,-2.082079,-2.078485,-2.081967,-2.077891,-2.079373,-2.082221,-2.12578,-2.136143,-2.137075,-2.133011,-2.120788,-2.125316,-2.126827,-2.12173,-2.127657,-2.124,-2.124508,-2.124911,-2.121829,-2.132126,-2.133537,-2.131955,-2.131557,-2.129507,-2.13169,-2.129663,-2.133768,-2.121828,-2.12474,-2.130422,-2.128847,-2.121423,-2.104495,-2.1028,-2.10378,-2.098736,-2.105072,-2.100883,-2.101258,-2.102813,-2.101584,-2.107791,-2.11803,-2.117613,-2.121969,-2.116929,-2.119825,-2.121703,-2.114119,-2.116398,-2.118484,-2.116183,-2.120104,-2.119641,-2.114745,-2.119804,-2.118656,-2.120964,-2.116154,-2.119664,-2.11874,-2.163449,-2.162089,-2.13358,-2.13364,-2.133772,-2.134431,-2.136033,-2.131987,-2.13191,-2.146721,-2.14898,-2.142414,-2.143223,-2.141187,-2.145336,-2.145817,-2.139808,-2.139516,-2.144693,-2.14322,-2.144649,-2.085968,-2.087503,-2.09296,-2.090739,-2.084656,-2.086885,-2.089232,-2.087641,-2.086646,-2.091726,-2.091203,-2.089891,-2.08788,-2.083979,-2.086257,-2.09216,-2.091055,-2.093229,-2.093082,-2.092706,-2.097591,-2.092762,-2.093516,-2.088156,-2.098996,-2.09343,-2.09408,-2.099594,-2.098871,-2.092661,-2.097073,-2.099498,-2.093167,-2.097702,-2.095372,-2.092259,-2.101057,-2.09345,-2.093468,-2.094872,-2.094094,-2.09609,-2.098326,-2.098898,-2.097824,-2.09544,-2.099531,-2.092783,-2.084924,-2.08632,-2.082678,-2.085111,-2.083976,-2.084771,-2.085199,-2.0884,-2.087298,-2.087212,-2.081576,-2.078365,-2.076375,-2.075123,-2.0788,-2.076174,-2.077217,-2.080733,-2.078714,-2.079509,-2.079949,-2.077013,-2.078347,-2.075398,-2.074586,-2.076046,-2.079071,-2.076172,-2.083627,-2.081923,-2.081038,-2.079974,-2.080777,-2.083164,-2.085585,-2.085132,-2.086069,-2.083141,-2.086309,-2.086293,-2.082093,-2.083487,-2.080932,-2.084723,-2.081125,-2.079726,-2.019561,-2.024433,-2.013753,-2.033174,-2.028615,-2.005682,-2.006798,-2.007613,-2.017004,-2.024058,-2.042929,-2.023728,-2.024494,-2.019332,-2.051443,-2.066392,-2.054833,-2.049239,-2.063436,-2.115541,-2.116193,-2.112902,-2.117615,-2.119187,-2.119142,-2.11553,-2.118775,-2.116181,-2.116273,-2.115589,-2.112932,-2.118067,-2.115932,-2.11783,-2.119421,-2.119139,-2.112733,-2.116402,-2.116368,-2.113062,-2.121752,-2.116025,-2.115731,-2.121617,-2.119805,-2.116738,-2.117344,-2.103848,-2.103296,-2.099167,-2.104423,-2.105703,-2.106328,-2.10755,-2.105267,-2.108182,-2.104246,-2.104088,-2.106331,-2.106828,-2.109312,-2.107475,-2.112124,-2.106859,-2.110883,-2.110467,-2.108355,-2.112393,-2.107313,-2.103977,-2.112066,-2.113104,-2.107522,-2.1124,-2.114417,-2.106189,-2.105835,-2.105578,-2.104988,-2.165177,-2.151522,-2.177569,-2.165728,-2.172917,-2.167391,-2.164546,-2.164809,-2.169707,-2.16226,-2.161556,-2.155797,-2.150633,-2.156686,-2.158738,-2.157674,-2.125468,-2.124695,-2.125019,-2.121029,-2.121681,-2.12122,-2.12426,-2.123707,-2.123418,-2.129358,-2.127721,-2.132025,-2.13042,-2.131315,-2.132027,-2.132429,-2.131017,-2.130548,-2.130691,-2.134287,-2.131719,-2.13566,-2.132564,-2.134194,-2.123194,-2.1262,-2.12479,-2.127765,-2.128028,-2.128863,-2.126086,-2.132012,-2.129247,-2.120904,-2.12685,-2.126531,-2.125941,-2.125464,-2.128779,-2.120914,-2.123722,-2.118782,-2.123342,-2.126307,-2.125652,-2.118495,-2.147336,-2.146912,-2.145665,-2.143941,-2.153415,-2.150306,-2.149363,-2.140577,-2.138798,-2.142011,-2.139319,-2.140977,-2.142376,-2.144698,-2.137933,-2.143244,-2.139777,-2.136427,-2.138072,-2.139386,-2.141105,-2.143749,-2.140151,-2.144586,-2.146732,-2.148279,-2.140796,-2.14532,-2.148658,-2.144099,-2.144014,-2.146945,-2.154768,-2.156695,-2.138078,-2.1369,-2.136062,-2.144358,-2.137432,-2.135937,-2.137791,-2.137805,-2.138019,-2.143421,-2.140664,-2.070379,-2.069138,-2.069778,-2.067471,-2.067509,-2.069252,-2.07346,-2.071273,-2.073954,-2.072039,-2.066603,-2.071814,-2.071374,-2.074135,-2.075089,-2.070003,-2.064367,-2.070182,-2.071072,-2.073051,-2.069178,-2.069674,-2.064065,-2.059597,-2.065289,-2.061273,-2.063261,-2.060081,-2.065677,-2.065042,-2.066071,-2.058887,-2.095141,-2.092115,-2.090879,-2.086755,-2.088974,-2.094669,-2.090469,-2.091882,-2.088418,-2.090771,-2.08893,-2.088042,-2.092479,-2.088229,-2.082313,-2.081346,-2.085257,-2.08755,-2.086706,-2.080307,-2.087883,-2.084758,-2.088095,-2.089024,-2.086987,-2.085177,-2.086691,-2.087216,-2.085824,-2.08604,-2.086603,-2.086351,-2.084506,-2.081033,-2.084685,-2.080043,-2.085579,-2.082467,-2.08368,-2.083161,-2.008744,-2.018004,-2.008729,-2.013328,-2.008546,-2.012152,-2.006148,-1.985148,-2.007807,-2.001365,-2.006375,-2.002875,-2.004429,-2.038424,-2.038182,-2.049417,-2.050855,-2.049556,-2.048906,-2.049073,-2.064948,-2.062173,-2.065897,-2.066952,-2.054578,-2.059183,-2.056921,-2.061071,-2.096609,-2.098629,-2.095069,-2.09561,-2.097288,-2.096305,-2.095165,-2.093497,-2.096763,-2.105835,-2.103347,-2.10102,-2.10301,-2.10253,-2.104447,-2.103161,-2.103119,-2.104406,-2.104045,-2.105221,-2.102713,-2.101884,-2.099785,-2.103442,-2.09394,-2.097053,-2.094655,-2.093954,-2.096236,-2.094264,-2.094472,-2.089029,-2.091204,-2.089273,-2.090118,-2.091944,-2.092617,-2.088949,-2.092149,-2.091025,-2.091291,-2.0907,-2.109021,-2.110598,-2.102465,-2.106253,-2.112701,-2.114928,-2.111584,-2.112474,-2.110313,-2.110686,-2.109606,-2.112064,-2.116255,-2.111144,-2.112864,-2.11225,-2.116735,-2.113742,-2.113085,-2.116725,-2.114066,-2.113646,-2.110361,-2.114895,-2.112347,-2.114205,-2.112816,-2.111009,-2.117309,-2.118163,-2.116058,-2.115912,-2.118109,-2.117451,-2.119116,-2.119464,-2.118457,-2.123894,-2.117056,-2.123337,-2.115776,-2.116843,-2.12044,-2.120526,-2.116276,-2.118823,-2.119804,-2.082526,-2.084017,-2.091439,-2.091219,-2.084638,-2.084773,-2.090312,-2.090582,-2.084049,-2.090871,-2.083384,-2.084673,-2.083412,-2.060347,-2.087525,-2.085601,-2.086264,-2.087019,-2.087546,-2.084407,-2.085944,-2.088596,-2.07112,-2.072537,-2.074962,-2.073351,-2.077136,-2.072072,-2.074961,-2.073852,-2.077306,-2.075377,-2.071663,-2.071436,-2.075029,-2.073834,-2.075234,-2.07347,-2.137304,-2.139267,-2.140774,-2.138241,-2.143134,-2.139657,-2.14739,-2.148441,-2.14942,-2.151391,-2.152673,-2.147168,-2.142608,-2.139744,-2.145465,-2.140463,-2.149762,-2.14844,-2.148571,-2.132824,-2.136009,-2.128419,-2.130892,-2.130471,-2.130008,-2.129372,-2.135878,-2.133854,-2.129192,-2.131843,-2.134368,-2.13306,-2.149959,-2.154627,-2.146211,-2.143233,-2.149499,-2.14411,-2.143308,-2.144709,-2.153255,-2.148975,-2.147324,-2.148741,-2.151645,-2.152087,-2.149219,-2.156115,-2.151314,-2.15219,-2.152063,-2.169868,-2.163239,-2.160055,-2.157972,-2.159085,-2.162883,-2.14712,-2.155903,-2.150996,-2.151146,-2.154487,-2.106992,-2.110318,-2.110743,-2.110142,-2.107785,-2.11023,-2.111332,-2.109505,-2.108477,-2.108094,-2.104686,-2.109738,-2.105987,-2.105504,-2.107308,-2.10124,-2.099542,-2.104575,-2.104263,-2.101572,-2.104245,-2.102922,-2.096689,-2.10226,-2.10303,-2.101769,-2.100548,-2.101963,-2.105489,-2.104251,-2.111748,-2.116274,-2.111353,-2.111583,-2.112075,-2.113215,-2.111646,-2.113835,-2.113798,-2.114364,-2.117225,-2.115614,-2.112846,-2.113138,-2.11757,-2.114231,-2.125658,-2.123346,-2.12613,-2.126721,-2.125435,-2.132171,-2.128113,-2.132971,-2.128922,-2.130604,-2.130515,-2.131559,-2.135637,-2.136996,-2.130719,-2.133218,-2.125302,-2.132279,-2.132721,-2.126218,-2.12981,-2.126387,-2.127022,-2.125892,-2.127911,-2.124273,-2.130156,-2.129942,-2.128618,-2.124187,-2.120634,-2.124792,-2.123325,-2.120734,-2.121043,-2.143732,-2.14967,-2.144662,-2.146088,-2.141503,-2.14968,-2.142108,-2.144178,-2.145337,-2.146789,-2.152135,-2.151875,-2.152891,-2.154731,-2.150814,-2.155618,-2.149349,-2.155523,-2.149598,-2.147935,-2.153528,-2.137604,-2.138666,-2.14055,-2.141316,-2.138102,-2.141194,-2.136657,-2.143038,-2.139285,-2.141949,-2.14544,-2.13938,-2.140517,-2.139782,-2.140961,-2.135264,-2.137766,-2.136544,-2.136975,-2.138275,-2.136127,-2.134055,-2.135181,-2.137107,-2.135147,-2.154946,-2.149639,-2.153091,-2.156003,-2.156117,-2.149784,-2.149993,-2.152354,-2.155434,-2.151666,-2.151126,-2.154732,-2.148848,-2.163187,-2.165798,-2.166142,-2.162872,-2.164245,-2.164626,-2.166544,-2.170825,-2.166732,-2.165481,-2.167045,-2.170151,-2.167396,-2.168124,-2.173931,-2.162331,-2.163222,-2.169277,-2.173162,-2.169643,-2.160581,-2.162577,-2.161953,-2.161783,-2.163682,-2.162382,-2.15933,-2.15843,-2.135152,-2.135233,-2.13945,-2.138997,-2.139523,-2.144498,-2.147714,-2.151048,-2.149449,-2.153738,-2.147926,-2.154276,-2.150105,-2.154621,-2.142268,-2.138524,-2.151312,-2.144956,-2.10855,-2.107152,-2.128951,-2.103968,-2.103367,-2.104828,-2.111561,-2.159919,-2.159122,-2.157022,-2.159038,-2.156113,-2.153881,-2.158591,-2.160983,-2.164629,-2.162407,-2.162443,-2.163472,-2.16455,-2.159732,-2.163622,-2.160305,-2.117334,-2.115101,-2.120679,-2.118056,-2.122702,-2.120117,-2.119775,-2.126311,-2.120128,-2.124836,-2.124551,-2.121141,-2.136912,-2.135189,-2.140679,-2.13554,-2.13901,-2.136813,-2.139216,-2.139632,-2.136642,-2.135719,-2.138304,-2.124401,-2.122851,-2.121686,-2.122183,-2.125278,-2.11951,-2.124958,-2.12701,-2.125953,-2.131967,-2.124528,-2.129849,-2.131748,-2.134487,-2.133502,-2.135351,-2.13413,-2.135621,-2.133605,-2.136808,-2.132809,-2.13286,-2.131293,-2.132834,-2.128614,-2.129379,-2.131126,-2.128645,-2.127626,-2.129948,-2.125597,-2.127048,-2.129516,-2.133654,-2.128732,-2.124873,-2.131452,-2.087574,-2.086881,-2.083223,-2.085477,-2.087827,-2.085605,-2.103075,-2.095332,-2.098271,-2.097819,-2.097904,-2.097998,-2.096183,-2.094867,-2.097481,-2.098553,-2.096166,-2.093341,-2.106577,-2.10504,-2.115424,-2.103633,-2.107929,-2.106825,-2.107268,-2.136855,-2.135797,-2.137032,-2.130667,-2.136397,-2.132128,-2.133261,-2.133059,-2.135864,-2.134223,-2.113583,-2.106085,-2.104833,-2.106537,-2.105445,-2.110162,-2.103761,-2.109076,-2.102538,-2.10033,-2.107782,-2.102807,-2.110594,-2.101709,-2.120142,-2.12935,-2.123659,-2.13088,-2.121484,-2.127614,-2.117543,-2.137113,-2.13547,-2.142011,-2.133504,-2.134215,-2.134395,-2.140108,-2.13208,-2.134549,-2.129194,-2.133255,-2.133955,-2.135778,-2.139783,-2.139259,-2.136284,-2.136537,-2.137289,-2.138148,-2.141915,-2.136792,-2.130064,-2.129324,-2.126129,-2.124105,-2.125907,-2.124698,-2.129307,-2.127316,-2.12499,-2.125854,-2.125219,-2.129855,-2.133437,-2.128419,-2.127227,-2.130616,-2.123782,-2.126592,-2.127488,-2.131579,-2.15829,-2.155922,-2.158065,-2.161142,-2.159291,-2.158508,-2.161364,-2.143232,-2.155836,-2.15611,-2.156469,-2.167195,-2.170272,-2.169453,-2.169103,-2.166108,-2.168809,-2.171837,-2.172378,-2.169077,-2.170835,-2.174073,-2.174012,-2.174917,-2.163527,-2.162324,-2.165828,-2.155025,-2.154223,-2.152444,-2.153898,-2.152062,-2.158714,-2.157842,-2.153752,-2.155625,-2.189562,-2.188124,-2.190119,-2.188808,-2.188016,-2.174979,-2.180269,-2.172311,-2.188719,-2.228082,-2.218409,-2.219814,-2.248151,-2.229051,-2.217383,-2.225042,-2.220355,-2.22255,-2.218602,-2.213294,-2.220591,-2.21457,-2.219076,-2.212241,-2.212329,-2.211917,-2.208493,-2.204972,-2.204338,-2.203951,-2.213433,-2.213218,-2.207979,-2.212199,-2.204337,-2.206693,-2.201762,-2.207502,-2.200163,-2.198711,-2.209565,-2.20747,-2.201516,-2.205389,-2.189609,-2.197744,-2.19471,-2.198776,-2.195781,-2.197901,-2.196268,-2.189546,-2.192791,-2.185997,-2.182656,-2.198536,-2.191583,-2.189825,-2.14523,-2.155445,-2.148039,-2.155406,-2.147648,-2.155348,-2.150126,-2.148915,-2.148342,-2.140536,-2.142444,-2.141589,-2.135701,-2.139308,-2.143199,-2.143711,-2.140508,-2.144012,-2.142628,-2.143957,-2.14058,-2.135523,-2.147133,-2.147094,-2.14951,-2.149194,-2.147182,-2.150092,-2.148548,-2.15034,-2.147088,-2.145725,-2.143185,-2.133799,-2.132258,-2.147446,-2.133917,-2.132822,-2.137072,-2.146108,-2.143968,-2.14413,-2.143549,-2.143369,-2.145579,-2.139583,-2.13574,-2.14442,-2.137062,-2.143706,-2.144948,-2.142866,-2.141346,-2.14431,-2.183381,-2.185184,-2.18471,-2.184706,-2.182448,-2.18188,-2.185996,-2.185995,-2.183176,-2.176094,-2.175959,-2.174903,-2.175265,-2.181188,-2.178051,-2.177762,-2.170164,-2.173629,-2.169176,-2.16821,-2.1682,-2.175442,-2.176843,-2.170534,-2.179767,-2.178933,-2.187029,-2.183912,-2.183739,-2.182172,-2.180578,-2.179445,-2.177724,-2.18113,-2.180337,-2.170136,-2.173687,-2.17279,-2.176015,-2.175746,-2.174847,-2.172404,-2.175832,-2.175624,-2.172468,-2.169429,-2.166155,-2.166182,-2.164673,-2.169362,-2.167537,-2.165085,-2.166389,-2.156607,-2.166036,-2.156275,-2.157084,-2.153777,-2.16775,-2.163649,-2.153496,-2.154588,-2.157661,-2.153905,-2.157048,-2.159547,-2.155219,-2.157765,-2.157941,-2.154948,-2.150166,-2.154889,-2.164271,-2.157949,-2.155212,-2.153503,-2.151482,-2.156827,-2.157074,-2.156728,-2.154463,-2.154695,-2.150894,-2.155559,-2.164743,-2.163078,-2.163947,-2.166329,-2.165781,-2.158095,-2.160572,-2.171248,-2.160761,-2.163731,-2.169038,-2.167933,-2.168498,-2.154799,-2.167174,-2.159862,-2.161545,-2.159669,-2.157329,-2.160611,-2.159051,-2.158043,-2.15707,-2.160326,-2.157809,-2.160654,-2.15756,-2.156756,-2.157298,-2.16046,-2.168411,-2.16212,-2.162784,-2.171858,-2.171527,-2.161638,-2.162185,-2.170148,-2.162987,-2.178906,-2.186775,-2.181697,-2.177464,-2.214701,-2.212805,-2.206805,-2.206434,-2.206416,-2.209504,-2.195827,-2.194622,-2.202495,-2.192735,-2.182722,-2.19695,-2.182321,-2.189301,-2.192289,-2.189999,-2.139123,-2.146347,-2.145975,-2.142038,-2.145289,-2.145244,-2.144027,-2.14467,-2.146757,-2.139174,-2.141826,-2.142327,-2.146829,-2.142621,-2.144518,-2.144759,-2.146138,-2.145361,-2.141362,-2.134841,-2.135386,-2.139676,-2.135682,-2.134263,-2.137867,-2.136118,-2.136558,-2.140552,-2.129158,-2.132389,-2.127733,-2.131063,-2.129879,-2.133911,-2.135888,-2.130845,-2.131263,-2.132271,-2.134105,-2.141542,-2.141021,-2.14356,-2.141984,-2.143885,-2.143387,-2.142795,-2.144323,-2.139643,-2.142284,-2.140647,-2.144299,-2.142199,-2.142948,-2.144705,-2.144583,-2.136215,-2.13478,-2.139164,-2.135674,-2.132775,-2.133045,-2.139244,-2.1101,-2.111011,-2.108719,-2.113142,-2.117423,-2.119594,-2.279017,-2.281535,-2.277875,-2.27048,-2.121832,-2.123118,-2.115718,-2.117901,-2.120698,-2.115756,-2.116544,-2.119203,-2.122892,-2.104087,-2.103564,-2.104951,-2.124325,-2.12492,-2.12614,-2.122733,-2.123598,-2.123007,-2.126782,-2.125323,-2.109333,-2.115117,-2.118401,-2.112048,-2.106664,-2.104946,-2.099242,-2.104045,-2.101416,-2.092803,-2.09143,-2.086267,-2.096081,-2.100872,-2.097154,-2.096594,-2.098907,-2.093689,-2.096611,-2.095776,-2.10374,-2.15675,-2.15714,-2.152815,-2.156099,-2.150514,-2.155268,-2.154172,-2.155268,-2.151815,-2.164567,-2.164199,-2.163213,-2.163127,-2.159462,-2.16174,-2.15407,-2.157242,-2.155773,-2.150553,-2.157162,-2.152824,-2.157708,-2.15484,-2.156755,-2.156804,-2.160089,-2.158058,-2.156962,-2.157956,-2.160341,-2.158196,-2.158595,-2.159019,-2.163296,-2.160305,-2.15958,-2.143433,-2.146524,-2.151238,-2.148184,-2.154729,-2.148598,-2.146659,-2.151191,-2.14613,-2.151259,-2.153955,-2.149925,-2.151096,-2.164314,-2.157324,-2.153815,-2.154283,-2.15321,-2.15423,-2.155626,-2.147054,-2.14427,-2.144019,-2.145235,-2.142834,-2.145176,-2.145437,-2.142012,-2.145341,-2.142392,-2.135658,-2.150287,-2.158819,-2.156644,-2.161859,-2.15672,-2.152312,-2.156592,-2.154556,-2.152443,-2.153657,-2.159449,-2.156059,-2.151536,-2.158959,-2.152084,-2.15902,-2.149839,-2.153003,-2.158541,-2.143881,-2.151181,-2.152111,-2.142262,-2.148713,-2.139841,-2.136011,-2.14095,-2.136623,-2.134341,-2.136924,-2.183114,-2.182721,-2.183705,-2.185999,-2.185071,-2.184645,-2.182055,-2.180736,-2.174965,-2.173183,-2.179434,-2.180861,-2.17629,-2.178658,-2.181584,-2.180845,-2.180523,-2.181685,-2.179824,-2.171478,-2.174277,-2.171627,-2.169849,-2.1702,-2.175717,-2.174389,-2.174555,-2.172206,-2.174816,-2.172093,-2.176603,-2.173818,-2.17457,-2.170233,-2.175771,-2.184586,-2.174955,-2.182471,-2.183051,-2.181962,-2.183116,-2.182623,-2.178624,-2.184501,-2.190263,-2.186721,-2.185576,-2.188157,-2.18345,-2.185585,-2.186905,-2.186467,-2.228609,-2.22177,-2.228104,-2.227715,-2.231723,-2.227293,-2.225907,-2.224625,-2.224438,-2.214046,-2.22823,-2.222677,-2.221166,-2.211412,-2.214072,-2.226621,-2.21551,-2.219275,-2.217103,-2.21673,-2.211862,-2.215883,-2.21433,-2.212417,-2.214922,-2.229034,-2.213714,-2.21988,-2.213134,-2.219176,-2.216596,-2.217365,-2.211184,-2.219007,-2.212507,-2.219463,-2.22573,-2.225187,-2.224064,-2.21871,-2.222464,-2.226417,-2.223906,-2.22605,-2.225478,-2.222715,-2.222702,-2.222007,-2.219595,-2.224498,-2.224915,-2.231642,-2.233402,-2.230441,-2.234778,-2.234551,-2.23043,-2.23347,-2.232405,-2.227663,-2.229288,-2.224543,-2.225364,-2.230916,-2.229314,-2.226552,-2.231511,-2.223567,-2.22613,-2.226282,-2.22772,-2.227047,-2.227232,-2.224504,-2.235115,-2.235568,-2.240419,-2.242029,-2.24188,-2.237919,-2.237196,-2.242177,-2.23859,-2.23876,-2.239328,-2.242008,-2.238195,-2.238257,-2.241883,-2.236288,-2.237649,-2.235635,-2.240482,-2.242746,-2.244096,-2.243597,-2.242259,-2.243673,-2.245194,-2.24391,-2.244014,-2.24789,-2.255403,-2.269071,-2.254784,-2.249533,-2.245511,-2.263129,-2.259085,-2.248756,-2.252442,-2.236351,-2.238637,-2.238654,-2.238998,-2.243516,-2.242709,-2.236267,-2.242518,-2.241591,-2.237867,-2.212015,-2.216498,-2.211771,-2.213103,-2.210699,-2.219105,-2.206938,-2.211118,-2.21006,-2.208427,-2.210212,-2.207327,-2.207642,-2.220412,-2.216048,-2.22314,-2.218617,-2.217828,-2.209926,-2.212776,-2.214759,-2.216426,-2.210755,-2.211176,-2.210301,-2.211526,-2.210167,-2.214935,-2.209408,-2.206375,-2.206668,-2.208338,-2.205589,-2.208027,-2.20603,-2.207293,-2.209241,-2.208161,-2.206683,-2.212637,-2.206199,-2.209015,-2.206672,-2.201883,-2.202964,-2.203131,-2.20184,-2.198528,-2.195182,-2.193198,-2.194311,-2.196244,-2.193751,-2.197511,-2.196859,-2.204574,-2.201988,-2.202343,-2.204295,-2.202423,-2.19773,-2.19274,-2.195746,-2.197766,-2.193794,-2.200309,-2.199082,-2.204244,-2.203461,-2.189366,-2.193048,-2.191605,-2.186682,-2.186437,-2.191789,-2.192439,-2.170539,-2.182102,-2.180378,-2.185572,-2.212584,-2.204487,-2.209841,-2.213407,-2.209291,-2.212071,-2.205632,-2.207824,-2.20493,-2.204385,-2.208669,-2.205392,-2.203957,-2.208002,-2.207559,-2.207423,-2.206084,-2.206289,-2.214844,-2.213934,-2.21487,-2.216027,-2.216593,-2.215501,-2.213669,-2.211828,-2.2158,-2.215423,-2.220911,-2.224568,-2.224736,-2.219009,-2.225501,-2.219418,-2.226184,-2.227408,-2.209284,-2.219125,-2.2096,-2.217333,-2.2104,-2.211337,-2.213251,-2.230539,-2.237411,-2.218452,-2.222129,-2.175262,-2.181854,-2.181844,-2.179294,-2.17989,-2.176138,-2.178681,-2.174063,-2.180745,-2.178083,-2.174479,-2.173768,-2.175349,-2.176925,-2.18488,-2.187549,-2.188585,-2.183136,-2.181737,-2.184195,-2.18819,-2.185601,-2.180803,-2.183628,-2.178787,-2.175372,-2.1779,-2.182598,-2.18642,-2.187087,-2.186634,-2.185639,-2.184625,-2.182578,-2.185007,-2.176617,-2.173797,-2.178907,-2.176401,-2.175823,-2.188564,-2.19693,-2.186331,-2.197585,-2.195179,-2.192978,-2.200065,-2.195004,-2.200254,-2.192729,-2.197418,-2.198044,-2.198008,-2.196059,-2.196282,-2.19279,-2.194249,-2.198515,-2.197951,-2.193102,-2.198921,-2.191064,-2.198536,-2.193489,-2.198888,-2.210473,-2.22459,-2.225822,-2.218499,-2.217065,-2.234523,-2.231865,-2.226858,-2.234282,-2.229663,-2.225897,-2.22777,-2.233302,-2.199684,-2.202111,-2.202923,-2.20062,-2.204119,-2.187525,-2.193079,-2.19309,-2.186417,-2.179402,-2.181836,-2.185568,-2.183396,-2.181441,-2.183662,-2.184787,-2.182557,-2.183245,-2.185774,-2.177901,-2.185061,-2.182266,-2.204728,-2.203995,-2.202001,-2.197602,-2.197511,-2.19743,-2.203349,-2.205031,-2.203591,-2.201591,-2.201316,-2.194743,-2.309889,-2.433023,-2.439882,-2.43617,-2.426171,-2.433651,-2.434769,-2.427583,-2.424188,-2.417579,-2.424396,-2.425377,-2.420776,-2.418932,-2.424755,-2.424224,-2.426228,-2.414144,-2.42909,-2.426623,-2.430409,-2.425517,-2.428885,-2.429033,-2.431875,-2.433139,-2.423595,-2.421085,-2.423645,-2.425871,-2.424872,-2.420943,-2.423157,-2.416238,-2.423779,-2.419573,-2.420666,-2.410993,-2.414552,-2.414072,-2.413742,-2.414707,-2.410278,-2.415326,-2.412673,-2.41326,-2.419519,-2.420389,-2.415206,-2.421435,-2.422069,-2.416406,-2.419274,-2.415731,-2.421609,-2.417299,-2.410418,-2.408366,-2.410404,-2.411492,-2.415784,-2.408166,-2.407269,-2.414568,-2.414833,-2.398826,-2.397469,-2.407109,-2.397009,-2.405857,-2.405984,-2.403074,-2.404745,-2.405051,-2.400267,-2.399528,-2.406667,-2.398327,-2.405431,-2.401069,-2.397314,-2.401774,-2.40703,-2.406,-2.405958,-2.400292,-2.412336,-2.399111,-2.401217,-2.403891,-2.407969,-2.401707,-2.401807,-2.401386,-2.4026,-2.404548,-2.387734,-2.39706,-2.381274,-2.391551,-2.386405,-2.395248,-2.377756,-2.389178,-2.392872,-2.395381,-2.376805,-2.390266,-2.393209,-2.399757,-2.397948,-2.389855,-2.390015,-2.393094,-2.399107,-2.390741,-2.392637,-2.399565,-2.388239,-2.391883,-2.432992,-2.434886,-2.42314,-2.435781,-2.422997,-2.424757,-2.431226,-2.437227,-2.435023,-2.429724,-2.428188,-2.435193,-2.431917,-2.434653,-2.427966,-2.418632,-2.419533,-2.417738,-2.425679,-2.426898,-2.425375,-2.424525,-2.414045,-2.411905,-2.32726,-2.330549,-2.328506,-2.330649,-2.327142,-2.33316,-2.330266,-2.331412,-2.330307,-2.327742,-2.336529,-2.335716,-2.335703,-2.337971,-2.334593,-2.339618,-2.336986,-2.33714,-2.33412,-2.334212,-2.33638,-2.348187,-2.350551,-2.348477,-2.336382,-2.325341,-2.334395,-2.340503,-2.341919,-2.344595,-2.341764,-2.340925,-2.339993,-2.336723,-2.345626,-2.341999,-2.342161,-2.33882,-2.34137,-2.354619,-2.359117,-2.351396,-2.364569,-2.33578,-2.336913,-2.336457,-2.335613,-2.337105,-2.33425,-2.333815,-2.339717,-2.340483,-2.338723,-2.337486,-2.336984,-2.335565,-2.337034,-2.380675,-2.382627,-2.383258,-2.39771,-2.396828,-2.398012,-2.396652,-2.396433,-2.392596,-2.39471,-2.401765,-2.407476,-2.384315,-2.387605,-2.385106,-2.383452,-2.385461,-2.384947,-2.388221,-2.398651,-2.39231,-2.394243,-2.395016,-2.396866,-2.390292,-2.395239,-2.393319,-2.403989,-2.399181,-2.407653,-2.40651,-2.405544,-2.400312,-2.397417,-2.400617,-2.404014,-2.403082,-2.306504,-2.311918,-2.308808,-2.324708,-2.302044,-2.312855,-2.304115,-2.293645,-2.30559,-2.306185,-2.303448,-2.2905,-2.308897,-2.307147,-2.318816,-2.325438,-2.328945,-2.326286,-2.323122,-2.327207,-2.319796,-2.32523,-2.317515,-2.322392,-2.325397,-2.323918,-2.317567,-2.324001,-2.325818,-2.322071,-2.323821,-2.320165,-2.3233,-2.325977,-2.353171,-2.352133,-2.36026,-2.348505,-2.350684,-2.35341,-2.354158,-2.346799,-2.344349,-2.352405,-2.348262,-2.351346,-2.349296,-2.345896,-2.344937,-2.348187,-2.347081,-2.346353,-2.341485,-2.351352,-2.345297,-2.345507,-2.342168,-2.349939,-2.343418,-2.357293,-2.354676,-2.354595,-2.354987,-2.352161,-2.249622,-2.250712,-2.250168,-2.249607,-2.255528,-2.255368,-2.246642,-2.252772,-2.261013,-2.259187,-2.265698,-2.26448,-2.256418,-2.257885,-2.265873,-2.264575,-2.265094,-2.249614,-2.247394,-2.251065,-2.251257,-2.246623,-2.248156,-2.24921,-2.246289,-2.247242,-2.262538,-2.267173,-2.26829,-2.275105,-2.267645,-2.280451,-2.280732,-2.288652,-2.283056,-2.280877,-2.289441,-2.28298,-2.284769,-2.280904,-2.283194,-2.289249,-2.282877,-2.279682,-2.279076,-2.279351,-2.279042,-2.280372,-2.280051,-2.278933,-2.280121,-2.281489,-2.332916,-2.325738,-2.326556,-2.331319,-2.323487,-2.330621,-2.331073,-2.327851,-2.329095,-2.330954,-2.331598,-2.331741,-2.322317,-2.322728,-2.333905,-2.318239,-2.320829,-2.322056,-2.328077,-2.336737,-2.33828,-2.33371,-2.340597,-2.344656,-2.342945,-2.342484,-2.343647,-2.347414,-2.347993,-2.348377,-2.34352,-2.331809,-2.331279,-2.333722,-2.33111,-2.329812,-2.336954,-2.334258,-2.341718,-2.338975,-2.336605,-2.338942,-2.341335,-2.33933,-2.336473,-2.340547,-2.415808,-2.413443,-2.410596,-2.412815,-2.413988,-2.402394,-2.397233,-2.402554,-2.410275,-2.405788,-2.414768,-2.411743,-2.409981,-2.412045,-2.414939,-2.409788,-2.416524,-2.414809,-2.417317,-2.424399,-2.38493,-2.389692,-2.411622,-2.38504,-2.410974,-2.385678,-2.41947,-2.3521,-2.357194,-2.34953,-2.350764,-2.353334,-2.352351,-2.349579,-2.350726,-2.346307,-2.376433,-2.371092,-2.38182,-2.378861,-2.377931,-2.376336,-2.381253,-2.367104,-2.383061,-2.38312,-2.374352,-2.387098,-2.381171,-2.385724,-2.381944,-2.38466,-2.379078,-2.37128,-2.371361,-2.36269,-2.362117,-2.36749,-2.37152,-2.356937,-2.362728,-2.360299,-2.323548,-2.324733,-2.317882,-2.314454,-2.314224,-2.313299,-2.315834,-2.325355,-2.32902,-2.319029,-2.323657,-2.31451,-2.315676,-2.258678,-2.260837,-2.262852,-2.264777,-2.26358,-2.256003,-2.260411,-2.257877,-2.262338,-2.25517,-2.263568,-2.25992,-2.258367,-2.258615,-2.263722,-2.263012,-2.268697,-2.258517,-2.269144,-2.264352,-2.269136,-2.264747,-2.266196,-2.260883,-2.268815,-2.26682,-2.264487,-2.26554,-2.26778,-2.269005,-2.266694,-2.27034,-2.268962,-2.268551,-2.261678,-2.258158,-2.268753,-2.264034,-2.26477,-2.270208,-2.259955,-2.254137,-2.256573,-2.260808,-2.25818,-2.259967,-2.259132,-2.255023,-2.25511,-2.252536,-2.247191,-2.251036,-2.249426,-2.251033,-2.246461,-2.250859,-2.247095,-2.252903,-2.250541,-2.252336,-2.248828,-2.248805,-2.251951,-2.250012,-2.255316,-2.255515,-2.257888,-2.252422,-2.255146,-2.256671,-2.255193,-2.25532,-2.257195,-2.257957,-2.261636,-2.262223,-2.26752,-2.260812,-2.260611,-2.262882,-2.267196,-2.266334,-2.263371,-2.262154,-2.261637,-2.263703,-2.262375,-2.298969,-2.302831,-2.300136,-2.302913,-2.301058,-2.301936,-2.301788,-2.304998,-2.306963,-2.286494,-2.290667,-2.293371,-2.288561,-2.29377,-2.290525,-2.29128,-2.288339,-2.286583,-2.28921,-2.278866,-2.279164,-2.288558,-2.281187,-2.288461,-2.282963,-2.282256,-2.280936,-2.285232,-2.285373,-2.286835,-2.281031,-2.286664,-2.279417,-2.287944,-2.283029,-2.287405,-2.284203,-2.279797,-2.286219,-2.287941,-2.281362,-2.278957,-2.272851,-2.272845,-2.276978,-2.272365,-2.274149,-2.275207,-2.279183,-2.274606,-2.271609,-2.278134,-2.272364,-2.274176,-2.270967,-2.272393,-2.275532,-2.27213,-2.27934,-2.279247,-2.273973,-2.281191,-2.308863,-2.307771,-2.307052,-2.307925,-2.313041,-2.311033,-2.307125,-2.312676,-2.310375,-2.312289,-2.309271,-2.30498,-2.308729,-2.306574,-2.307114,-2.318072,-2.315847,-2.302494,-2.304304,-2.302873,-2.364849,-2.365769,-2.366768,-2.370427,-2.368376,-2.368848,-2.372003,-2.374268,-2.370292,-2.367999,-2.369541,-2.372727,-2.369257,-2.367571,-2.362154,-2.363979,-2.360164,-2.368242,-2.365961,-2.363412,-2.368303,-2.368617,-2.367587,-2.36202,-2.363317,-2.373005,-2.372692,-2.37246,-2.336405,-2.332606,-2.340445,-2.338943,-2.338036,-2.338096,-2.337976,-2.334361,-2.334877,-2.338262,-2.346607,-2.347672,-2.347651,-2.345608,-2.34394,-2.350301,-2.345687,-2.347402,-2.343636,-2.356398,-2.346727,-2.329946,-2.329038,-2.330945,-2.330422,-2.330154,-2.327767,-2.332895,-2.327118,-2.328619,-2.332501,-2.352307,-2.3443,-2.351833,-2.347026,-2.35164,-2.351531,-2.351048,-2.335829,-2.329896,-2.331875,-2.334804,-2.342016,-2.341089,-2.343639,-2.341202,-2.339155,-2.343415,-2.352063,-2.353909,-2.355887,-2.354749,-2.356995,-2.356015,-2.315962,-2.314948,-2.320032,-2.317831,-2.316144,-2.316239,-2.318355,-2.317042,-2.31935,-2.321051,-2.32903,-2.314744,-2.325726,-2.330561,-2.325706,-2.325524,-2.326929,-2.316062,-2.326024,-2.317642,-2.316959,-2.307104,-2.311173,-2.310602,-2.305489,-2.308891,-2.304586,-2.307319,-2.307648,-2.30753,-2.305921,-2.309447,-2.314084,-2.309023,-2.310601,-2.313545,-2.312967,-2.311632,-2.311369,-2.312821,-2.311877,-2.301099,-2.299465,-2.302813,-2.301535,-2.300687,-2.301825,-2.29752,-2.302304,-2.30231,-2.30062,-2.299985,-2.299978,-2.323682,-2.325473,-2.32093,-2.328664,-2.264669,-2.263621,-2.278178,-2.266858,-2.267787,-2.275481,-2.274072,-2.264866,-2.267659,-2.258924,-2.265131,-2.261939,-2.261138,-2.26241,-2.261071,-2.266829,-2.26191,-2.258611,-2.264753,-2.260029,-2.256139,-2.251781,-2.25609,-2.258119,-2.257174,-2.254608,-2.255286,-2.258326,-2.255675,-2.251369,-2.253499,-2.261154,-2.260466,-2.261838,-2.259668,-2.260304,-2.254266,-2.260997,-2.263077,-2.263526,-2.263041,-2.260758,-2.263429,-2.26269,-2.25775,-2.256987,-2.254924,-2.26435,-2.27835,-2.267747,-2.267465,-2.267882,-2.267183,-2.266915,-2.272685,-2.249141,-2.246444,-2.248654,-2.251002,-2.249483,-2.250222,-2.250432,-2.251449,-2.255128,-2.252534,-2.253028,-2.254395,-2.25346,-2.252813,-2.251486,-2.251168,-2.249367,-2.251795,-2.258814,-2.258263,-2.254782,-2.257368,-2.255834,-2.256565,-2.257744,-2.255808,-2.258711,-2.259259,-2.292495,-2.293852,-2.290679,-2.292952,-2.294038,-2.292335,-2.295463,-2.295086,-2.292092,-2.292162,-2.298799,-2.298048,-2.299818,-2.299176,-2.296187,-2.292911,-2.292798,-2.297804,-2.292212,-2.295054,-2.296207,-2.296559,-2.293416,-2.296633,-2.29324,-2.29402,-2.298027,-2.298904,-2.295707,-2.29495,-2.298404,-2.301031,-2.299351,-2.287249,-2.290264,-2.289847,-2.288624,-2.28843,-2.29108,-2.282481,-2.289702,-2.282423,-2.281212,-2.287282,-2.282918,-2.280188,-2.281804,-2.292612,-2.28369,-2.278762,-2.282272,-2.283934,-2.282908,-2.279721,-2.282498,-2.282916,-2.281032,-2.280214,-2.283799,-2.2791,-2.281264,-2.280004,-2.28298,-2.285761,-2.281774,-2.286278,-2.27779,-2.364974,-2.361677,-2.363044,-2.364127,-2.360332,-2.362033,-2.364866,-2.361061,-2.362312,-2.36493,-2.36458,-2.366458,-2.367071,-2.370864,-2.366587,-2.370028,-2.36758,-2.368253,-2.369416,-2.379651,-2.376559,-2.378841,-2.375983,-2.376844,-2.380908,-2.380344,-2.377788,-2.381904,-2.377402,-2.383513,-2.379407,-2.346436,-2.331703,-2.34929,-2.346943,-2.341732,-2.346337,-2.341595,-2.340385,-2.33795,-2.342418,-2.349334,-2.343389,-2.349025,-2.341461,-2.346081,-2.341059,-2.350977,-2.350671,-2.351725,-2.355345,-2.351425,-2.350847,-2.352079,-2.350144,-2.353729,-2.353216,-2.349964,-2.351431,-2.352586,-2.358134,-2.3544,-2.353808,-2.353715,-2.356517,-2.358718,-2.354589,-2.35509,-2.356688,-2.360215,-2.357387,-2.363053,-2.356844,-2.35421,-2.353809,-2.363555,-2.3599,-2.361341,-2.355177,-2.355678,-2.358181,-2.360622,-2.363773,-2.368334,-2.370268,-2.368072,-2.370717,-2.371971,-2.355056,-2.354388,-2.359077,-2.351425,-2.354437,-2.348898,-2.350242,-2.357313,-2.352743,-2.356439,-2.356659,-2.277209,-2.27829,-2.277934,-2.275404,-2.278977,-2.275533,-2.274871,-2.279035,-2.276311,-2.277242,-2.275027,-2.277118,-2.277144,-2.298857,-2.290913,-2.285175,-2.281792,-2.283312,-2.281801,-2.288477,-2.285924,-2.281396,-2.286094,-2.280028,-2.279595,-2.281434,-2.280083,-2.285583,-2.286166,-2.280935,-2.283287,-2.279895,-2.28209,-2.284787,-2.285492,-2.281512,-2.298022,-2.285391,-2.295139,-2.284582,-2.294819,-2.297092,-2.294098,-2.289198,-2.273755,-2.272913,-2.271875,-2.272676,-2.272199,-2.270933,-2.271659,-2.272448,-2.269903,-2.269037,-2.265263,-2.268847,-2.266791,-2.266048,-2.26942,-2.270948,-2.421208,-2.41814,-2.419771,-2.414942,-2.420657,-2.421877,-2.419537,-2.419479,-2.42074,-2.417213,-2.411975,-2.393972,-2.408939,-2.402236,-2.412754,-2.414688,-2.40996,-2.413105,-2.406999,-2.408705,-2.413818,-2.406297,-2.420811,-2.420195,-2.416453,-2.415718,-2.413914,-2.421653,-2.423633,-2.421824,-2.424354,-2.421911,-2.423872,-2.422804,-2.44881,-2.444387,-2.446073,-2.451161,-2.445935,-2.451196,-2.449226,-2.43953,-2.439346,-2.434288,-2.440144,-2.44059,-2.441981,-2.436171,-2.44009,-2.445047,-2.439291,-2.4355,-2.448241,-2.444242,-2.440376,-2.447383,-2.446071,-2.417026,-2.419699,-2.420666,-2.423509,-2.425902,-2.427942,-2.414015,-2.431678,-2.431865,-2.434899,-2.431807,-2.434563,-2.435021,-2.43355,-2.436091,-2.435495,-2.433437,-2.430788,-2.600255,-2.156078,-2.152509,-2.153388,-2.150639,-2.154441,-2.148706,-2.154198,-2.149513,-2.159228,-2.157281,-2.161672,-2.158312,-2.155516,-2.156301,-2.155605,-2.150465,-2.150641,-2.158817,-2.157102,-2.161362,-2.162383,-2.156302,-2.162999,-2.164098,-2.165567,-2.166844,-2.162554,-2.160801,-2.163894,-2.165123,-2.165597,-2.168946,-2.165765,-2.168123,-2.169513,-2.173552,-2.166999,-2.173404,-2.161988,-2.164641,-2.164842,-2.159854,-2.163939,-2.157894,-2.163936,-2.162721,-2.162733,-2.15841,-2.15865,-2.156464,-2.158489,-2.159252,-2.162448,-2.160084,-2.157051,-2.165284,-2.17282,-2.170851,-2.171767,-2.170196,-2.173809,-2.170359,-2.171067,-2.168028,-2.170299,-2.157467,-2.155592,-2.155417,-2.153909,-2.15635,-2.158758,-2.153402,-2.154156,-2.151425,-2.153747,-2.152726,-2.16832,-2.167037,-2.16311,-2.169262,-2.17044,-2.171543,-2.164515,-2.162692,-2.1635,-2.164063,-2.162727,-2.161585,-2.162215,-2.159505,-2.237673,-2.159486,-2.159312,-2.156163,-2.158587,-2.131535,-2.128906,-2.13234,-2.135317,-2.129777,-2.13317,-2.133009,-2.132013,-2.132538,-2.135036,-2.138507,-2.136656,-2.140099,-2.140437,-2.135541,-2.138771,-2.138156,-2.138101,-2.132186,-2.134542,-2.133168,-2.133104,-2.130547,-2.134596,-2.133498,-2.134221,-2.137347,-2.132278,-2.13235,-2.131371,-2.135488,-2.089892,-2.097078,-2.096535,-2.094174,-2.10218,-2.101334,-2.099614,-2.101177,-2.101083,-2.103305,-2.102372,-2.099277,-2.093706,-2.089425,-2.084834,-2.096545,-2.086121,-2.097431,-2.086746,-2.172962,-2.177406,-2.171932,-2.169597,-2.17883,-2.18631,-2.183606,-2.187207,-2.183776,-2.184164,-2.182059,-2.179967,-2.180713,-2.184053,-2.17524,-2.174123,-2.179989,-2.176826,-2.176116,-2.177478,-2.174086,-2.178227,-2.179334,-2.182466,-2.181981,-2.174857,-2.186355,-2.181002,-2.175882,-2.150143,-2.153408,-2.152012,-2.157115,-2.15677,-2.159669,-2.158876,-2.165216,-2.162415,-2.160114,-2.158456,-2.157396,-2.157505,-2.159614,-2.158653,-2.158121,-2.165,-2.1662,-2.167037,-2.165249,-2.171924,-2.172637,-2.164991,-2.164804,-2.166442,-2.168051,-2.164411,-2.164715,-2.166612,-2.162086,-2.161756,-2.165048,-2.168958,-2.161869,-2.171426,-2.161894,-2.16621,-2.166206,-2.17029,-2.181615,-2.184634,-2.183066,-2.18529,-2.188128,-2.187243,-2.181728,-2.187026,-2.19611,-2.19021,-2.197116,-2.187628,-2.188899,-2.190977,-2.190521,-2.194591,-2.196145,-2.194991,-2.20119,-2.198836,-2.204259,-2.19991,-2.206247,-2.123321,-2.11848,-2.125171,-2.12058,-2.121081,-2.123769,-2.119553,-2.116478,-2.108671,-2.117507,-2.125372,-2.104082,-2.106,-2.102705,-2.113783,-2.124183,-2.109453,-2.119022,-2.117214,-2.123471,-2.104766,-2.106823,-2.0984,-2.106945,-2.103564,-2.129293,-2.125062,-2.130534,-2.136008,-2.126947,-2.125198,-2.127021,-2.118712,-2.112245,-2.112273,-2.112227,-2.113519,-2.073151,-2.074517,-2.0738,-2.050422,-2.048483,-2.063844,-2.071985,-2.072712,-2.070937,-2.068772,-2.06658,-2.095359,-2.085158,-2.094081,-2.089494,-2.090136,-2.091855,-2.08421,-2.091032,-2.082707,-2.084854,-2.085715,-2.083481,-2.081507,-2.082555,-2.184425,-2.183145,-2.188751,-2.186781,-2.18891,-2.183277,-2.18626,-2.183363,-2.178973,-2.182806,-2.178628,-2.181997,-2.177656,-2.178704,-2.17211,-2.1759,-2.180878,-2.178612,-2.1744,-2.179112,-2.09902,-2.10325,-2.100825,-2.101504,-2.090949,-2.096934,-2.103877,-2.099911,-2.09405,-2.09352,-2.090935,-2.0987,-2.094031,-2.106137,-2.10169,-2.103422,-2.102662,-2.101843,-2.103371,-2.112084,-2.114217,-2.111899,-2.109022,-2.105349,-2.106472,-2.109135,-2.1101,-2.113725,-2.106693,-2.108115,-2.107027,-2.208811,-2.204088,-2.202948,-2.212307,-2.212074,-2.211096,-2.18669,-2.195398,-2.188283,-2.184377,-2.190772,-2.185973,-2.194926,-2.198845,-2.195512,-2.201328,-2.197106,-2.190087,-2.194256,-2.212411,-2.214144,-2.207013,-2.209586,-2.211823,-2.203204,-2.146467,-2.142896,-2.142701,-2.141477,-2.143439,-2.141991,-2.137678,-2.14085,-2.142808,-2.142249,-2.143449,-2.141352,-2.161509,-2.163377,-2.156859,-2.153865,-2.160811,-2.160662,-2.158502,-2.157376,-2.157565,-2.156595,-2.152019,-2.147844,-2.158345,-2.162275,-2.15611,-2.153237,-2.151386,-2.159277,-2.148367,-2.1494,-2.157437,-2.157825,-2.159061,-2.157166,-2.153779,-2.154715,-2.147563,-2.15693,-2.158099,-2.158994,-2.162442,-2.155757,-2.161312,-2.161642,-2.159862,-2.156656,-2.158361,-2.162988,-2.158155,-2.159714,-2.158655,-2.158517,-2.1666,-2.160971,-2.163683,-2.165476,-2.158965,-2.143879,-2.140802,-2.142431,-2.142497,-2.141187,-2.139526,-2.13967,-2.139831,-2.139163,-2.139858,-2.135383,-2.137569,-2.138635,-2.126154,-2.128,-2.130856,-2.132406,-2.130654,-2.137768,-2.135275,-2.136247,-2.136493,-2.129088,-2.135164,-2.170188,-2.166428,-2.170063,-2.166684,-2.167954,-2.168919,-2.169744,-2.171835,-2.171724,-2.173971,-2.171814,-2.174305,-2.178027,-2.176003,-2.168703,-2.166433,-2.168193,-2.172727,-2.173136,-2.175252,-2.169612,-2.176617,-2.162284,-2.164539,-2.159828,-2.167966,-2.160525,-2.167251,-2.163998,-2.166634,-2.167044,-2.171958,-2.170842,-2.170404,-2.169669,-2.170963,-2.050008,-2.046548,-2.04715,-2.045926,-2.04427,-2.049474,-2.050555,-2.062888,-2.064299,-2.053226,-2.024789,-2.174569,-2.179273,-2.18267,-2.177636,-2.175576,-2.183692,-2.175887,-2.193588,-2.193218,-2.193267,-2.188594,-2.194681,-2.192885,-2.194062,-2.198811,-2.194444,-2.199402,-2.198004,-2.198591,-2.195992,-2.175063,-2.181156,-2.18135,-2.181215,-2.184062,-2.176398,-2.181063,-2.174342,-2.188858,-2.1919,-2.18522,-2.185722,-2.186956,-2.185028,-2.192048,-2.188389,-2.187462,-2.18742,-2.179286,-2.179723,-2.179791,-2.181365,-2.18338,-2.182591,-2.180807,-2.148734,-2.141597,-2.146974,-2.151289,-2.145431,-2.151157,-2.146299,-2.145205,-2.146938,-2.144002,-2.147851,-2.152893,-2.150271,-2.150288,-2.154534,-2.1561,-2.156441,-2.143082,-2.152482,-2.151136,-2.153756,-2.155665,-2.13981,-2.136245,-2.135482,-2.137672,-2.139089,-2.138857,-2.142993,-2.143681,-2.143941,-2.147222,-2.149218,-2.155474,-2.074272,-2.074535,-2.075377,-2.073509,-2.073676,-2.069596,-2.073527,-2.067712,-2.069783,-2.066985,-2.0672,-2.068221,-2.074989,-2.085955,-2.082582,-2.084208,-2.053564,-2.06435,-2.063154,-2.064069,-2.064592,-2.069484,-2.068851,-2.063645,-2.060027,-2.124244,-2.123208,-2.122836,-2.122245,-2.129696,-2.123485,-2.116871,-2.119015,-2.11618,-2.118223,-2.11715,-2.121737,-2.099809,-2.101067,-2.099707,-2.105419,-2.109112,-2.110272,-2.10501,-2.205255,-2.220365,-2.214051,-2.216191,-2.208729,-2.214855,-2.209396,-2.209496,-2.207251,-2.215469,-2.193866,-2.198075,-2.200232,-2.1978,-2.204101,-2.205534,-2.200395,-2.201976,-2.197551,-2.19939,-2.193226,-2.196184,-2.191561,-2.194323,-2.197391,-2.190095,-2.191657,-2.194136,-2.195791,-2.192961,-2.196256,-2.196691,-2.193618,-2.188711,-2.191691,-2.16496,-2.167087,-2.159974,-2.157884,-2.161159,-2.156336,-2.15206,-2.151393,-2.155161,-2.150674,-2.152796,-2.152089,-2.149401,-2.148533,-2.150296,-2.15927,-2.157857,-2.158035,-2.157984,-2.155075,-2.153747,-2.159789,-2.160565,-2.139022,-2.137037,-2.131605,-2.136297,-2.135276,-2.132548,-2.13299,-2.122926,-2.122903,-2.121138,-2.126707,-2.118717,-2.120474,-2.119961,-2.122871,-2.120828,-2.123097,-2.13356,-2.124702,-2.130443,-2.13056,-2.125457,-2.122493,-2.119742,-2.124418,-2.120023,-2.117758,-2.120517,-2.128367,-2.123464,-2.123571,-2.230327,-2.227824,-2.221351,-2.224561,-2.241824,-2.243187,-2.240846,-2.243638,-2.244842,-2.240126,-2.239398,-2.233784,-2.234567,-2.237521,-2.233251,-2.241911,-2.244601,-2.245317,-2.235045,-2.177459,-2.178745,-2.172642,-2.174064,-2.171916,-2.171992,-2.172715,-2.173723,-2.176139,-2.174208,-2.170146,-2.167937,-2.169882,-2.17359,-2.173787,-2.164551,-2.165548,-2.166853,-2.167383,-2.164507,-2.164738,-2.166219,-2.161212,-2.151154,-2.144343,-2.151792,-2.143004,-2.131849,-2.130718,-2.138896,-2.129199,-2.139234,-2.149337,-2.140945,-2.144702,-2.143368,-2.144225,-2.147346,-2.15202,-2.147207,-2.14486,-2.139138,-2.134778,-2.135607,-2.136502,-2.137785,-2.13459,-2.129426,-2.131356,-2.133559,-2.132439,-2.127724,-2.12887,-2.129545,-2.238881,-2.236156,-2.228962,-2.229871,-2.230856,-2.226262,-2.216395,-2.217173,-2.221716,-2.214726,-2.215786,-2.206269,-2.209852,-2.211978,-2.21176,-2.208527,-2.212567,-2.210946,-2.207819,-2.212539,-2.213056,-2.209799,-2.209865,-2.219454,-2.220622,-2.221066,-2.058595,-2.058595,-2.059928,-2.059931,-2.061338,-2.058712,-2.061836,-2.06544,-2.064016,-2.064627,-2.076406,-2.071109,-2.072056,-2.072135,-2.076271,-2.06768,-2.061735,-2.062653,-2.180478,-2.183889,-2.179886,-2.196404,-2.191822,-2.194303,-2.195332,-2.198725,-2.200238,-2.201191,-2.201649,-2.200631,-2.199131,-2.209831,-2.205898,-2.197617,-2.194341,-2.19534,-2.194993,-2.189706,-2.187664,-2.195046,-2.186859,-2.11929,-2.118761,-2.115498,-2.111485,-2.113697,-2.117185,-2.116775,-2.111874,-2.112828,-2.118301,-2.113552,-2.125458,-2.124135,-2.127648,-2.123229,-2.124506,-2.123581,-2.123074,-2.123696,-2.121028,-2.122143,-2.124471,-2.118962,-2.120943,-2.124449,-2.122168,-2.127326,-2.128816,-2.119979,-2.117509,-2.120827,-2.128337,-2.120884,-2.129597,-2.118054,-2.116507,-2.121204,-2.162224,-2.168028,-2.17123,-2.175015,-2.176082,-2.171004,-2.160843,-2.164216,-2.164364,-2.128857,-2.145008,-2.146599,-2.140666,-2.13841,-2.142041,-2.140221,-2.132913,-2.134463,-2.133372,-2.137859,-2.121347,-2.20184,-2.207127,-2.207925,-2.200889,-2.199023,-2.199029,-2.201893,-2.201913,-2.192387,-2.196183,-2.19186,-2.194348,-2.204732,-2.113428,-2.117597,-2.124387,-2.123526,-2.122313,-2.107997,-2.221554,-2.222874,-2.224318,-2.232901,-2.228124,-2.230523,-2.227966,-2.235085,-2.22629,-2.233493,-2.227384,-2.238506,-2.237398,-2.235614,-2.237779,-2.158543,-2.156021,-2.147827,-2.148794,-2.148004,-2.159285,-2.160975,-2.148929,-2.147142,-2.151579,-2.148258,-2.151874,-2.15957,-2.157047,-2.097825,-2.094352,-2.062203,-2.071338,-2.070685,-2.071136,-2.077418,-2.071724,-2.074402,-2.070777,-2.077216,-2.078558,-2.189041,-2.188853,-2.188076,-2.18612,-2.187449,-2.185163,-2.189184,-2.189527,-2.190318,-2.18843,-2.188839,-2.189473,-2.194579,-2.194107,-2.192616,-2.194992,-2.197966,-2.193533,-2.184033,-2.185189,-2.183766,-2.183298,-2.214353,-2.220718,-2.223953,-2.222942,-2.22423,-2.216921,-2.219847,-2.212825,-2.208085,-2.22182,-2.227088,-2.2289,-2.227929,-2.22289,-2.226008,-2.225379,-2.18128,-2.179654,-2.186714,-2.185656,-2.181493,-2.186074,-2.175701,-2.177436,-2.172305,-2.171313,-2.174363,-2.170365,-2.172761,-2.167587,-2.166562,-2.171074,-2.167177,-2.165999,-2.165689,-2.167151,-2.160233,-2.16324,-2.167164,-2.156955,-2.029573,-2.027975,-2.027279,-2.050096,-2.048392,-2.050624,-2.048968,-2.050045,-2.049614,-2.050768,-2.045776,-2.049311,-2.048736,-2.04085,-2.042023,-2.040711,-2.031072,-2.03089,-2.029169,-2.042064,-2.043421,-2.040181,-2.04317,-2.040043,-2.046835,-2.044799,-2.047107,-2.04397,-2.038842,-2.042789,-2.034932,-2.039665,-2.034827,-2.09074,-2.079475,-2.092128,-2.075993,-2.076824,-2.080391,-2.075825,-2.080856,-2.082649,-2.086193,-2.084548,-2.092153,-2.091861,-2.102381,-2.096632,-2.09777,-2.029747,-2.032205,-2.029038,-2.034211,-2.032372,-2.031844,-2.028299,-2.031797,-2.028042,-2.033547,-2.026912,-2.029239,-2.025245,-2.028092,-2.031574,-2.028061,-2.03073,-2.031678,-2.032778,-2.026479,-2.025698,-2.01632,-2.015883,-2.043872,-2.054557,-2.069673,-2.073351,-2.064245,-2.066884,-2.07393,-2.063917,-2.065453,-2.062798,-2.062522,-2.062483,-2.061262,-2.060402,-2.073737,-2.079202,-2.078895,-2.07273,-2.076436,-2.076453,-2.069018,-2.078393,-2.071673,-2.078059,-2.077728,-2.073314,-2.08132,-2.082279,-2.085261,-2.083724,-2.082201,-2.079959,-2.085217,-2.081148,-2.083352,-2.079331,-2.089327,-2.083271,-2.080858,-2.078568,-2.079743,-2.080629,-2.081218,-2.082923,-2.081686,-2.078188,-2.104137,-2.104346,-2.104806,-2.103714,-2.10278,-2.10012,-2.106399,-2.103531,-2.107032,-2.105765,-2.111836,-2.113056,-2.113171,-2.110676,-2.114091,-2.109806,-2.116883,-2.115001,-2.104037,-2.106222,-2.103277,-2.102618,-2.100776,-2.104547,-2.099524,-2.104315,-2.10724,-2.108001,-2.111011,-2.110576,-2.108651,-2.110022,-2.105883,-2.112485,-2.104444,-2.10995,-2.108439,-2.106211,-2.110106,-2.104582,-2.107052,-2.106315,-2.107963,-2.084599,-2.08707,-2.085905,-2.083137,-2.086271,-2.085682,-2.089064,-2.087298,-2.092889,-2.092418,-2.094922,-2.09583,-2.0904,-2.095738,-2.09506,-2.095553,-2.090297,-2.09041,-2.090826,-2.084663,-2.078263,-2.078158,-2.090045,-2.08161,-2.088311,-2.075897,-2.088913,-2.092223,-2.092836,-2.093428,-2.094744,-2.090511,-2.091103,-2.09684,-2.10259,-2.098672,-2.100485,-2.096536,-2.10047,-2.098378,-2.082902,-2.087397,-2.07952,-2.085753,-2.079627,-2.086083,-2.085335,-2.087339,-2.085105,-2.07322,-2.073895,-2.079029,-2.074364,-2.07752,-2.080353,-2.08673,-2.075945,-2.082225,-2.07872,-2.074087,-2.080584,-2.076064,-2.083588,-2.088586,-2.083692,-2.078914,-2.074436,-2.07837,-2.077165,-2.0792,-2.07947,-2.075009,-2.072515,-2.073297,-2.074231,-2.07349,-2.075602,-2.057586,-2.06143,-2.055974,-2.059489,-2.055994,-2.05827,-2.059922,-2.056943,-2.056547,-2.058326,-2.056491,-2.057457,-2.061011,-2.055977,-2.054271,-2.061945,-2.060469,-2.059104,-2.060279,-2.058169,-2.063556,-2.062557,-2.06105,-2.063374,-2.061531,-2.057358,-2.056588,-2.059423,-2.057223,-2.05565,-2.057371,-2.058638,-2.059673,-2.066439,-2.060034,-2.062715,-2.061074,-2.063725,-2.061362,-2.063918,-2.065998,-2.065369,-2.05993,-2.035349,-2.035591,-2.036059,-2.058071,-2.052298,-2.046329,-2.046816,-2.045245,-2.040453,-2.039776,-2.036251,-2.041748,-2.04113,-2.041371,-2.043632,-2.031973,-2.033163,-2.02881,-2.030952,-2.032097,-2.133063,-2.131351,-2.13195,-2.126711,-2.130112,-2.127578,-2.129073,-2.136214,-2.137435,-2.135889,-2.133299,-2.139432,-2.136878,-2.138623,-2.140094,-2.134311,-2.145528,-2.143178,-2.141538,-2.141955,-2.144474,-2.140475,-2.139499,-2.139721,-2.144241,-2.146046,-2.143794,-2.144599,-2.143344,-2.145678,-2.144671,-2.14609,-2.14927,-2.145705,-2.147732,-2.141236,-2.141928,-2.14598,-2.147245,-2.143781,-2.143033,-2.143498,-2.150196,-2.153457,-2.154514,-2.150343,-2.154543,-2.150171,-2.147769,-2.154191,-2.149486,-2.150692,-2.151955,-2.150379,-2.152507,-2.151,-2.152232,-2.151068,-2.149029,-2.148296,-2.147732,-2.153665,-2.148556,-2.153242,-2.156345,-2.151341,-2.150553,-2.153877,-2.149192,-2.153414,-2.161109,-2.160662,-2.162682,-2.164191,-2.164716,-2.166915,-2.163881,-2.165189,-2.166902,-2.164897,-2.167947,-2.161179,-2.165489,-2.163845,-2.164769,-2.165027,-2.16575,-2.166962,-2.163208,-2.159326,-2.167349,-2.167707,-2.163823,-2.159576,-2.087614,-2.091216,-2.092637,-2.092977,-2.09638,-2.092138,-2.097941,-2.091608,-2.095314,-2.101784,-2.093636,-2.099607,-2.097732,-2.095219,-2.095373,-2.100766,-2.097729,-2.094318,-2.09745,-2.094387,-2.096957,-2.097898,-2.089636,-2.096127,-2.089612,-2.094603,-2.095644,-2.102017,-2.089211,-2.089381,-2.086968,-2.111857,-2.111012,-2.107358,-2.1054,-2.11429,-2.10585,-2.104069,-2.103618,-2.103845,-2.104988,-2.1083,-2.109232,-2.106598,-2.112373,-2.115907,-2.113057,-2.115391,-2.11472,-2.115319,-2.100352,-2.10441,-2.100753,-2.10759,-2.107097,-2.105677,-2.10481,-2.103155,-2.105289,-2.102731,-2.104704,-2.10589,-2.101511,-2.103213,-2.103036,-2.107623,-2.108515,-2.109904,-2.110143,-2.109431,-2.111521,-2.112064,-2.108509,-2.112686,-2.109191,-2.147626,-2.140916,-2.13767,-2.145941,-2.131974,-2.131873,-2.125374,-2.132056,-2.133989,-2.13649,-2.13207,-2.13255,-2.135511,-2.058021,-2.053183,-2.05745,-2.057254,-2.057747,-2.056153,-2.055686,-2.051301,-2.050607,-2.056275,-2.056798,-2.067238,-2.06742,-2.069357,-2.070552,-2.072376,-2.060552,-2.065455,-2.068594,-2.065741,-2.043071,-2.045032,-2.046749,-2.04106,-2.034207,-2.039903,-2.049174,-2.037189,-2.041258,-2.030135,-2.028841,-2.028312,-2.083444,-2.081865,-2.078447,-2.084154,-2.07849,-2.057102,-2.053682,-2.054665,-2.053414,-2.054594,-2.057026,-2.060812,-2.063893,-2.066706,-2.064641,-2.060319,-2.066599,-2.075248,-2.07355,-2.068441,-2.068575,-2.077358,-2.067101,-2.073427,-2.069597,-2.08691,-2.088654,-2.08971,-2.08836,-2.090239,-2.089184,-2.099043,-2.092021,-2.093558,-2.094616,-2.097746,-2.095349,-2.09558,-2.095894,-2.093905,-2.092972,-2.095007,-2.084472,-2.090322,-2.088097,-2.086098,-2.089522,-2.083282,-2.088078,-2.081111,-2.090642,-2.089889,-2.09115,-2.094738,-2.092341,-2.095132,-2.093492,-2.096909,-2.093155,-2.090943,-2.094983,-2.098671,-2.08365,-2.082223,-2.085373,-2.078861,-2.08528,-2.081044,-2.072112,-2.075765,-2.074068,-2.075752,-2.072759,-2.08577,-2.092525,-2.084775,-2.092929,-2.087866,-2.066596,-2.064727,-2.062739,-2.064699,-2.07003,-2.064004,-2.064803,-2.066968,-2.062285,-2.064151,-2.064363,-2.071112,-2.06513,-2.120353,-2.114521,-2.119286,-2.120527,-2.114918,-2.12208,-2.122219,-2.112655,-2.108782,-2.111696,-2.114167,-2.110219,-2.110584,-2.113295,-2.112451,-2.112859,-2.11791,-2.120796,-2.115686,-2.114963,-2.115867,-2.113381,-2.118605,-2.116374,-2.114231,-2.11501,-2.113966,-2.115223,-2.118019,-2.089146,-2.085932,-2.085995,-2.087688,-2.087521,-2.081771,-2.088353,-2.084088,-2.086911,-2.086627,-2.06994,-2.068415,-2.069414,-2.070071,-2.074445,-2.068899,-2.068601,-2.076976,-2.078451,-2.07907,-2.078192,-2.074182,-2.080181,-2.062651,-2.064188,-2.068332,-2.065573,-2.061961,-2.062111,-2.064774,-2.066599,-2.065616,-2.067893,-2.064927,-2.061522,-2.074491,-2.072416,-2.080526,-2.067433,-2.071868,-2.0778,-2.074934,-2.068894,-2.069646,-2.086041,-2.082039,-2.082393,-2.079746,-2.083435,-2.08392,-2.081085,-2.110638,-2.104534,-2.113548,-2.117244,-2.112574,-2.114786,-2.11586,-2.111615,-2.115603,-2.111987,-2.115301,-2.1169,-2.110088,-2.111817,-2.112292,-2.106472,-2.105244,-2.113118,-2.112345,-2.114914,-2.115018,-2.113237,-2.114418,-2.111228,-2.114717,-2.115749,-2.11626,-2.11361,-2.059904,-2.054393,-2.045196,-2.062803,-2.060301,-2.06715,-2.071293,-2.066036,-2.067154,-2.064921,-2.065513,-2.062813,-2.064835,-2.06265,-2.06232,-2.054229,-2.048463,-2.06054,-2.049895,-2.056546,-2.058353,-2.062266,-2.06673,-1.986737,-2.012642,-2.017328,-2.014268,-2.012793,-2.024047,-2.013591,-1.99353,-1.992009,-1.991993,-1.992521,-1.995925,-1.993184,-2.022726,-2.019125,-2.019068,-2.140503,-2.137554,-2.137082,-2.14056,-2.146516,-2.145264,-2.147786,-2.148453,-2.148576,-2.150281,-2.151231,-2.154569,-2.151435,-2.143069,-2.145468,-2.140437,-2.339794,-2.33569,-2.338294,-2.340521,-2.141095,-2.156786,-2.151486,-2.150767,-2.149443,-2.114907,-2.125948,-2.115644,-2.118507,-2.128362,-2.125074,-2.126364,-2.124229,-2.117885,-2.121247,-2.122326,-2.124226,-2.121225,-2.125625,-2.121348,-2.128705,-2.121322,-2.124606,-2.121939,-2.118087,-2.123998,-2.124048,-2.103832,-2.098981,-2.102576,-2.110817,-2.106785,-2.103761,-2.106707,-2.104044,-2.103632,-2.105072,-2.108779,-2.10399,-2.093479,-2.095209,-2.096731,-2.095678,-2.09884,-2.093071,-2.094972,-2.093642,-2.029067,-2.03214,-2.029035,-2.037773,-2.029098,-2.02937,-2.031536,-2.034746,-2.03696,-2.039081,-2.041672,-2.040857,-2.039487,-2.038566,-2.037558,-2.038975,-2.041848,-2.04078,-2.035824,-2.041824,-2.024383,-2.025421,-2.025695,-2.025965,-2.023719,-2.025966,-2.027078,-2.029124,-2.026323,-2.025786,-2.025603,-2.024218,-2.029335,-2.013093,-2.013951,-2.016299,-2.017429,-2.018392,-2.020816,-2.015969,-2.070066,-2.070612,-2.076969,-2.072721,-2.079122,-2.065623,-2.069574,-2.064933,-2.069928,-2.080417,-2.077372,-2.080341,-2.07635,-2.074389,-2.073074,-2.077657,-2.074074,-2.071976,-2.070937,-2.072269,-2.074128,-2.072249,-2.067943,-2.074043,-2.066021,-2.060302,-2.064763,-2.064969,-2.064036,-2.060287,-2.06831,-2.083123,-2.085692,-2.083554,-2.081102,-2.091848,-2.07955,-2.082611,-2.084103,-2.089046,-2.087813,-2.084254,-2.085087,-2.081723,-2.078363,-2.09259,-2.090716,-2.07937,-2.076374,-2.074773,-2.075101,-2.079008,-2.075885,-2.075257,-2.076627,-2.071221,-2.098393,-2.093514,-2.094322,-2.095541,-2.095875,-2.101538,-2.104365,-2.101481,-2.104042,-2.103159,-2.105049,-2.104731,-2.104788,-2.113409,-2.10852,-2.107771,-2.109656,-2.106156,-2.106041,-2.111636,-2.108917,-2.106309,-2.117692,-2.113383,-2.098686,-2.102152,-2.100225,-2.097482,-2.100021,-2.104266,-2.107296,-2.105344,-2.104383,-2.105475,-2.071493,-2.072309,-2.070486,-2.066192,-2.070609,-2.070692,-2.070238,-2.069735,-2.069756,-2.069213,-2.069776,-2.067322,-2.070773,-2.083549,-2.080589,-2.078566,-2.077147,-2.081433,-2.084365,-2.074708,-2.081551,-2.086459,-2.075737,-2.082681,-2.079288,-2.084476,-2.08348,-2.083133,-2.07233,-2.054507,-2.061875,-2.064171,-2.070287,-2.072786,-2.073783,-2.075947,-2.257697,-2.256973,-2.253905,-2.261062,-2.255814,-2.255501,-2.259646,-2.259607,-2.26398,-2.264403,-2.265185,-2.267496,-2.266647,-2.265982,-2.263802,-2.266444,-2.264029,-2.266114,-2.265934,-2.261699,-2.259219,-2.260749,-2.263542,-2.262405,-2.260963,-2.262748,-2.265422,-2.268331,-2.264425,-2.265562,-2.264234,-2.265046,-2.269503,-2.270405,-2.265261,-2.271457,-2.260612,-2.269899,-2.267161,-2.269052,-2.263108,-2.263973,-2.269511,-2.267735,-2.275137,-2.268568,-2.274641,-2.27289,-2.272634,-2.274193,-2.356784,-2.359086,-2.362614,-2.34701,-2.351457,-2.347849,-2.350005,-2.349357,-2.350111,-2.35687,-2.352523,-2.355257,-2.344814,-2.344612,-2.353493,-2.343914,-2.354175,-2.353759,-2.34285,-2.344426,-2.32908,-2.350865,-2.333903,-2.344832,-2.317025,-2.333799,-2.353982,-2.34714,-2.29996,-2.293971,-2.291586,-2.293037,-2.288914,-2.288575,-2.288448,-2.293093,-2.297487,-2.286684,-2.28296,-2.294088,-2.2862,-2.287218,-2.301106,-2.289113,-2.299725,-2.297748,-2.30131,-2.296851,-2.298245,-2.297735,-2.30051,-2.301388,-2.29971,-2.30289,-2.302306,-2.301347,-2.303381,-2.310426,-2.309468,-2.305648,-2.309203,-2.309504,-2.305703,-2.309146,-2.312684,-2.273257,-2.268729,-2.268856,-2.273625,-2.270405,-2.269033,-2.27405,-2.276122,-2.274227,-2.275458,-2.275957,-2.277496,-2.270814,-2.268109,-2.272449,-2.264481,-2.271895,-2.269931,-2.266287,-2.28623,-2.285017,-2.290539,-2.275771,-2.276185,-2.285786,-2.277528,-2.287455,-2.282364,-2.281867,-2.282188,-2.282264,-2.281673,-2.37984,-2.375827,-2.382184,-2.376587,-2.376852,-2.37196,-2.366846,-2.367806,-2.357458,-2.364817,-2.369466,-2.370021,-2.380932,-2.373934,-2.375838,-2.368732,-2.376466,-2.384587,-2.382403,-2.333621,-2.330293,-2.332117,-2.330129,-2.331095,-2.313734,-2.31854,-2.29199,-2.316643,-2.28404,-2.307958,-2.310075,-2.308174,-2.301137,-2.312377,-2.321209,-2.32322,-2.323287,-2.314712,-2.325322,-2.320786,-2.329253,-2.326884,-2.326483,-2.33124,-2.323902,-2.323241,-2.325646,-2.3212,-2.315089,-2.317876,-2.315911,-2.31583,-2.315841,-2.316582,-2.396294,-2.397982,-2.397051,-2.391809,-2.393994,-2.399243,-2.396574,-2.395231,-2.396234,-2.403788,-2.400241,-2.398252,-2.404698,-2.40434,-2.398979,-2.403608,-2.401739,-2.385368,-2.391925,-2.390535,-2.384926,-2.385543,-2.386465,-2.388553,-2.381837,-2.391579,-2.387878,-2.390998,-2.385979,-2.38884,-2.390812,-2.335548,-2.336085,-2.335741,-2.338709,-2.338056,-2.331566,-2.336758,-2.330867,-2.332541,-2.323386,-2.323013,-2.337459,-2.333246,-2.333012,-2.31531,-2.31689,-2.311706,-2.313068,-2.314008,-2.312156,-2.313568,-2.329848,-2.327524,-2.321472,-2.325757,-2.326563,-2.328088,-2.334494,-2.32637,-2.333332,-2.35227,-2.352603,-2.353652,-2.351072,-2.346631,-2.344122,-2.342671,-2.343706,-2.342974,-2.347119,-2.345468,-2.347675,-2.35818,-2.361681,-2.361428,-2.360134,-2.363502,-2.35357,-2.352922,-2.350852,-2.355153,-2.36244,-2.358258,-2.356597,-2.373987,-2.371591,-2.370836,-2.365457,-2.367022,-2.366696,-2.364024,-2.364964,-2.366478,-2.368174,-2.365205,-2.366446,-2.362497,-2.363544,-2.299109,-2.295573,-2.296387,-2.293503,-2.300635,-2.294527,-2.298813,-2.300171,-2.303113,-2.297853,-2.301821,-2.300989,-2.307372,-2.305181,-2.30858,-2.308504,-2.30935,-2.309744,-2.308498,-2.311318,-2.310278,-2.307721,-2.310712,-2.30973,-2.312106,-2.307183,-2.310949,-2.306689,-2.308143,-2.307445,-2.309714,-2.314814,-2.308764,-2.311498,-2.316203,-2.310318,-2.330988,-2.33302,-2.328591,-2.331161,-2.322543,-2.328411,-2.332038,-2.332578,-2.332162,-2.333372,-2.331097,-2.321446,-2.317188,-2.319107,-2.357107,-2.351592,-2.35802,-2.359694,-2.342053,-2.351356,-2.342903,-2.345323,-2.347721,-2.346452,-2.341451,-2.338435,-2.345503,-2.340366,-2.340846,-2.356451,-2.355199,-2.351322,-2.357178,-2.350185,-2.354047,-2.34884,-2.351766,-2.311829,-2.309545,-2.315138,-2.308048,-2.312326,-2.311375,-2.302635,-2.299551,-2.301323,-2.301672,-2.308988,-2.303583,-2.303777,-2.305394,-2.309846,-2.308624,-2.305339,-2.298199,-2.295582,-2.297615,-2.296654,-2.303388,-2.302274,-2.295638,-2.317838,-2.325039,-2.319835,-2.319221,-2.32619,-2.320982,-2.325619,-2.319177,-2.327056,-2.322774,-2.319437,-2.319606,-2.327692,-2.32376,-2.328506,-2.322199,-2.320256,-2.318177,-2.324594,-2.312265,-2.309826,-2.312676,-2.320663,-2.323764,-2.325193,-2.335209,-2.339481,-2.342185,-2.336285,-2.344486,-2.345514,-2.339266,-2.336406,-2.348136,-2.34965,-2.349269,-2.355659,-2.349784,-2.347136,-2.342678,-2.350376,-2.428159,-2.423463,-2.42587,-2.425714,-2.430771,-2.431944,-2.426374,-2.43904,-2.433391,-2.426439,-2.434793,-2.432784,-2.436028,-2.432755,-2.433778,-2.433446,-2.436122,-2.437757,-2.437149,-2.430674,-2.431954,-2.441373,-2.430351,-2.434797,-2.424867,-2.3849,-2.384706,-2.397872,-2.427535,-2.398357,-2.420133,-2.392317,-2.43703,-2.435839,-2.438804,-2.432832,-2.438497,-2.433719,-2.436638,-2.439052,-2.306081,-2.311678,-2.30969,-2.311538,-2.311434,-2.298659,-2.295838,-2.292347,-2.294649,-2.29771,-2.29628,-2.295516,-2.293708,-2.292314,-2.293491,-2.288176,-2.291186,-2.291974,-2.299958,-2.30014,-2.302315,-2.297676,-2.301102,-2.297644,-2.298201,-2.301945,-2.299166,-2.357348,-2.365115,-2.358253,-2.365304,-2.365466,-2.365828,-2.362001,-2.366843,-2.368365,-2.361631,-2.360304,-2.361449,-2.368098,-2.365311,-2.361219,-2.359392,-2.355454,-2.359442,-2.359042,-2.355755,-2.349032,-2.355178,-2.35815,-2.354952,-2.354261,-2.353084,-2.353688,-2.359613,-2.362624,-2.360111,-2.362304,-2.36003,-2.362735,-2.342493,-2.343311,-2.339804,-2.342217,-2.342075,-2.342861,-2.343474,-2.345194,-2.351291,-2.348711,-2.340599,-2.348159,-2.351464,-2.338502,-2.334961,-2.332972,-2.335998,-2.334276,-2.338697,-2.336169,-2.341996,-2.330901,-2.325882,-2.334027,-2.323332,-2.323705,-2.331372,-2.326826,-2.326711,-2.329039,-2.331232,-2.322083,-2.32481,-2.325678,-2.315834,-2.321244,-2.315672,-2.31681,-2.323128,-2.32003,-2.325959,-2.310491,-2.314664,-2.316717,-2.310185,-2.311166,-2.307884,-2.311678,-2.31015,-2.304421,-2.305961,-2.306888,-2.305239,-2.308817,-2.303096,-2.302717,-2.310276,-2.311516,-2.307441,-2.300982,-2.319539,-2.316473,-2.316814,-2.320618,-2.319166,-2.321092,-2.323504,-2.320775,-2.336886,-2.334218,-2.33648,-2.332566,-2.337654,-2.33628,-2.338784,-2.321874,-2.331995,-2.330186,-2.323771,-2.327004,-2.31927,-2.326157,-2.317172,-2.354948,-2.349621,-2.35332,-2.355412,-2.350657,-2.34761,-2.347351,-2.348287,-2.352244,-2.348321,-2.345371,-2.345589,-2.346487,-2.34925,-2.344893,-2.353716,-2.357136,-2.354413,-2.351378,-2.355564,-2.341329,-2.339477,-2.343021,-2.347186,-2.344922,-2.342834,-2.34417,-2.335984,-2.347148,-2.343713,-2.34332,-2.344984,-2.344925,-2.345331,-2.335828,-2.341389,-2.371835,-2.374027,-2.373695,-2.370318,-2.373355,-2.373177,-2.350113,-2.350402,-2.350369,-2.348449,-2.350132,-2.351201,-2.35228,-2.359055,-2.351737,-2.351707,-2.35326,-2.351831,-2.350106,-2.359895,-2.357558,-2.352061,-2.360579,-2.354467,-2.365284,-2.364433,-2.374593,-2.340877,-2.329521,-2.337525,-2.343558,-2.343565,-2.338117,-2.340085,-2.337623,-2.346032,-2.341576,-2.34181,-2.342295,-2.340909,-2.334271,-2.338593,-2.33331,-2.337923,-2.324841,-2.329247,-2.322284,-2.331768,-2.327227,-2.350647,-2.348435,-2.355882,-2.349716,-2.357113,-2.364719,-2.367997,-2.372531,-2.346045,-2.348876,-2.352909,-2.361938,-2.365642,-2.362925,-2.364387,-2.356988,-2.365997,-2.357141,-2.346573,-2.360413,-2.344578,-2.323829,-2.325275,-2.329265,-2.342253,-2.324232,-2.320902,-2.314895,-2.310906,-2.313106,-2.32156,-2.313361,-2.310448,-2.30539,-2.317001,-2.310432,-2.319534,-2.309334,-2.31262,-2.310218,-2.297636,-2.682786,-2.68223,-2.685109,-2.676133,-2.678173,-2.685453,-2.671515,-2.673653,-2.671619,-2.664051,-2.66649,-2.666979,-2.662308,-2.669278,-2.659985,-2.662818,-2.64795,-2.654435,-2.654035,-2.655687,-2.652013,-2.654434,-2.643703,-2.65759,-2.648441,-2.65538,-2.654371,-2.656804,-2.660365,-2.662001,-2.663936,-2.656761,-2.657878,-2.656075,-2.653858,-2.670729,-2.673656,-2.686693,-2.684313,-2.68751,-2.692392,-2.692928,-2.693268,-2.693952,-2.696832,-2.692903,-2.696948,-2.696467,-2.711373,-2.695555,-2.685995,-2.683329,-2.686513,-2.703929,-2.708537,-2.703601,-2.715211,-2.713011,-2.711821,-2.589779,-2.584702,-2.591121,-2.594478,-2.591516,-2.585926,-2.585021,-2.621346,-2.57968,-2.583131,-2.581103,-2.581573,-2.580641,-2.590471,-2.588888,-2.594099,-2.591681,-2.656281,-2.656815,-2.654147,-2.658825,-2.663014,-2.660525,-2.658438,-2.657723,-2.657915,-2.657099,-2.655607,-2.6575,-2.654216,-2.646391,-2.647332,-2.647602,-2.643576,-2.642704,-2.663363,-2.658225,-2.656596,-2.656554,-2.658863,-2.654474,-2.657132,-2.658686,-2.659032,-2.655522,-2.659499,-2.650527,-2.646584,-2.649767,-2.628942,-2.630304,-2.631387,-2.629165,-2.631441,-2.627947,-2.628189,-2.629398,-2.628608,-2.629032,-2.629241,-2.626637,-2.628353,-2.630762,-2.625534,-2.63871,-2.638918,-2.636811,-2.634233,-2.638056,-2.632672,-2.635793,-2.639481,-2.635177,-2.635505,-2.632751,-2.631231,-2.627756,-2.627167,-2.634898,-2.627842,-2.63313,-2.635917,-2.632795,-2.621588,-2.617355,-2.619983,-2.622458,-2.620305,-2.622375,-2.618233,-2.56173,-2.584168,-2.572599,-2.597527,-2.596779,-2.601812,-2.601999,-2.595448,-2.60386,-2.602674,-2.594612,-2.601648,-2.602037,-2.611952,-2.61452,-2.613725,-2.608991,-2.604778,-2.609693,-2.603914,-2.607193,-2.608795,-2.608878,-2.645837,-2.645807,-2.645782,-2.647471,-2.648331,-2.651374,-2.650909,-2.64924,-2.649508,-2.643775,-2.632994,-2.633163,-2.630621,-2.631029,-2.635937,-2.631564,-2.631846,-2.647248,-2.642386,-2.63823,-2.628354,-2.633733,-2.645235,-2.638316,-2.640733,-2.642659,-2.630205,-2.63479,-2.632822,-2.641365,-2.627544,-2.643089,-2.636481,-2.644262,-2.643863,-2.646759,-2.645813,-2.63792,-2.641971,-2.638852,-2.64218,-2.641365,-2.637517,-2.633826,-2.632873,-2.631191,-2.630781,-2.632185,-2.631702,-2.620234,-2.624735,-2.627627,-2.617755,-2.622845,-2.620662,-2.622601,-2.619881,-2.612262,-2.611087,-2.613169,-2.611541,-2.615121,-2.609563,-2.625256,-2.620574,-2.618892,-2.623046,-2.619603,-2.626073,-2.625445,-2.624879,-2.623511,-2.619494,-2.627242,-2.626057,-2.625187,-2.620381,-2.621602,-2.624177,-2.617596,-2.619139,-2.620823,-2.623148,-2.617418,-2.616668,-2.616701,-2.619019,-2.618729,-2.619928,-2.622036,-2.618,-2.6178,-2.616254,-2.615731,-2.615383,-2.616122,-2.615874,-2.621294,-2.615694,-2.664048,-2.6605,-2.663753,-2.666704,-2.661446,-2.663997,-2.662178,-2.661215,-2.668622,-2.666129,-2.660758,-2.664584,-2.665612,-2.660333,-2.667129,-2.665451,-2.668535,-2.662792,-2.677837,-2.671081,-2.674927,-2.672953,-2.678277,-2.671593,-2.678742,-2.67602,-2.678419,-2.665416,-2.675625,-2.675495,-2.672022,-2.676722,-2.676824,-2.672389,-2.670133,-2.673347,-2.678565,-2.675583,-2.671216,-2.680664,-2.671605,-2.673737,-2.667114,-2.663015,-2.664466,-2.675628,-2.67247,-2.662853,-2.672507,-2.66686,-2.66549,-2.679599,-2.680518,-2.681522,-2.679792,-2.680918,-2.683459,-2.680602,-2.695484,-2.684677,-2.683632,-2.69016,-2.683613,-2.683265,-2.685774,-2.68404,-2.682181,-2.685813,-2.687285,-2.687529,-2.685244,-2.687706,-2.687576,-2.686607,-2.691591,-2.598719,-2.591815,-2.596315,-2.596002,-2.60075,-2.596342,-2.594006,-2.601653,-2.601248,-2.606302,-2.60459,-2.6044,-2.608336,-2.596265,-2.603146,-2.60854,-2.607683,-2.613084,-2.611131,-2.608914,-2.614995,-2.611804,-2.616926,-2.614758,-2.615311,-2.610467,-2.61163,-2.610968,-2.611635,-2.614232,-2.616514,-2.617211,-2.627203,-2.621246,-2.619788,-2.619867,-2.6196,-2.621383,-2.6176,-2.618712,-2.602983,-2.59662,-2.602005,-2.593097,-2.602415,-2.600537,-2.599368,-2.594375,-2.595049,-2.580017,-2.584555,-2.58451,-2.579928,-2.583055,-2.582423,-2.586417,-2.585693,-2.57973,-2.581053,-2.576601,-2.576229,-2.574483,-2.574327,-2.575259,-2.577979,-2.574631,-2.573858,-2.579481,-2.576923,-2.575441,-2.577552,-2.575268,-2.57682,-2.576746,-2.582372,-2.559656,-2.566471,-2.561843,-2.565645,-2.567513,-2.564218,-2.568416,-2.578194,-2.577019,-2.579089,-2.575495,-2.576977,-2.576292,-2.57555,-2.660326,-2.660197,-2.664629,-2.668949,-2.674725,-2.67389,-2.674235,-2.666912,-2.673519,-2.665361,-2.666685,-2.669597,-2.667605,-2.667029,-2.66798,-2.671403,-2.668598,-2.685854,-2.675295,-2.681776,-2.679595,-2.681374,-2.685832,-2.679784,-2.680696,-2.685053,-2.68649,-2.686792,-2.684673,-2.676954,-2.681234,-2.683159,-2.683263,-2.679928,-2.685161,-2.672118,-2.671427,-2.67703,-2.673698,-2.674674,-2.672622,-2.677118,-2.677934,-2.671146,-2.678927,-2.634621,-2.646118,-2.638839,-2.640804,-2.650466,-2.637407,-2.65114,-2.631695,-2.637788,-2.64156,-2.634795,-2.63072,-2.634753,-2.635691,-2.636827,-2.638865,-2.640811,-2.637563,-2.639861,-2.657783,-2.658587,-2.655965,-2.654489,-2.657394,-2.654336,-2.657927,-2.653642,-2.657165,-2.656931,-2.657176,-2.652448,-2.656176,-2.654227,-2.655805,-2.657644,-2.659874,-2.657374,-2.652254,-2.653163,-2.654293,-2.643823,-2.643251,-2.643268,-2.642802,-2.64003,-2.652603,-2.648153,-2.64695,-2.647687,-2.650854,-2.650672,-2.648841,-2.652128,-2.645921,-2.64982,-2.650561,-2.647983,-2.649021,-2.650101,-2.562489,-2.555905,-2.558265,-2.55665,-2.561367,-2.563494,-2.57521,-2.568627,-2.571764,-2.570561,-2.569655,-2.567798,-2.571082,-2.567246,-2.57202,-2.562532,-2.568797,-2.566785,-2.571381,-2.572783,-2.566419,-2.56629,-2.566128,-2.568497,-2.568258,-2.558931,-2.560871,-2.55867,-2.567835,-2.56759,-2.560633,-2.497662,-2.489297,-2.492767,-2.492623,-2.496504,-2.500621,-2.490389,-2.495885,-2.495444,-2.494348,-2.495819,-2.497099,-2.502428,-2.496772,-2.496608,-2.490605,-2.491632,-2.493541,-2.491724,-2.492745,-2.488848,-2.488653,-2.498913,-2.503294,-2.493525,-2.49911,-2.49658,-2.49719,-2.496305,-2.493863,-2.496218,-2.509588,-2.484131,-2.481624,-2.481093,-2.486985,-2.485041,-2.487212,-2.483997,-2.488925,-2.483244,-2.490637,-2.488136,-2.71116,-2.702724,-2.705413,-2.702291,-2.698784,-2.702333,-2.702643,-2.712141,-2.705302,-2.710202,-2.703697,-2.709929,-2.714526,-2.708848,-2.713018,-2.708627,-2.714234,-2.708772,-2.716232,-2.714006,-2.71317,-2.70765,-2.707306,-2.664824,-2.663814,-2.547262,-2.553143,-2.549043,-2.545124,-2.552002,-2.555422,-2.547318,-2.5416,-2.54101,-2.540436,-2.557115,-2.558206,-2.55952,-2.552487,-2.56006,-2.558269,-2.560694,-2.531191,-2.551491,-2.551574,-2.552999,-2.645296,-2.644121,-2.640127,-2.640864,-2.64514,-2.641248,-2.640906,-2.63811,-2.638452,-2.643153,-2.644981,-2.651052,-2.648449,-2.652155,-2.64645,-2.650312,-2.651251,-2.648769,-2.650795,-2.649596,-2.644205,-2.645278,-2.646386,-2.661884,-2.668448,-2.669687,-2.672276,-2.672491,-2.675922,-2.667312,-2.668644,-2.66266,-2.670885,-2.668597,-2.667292,-2.665052,-2.663747,-2.662158,-2.668128,-2.662887,-2.676834,-2.681465,-2.682866,-2.677895,-2.669496,-2.673251,-2.660792,-2.659681,-2.661619,-2.657266,-2.656592,-2.658232,-2.659358,-2.660238,-2.660005,-2.654738,-2.473554,-2.483184,-2.480651,-2.48638,-2.486952,-2.489209,-2.480426,-2.480637,-2.484946,-2.481271,-2.482411,-2.481941,-2.486297,-2.475463,-2.480365,-2.478933,-2.476251,-2.479754,-2.478898,-2.476245,-2.477394,-2.477159,-2.475125,-2.472208,-2.493529,-2.497697,-2.498926,-2.498038,-2.506402,-2.500511,-2.505028,-2.498744,-2.509573,-2.513361,-2.517,-2.506903,-2.507327,-2.510623,-2.488637,-2.494598,-2.495611,-2.492381,-2.491204,-2.487987,-2.491158,-2.487045,-2.496309,-2.487491,-2.509069,-2.234304,-2.234526,-2.235113,-2.502345,-2.510504,-2.504062,-2.50835,-2.596963,-2.596477,-2.600541,-2.592369,-2.592436,-2.596186,-2.607077,-2.601194,-2.592471,-2.599327,-2.59242,-2.606359,-2.596719,-2.594009,-2.601671,-2.612141,-2.603287,-2.603751,-2.598718,-2.604314,-2.607816,-2.600641,-2.606314,-2.606347,-2.605544,-2.610934,-2.61339,-2.615067,-2.611184,-2.610755,-2.607228,-2.608741,-2.612318,-2.609333,-2.601364,-2.599553,-2.602991,-2.599544,-2.595835,-2.596443,-2.600613,-2.604529,-2.598282,-2.594486,-2.598022,-2.604313,-2.599756,-2.596315,-2.599063,-2.599758,-2.597869,-2.598998,-2.602766,-2.605356,-2.600469,-2.601415,-2.470224,-2.468718,-2.469678,-2.466252,-2.466322,-2.469179,-2.470082,-2.464833,-2.466955,-2.455761,-2.46658,-2.462667,-2.456737,-2.461901,-2.46497,-2.465075,-2.472471,-2.468686,-2.467867,-2.470286,-2.473576,-2.472747,-2.46627,-2.4675,-2.470423,-2.470016,-2.46891,-2.46775,-2.470658,-2.45869,-2.445063,-2.440853,-2.439325,-2.590256,-2.591808,-2.589219,-2.598055,-2.592267,-2.593396,-2.593387,-2.594932,-2.597869,-2.597345,-2.591359,-2.591035,-2.58979,-2.590265,-2.590832,-2.546229,-2.546166,-2.544338,-2.544157,-2.558924,-2.542845,-2.559616,-2.561113,-2.569272,-2.574847,-2.573574,-2.557011,-2.576551,-2.529503,-2.532973,-2.53148,-2.53319,-2.525899,-2.526616,-2.532916,-2.527314,-2.538722,-2.537629,-2.526241,-2.532994,-2.533951,-2.528098,-2.526778,-2.527312,-2.53489,-2.533298,-2.527399,-2.535304,-2.537238,-2.535147,-2.539604,-2.535246,-2.538783,-2.531426,-2.522787,-2.522094,-2.525161,-2.523998,-2.522113,-2.522463,-2.522466,-2.523471,-2.524799,-2.51549,-2.519942,-2.463831,-2.46297,-2.470364,-2.46121,-2.463779,-2.460472,-2.46305,-2.452235,-2.453652,-2.462999,-2.460085,-2.446224,-2.44886,-2.452835,-2.449504,-2.448995,-2.447057,-2.451724,-2.448752,-2.452878,-2.461513,-2.476628,-2.431022,-2.429798,-2.42316,-2.420119,-2.425441,-2.429551,-2.436628,-2.440995,-2.442801,-2.433317,-2.442507,-2.438006,-2.44357,-2.434737,-2.434908,-2.520025,-2.52897,-2.522358,-2.519407,-2.520992,-2.520473,-2.52205,-2.522917,-2.522381,-2.521552,-2.527678,-2.521668,-2.524753,-2.52022,-2.518962,-2.519158,-2.523128,-2.518577,-2.517001,-2.516059,-2.520002,-2.515878,-2.518358,-2.515767,-2.516898,-2.517415,-2.513361,-2.51761,-2.519728,-2.515999,-2.514703,-2.515726,-2.520801,-2.525326,-2.520167,-2.517901,-2.519325,-2.517554,-2.520048,-2.523142,-2.517916,-2.518455,-2.523998,-2.517109,-2.518179,-2.520924,-2.515499,-2.522771,-2.521983,-2.516266,-2.480232,-2.485164,-2.48496,-2.481228,-2.482553,-2.483531,-2.481525,-2.480159,-2.482439,-2.478476,-2.482813,-2.484414,-2.479207,-2.487886,-2.508621,-2.509133,-2.510812,-2.513298,-2.50385,-2.49892,-2.502308,-2.50928,-2.505353,-2.509553,-2.504947,-2.505523,-2.51096,-2.505971,-2.653847,-2.651739,-2.647454,-2.650527,-2.645292,-2.647426,-2.650107,-2.645163,-2.646844,-2.6343,-2.646408,-2.642467,-2.637016,-2.636141,-2.642101,-2.633752,-2.631621,-2.655347,-2.653442,-2.657473,-2.654982,-2.650148,-2.653714,-2.649748,-2.64869,-2.650954,-2.648032,-2.64051,-2.649196,-2.646805,-2.645207,-2.63831,-2.645122,-2.645424,-2.644545,-2.536159,-2.538456,-2.535404,-2.535408,-2.539359,-2.532397,-2.539365,-2.533588,-2.538836,-2.531737,-2.534716,-2.533172,-2.534965,-2.538576,-2.539713,-2.549079,-2.540558,-2.54266,-2.541645,-2.538619,-2.545903,-2.544902,-2.536628,-2.543706,-2.530639,-2.530681,-2.526496,-2.524743,-2.529236,-2.546154,-2.541882,-2.542506,-2.541576,-2.541437,-2.545394,-2.544572,-2.498188,-2.497615,-2.497274,-2.483333,-2.470935,-2.482808,-2.483043,-2.49806,-2.494272,-2.496396,-2.496539,-2.499733,-2.500749,-2.496798,-2.497051,-2.496471,-2.493128,-2.49763,-2.497548,-2.498055,-2.502513,-2.501352,-2.502635,-2.500564,-2.501921,-2.506205,-2.50306,-2.500758,-2.502773,-2.500011,-2.503817,-2.501982,-2.501149,-2.499403,-2.499172,-2.500908,-2.504874,-2.505616,-2.616066,-2.608924,-2.624511,-2.630515,-2.632555,-2.631466,-2.634792,-2.628527,-2.626488,-2.629171,-2.625681,-2.623477,-2.617262,-2.620608,-2.627532,-2.629241,-2.625019,-2.627909,-2.62232,-2.628042,-2.626557,-2.626044,-2.634526,-2.637884,-2.633735,-2.636886,-2.632065,-2.634026,-2.633685,-2.632564,-2.623811,-2.637191,-2.639467,-2.639266,-2.637933,-2.634356,-2.631117,-2.630633,-2.637023,-2.638609,-2.63722,-2.632489,-2.628896,-2.633549,-2.63888,-2.639184,-2.636634,-2.649634,-2.645713,-2.641944,-2.646599,-2.644138,-2.645579,-2.65312,-2.652936,-2.65136,-2.647539,-2.653844,-2.650762,-2.64841,-2.650365,-2.651354,-2.642119,-2.643837,-2.642587,-2.639618,-2.642901,-2.641656,-2.517328,-2.516075,-2.512397,-2.518332,-2.511492,-2.51002,-2.516111,-2.525281,-2.521188,-2.520102,-2.523149,-2.525056,-2.522157,-2.523193,-2.523854,-2.529441,-2.528971,-2.527655,-2.524155,-2.526887,-2.530449,-2.532018,-2.528888,-2.519457,-2.526537,-2.528681,-2.607744,-2.608093,-2.596247,-2.602551,-2.600673,-2.603638,-2.600234,-2.598848,-2.602124,-2.604353,-2.602051,-2.596466,-2.582524,-2.587867,-2.594758,-2.589682,-2.594036,-2.585931,-2.587383,-2.586631,-2.590275,-2.58963,-2.586804,-2.604995,-2.601645,-2.599218,-2.598568,-2.603933,-2.579632,-2.572686,-2.594038,-2.593035,-2.593897,-2.58401,-2.584137,-2.56821,-2.575324,-2.577022,-2.575063,-2.574379,-2.579932,-2.577996,-2.576386,-2.576781,-2.57569,-2.585028,-2.567701,-2.581594,-2.58284,-2.579166,-2.571458,-2.573428,-2.546814,-2.553456,-2.54681,-2.539192,-2.554694,-2.571466,-2.569187,-2.560912,-2.560153,-2.561933,-2.56411,-2.566237,-2.565074,-2.561079,-2.564641,-2.566082,-2.567164,-2.570947,-2.41871,-2.437181,-2.431745,-2.546698,-2.431299,-2.531975,-2.546693,-2.543657,-2.443867,-2.571755,-2.411714,-2.44586,-2.394406,-2.520717,-2.507764,-2.528745,-2.452956,-2.448399,-2.444814,-2.431403,-2.426719,-2.433604,-2.429155,-2.433036,-2.434082,-2.429212,-2.430279,-2.43502,-2.433319,-2.430868,-2.426769,-2.429792,-2.429747,-2.435301,-2.434995,-2.41875,-2.419958,-2.41353,-2.407972,-2.412181,-2.415101,-2.405421,-2.465415,-2.377716,-2.401804,-2.452349,-2.43475,-2.435024,-2.432144,-2.417808,-2.428965,-2.428651,-2.419182,-2.428518,-2.428105,-2.420647,-2.369947,-2.450837,-2.469744,-2.471275,-2.533478,-2.40943,-2.406772,-2.397125,-2.393477,-2.401335,-2.428628,-2.370133,-2.367134,-2.383538,-2.385748,-2.35438,-2.315607,-2.316011,-2.318304,-2.329499,-2.334303,-2.340994,-2.292444,-2.288059,-2.313572,-2.255336,-2.270874,-2.273553,-2.274857,-2.274257,-2.275788,-2.296349,-2.290421,-2.296619,-2.293236,-2.293486,-2.295459,-2.291202,-2.293845,-2.291657,-2.294023,-2.317804,-2.318232,-2.323578,-2.311437,-2.335839,-2.301692,-2.298151,-2.303221,-2.296471,-2.299444,-2.293735,-2.332828,-2.326628,-2.324761,-2.327459,-2.322373,-2.316826,-2.272989,-2.273525,-2.329547,-2.314087,-2.327268,-2.328697,-2.296784,-2.289839,-2.291949,-2.290538,-2.293048,-2.276986,-2.238341,-2.237003,-2.290006,-2.285942,-2.285031,-2.266763,-2.273452,-2.28108,-2.283851,-2.283066,-2.247552,-2.270537,-2.239534,-2.213954,-2.21787,-2.220823,-2.232392,-2.225179,-2.227719,-2.214785,-2.181324,-2.212736,-2.212683,-2.210818,-2.198868,-2.201874,-2.191381,-2.196122,-2.239168,-2.226718,-2.23578,-2.248901,-2.235787,-2.213888,-2.185082,-2.193609,-2.179599,-2.169353,-2.170853,-2.21094,-2.224553,-2.214372,-2.210588,-2.201294,-2.19515,-2.179539,-2.173972,-2.195384,-2.172839,-2.178474,-2.170232,-2.169171,-2.160739,-2.150571,-2.227711,-2.233224,-2.22922,-2.216542,-2.236856,-2.247888,-2.247959,-2.252935,-2.229691,-2.236704,-2.23236,-2.232596,-2.237492,-2.255717,-2.193192,-2.187495,-2.199402,-2.20378,-2.160776,-2.225437,-2.222223,-2.220724,-2.20838,-2.190155,-2.241475,-2.241612,-2.226324,-2.223738,-2.226003,-2.223955,-2.226456,-2.221032,-2.207451,-2.257334,-2.257081,-2.278327,-2.274518,-2.278743,-2.279655,-2.277697,-2.272906,-2.245255,-2.243768,-2.19222,-2.228303,-2.218254,-2.205592,-2.204381,-2.213341,-2.27321,-2.27388,-2.274453,-2.274497,-2.200987,-2.245618,-2.260791,-2.250954,-2.221199,-2.213116,-2.270294,-2.228702,-2.230285,-2.229115,-2.230064,-2.240879,-2.220046,-2.210272,-2.259069,-2.247414,-2.247432,-2.230708,-2.231611,-2.231892,-2.232249,-2.232856,-2.213489,-2.219575,-2.224737,-2.218666,-2.256919,-2.254568,-2.25663,-2.259517,-2.303828,-2.298605,-2.2933,-2.296622,-2.259945,-2.253279,-2.2721,-2.267499,-2.256576,-2.262144,-2.261255,-2.265998,-2.29319,-2.275372,-2.251888,-2.245793,-2.273249,-2.276582,-2.27377,-2.257877,-2.26518,-2.238715,-2.242372,-2.238637,-2.243339,-2.238508,-2.243249,-2.246399,-2.243949,-2.248422,-2.240987,-2.240176,-2.250442,-2.241702,-2.247008,-2.247534,-2.244738,-2.246855,-2.245216,-2.244502,-2.247324,-2.240726,-2.248896,-2.240748,-2.241038,-2.236482,-2.236197,-2.234786,-2.236669,-2.235852,-2.239925,-2.240541,-2.235337,-2.233777,-2.236341,-2.236247,-2.238002,-2.234819,-2.238126,-2.240093,-2.238922,-2.235668,-2.237689,-2.239594,-2.234754,-2.2319,-2.23406,-2.237557,-2.235726,-2.239785,-2.239422,-2.237527,-2.237608,-2.235556,-2.231911,-2.232549,-2.229411,-2.228714,-2.222772,-2.224058,-2.229239,-2.237311,-2.228153,-2.242139,-2.237738,-2.247185,-2.241033,-2.244902,-2.24734,-2.242,-2.239337,-2.237948,-2.241605,-2.246337,-2.249196,-2.243178,-2.25842,-2.263576,-2.264593,-2.2668,-2.262729,-2.262466,-2.250416,-2.248907,-2.244594,-2.247649,-2.244044,-2.24363,-2.249004,-2.243082,-2.249579,-2.245258,-2.25716,-2.254413,-2.259546,-2.255087,-2.100166,-2.090691,-2.089913,-2.093856,-2.094291,-2.094928,-2.093371,-2.040191,-2.123876,-2.122561,-2.136697,-2.100938,-2.099703,-2.121505,-2.12157,-2.166018,-2.139025,-2.090012,-2.090828,-2.074982,-2.084056,-2.005561,-2.114586,-2.114062,-2.123076,-2.107543,-2.159711,-2.125959,-2.132184,-2.122577,-2.121846,-2.129293,-2.147195,-2.140039,-2.141776,-2.089487,-2.094139,-2.087263,-2.014009,-2.004278,-2.004323,-2.110061,-2.115172,-2.108198,-2.11371,-2.111234,-2.11251,-2.109017,-2.113878,-2.144586,-2.145368,-2.154887,-2.110232,-2.129214,-2.13159,-2.123132,-2.149714,-2.144536,-2.150449,-2.153821,-2.150955,-2.146697,-2.137844,-2.14636,-2.085315,-2.088953,-2.098834,-2.097378,-2.097657,-2.097162,-2.132929,-2.12897,-2.133819,-2.198122,-2.209511,-2.180828,-2.183802,-2.143014,-2.149029,-2.176818,-2.189036,-2.17662,-2.17289,-2.171102,-2.161102,-2.157029,-2.161173,-2.160656,-2.154625,-2.16531,-2.158993,-2.149632,-2.15564,-2.156189,-2.159431,-2.154664,-2.161672,-2.15684,-2.16136,-2.162132,-2.16166,-2.159612,-2.170349,-2.184353,-2.128089,-2.13814,-2.135544,-2.11153,-2.110689,-2.092759,-2.157135,-2.154536,-2.156774,-2.146661,-2.176489,-2.173912,-2.223928,-2.217139,-2.211446,-2.217162,-2.22134,-2.223149,-2.222271,-2.24742,-2.250488,-2.208625,-2.198999,-2.178833,-2.195976,-2.195456,-2.197276,-2.220327,-2.201051,-2.19261,-2.192611,-2.430679,-2.425043,-2.430962,-2.409975,-2.401453,-2.399714,-2.398524,-2.338291,-2.346532,-2.380774,-2.39697,-2.302093,-2.342229,-2.346771,-2.280293,-2.33513,-2.335591,-2.334612,-2.326583,-2.320189,-2.339708,-2.390281,-2.3812,-2.381387,-2.380422,-2.263487,-2.254194,-2.25151,-2.286529,-2.287449,-2.290529,-2.288453,-2.288226,-2.279563,-2.335698,-2.336579,-2.336795,-2.339624,-2.278567,-2.271081,-2.251123,-2.255975,-2.257761,-2.271331,-2.24876,-2.259032,-2.294082,-2.28459,-2.28617,-2.279997,-2.33756,-2.335079,-2.344189,-2.358768,-2.294016,-2.293061,-2.295457,-2.282413,-2.287584,-2.287647,-2.283286,-2.291301,-2.267575,-2.403423,-2.413214,-2.416282,-2.445182,-2.427144,-2.439847,-2.155787,-2.154036,-2.154157,-2.162503,-2.160319,-2.164544,-2.098743,-2.100293,-2.093272,-2.183352,-2.175758,-2.159641,-2.160581,-2.163811,-2.167369,-2.170951,-2.189796,-2.189317,-2.193722,-2.103016,-2.120975,-2.121384,-2.113313,-2.053085,-2.088032,-2.086497,-2.089356,-2.084754,-2.082978,-2.103849,-2.211148,-2.205388,-2.154564,-2.157383,-2.153576,-2.159095,-2.159379,-2.15823,-2.159498,-2.152453,-2.15656,-2.161919,-2.159399,-2.161154,-2.155693,-2.161805,-2.163736,-2.16588,-2.144986,-2.140254,-2.127843,-2.168745,-2.163461,-2.169481,-2.1658,-2.050802,-2.188987,-2.199444,-2.156821,-2.15223,-2.1534,-2.144741,-2.151803,-2.140885,-2.069377,-2.076957,-2.062895,-2.06509,-2.066171,-2.063242,-2.216907,-2.214566,-2.207893,-2.212257,-2.202321,-2.186703,-2.164785,-2.16258,-2.150735,-2.148278,-2.127106,-2.23066,-2.237798,-2.237452,-2.234959,-2.13202,-2.149341,-2.137991,-2.059704,-2.197732,-2.188537,-2.189727,-2.206494,-2.215751,-2.214996,-2.112246,-2.1086,-2.223057,-2.236953,-2.07382,-2.07597,-2.186792,-2.187886,-2.20164,-2.196069,-2.166694,-2.167548,-2.164417,-2.160588,-2.042444,-2.077692,-2.107647,-2.079152,-2.089156,-2.092059,-2.084606,-2.07157,-2.06039,-2.041873,-2.146245,-2.148309,-2.094653,-2.095347,-2.093307,-2.091248,-2.090117,-2.087598,-2.093402,-2.094204,-2.108507,-2.11191,-2.138372,-2.140439,-2.053064,-2.057463,-2.055473,-2.058021,-2.080782,-2.079349,-2.088494,-2.091496,-2.09299,-2.077005,-2.112482,-2.06337,-2.130361,-2.132647,-2.031851,-2.077328,-2.074634,-2.075671,-2.080042,-2.074734,-2.081561,-2.080068,-2.089736,-2.081138,-2.099362,-2.355641,-2.352497,-2.349005,-2.346267,-2.34902,-2.290194,-2.291367,-2.290143,-2.293916,-2.299443,-2.274855,-2.277195,-2.358922,-2.370696,-2.322467,-2.29991,-2.391744,-2.384864,-2.336581,-2.327722,-2.354186,-2.348881,-2.35836,-2.355693,-2.353164,-2.290809,-2.296444,-2.310852,-2.30942,-2.328199,-2.332844,-2.342015,-2.345311,-2.352539,-2.3037,-2.32445,-2.323442,-2.32564,-2.320946,-2.322515,-2.323421,-2.350825,-2.42597,-2.422127,-2.36731,-2.357491,-2.357209,-2.332171,-2.344469,-2.317537,-2.3052,-2.318434,-2.346258,-2.349622,-2.347179,-2.350646,-2.350712,-2.348727,-2.349165,-2.352642,-2.350541,-2.346279,-2.345846,-2.312,-2.30606,-2.499228,-2.681501,-2.641186,-2.663304,-2.693288,-2.695169,-2.608575,-2.657339,-2.629911,-2.629177,-2.633117,-2.630403,-2.630098,-2.6324,-2.630083,-2.628847,-2.631254,-2.632359,-2.630966,-2.636855,-2.607801,-2.626116,-2.622792,-2.615518,-2.668414,-2.687602,-2.607778,-2.608201,-2.605344,-2.628641,-2.626133,-2.581006,-2.581099,-2.579284,-2.684442,-2.679756,-2.67607,-2.650101,-2.635551,-2.652482,-2.654288,-2.639364,-2.567413,-2.505637,-2.711573,-2.716439,-2.554101,-2.669939,-2.656807,-2.65322,-2.485333,-2.491072,-2.491797,-2.492432,-2.491714,-2.501987,-2.607713,-2.599903,-2.59808,-2.598462,-2.464692,-2.471286,-2.458536,-2.587037,-2.526763,-2.448128,-2.514511,-2.513777,-2.518446,-2.518365,-2.516081,-2.524776,-2.518577,-2.48333,-2.512634,-2.512303,-2.651214,-2.524285,-2.524098,-2.636159,-2.595666],\"name\":\"\",\"radius\":10,\"subplot\":\"mapbox\",\"z\":[1,2,2,1,4,2,1,1,2,1,3,6,1,1,4,4,1,1,1,2,1,1,3,2,5,2,1,1,1,1,1,1,1,1,1,2,1,4,2,2,1,1,1,1,1,2,5,1,3,1,1,1,3,1,1,5,1,3,1,1,3,1,9,1,3,1,4,1,1,2,1,1,2,1,1,1,1,3,1,1,1,3,2,2,1,1,1,1,4,3,1,1,1,1,1,3,3,2,6,1,2,3,1,2,1,1,1,1,1,2,1,1,1,2,1,1,1,1,1,1,1,1,1,1,1,1,1,1,3,1,4,5,1,1,2,3,2,2,2,1,1,1,1,2,1,1,1,2,1,1,1,1,1,1,1,2,1,1,1,2,1,1,4,1,6,3,3,2,1,2,1,1,1,1,2,1,5,1,2,1,1,2,1,1,1,2,1,1,1,1,1,3,1,1,1,2,1,3,3,3,1,2,1,4,1,3,3,1,3,1,1,1,2,2,2,1,1,1,1,1,1,1,2,2,2,2,6,1,1,1,1,1,1,1,2,1,1,1,1,5,2,2,1,2,1,1,1,4,1,1,2,1,2,2,1,1,3,1,1,2,5,2,1,8,1,1,2,1,1,1,2,1,1,1,1,5,3,5,1,1,1,1,2,1,3,1,4,1,1,1,1,1,1,1,1,1,1,1,3,1,3,3,1,1,1,1,1,1,1,3,1,1,1,1,4,1,4,3,2,2,1,1,1,1,1,1,2,1,1,2,4,2,2,1,1,2,2,1,2,1,1,1,3,2,1,4,1,4,1,2,1,1,2,1,1,4,2,1,6,1,1,1,1,1,2,1,2,1,1,2,1,7,1,1,1,1,1,2,1,1,2,1,2,8,2,2,1,1,1,2,1,3,5,2,1,1,1,1,1,1,1,1,1,1,1,1,1,3,2,2,11,1,1,1,1,1,1,1,1,1,2,1,1,2,7,2,1,6,1,1,1,3,1,9,1,1,2,4,1,1,1,1,1,1,2,1,2,2,1,2,2,1,1,2,1,1,1,2,1,1,1,6,1,1,1,1,1,1,1,2,4,3,1,1,5,1,2,1,1,1,2,2,1,4,1,3,2,1,1,3,5,4,6,4,9,1,1,2,1,2,2,3,6,1,5,6,3,1,1,1,2,2,1,1,6,1,3,5,8,2,1,1,8,3,1,4,1,5,1,1,1,1,1,1,1,2,1,2,1,4,1,1,2,2,1,1,2,2,1,2,1,2,3,1,2,2,2,1,1,3,1,1,1,1,2,1,1,1,2,1,1,1,1,1,5,1,1,1,1,1,2,1,2,2,2,1,1,4,3,3,1,2,2,1,1,3,5,2,6,2,1,3,1,2,1,1,1,1,2,2,1,1,2,1,1,1,2,2,3,4,1,1,6,1,2,7,6,1,1,1,1,10,1,1,2,3,2,5,2,1,2,2,2,5,2,2,1,5,1,7,1,2,1,1,1,3,3,1,2,1,2,3,1,1,8,3,1,1,6,5,1,1,1,2,1,2,5,2,1,1,1,3,1,1,1,1,1,1,1,1,1,3,2,2,2,3,3,1,1,2,1,1,2,2,1,2,2,5,3,1,3,2,1,1,1,2,3,10,3,2,2,1,4,1,5,1,2,3,1,2,3,2,2,1,2,1,2,1,1,1,1,1,4,1,1,1,1,2,3,1,2,1,2,16,2,2,3,5,1,2,3,1,1,1,1,1,1,1,2,7,2,4,2,2,4,2,1,4,2,1,2,1,3,2,2,1,2,1,26,1,1,15,4,1,1,5,5,2,2,1,1,2,1,2,6,2,3,12,1,5,10,1,2,4,2,3,1,3,1,1,2,1,3,1,1,1,4,2,9,1,1,1,1,2,3,1,4,4,1,2,2,2,1,4,2,2,2,1,2,3,1,3,1,1,1,2,2,1,2,2,3,1,2,3,3,2,3,4,2,1,1,1,3,1,1,2,1,3,4,1,1,2,2,1,1,1,1,2,3,1,1,1,1,1,1,2,3,1,2,6,1,1,3,2,17,13,2,3,3,3,2,1,1,2,1,2,1,1,1,1,1,1,1,1,2,1,1,1,1,3,1,1,1,4,1,2,2,1,1,1,8,1,2,6,4,1,2,1,1,1,1,5,2,2,1,4,3,4,1,3,1,1,1,2,1,1,1,1,2,1,1,1,2,3,1,1,2,1,1,1,2,1,1,2,1,1,1,1,2,1,1,1,1,2,1,4,9,4,2,7,1,2,1,1,1,4,1,1,2,1,1,2,2,3,3,2,1,1,1,1,15,1,2,2,3,1,1,1,2,1,3,5,1,1,1,2,2,1,1,1,1,1,2,1,1,1,1,1,2,5,4,1,1,1,1,1,1,5,1,6,1,1,1,1,1,1,1,1,3,1,1,1,1,4,2,1,3,1,1,1,2,2,1,2,1,1,1,2,2,1,2,3,1,3,1,4,1,3,1,4,5,5,10,11,8,8,2,3,3,1,1,1,1,14,2,1,2,11,6,4,1,2,1,1,1,2,2,5,2,1,1,3,4,2,1,6,1,1,2,7,3,7,2,2,1,1,1,2,1,7,1,2,2,2,1,1,1,1,1,1,1,1,1,1,2,2,1,1,3,1,1,2,1,1,1,1,1,3,1,1,1,1,1,2,1,2,1,2,1,1,2,2,1,1,2,1,1,1,4,7,1,2,2,1,2,1,1,1,1,1,1,2,1,6,1,2,1,4,3,1,1,1,6,1,2,1,1,3,2,1,1,1,1,1,2,4,4,2,1,2,5,2,1,2,1,2,1,2,1,3,2,1,1,1,2,4,4,1,2,1,3,3,1,1,1,2,1,1,6,1,3,1,1,2,1,2,3,4,2,1,1,1,2,3,2,1,2,2,3,4,3,1,2,1,1,1,2,2,3,1,2,3,2,3,1,1,2,1,1,5,3,1,3,1,1,6,3,1,1,1,2,2,1,1,2,6,3,1,1,3,1,1,1,2,1,2,4,1,7,6,3,1,3,1,1,3,1,1,1,2,4,2,1,1,1,1,2,1,1,1,1,1,2,2,2,1,1,2,1,5,1,1,1,1,1,1,1,1,3,1,1,1,1,1,2,1,1,1,1,1,1,2,1,1,1,1,1,1,3,4,2,3,1,1,1,1,1,4,1,1,5,4,1,2,4,4,2,2,5,1,1,4,5,1,1,1,1,1,2,3,1,2,3,2,1,1,2,1,2,2,1,1,1,2,1,4,5,1,1,2,1,1,1,3,1,2,1,2,1,3,1,1,2,1,1,1,1,1,2,2,2,1,1,1,1,2,3,1,1,2,2,5,1,1,5,1,1,2,1,1,1,1,1,1,1,1,2,2,4,3,1,6,1,1,1,1,2,1,2,1,1,3,2,2,5,1,2,1,2,1,1,1,2,2,5,1,11,2,4,1,3,5,2,2,2,3,4,1,3,1,2,1,6,2,1,6,4,1,6,4,1,2,6,2,1,2,1,1,1,1,2,4,3,2,5,1,2,9,1,3,3,1,3,4,2,1,4,1,1,3,1,1,1,1,1,1,1,1,1,1,2,1,1,1,1,2,4,1,14,3,1,3,4,1,1,1,3,1,3,2,3,3,3,4,1,1,3,2,3,3,3,1,1,1,1,1,1,2,1,2,4,3,1,8,3,1,1,3,1,1,1,2,4,2,1,3,1,2,2,1,1,1,1,1,1,2,2,1,1,1,1,1,1,1,1,1,2,1,1,2,1,1,1,1,1,1,1,1,3,1,1,1,1,1,1,2,1,2,1,2,1,1,2,1,1,1,1,2,2,1,1,3,1,1,1,1,1,4,1,1,1,1,1,2,1,1,2,1,1,1,1,2,3,1,2,2,1,1,1,2,5,1,1,1,1,1,1,1,1,1,1,1,1,2,1,3,1,1,3,1,1,1,1,1,2,3,3,1,1,3,3,5,1,1,1,2,1,1,5,1,2,1,1,1,7,1,1,1,1,1,2,1,4,1,1,1,4,2,1,2,1,1,2,2,2,2,2,1,1,1,1,1,1,1,1,1,1,1,1,5,1,1,1,1,1,3,3,1,1,1,1,1,2,1,14,4,2,1,1,3,1,1,2,4,3,2,1,1,2,1,1,2,2,1,1,1,2,1,1,1,2,2,1,1,1,1,1,1,1,2,1,4,4,1,1,6,3,2,1,1,3,1,1,3,1,1,1,1,1,1,1,2,2,1,1,2,2,1,1,2,1,1,1,1,1,1,1,10,2,2,4,2,1,1,1,10,1,1,2,2,1,1,8,1,1,1,8,2,15,1,4,3,3,2,3,3,7,1,1,10,1,2,1,1,1,1,1,1,1,3,3,1,1,1,2,1,1,1,1,2,16,1,2,1,3,1,4,1,1,2,1,1,4,2,5,4,1,1,3,1,1,1,1,2,1,1,3,2,1,2,1,1,4,3,11,2,4,1,1,1,1,2,1,21,2,2,1,1,2,5,6,1,4,2,2,1,1,3,2,3,2,1,1,1,1,1,1,1,2,1,1,3,1,3,3,1,1,1,1,1,1,1,5,2,2,1,2,1,1,2,1,1,1,1,1,1,2,1,4,2,2,1,6,1,1,1,1,1,1,2,3,2,2,1,2,1,1,1,2,2,1,1,2,1,1,2,4,1,2,2,5,3,5,2,4,2,1,1,1,1,4,1,1,5,1,3,3,1,2,2,1,2,1,1,1,1,1,1,1,3,1,1,1,1,1,2,1,1,1,2,2,3,1,1,3,2,1,1,3,1,1,1,3,2,1,5,1,3,3,1,1,2,1,1,1,3,1,1,1,1,2,1,1,1,1,2,1,1,1,2,1,1,2,1,2,1,2,1,1,1,2,1,1,2,1,1,4,3,2,1,2,3,1,3,1,1,1,1,1,1,4,2,1,1,2,1,1,1,1,1,1,1,1,1,1,1,1,1,1,1,1,3,6,5,2,1,2,1,2,3,2,1,1,2,1,1,1,1,2,1,1,2,2,2,1,1,1,1,1,1,4,1,2,1,1,4,5,3,1,4,2,1,1,1,1,1,1,2,1,3,2,1,1,1,2,1,5,4,2,1,2,1,1,1,1,1,2,1,1,2,1,3,2,1,7,2,1,3,1,2,1,1,2,2,1,1,4,2,1,3,1,3,2,2,2,3,1,1,1,1,3,2,1,1,1,2,1,11,1,1,3,2,1,1,1,1,3,1,1,1,1,3,1,1,1,1,1,3,2,1,2,4,4,2,1,1,1,2,1,1,1,1,2,2,1,1,1,1,3,3,1,1,1,9,2,2,3,1,1,1,2,2,1,1,1,1,2,1,1,8,2,1,1,1,1,5,3,2,1,1,4,1,1,15,1,1,1,2,1,4,1,5,4,7,6,3,1,3,9,2,3,2,1,1,1,3,3,2,3,1,1,5,2,3,1,1,2,3,4,1,1,1,3,1,1,2,1,3,1,1,3,1,1,1,1,13,8,7,1,1,8,4,1,1,1,1,1,7,2,1,2,1,1,1,6,5,1,2,2,3,3,2,2,1,1,1,1,1,3,1,2,8,1,1,1,2,3,3,1,6,1,1,1,2,1,3,1,1,1,1,1,1,1,1,1,1,3,1,3,3,1,1,1,3,1,2,5,8,6,5,3,6,2,5,1,5,2,3,3,1,4,4,2,1,5,1,2,1,2,1,1,1,1,3,1,3,4,1,2,1,2,1,1,1,1,1,1,1,2,6,14,5,4,2,6,1,3,3,3,2,1,12,1,2,1,2,2,1,2,1,1,1,1,5,4,1,1,1,1,2,1,4,1,4,1,1,1,2,1,1,1,2,1,1,1,1,2,2,1,9,5,3,1,2,1,1,6,1,2,1,1,1,1,1,6,6,1,3,1,1,1,1,2,2,1,1,2,2,1,16,6,1,1,2,1,2,1,2,4,5,6,6,1,2,3,1,1,1,1,1,1,1,2,3,1,1,1,1,2,1,1,1,1,1,1,1,3,2,1,1,1,1,1,1,2,3,2,1,2,1,1,2,1,1,1,3,2,8,3,3,5,2,2,1,2,2,2,1,3,2,2,2,3,4,1,2,3,1,2,2,3,1,1,1,1,9,1,1,1,1,1,2,1,1,2,1,1,3,7,2,4,1,1,1,17,1,1,2,1,3,3,1,2,1,1,4,2,1,1,1,3,6,8,5,6,4,3,4,6,2,1,2,1,2,1,1,1,2,5,1,5,1,1,1,1,1,1,24,1,1,1,1,9,1,3,2,1,1,7,3,1,3,1,3,2,1,6,24,1,3,1,2,3,2,1,1,2,4,8,1,8,1,2,1,1,5,1,6,2,1,1,1,2,3,2,1,2,4,4,5,2,3,1,4,1,2,3,2,6,2,1,1,1,1,1,1,1,35,1,1,1,1,8,1,5,2,2,2,1,1,2,11,7,2,1,1,1,1,2,2,1,2,2,4,1,2,1,1,3,2,6,3,1,1,3,2,3,3,1,2,3,1,3,1,5,1,4,14,9,1,5,3,2,5,1,1,3,2,1,1,2,1,1,1,3,6,1,4,1,1,4,3,4,2,4,1,4,4,1,2,1,1,3,1,1,7,1,2,3,1,1,2,4,1,2,1,1,1,1,5,3,3,3,5,1,1,1,1,1,2,1,1,1,1,2,1,1,1,1,1,1,1,1,2,5,2,3,4,2,9,6,1,3,1,1,1,1,2,1,2,2,1,1,1,2,2,1,1,2,2,1,3,3,2,5,1,1,1,1,2,1,1,1,7,1,2,9,3,2,2,5,1,1,1,1,2,4,3,1,1,4,1,2,1,1,2,4,1,1,1,1,3,1,1,4,2,1,1,1,1,1,2,1,4,4,1,1,1,3,3,4,1,2,1,5,1,1,4,2,2,3,4,7,1,1,1,3,2,1,1,12,2,1,1,2,14,2,3,4,1,1,3,2,15,1,1,1,3,1,1,1,2,2,3,2,1,2,1,1,2,1,2,1,5,2,5,3,2,5,4,4,1,1,1,1,6,3,3,1,2,1,1,1,1,1,1,1,4,1,1,2,1,2,1,2,2,2,1,6,4,1,2,1,1,2,3,2,1,1,1,1,2,1,1,1,1,1,8,4,3,1,5,13,1,4,5,7,2,1,3,2,1,1,4,9,1,3,3,1,4,3,4,4,1,2,1,1,1,1,1,5,1,3,1,1,3,1,3,10,5,2,1,2,3,2,5,1,2,1,1,6,2,1,15,3,1,2,4,1,1,2,1,1,1,3,1,1,2,1,1,1,1,1,2,1,1,1,1,1,1,3,5,1,1,1,2,1,3,1,2,1,1,1,9,4,3,4,9,1,4,1,1,4,1,1,2,4,1,2,3,2,1,2,3,6,1,2,4,2,2,4,1,3,3,3,1,2,1,2,1,1,1,1,1,1,1,1,1,1,3,3,10,1,1,1,1,9,1,8,3,2,1,1,2,3,1,2,4,2,1,3,2,2,1,1,2,2,1,1,4,1,1,8,1,1,1,2,2,1,4,3,2,1,2,3,3,1,2,1,1,2,3,1,1,4,6,4,1,1,1,3,4,1,1,5,10,2,1,1,3,1,1,1,1,1,1,5,4,5,3,1,1,6,2,3,1,2,4,1,1,3,4,2,2,2,2,1,1,1,1,1,3,2,2,3,4,5,3,2,1,4,1,1,1,1,3,2,2,3,1,1,1,1,1,1,1,2,3,2,1,1,1,1,2,1,2,1,4,3,1,1,3,3,1,1,1,1,1,1,4,7,3,2,2,1,1,1,1,3,1,2,2,2,3,2,2,1,1,1,2,3,1,2,1,2,2,2,2,1,2,6,4,2,1,2,2,8,5,2,1,1,1,1,3,2,2,1,1,3,1,2,1,1,6,1,4,2,2,2,3,1,1,1,2,1,1,4,2,7,2,1,2,1,3,1,1,1,1,1,1,4,3,2,3,3,4,1,2,3,1,21,3,7,1,1,2,2,5,1,2,2,1,4,1,2,1,1,3,5,1,1,1,2,2,1,1,5,1,4,5,1,2,3,1,2,2,1,1,1,2,1,1,2,6,1,2,4,1,3,2,3,4,4,1,1,4,3,3,2,2,1,1,1,1,1,1,1,1,1,3,3,3,1,1,1,1,5,2,1,1,2,1,1,2,1,2,2,1,8,1,8,1,1,3,1,1,7,1,2,1,1,3,1,2,2,1,4,1,1,1,2,1,1,1,2,3,1,1,2,6,1,3,4,9,5,1,1,1,1,2,1,2,3,1,4,1,2,1,2,1,2,4,4,5,2,3,2,2,3,1,1,2,1,1,3,2,1,6,1,2,1,1,1,1,2,2,10,4,12,2,1,2,4,1,7,1,1,2,3,1,4,3,3,2,2,2,1,1,1,1,1,1,2,1,1,2,4,1,2,2,1,2,3,4,1,2,1,1,2,1,2,1,2,1,2,2,1,1,1,1,1,1,1,4,1,1,2,2,5,2,2,2,1,1,1,2,3,2,1,1,1,4,7,1,4,1,2,1,4,16,3,6,2,1,1,2,3,2,1,1,2,1,2,6,2,1,3,1,1,2,3,4,2,1,2,3,1,1,4,1,1,1,1,1,1,2,1,3,1,1,1,8,1,1,7,2,2,2,4,2,1,1,1,5,1,1,1,2,1,1,2,2,1,6,6,5,1,1,8,2,3,1,1,3,1,2,1,2,1,1,2,6,1,1,1,1,1,1,1,2,1,1,1,11,3,1,4,2,1,3,1,1,1,1,1,6,1,1,1,1,1,1,4,1,2,3,2,2,5,2,2,1,1,1,1,1,2,1,1,2,2,2,1,3,4,1,2,2,1,3,1,2,1,4,6,7,1,2,5,7,4,5,2,1,5,1,2,1,1,4,3,1,1,1,1,2,2,2,2,2,2,2,2,2,1,1,1,3,1,2,1,2,1,1,1,2,2,1,1,1,2,1,1,1,3,6,1,1,1,4,1,1,1,2,3,2,1,1,4,1,1,4,1,1,1,5,1,1,2,1,2,1,1,3,2,1,1,2,1,2,1,1,1,4,3,3,1,1,1,2,1,1,1,1,2,1,3,2,1,1,4,3,2,1,1,3,3,1,1,11,3,1,1,2,1,1,1,1,1,4,2,2,1,1,5,2,2,1,1,1,2,1,2,1,3,1,2,2,2,2,3,1,1,2,3,1,4,1,1,1,3,1,3,3,1,1,1,6,2,4,1,2,1,2,4,4,1,1,1,2,1,1,1,1,2,1,1,3,2,2,2,4,1,1,1,1,1,1,1,5,1,1,1,1,6,2,3,4,1,1,2,5,1,1,2,2,1,1,1,1,4,3,5,1,3,1,2,2,2,1,3,2,2,2,5,1,4,2,3,4,1,1,1,2,2,1,1,2,1,1,1,2,1,7,1,6,3,1,1,2,1,1,3,6,9,2,1,1,1,1,1,1,1,1,4,1,2,1,3,1,1,5,2,4,6,1,1,1,2,1,2,1,4,3,3,3,1,2,2,2,1,1,2,1,1,1,1,1,2,1,2,2,2,3,1,2,2,3,1,1,4,1,2,3,4,1,4,1,1,1,1,1,1,2,2,2,3,9,2,1,2,2,1,1,2,2,2,2,10,1,1,2,1,1,1,2,2,1,1,1,4,4,2,1,1,2,1,1,1,1,1,1,2,1,1,1,2,3,1,1,3,2,1,1,4,3,1,1,2,1,1,2,1,2,1,1,1,1,1,2,1,3,2,2,3,2,1,1,2,1,3,3,1,8,2,2,2,1,2,1,1,1,1,2,1,1,2,2,1,4,2,5,2,3,3,1,3,2,2,3,1,1,4,1,2,2,1,1,3,2,3,2,1,2,1,2,1,1,2,1,1,1,2,1,1,1,7,1,1,1,6,1,4,2,1,1,3,4,2,1,2,2,1,1,7,1,1,1,1,2,2,2,1,3,3,1,1,5,1,1,1,3,1,5,1,1,1,1,1,1,1,3,1,1,1,1,2,1,1,1,1,1,3,1,2,2,1,2,1,2,1,1,1,2,1,2,1,1,3,1,2,1,1,1,2,2,1,1,1,1,8,2,2,2,2,1,2,1,1,2,1,2,1,3,1,2,1,1,1,1,2,2,1,2,2,1,1,3,9,1,1,3,1,4,7,1,4,1,1,1,2,1,1,1,3,1,1,3,3,3,1,3,2,1,4,1,2,2,5,1,2,1,1,2,2,1,3,1,3,1,1,1,3,2,2,4,1,3,1,3,1,1,1,1,2,1,5,2,3,1,2,2,2,1,1,1,1,6,8,6,1,1,2,1,3,5,1,1,2,4,7,3,1,1,2,2,3,1,1,3,1,2,1,4,1,1,1,2,1,10,1,1,2,1,4,1,1,4,2,1,1,1,2,1,1,2,1,2,3,1,2,2,3,1,2,3,1,3,2,1,1,2,1,1,3,3,1,1,2,1,1,1,3,2,2,3,1,2,1,4,2,1,3,1,1,3,2,3,1,1,1,2,1,6,2,1,1,1,6,1,2,1,3,4,1,1,3,1,2,1,1,2,1,3,5,1,1,1,2,6,1,1,1,1,1,2,1,1,2,2,4,5,1,2,1,16,20,1,5,1,2,5,2,4,1,9,1,2,5,2,3,1,6,1,3,2,1,1,1,1,1,1,1,3,1,1,1,4,9,3,2,3,1,2,2,1,8,9,1,1,3,3,6,5,17,35,1,14,2,7,13,3,4,1,5,2,2,3,10,18,18,1,3,2,1,1,2,3,3,2,3,1,8,3,1,2,1,1,1,1,1,1,1,1,1,1,2,2,10,1,6,9,12,2,1,5,5,4,3,4,1,4,8,1,2,11,1,1,1,19,18,6,10,4,1,3,6,25,7,11,10,3,11,11,3,9,3,6,2,10,11,2,9,1,1,3,2,24,2,4,8,3,3,5,1,2,1,1,7,2,1,2,2,7,3,1,1,1,1,3,15,5,4,5,8,6,3,1,3,2,1,2,5,7,1,2,1,3,2,3,4,1,1,2,10,2,1,1,2,1,1,2,4,2,2,8,3,1,2,2,1,1,3,8,1,9,1,2,2,3,1,1,3,1,1,3,1,1,1,2,2,1,1,1,1,1,2,1,3,1,1,8,2,1,6,1,4,4,3,5,1,2,4,9,10,1,3,1,1,1,1,2,2,1,1,1,7,1,1,2,4,6,1,6,1,5,4,1,1,2,1,1,1,1,4,3,1,4,2,7,10,4,5,6,7,2,5,2,2,2,1,1,1,1,1,1,3,1,2,2,3,6,1,1,1,1,1,1,3,2,1,2,1,1,1,4,2,1,8,4,4,1,1,1,3,1,1,2,3,22,29,5,18,4,7,27,2,3,1,5,6,2,3,2,2,3,5,1,1,3,4,1,3,6,1,2,3,1,1,2,1,1,1,2,1,1,1,1,1,1,1,1,1,1,2,1,1,1,3,1,2,2,2,2,1,1,1,5,1,1,2,1,1,2,1,1,1,5,2,1,1,1,1,1,1,3,1,2,1,1,10,17,6,3,2,2,2,1,1,7,1,1,1,1,1,1,8,2,3,2,1,2,3,1,1,1,3,1,2,1,1,1,1,1,1,1,3,1,1,1,1,1,2,1,1,1,1,1,2,1,1,1,1,2,1,3,1,1,3,1,1,1,2,1,1,1,1,2,2,4,1,1,5,3,1,1,3,1,1,4,2,2,1,2,4,1,1,1,1,1,1,6,1,2,1,3,2,7,2,1,1,5,1,1,1,1,1,1,3,1,1,1,1,1,4,1,1,5,1,5,1,1,1,1,1,1,1,1,2,1,1,2,2,4,2,4,3,1,1,1,1,2,1,3,1,1,1,1,5,5,1,2,1,1,1,1,1,1,2,2,3,7,5,2,3,2,1,4,2,5,2,3,3,1,1,5,1,3,2,1,1,1,1,2,1,2,2,2,1,4,1,1,1,1,3,1,1,3,1,12,3,1,1,5,1,2,1,2,2,2,1,1,1,1,1,3,3,7,1,2,1,11,1,2,3,1,2,1,4,1,2,2,11,2,1,2,2,2,1,1,1,2,1,2,3,1,2,1,1,1,1,8,1,2,2,1,1,1,2,2,1,1,2,2,1,1,1,2,1,1,2,1,1,1,1,1,1,1,1,1,2,2,6,2,2,1,1,1,3,1,5,2,2,10,2,1,1,1,3,4,7,1,2,3,1,1,2,1,1,7,2,3,2,2,3,10,2,1,1,1,1,4,2,4,2,4,3,8,1,6,1,6,1,3,1,1,4,3,2,2,1,1,1,1,1,1,1,1,1,1,1,4,1,1,1,1,1,1,2,1,1,1,6,1,5,5,2,2,3,3,1,2,3,1,7,4,1,5,1,1,3,2,1,3,1,5,2,1,1,3,1,3,1,1,1,7,2,3,3,2,1,1,6,1,1,2,2,1,1,5,1,2,1,2,3,2,1,6,5,2,2,1,1,1,1,1,1,1,1,1,1,2,2,1,1,1,6,2,4,3,1,1,1,1,1,1,1,2,1,4,1,1,2,6,1,1,1,2,2,2,1,2,1,1,1,1,1,3,1,1,1,1,1,3,1,1,1,2,1,3,2,2,1,4,4,1,6,2,1,2,1,1,2,1,1,1,3,1,1,1,1,6,4,3,5,1,1,1,7,1,1,1,10,2,1,3,1,1,3,3,1,1,1,2,1,5,3,1,1,1,1,1,2,1,1,6,1,1,1,1,1,1,1,1,4,1,1,5,4,4,1,1,1,1,2,6,5,6,6,1,2,3,2,1,1,1,2,3,1,2,1,1,1,3,1,1,1,2,1,1,2,1,2,1,3,1,3,7,1,5,1,2,2,1,3,5,2,3,11,22,1,4,3,2,2,2,1,5,9,1,3,1,2,2,1,1,1,2,1,2,3,1,2,1,1,1,1,1,3,1,8,1,1,1,1,1,1,2,1,1,5,1,1,1,3,1,1,1,2,1,1,1,3,1,1,4,1,3,1,1,1,3,1,5,4,8,1,1,2,3,2,1,4,1,3,1,1,1,1,1,6,1,2,1,2,6,3,1,5,1,1,6,1,1,3,2,3,2,2,3,1,1,2,1,1,1,1,2,1,2,1,1,4,2,1,2,1,2,1,2,2,2,1,2,1,1,1,2,5,7,1,3,2,2,1,1,1,2,5,6,4,2,1,2,1,2,1,2,3,2,1,2,1,2,1,1,2,1,2,2,1,6,1,3,6,1,9,2,2,3,1,5,3,1,2,6,2,2,1,2,1,1,5,1,1,6,1,1,3,1,1,2,2,4,1,1,1,7,1,2,3,1,15,1,1,6,1,1,1,4,1,1,1,2,3,2,1,1,1,5,1,1,1,1,1,1,1,4,3,4,2,1,1,3,1,1,1,1,1,2,3,1,3,2,3,1,2,2,1,1,1,2,5,8,1,2,2,1,3,1,2,1,1,1,1,2,1,2,4,3,1,1,1,1,1,1,3,12,1,1,1,2,4,1,1,1,8,1,2,4,2,1,2,1,1,1,1,1,1,2,1,1,1,2,1,1,1,1,2,1,4,1,1,1,1,1,1,1,1,1,1,1,1,4,1,2,3,1,2,14,1,3,1,1,1,2,1,7,1,4,1,1,2,1,1,1,6,2,1,3,1,1,1,1,2,2,1,4,4,1,1,3,1,1,3,1,3,4,1,1,1,1,2,1,1,1,1,1,1,3,1,2,4,2,2,2,1,1,3,3,2,2,6,3,1,2,2,5,1,1,3,1,1,1,2,4,4,1,1,2,2,1,3,1,1,1,1,1,2,2,1,1,1,1,1,1,1,1,1,1,1,3,1,5,1,1,4,1,1,1,1,1,1,2,1,1,1,1,1,3,1,1,1,2,8,1,1,1,1,1,1,1,1,2,2,1,1,1,1,3,1,1,1,6,4,4,2,1,1,2,1,1,2,1,1,2,1,2,3,1,1,2,2,2,4,5,1,2,1,1,1,1,3,2,2,1,2,1,1,3,1,1,1,1,1,1,3,1,2,1,1,1,1,1,2,1,4,1,1,2,2,3,1,4,1,1,1,1,1,2,1,1,1,1,1,1,1,6,1,3,1,2,1,1,1,2,1,1,1,1,1,1,4,1,2,1,2,1,1,1,1,2,2,1,2,2,2,1,2,1,2,2,3,2,1,1,1,1,1,2,3,1,1,1,4,1,1,4,2,1,3,2,1,1,1,2,6,1,1,1,1,1,4,1,1,1,1,1,1,3,1,1,2,1,1,1,1,1,1,2,1,3,1,2,1,2,3,3,1,1,1,4,6,1,2,4,1,1,2,1,5,7,2,9,2,3,2,1,2,1,1,3,3,1,1,1,1,3,2,2,3,1,1,1,1,2,1,1,3,1,1,4,1,2,1,1,2,1,1,1,3,6,1,2,1,2,1,4,1,1,1,1,1,8,2,1,10,11,1,4,3,2,7,4,2,3,1,1,2,1,2,1,5,4,4,2,3,1,1,2,2,1,2,1,5,1,1,3,1,11,8,2,1,2,2,2,2,1,2,1,1,7,1,1,3,2,2,1,1,1,1,2,1,1,1,6,1,4,2,2,1,1,1,1,1,1,2,1,1,1,2,1,1,1,1,1,1,2,1,1,2,1,1,1,1,2,2,1,1,1,5,1,1,1,4,1,4,5,3,2,1,1,2,1,1,1,1,2,1,1,1,8,2,4,5,7,1,1,2,1,1,1,2,1,9,1,2,2,3,3,1,1,1,1,1,1,1,1,4,7,5,5,3,1,2,2,3,1,1,1,1,2,1,1,1,1,3,1,1,2,1,1,1,1,1,1,1,2,2,3,3,1,1,1,1,1,1,1,1,2,1,1,1,1,4,1,1,1,1,1,1,1,2,2,1,1,2,2,1,1,1,1,1,1,1,1,1,2,1,5,2,2,7,3,2,1,1,1,2,1,1,2,2,9,1,1,3,2,1,1,1,1,2,3,2,2,4,2,3,3,3,1,1,1,1,1,2,1,3,1,3,1,1,4,2,3,1,1,1,2,1,1,3,5,1,1,9,2,1,3,2,1,1,1,2,1,4,5,3,1,4,3,1,1,1,1,1,1,2,2,1,1,1,1,2,1,2,2,3,1,7,3,1,2,2,1,3,1,1,1,4,2,1,1,1,2,1,2,1,1,1,3,1,1,3,1,1,1,2,2,2,2,1,1,1,1,2,5,3,1,2,1,1,1,1,1,2,6,2,1,3,1,3,1,4,2,3,4,1,1,2,2,1,1,1,2,2,1,1,2,1,1,1,1,1,1,1,1,1,1,1,2,1,3,2,4,1,1,1,1,2,1,1,1,1,2,2,2,1,3,1,4,1,1,1,1,2,1,1,1,3,2,1,1,2,2,1,4,1,1,2,1,1,1,2,2,1,1,1,1,1,1,1,2,1,1,2,1,1,6,5,2,3,2,1,2,1,3,2,4,1,1,2,1,1,1,3,1,3,3,2,2,3,2,1,1,1,1,1,1,1,1,1,1,4,1,1,1,1,3,1,2,1,1,1,3,1,2,1,1,1,1,1,2,1,2,2,2,1,1,2,1,1,1,1,2,1,1,1,1,1,1,1,1,6,2,1,1,1,2,1,2,1,1,2,1,3,7,1,1,1,1,1,1,1,5,8,3,4,2,2,1,7,1,1,1,4,2,1,5,1,1,1,1,1,2,2,1,2,2,2,1,2,1,1,3,1,2,2,1,1,1,2,3,1,2,1,1,2,3,2,1,1,1,3,1,1,1,1,3,2,1,1,2,1,1,1,1,2,1,1,1,3,1,1,5,1,6,7,1,3,1,1,1,1,2,1,5,1,1,1,3,1,2,5,1,3,2,1,2,1,1,1,2,1,2,1,1,1,3,2,2,3,4,2,2,4,4,1,2,7,2,2,4,1,1,2,1,2,2,3,2,1,1,1,4,4,2,1,1,1,19,7,2,1,1,1,1,2,1,3,2,1,1,1,6,6,3,7,6,1,3,1,2,1,1,2,4,1,2,1,1,1,1,1,1,1,3,1,1,1,3,1,4,1,1,2,1,2,2,4,1,2,3,2,2,5,2,2,1,1,3,1,2,2,6,1,2,2,3,1,1,1,2,16,1,1,2,1,1,1,1,2,2,2,2,1,1,1,6,1,3,8,2,2,1,2,1,1,1,2,3,4,1,1,1,1,2,1,2,12,2,1,1,1,1,1,1,1,1,2,1,1,1,1,6,3,1,1,1,1,3,2,3,5,4,1,1,2,2,1,1,4,5,7,3,2,1,1,2,2,3,1,2,1,2,3,1,1,1,1,1,2,1,1,2,3,3,1,2,1,2,3,2,2,1,2,1,1,1,2,2,3,2,3,1,1,2,3,1,2,2,5,1,3,1,2,1,1,1,1,1,1,2,2,1,1,1,2,2,1,2,1,2,1,3,2,1,2,3,1,1,1,1,3,1,1,7,1,1,1,1,1,2,1,1,1,1,1,4,3,2,4,1,1,2,1,3,1,2,1,1,1,1,1,1,1,1,1,1,1,1,1,1,2,1,1,5,1,1,1,1,1,1,4,4,1,3,1,1,1,1,2,1,2,1,1,1,3,2,2,1,1,1,2,3,3,1,2,1,2,2,2,4,1,1,1,1,3,1,1,1,1,1,1,4,2,4,5,2,2,1,1,1,2,1,1,1,1,1,1,1,1,2,2,1,1,6,1,1,1,1,1,1,1,1,1,3,1,1,1,2,1,1,9,1,1,1,3,1,2,2,1,1,1,1,2,1,1,2,2,1,5,1,1,1,2,1,1,6,5,1,1,1,6,1,1,2,1,2,1,2,1,1,1,1,1,1,1,2,2,2,1,2,1,1,2,1,1,1,1,1,1,2,1,1,3,1,3,1,1,1,2,1,2,1,2,1,1,1,3,1,1,1,2,3,3,1,1,2,1,2,1,1,1,1,1,1,1,1,1,1,1,1,1,1,1,3,1,1,1,1,1,3,3,1,2,1,4,2,1,1,1,2,1,2,2,1,1,1,1,1,3,1,1,2,1,1,1,2,2,1,1,1,1,2,1,1,1,1,1,2,1,1,1,3,2,2,1,1,1,5,3,3,1,2,4,1,3,1,1,1,1,1,5,9,13,2,6,7,3,4,3,1,6,7,3,2,10,3,5,2,5,3,1,4,1,1,2,1,2,2,5,3,1,2,1,1,1,4,3,2,1,7,2,2,3,2,1,1,1,1,1,1,2,1,1,2,5,1,1,1,1,2,5,1,1,2,1,1,1,2,1,1,1,1,1,2,4,2,2,1,5,2,1,1,4,8,5,5,2,1,2,3,3,1,6,12,1,9,3,7,1,7,3,1,3,3,1,5,2,2,1,4,1,5,2,1,4,11,6,10,2,4,2,8,7,5,1,2,1,1,1,1,3,1,1,1,1,1,1,3,1,1,2,1,1,1,1,1,1,1,1,1,1,1,1,2,1,1,5,7,1,2,1,3,2,2,2,1,1,3,1,2,5,1,2,3,1,3,1,1,1,1,2,2,1,1,3,3,5,1,2,1,1,1,1,3,1,2,2,2,1,1,2,1,1,2,1,1,1,1,1,2,1,1,1,1,1,2,1,3,2,1,1,1,1,2,1,3,4,4,1,1,4,2,3,1,1,2,1,2,1,30,2,1,1,1,2,5,1,4,1,2,1,1,1,4,1,1,3,1,1,3,1,1,4,2,3,1,1,1,2,3,6,4,1,1,1,1,1,2,1,3,3,2,8,2,1,1,3,1,1,1,1,1,3,1,2,2,2,3,1,4,3,3,1,1,2,4,5,1,1,1,3,1,4,1,1,3,3,1,1,4,2,3,1,2,4,1,2,4,2,4,1,5,2,2,1,5,1,2,3,1,1,6,3,1,1,1,1,2,1,6,7,3,3,4,1,2,1,2,2,3,6,4,1,3,2,2,3,4,3,2,5,3,3,1,2,1,1,3,2,1,5,1,3,1,1,2,1,1,2,1,2,1,8,1,1,4,2,1,2,2,3,2,1,2,1,5,2,7,3,1,2,1,1,4,3,6,2,4,4,1,3,6,1,5,2,3,1,3,6,1,4,3,2,1,1,15,5,10,3,4,5,9,2,2,3,1,5,2,4,2,6,1,2,2,2,2,6,3,1,1,1,1,1,1,2,2,2,1,1,2,2,1,1,1,1,2,1,1,2,9,2,5,2,2,1,3,3,2,2,2,1,3,1,4,3,6,5,1,1,2,2,1,1,1,2,1,1,1,6,1,2,1,1,1,1,3,2,2,1,1,1,5,2,2,3,1,6,1,2,1,1,1,4,14,1,1,1,1,1,1,1,1,1,9,4,2,4,2,1,1,5,3,5,3,1,1,1,13,4,2,5,6,11,2,2,1,1,5,1,3,1,1,2,1,1,6,1,1,1,1,1,1,1,1,2,1,2,2,3,1,2,1,3,1,2,1,1,1,4,4,3,1,1,1,2,3,2,1,2,2,1,1,1,1,1,1,1,1,1,1,1,1,3,2,1,1,2,1,1,1,1,1,3,1,1,1,1,1,1,2,1,2,1,1,2,1,2,4,1,3,1,2,1,3,1,1,2,1,1,1,1,1,4,1,2,2,1,5,1,1,3,1,1,1,3,1,2,1,1,1,3,2,1,2,2,2,1,1,8,4,1,1,2,1,3,1,2,1,1,1,2,1,2,1,6,1,2,1,4,1,1,3,1,1,1,2,1,4,4,1,3,1,4,1,1,1,2,1,1,2,2,2,1,1,1,3,2,1,2,1,2,3,1,1,3,3,1,1,1,2,1,2,1,2,4,1,1,1,3,2,1,2,1,1,1,1,2,1,1,1,1,3,1,1,2,1,1,1,4,1,1,1,1,1,5,2,1,3,2,2,1,1,2,2,1,1,5,2,4,3,1,2,3,2,2,1,1,1,2,1,2,2,5,2,3,1,2,2,1,1,1,1,1,1,2,1,2,1,1,1,1,2,1,2,2,2,2,1,3,4,2,2,2,1,1,1,1,4,1,1,1,3,1,4,2,2,2,3,3,1,3,2,1,2,1,1,1,3,1,1,1,1,1,1,2,1,1,3,2,1,1,2,1,2,2,1,1,1,1,1,1,1,2,3,1,2,1,2,1,1,1,1,1,1,1,4,1,2,1,1,3,1,2,2,1,1,2,2,3,1,1,1,2,1,2,4,5,5,1,2,2,3,1,1,1,3,1,1,1,1,1,2,1,2,1,1,1,1,1,1,2,2,2,2,1,3,1,2,1,2,2,1,1,2,1,1,1,1,1,1,1,1,1,1,1,5,1,1,10,1,1,1,1,1,3,3,1,3,1,1,1,6,1,1,1,1,1,1,1,1,2,3,1,1,1,2,1,1,1,1,2,1,1,2,1,2,1,3,4,1,2,4,3,1,1,1,2,2,2,2,1,1,1,1,1,1,2,1,1,1,1,2,1,6,1,1,1,4,1,2,1,4,1,1,3,2,1,4,1,1,2,1,1,1,1,12,11,4,2,18,3,2,2,11,2,5,10,2,1,4,2,1,3,1,3,3,1,1,1,1,1,1,1,1,1,1,1,1,1,1,1,6,2,6,7,1,1,2,2,1,1,2,3,1,1,3,6,2,1,1,1,3,7,2,1,3,2,2,1,1,1,1,3,1,1,1,1,4,1,2,1,1,2,1,1,1,1,1,1,4,2,1,1,1,1,1,1,1,1,3,4,2,1,1,1,2,2,2,1,1,1,1,2,1,1,1,1,1,1,1,1,1,1,1,6,1,1,1,2,1,10,4,3,1,1,1,1,2,4,1,1,1,1,3,5,1,2,2,3,1,1,1,1,1,1,1,1,2,2,1,1,1,1,1,1,1,1,1,2,1,1,4,1,2,1,2,3,1,1,1,1,3,3,2,2,5,1,1,1,1,2,1,1,1,2,2,6,2,1,2,1,1,1,1,1,3,2,1,1,1,2,1,1,2,1,1,2,2,1,2,1,1,1,4,1,1,1,2,2,2,1,2,1,2,1,2,1,1,3,1,1,1,1,1,1,1,3,1,3,1,1,2,4,2,2,4,3,1,1,6,1,1,1,2,1,1,1,1,2,3,1,1,1,3,1,1,1,1,1,2,1,1,1,3,1,2,1,3,1,1,2,2,2,1,1,2,1,1,1,1,1,1,1,1,1,1,1,1,2,1,2,1,2,1,1,3,1,1,1,2,2,1,3,1,1,1,2,1,2,1,1,1,1,1,1,1,2,1,2,2,1,1,1,1,3,1,3,1,1,1,1,1,1,1,3,1,4,2,1,1,2,1,7,1,3,2,2,2,2,1,4,1,4,1,3,1,1,1,3,3,1,3,7,3,1,2,1,2,2,1,1,1,1,1,2,2,1,1,1,1,1,1,1,1,1,1,1,2,1,1,1,1,3,1,2,2,1,1,1,1,1,2,1,3,2,1,1,1,1,1,2,3,1,1,1,1,1,2,1,1,1,1,1,2,1,3,1,1,1,1,1,1,2,1,1,1,2,1,2,1,1,1,1,1,1,1,2,1,2,1,1,1,2,1,1,2,2,1,1,1,1,1,1,2,1,1,4,2,1,4,1,1,3,1,3,1,3,1,1,1,1,2,1,9,4,4,1,2,1,1,2,1,2,1,1,1,1,1,1,1,1,1,2,1,2,1,1,1,1,1,1,1,11,1,1,1,5,1,2,1,1,1,1,1,2,1,2,1,1,1,2,1,7,1,1,4,6,1,1,1,5,1,1,2,1,2,1,1,1,1,2,1,2,1,2,1,1,1,1,1,1,2,1,1,1,1,1,2,1,1,1,1,1,1,1,1,1,1,1,1,1,1,1,1,1,1,2,1,1,1,1,1,1,1,1,2,3,4,2,5,6,2,1,1,1,1,3,1,1,1,1,1,1,2,1,1,3,3,1,1,1,1,1,1,1,1,1,1,3,1,1,1,1,1,1,2,1,2,1,6,2,10,2,3,1,1,1,1,1,3,1,1,1,2,3,1,4,4,1,1,1,1,1,1,1,1,2,1,4,6,1,1,1,6,1,1,1,1,1,1,1,1,1,3,2,1,2,3,2,2,3,1,1,1,1,5,1,1,3,7,2,1,1,1,1,3,2,2,1,1,2,5,1,1,1,2,3,1,2,1,1,2,1,3,2,1,2,1,2,1,2,1,3,4,1,1,2,2,1,3,1,2,1,1,1,1,2,1,1,1,1,2,1,1,1,1,1,1,1,1,1,3,1,3,3,1,1,2,1,1,1,3,1,1,2,2,1,1,1,4,2,1,2,2,1,1,5,2,3,3,1,1,1,1,1,1,4,7,1,4,1,3,1,1,3,3,2,2,2,1,2,1,2,1,1,1,4,2,2,2,2,3,2,3,1,1,1,1,1,1,2,1,1,1,3,2,5,1,1,1,8,1,1,1,1,1,3,1,1,2,2,1,1,2,2,1,2,1,1,2,3,1,2,1,5,1,1,1,1,2,1,1,2,4,4,4,1,2,3,3,2,1,3,2,1,3,1,1,1,2,2,3,2,1,2,1,1,1,1,1,1,1,2,1,1,2,2,1,3,2,1,1,1,1,1,1,3,6,1,2,1,2,2,1,4,3,2,2,1,1,1,1,3,5,1,1,1,1,1,1,1,2,2,1,1,3,2,2,1,2,2,1,2,1,1,1,1,1,2,1,2,1,1,2,5,6,5,1,1,3,1,1,1,1,2,1,1,1,3,12,3,1,3,4,1,1,1,1,2,1,1,1,1,1,4,1,1,1,1,1,1,2,1,2,1,3,1,2,1,2,1,6,2,3,2,3,13,1,1,3,1,1,1,1,1,1,2,1,2,1,1,1,3,3,5,11,11,1,7,14,4,2,5,2,2,3,3,6,3,2,7,1,2,2,1,2,1,6,2,1,1,5,2,4,1,1,1,1,1,1,4,6,2,2,3,1,1,1,1,1,8,5,3,2,4,7,1,6,1,1,1,1,1,1,1,2,1,6,2,4,2,1,1,1,1,1,2,1,2,1,2,2,1,1,2,1,1,1,3,2,5,5,1,2,1,1,1,1,1,1,1,2,1,1,3,2,2,1,1,1,1,1,1,1,1,1,1,3,1,3,2,1,1,1,1,1,1,1,1,1,1,5,1,1,1,2,1,1,1,1,1,1,1,1,1,1,2,1,2,1,1,2,3,2,4,1,1,4,1,1,1,3,1,5,1,3,2,1,1,1,1,1,1,2,1,4,3,3,2,1,1,1,9,3,2,1,4,2,1,2,1,2,1,2,1,3,1,3,1,1,3,2,4,7,1,2,4,4,2,1,1,1,2,2,1,3,1,1,1,2,1,6,2,1,1,3,1,2,2,1,3,2,2,1,1,3,2,3,1,2,6,2,1,1,2,3,1,1,2,2,1,1,1,1,1,1,1,1,1,2,4,2,2,3,2,2,1,3,4,1,1,1,1,2,2,4,1,1,1,5,1,1,1,2,1,2,2,1,1,1,2,1,1,2,1,1,1,1,1,3,1,2,1,2,1,2,2,1,3,1,3,6,2,5,1,1,1,2,1,2,1,1,2,1,1,3,1,4,4,3,1,1,2,1,1,2,2,1,1,1,1,1,1,3,3,1,3,1,1,1,1,2,1,1,1,1,1,1,2,1,1,1,2,1,1,1,1,1,4,2,1,2,1,1,2,1,1,1,2,1,3,3,2,2,1,1,6,1,1,1,2,1,4,1,1,1,1,1,1,1,2,3,1,1,1,1,1,2,1,2,1,1,1,1,2,1,1,2,6,1,3,1,1,1,1,1,2,6,1,2,1,1,1,1,5,1,1,6,3,2,1,1,1,1,1,2,1,1,1,3,2,1,1,1,1,1,3,1,4,1,3,1,1,1,1,3,1,8,5,10,4,1,6,1,2,1,4,3,2,3,1,2,1,1,1,2,1,1,1,1,2,1,2,1,1,1,2,1,2,1,3,1,7,4,1,2,1,1,2,1,1,2,2,1,2,2,1,1,1,1,1,2,1,1,1,1,2,3,1,1,5,1,1,1,3,1,1,1,1,2,1,1,1,4,1,1,1,1,1,1,1,1,2,1,1,1,3,1,1,1,3,1,1,1,1,2,2,1,1,1,1,1,1,2,1,2,2,1,1,1,3,1,2,1,1,2,1,1,3,3,1,5,1,2,2,1,1,1,1,3,2,1,1,1,1,1,1,1,1,2,3,2,1,2,3,1,1,1,3,1,2,4,1,2,3,1,2,4,1,1,1,1,1,1,1,3,2,1,1,1,1,1,4,1,2,2,2,2,1,1,1,1,2,5,2,1,2,13,1,1,1,2,1,2,3,1,1,2,2,2,4,1,1,3,1,3,1,2,4,1,3,2,7,1,3,2,2,1,1,2,1,1,2,1,1,2,1,1,4,1,1,1,1,1,2,1,11,1,1,3,1,1,1,2,1,1,1,1,1,4,1,1,1,1,1,1,2,1,3,4,2,1,3,2,1,2,1,1,3,1,1,2,1,1,4,2,1,1,2,2,1,1,2,4,1,2,3,1,1,1,1,1,1,2,2,1,1,5,3,2,1,1,1,1,1,1,2,1,3,1,1,1,2,2,2,1,3,3,2,4,3,2,1,1,1,1,5,3,4,1,1,1,4,1,1,3,2,1,1,2,1,1,1,1,1,3,1,1,1,1,1,1,2,1,2,1,1,1,3,9,2,1,1,1,2,2,4,2,1,5,2,3,1,2,1,1,1,1,1,1,2,1,1,2,1,2,1,1,3,1,1,1,2,4,1,1,1,1,1,1,2,1,1,1,1,2,1,3,1,2,2,1,3,3,2,2,1,1,1,1,1,1,2,1,1,2,2,1,9,5,1,1,1,1,1,2,12,1,3,2,1,1,1,1,2,2,1,1,1,1,1,1,1,1,1,1,3,4,1,1,1,2,1,1,2,1,1,1,1,2,1,1,2,1,1,1,1,1,1,1,1,1,1,1,2,1,2,2,2,1,1,2,1,1,1,1,1,2,2,1,4,2,2,1,1,1,1,2,1,1,1,1,1,1,1,1,1,1,3,2,2,1,2,2,1,1,1,8,1,7,1,1,2,1,1,1,1,1,1,2,2,1,1,2,1,1,1,1,1,1,1,2,1,1,1,2,1,1,2,1,2,1,1,2,1,1,9,2,1,4,3,1,1,1,1,1,1,1,3,3,1,1,1,2,1,1,2,1,1,2,1,5,1,2,3,4,3,6,1,1,1,1,1,1,2,2,1,1,2,1,2,2,1,1,1,1,1,5,3,6,2,1,4,1,1,1,1,5,2,1,1,1,2,2,1,4,2,1,1,1,1,1,1,1,1,1,1,2,2,1,1,1,1,2,5,3,1,2,2,2,1,1,1,1,1,1,3,1,1,1,1,1,1,1,2,1,1,3,1,1,1,1,1,2,1,1,1,1,1,1,1,3,1,1,1,3,1,1,1,1,1,1,1,1,3,2,1,1,6,1,5,2,1,1,1,1,1,1,1,3,1,1,1,1,2,1,1,1,1,2,1,1,3,1,1,1,1,1,2,1,1,1,3,3,1,1,1,3,1,1,3,2,2,1,1,2,1,2,1,6,7,2,3,1,1,3,2,1,1,3,1,1,1,1,1,1,1,1,3,1,1,1,1,1,3,1,1,6,5,1,2,1,2,5,2,1,1,1,1,4,1,1,2,1,1,2,1,1,1,2,1,1,1,2,1,1,1,1,1,3,1,4,1,1,1,1,2,1,1,1,1,1,2,1,2,2,2,1,1,1,1,1,1,1,4,1,1,1,1,1,2,1,4,2,1,2,1,1,2,1,1,1,1,1,1,1,1,1,2,2,2,5,1,5,3,2,1,3,2,1,1,1,2,1,1,1,2,1,1,1,1,1,1,1,1,1,1,1,1,2,1,1,1,3,5,1,1,1,3,2,2,1,2,2,1,1,1,1,1,1,1,1,1,1,2,1,1,1,1,2,1,3,1,1,1,1,1,3,1,1,2,4,1,3,1,4,1,1,1,1,2,2,7,3,4,1,1,4,1,2,4,1,3,2,1,2,3,1,6,1,1,1,1,1,3,1,3,4,1,1,1,1,1,2,4,3,3,1,1,1,1,1,1,1,1,1,1,2,1,1,1,1,1,5,1,3,12,1,1,2,2,1,1,1,1,1,1,1,1,1,1,4,1,1,7,1,3,1,1,1,2,1,1,1,1,1,4,1,2,1,1,1,2,1,1,1,2,1,1,5,17,4,2,8,2,2,1,2,1,2,3,7,1,1,3,1,1,1,3,1,1,1,1,5,1,1,1,1,2,3,1,2,1,8,1,1,1,1,1,1,7,2,3,2,1,1,2,3,1,1,1,2,1,7,3,1,5,6,4,2,4,1,5,1,2,1,1,2,4,1,1,2,7,2,1,2,1,1,1,1,1,8,4,2,1,3,2,1,1,2,1,1,1,1,4,1,1,2,2,2,2,4,1,3,3,1,1,6,8,4,1,1,2,1,2,1,1,1,1,2,6,3,1,1,2,6,3,1,2,1,1,4,3,3,2,2,1,1,2,2,1,1,3,3,4,1,1,2,1,1,1,2,1,1,5,2,1,3,4,1,1,1,1,1,8,1,3,1,1,2,2,2,3,1,1,2,1,1,1,1,1,1,1,1,1,2,2,2,4,1,1,1,1,1,3,1,7,2,2,1,1,1,2,1,1,4,3,1,1,2,1,1,1,1,1,2,2,2,1,1,2,1,1,1,1,2,1,1,1,1,2,2,1,1,1,1,1,1,2,1,1,2,1,1,1,1,2,3,2,1,1,1,1,4,4,9,1,3,1,1,1,1,1,1,1,2,1,1,1,1,1,3,2,1,2,3,1,2,2,1,1,1,1,2,1,4,1,1,2,1,1,1,3,2,1,5,3,1,2,6,1,3,20,1,2,5,5,1,3,3,2,3,2,1,1,1,2,6,5,2,4,10,2,2,1,2,2,1,1,1,3,7,1,2,3,1,1,2,3,2,1,1,1,1,4,6,2,3,2,3,1,3,1,1,1,1,1,2,5,1,1,1,1,2,1,2,2,2,3,1,1,3,4,1,2,2,7,1,2,1,1,1,3,1,1,2,1,1,3,4,2,1,3,1,1,3,1,1,1,2,1,1,1,1,2,1,8,1,3,1,1,3,1,7,2,1,3,1,1,1,1,1,1,1,2,2,2,4,5,6,1,1,1,8,1,1,1,3,3,1,2,2,11,1,2,1,1,1,2,1,2,1,1,2,1,1,2,2,2,3,2,1,1,1,1,2,3,2,3,1,1,2,1,1,2,1,1,4,1,3,3,1,1,1,1,2,1,2,2,1,3,2,5,1,2,1,1,1,1,1,1,1,2,1,1,1,1,1,1,1,3,1,2,1,1,1,1,1,1,1,1,1,1,2,1,2,3,1,1,1,1,1,1,1,2,1,2,1,1,1,1,1,1,1,1,1,3,1,1,4,1,1,3,1,1,1,1,2,1,1,1,2,1,2,1,2,1,2,1,1,1,6,9,3,2,1,4,5,1,1,1,1,5,1,3,1,1,1,1,4,3,2,1,3,5,1,3,2,1,3,3,1,1,2,1,3,2,2,3,1,1,1,1,2,1,3,2,1,1,3,2,1,1,2,1,7,2,1,3,1,2,2,1,1,2,1,1,1,1,1,1,1,1,1,1,2,1,2,2,2,2,1,1,1,1,1,2,1,1,1,1,4,1,1,1,4,2,1,1,3,1,2,1,1,1,1,1,1,1,1,1,1,3,3,3,6,1,1,1,4,1,2,1,3,1,1,1,1,1,1,3,2,20,1,2,1,1,1,4,1,2,2,1,1,1,1,2,1,6,2,1,1,1,3,1,1,2,1,2,3,1,1,1,4,1,1,2,3,1,1,1,3,2,2,5,1,1,1,1,1,1,1,2,1,2,1,1,1,1,1,1,1,1,1,2,2,1,1,1,1,1,1,2,1,1,3,2,1,1,3,2,1,2,7,4,1,3,7,2,1,13,1,1,1,2,2,1,4,10,14,1,1,1,5,3,5,3,2,1,1,1,3,4,7,4,1,5,4,1,2,1,1,5,1,1,1,1,2,4,1,1,2,1,2,1,2,2,2,2,2,1,1,1,2,1,1,1,1,1,1,1,2,2,1,2,2,1,1,1,1,2,2,1,1,3,2,1,1,1,1,1,1,1,1,1,1,1,1,1,2,1,2,1,1,2,1,2,1,2,2,1,1,2,1,4,1,3,1,4,1,1,1,1,1,1,1,1,6,1,3,1,2,1,1,2,1,5,1,1,1,1,1,2,1,1,1,6,1,1,3,3,1,1,1,2,4,2,1,8,2,2,1,1,2,5,1,1,1,1,4,2,4,4,2,1,1,1,1,3,1,2,1,1,3,1,4,2,1,1,2,1,1,2,2,1,2,1,1,1,1,2,2,1,1,2,1,1,2,1,1,2,1,1,1,2,1,1,2,5,3,1,3,2,1,1,1,2,4,2,1,1,2,3,1,1,1,1,2,3,3,1,1,2,1,1,1,1,3,2,1,1,2,1,1,2,1,1,1,1,3,2,2,1,2,1,2,1,2,1,3,1,1,1,1,1,1,3,1,1,1,1,1,1,1,1,1,1,1,1,1,1,1,2,2,1,1,1,1,1,3,1,1,1,2,1,2,1,1,1,1,2,1,1,2,1,1,1,1,1,1,1,1,2,1,2,2,1,1,1,1,1,1,1,3,3,1,2,1,2,1,6,3,2,3,1,1,1,1,1,1,4,3,1,2,1,1,4,1,1,1,1,3,1,4,2,4,2,6,8,3,12,6,4,12,5,1,5,8,1,8,4,1,3,4,1,1,1,1,3,6,2,1,1,3,2,2,2,2,1,8,11,11,5,4,17,4,2,1,2,3,2,2,4,2,1,8,3,2,1,1,3,1,1,1,2,2,2,2,3,2,8,4,16,4,5,2,1,3,4,11,2,4,2,4,6,2,4,3,4,1,1,2,1,6,10,3,3,1,1,4,2,1,1,1,2,1,1,1,1,3,7,3,7,1,1,2,2,1,2,5,1,1,1,1,3,1,1,2,4,1,1,2,1,3,3,2,2,1,7,8,22,4,1,1,1,15,1,1,1,3,1,4,3,10,1,1,1,3,2,1,2,1,1,2,3,1,4,4,2,12,1,30,3,10,1,5,14,1,1,1,1,2,1,1,1,2,1,9,4,4,2,1,1,17,1,2,2,5,18,2,2,13,2,5,2,2,9,3,5,1,8,7,3,2,10,1,10,9,1,2,4,4,2,1,2,3,2,1,4,2,3,6,3,3,2,4,2,5,2,3,2,2,2,4,8,2,1,9,1,7,1,1,3,3,3,1,2,2,1,2,1,1,1,16,6,4,21,4,3,1,38,1,1,2,4,2,7,111,19,2,6,5,10,3,6,17,7,46,4,15,8,7,3,6,3,8,4,36,2,17,7,3,3,7,4,1,1,1,166,33,34,5,21,5,29,2,41,9,6,2,8,4,4,13,7,5,2,4,3,9,7,7,5,1,2,1,1,1,17,1,2,7,2,4,3,3,1,48,6,2,1,2,1,5,1,1,9,17,16,8,7,4,9,5,9,8,3,8,1,4,3,1,6,3,1,1,3,1,8,1,11,1,3,2,3,7,2,2,1,3,2,1,15,10,1,7,1,2,1,2,9,1,1,16,2,3,1,2,4,1,1,11,7,2,11,32,1,2,1,3,2,1,1,3,3,8,1,1,3,1,4,6,1,1,1,2,1,2,1,1,4,1,1,7,2,1,1,1,6,2,1,1,1,4,26,8,5,22,4,12,12,11,1,1,1,1,2,1,2,5,4,3,3,1,3,1,1,3,1,2,2,6,1,1,9,2,1,5,1,3,4,3,1,1,1,3,1,3,3,16,3,1,3,2,2,1,10,2,6,14,2,1,1,3,1,6,25,3,8,6,1,5,1,1,4,3,3,2,2,3,2,5,2,3,1,1,10,5,2,1,8,3,1,1,7,1,1,2,3,4,9,4,11,1,1,2,8,5,1,1,6,1,7,1,2,1,1,5,1,1,2,1,1,1,2,2,1,1,3,1,1,4,3,1,1,1,1,5,1,4,1,2,1,1,5,2,2,2,4,4,1,1,1,1,3,1,3,4,3,1,15,8,3,7,4,5,2,1,1,2,1,1,3,2,1,4,2,1,3,1,1,2,1,4,1,2,1,2,5,1,5,1,1,2,2,2,3,1,1,2,1,1,1,1,1,1,3,1,1,8,1,3,1,1,2,1,5,5,2,1,1,1,2,3,1,16,3,1,1,2,1,3,2,3,2,1,3,2,1,1,14,2,1,6,2,7,6,1,2,3,1,11,4,11,4,2,1,8,5,5,1,2,1,2,5,11,2,1,2,3,2,1,10,7,1,1,2,6,1,2,2,5,1,19,14,19,5,15,8,3,1,1,1,5,2,4,1,1,1,2,3,1,1,1,4,4,2,2,3,1,17,2,1,2,1,1,2,2,3,1,5,1,1,5,4,1,2,2,1,1,1,1,2,1,2,3,4,3,3,7,1,1,3,1,4,1,2,2,1,1,2,2,2,1,1,4,1,4,15,2,3,6,4,4,1,1,2,1,3,1,1,1,1,1,1,1,1,2,5,2,2,2,1,2,7,6,1,3,2,4,1,1,2,1,2,3,1,1,2,2,3,1,1,2,1,3,1,1,2,2,1,38,1,2,3,3,1,1,1,2,4,2,4,1,1,1,1,1],\"type\":\"densitymapbox\"}],                        {\"template\":{\"data\":{\"bar\":[{\"error_x\":{\"color\":\"#2a3f5f\"},\"error_y\":{\"color\":\"#2a3f5f\"},\"marker\":{\"line\":{\"color\":\"#E5ECF6\",\"width\":0.5},\"pattern\":{\"fillmode\":\"overlay\",\"size\":10,\"solidity\":0.2}},\"type\":\"bar\"}],\"barpolar\":[{\"marker\":{\"line\":{\"color\":\"#E5ECF6\",\"width\":0.5},\"pattern\":{\"fillmode\":\"overlay\",\"size\":10,\"solidity\":0.2}},\"type\":\"barpolar\"}],\"carpet\":[{\"aaxis\":{\"endlinecolor\":\"#2a3f5f\",\"gridcolor\":\"white\",\"linecolor\":\"white\",\"minorgridcolor\":\"white\",\"startlinecolor\":\"#2a3f5f\"},\"baxis\":{\"endlinecolor\":\"#2a3f5f\",\"gridcolor\":\"white\",\"linecolor\":\"white\",\"minorgridcolor\":\"white\",\"startlinecolor\":\"#2a3f5f\"},\"type\":\"carpet\"}],\"choropleth\":[{\"colorbar\":{\"outlinewidth\":0,\"ticks\":\"\"},\"type\":\"choropleth\"}],\"contour\":[{\"colorbar\":{\"outlinewidth\":0,\"ticks\":\"\"},\"colorscale\":[[0.0,\"#0d0887\"],[0.1111111111111111,\"#46039f\"],[0.2222222222222222,\"#7201a8\"],[0.3333333333333333,\"#9c179e\"],[0.4444444444444444,\"#bd3786\"],[0.5555555555555556,\"#d8576b\"],[0.6666666666666666,\"#ed7953\"],[0.7777777777777778,\"#fb9f3a\"],[0.8888888888888888,\"#fdca26\"],[1.0,\"#f0f921\"]],\"type\":\"contour\"}],\"contourcarpet\":[{\"colorbar\":{\"outlinewidth\":0,\"ticks\":\"\"},\"type\":\"contourcarpet\"}],\"heatmap\":[{\"colorbar\":{\"outlinewidth\":0,\"ticks\":\"\"},\"colorscale\":[[0.0,\"#0d0887\"],[0.1111111111111111,\"#46039f\"],[0.2222222222222222,\"#7201a8\"],[0.3333333333333333,\"#9c179e\"],[0.4444444444444444,\"#bd3786\"],[0.5555555555555556,\"#d8576b\"],[0.6666666666666666,\"#ed7953\"],[0.7777777777777778,\"#fb9f3a\"],[0.8888888888888888,\"#fdca26\"],[1.0,\"#f0f921\"]],\"type\":\"heatmap\"}],\"heatmapgl\":[{\"colorbar\":{\"outlinewidth\":0,\"ticks\":\"\"},\"colorscale\":[[0.0,\"#0d0887\"],[0.1111111111111111,\"#46039f\"],[0.2222222222222222,\"#7201a8\"],[0.3333333333333333,\"#9c179e\"],[0.4444444444444444,\"#bd3786\"],[0.5555555555555556,\"#d8576b\"],[0.6666666666666666,\"#ed7953\"],[0.7777777777777778,\"#fb9f3a\"],[0.8888888888888888,\"#fdca26\"],[1.0,\"#f0f921\"]],\"type\":\"heatmapgl\"}],\"histogram\":[{\"marker\":{\"pattern\":{\"fillmode\":\"overlay\",\"size\":10,\"solidity\":0.2}},\"type\":\"histogram\"}],\"histogram2d\":[{\"colorbar\":{\"outlinewidth\":0,\"ticks\":\"\"},\"colorscale\":[[0.0,\"#0d0887\"],[0.1111111111111111,\"#46039f\"],[0.2222222222222222,\"#7201a8\"],[0.3333333333333333,\"#9c179e\"],[0.4444444444444444,\"#bd3786\"],[0.5555555555555556,\"#d8576b\"],[0.6666666666666666,\"#ed7953\"],[0.7777777777777778,\"#fb9f3a\"],[0.8888888888888888,\"#fdca26\"],[1.0,\"#f0f921\"]],\"type\":\"histogram2d\"}],\"histogram2dcontour\":[{\"colorbar\":{\"outlinewidth\":0,\"ticks\":\"\"},\"colorscale\":[[0.0,\"#0d0887\"],[0.1111111111111111,\"#46039f\"],[0.2222222222222222,\"#7201a8\"],[0.3333333333333333,\"#9c179e\"],[0.4444444444444444,\"#bd3786\"],[0.5555555555555556,\"#d8576b\"],[0.6666666666666666,\"#ed7953\"],[0.7777777777777778,\"#fb9f3a\"],[0.8888888888888888,\"#fdca26\"],[1.0,\"#f0f921\"]],\"type\":\"histogram2dcontour\"}],\"mesh3d\":[{\"colorbar\":{\"outlinewidth\":0,\"ticks\":\"\"},\"type\":\"mesh3d\"}],\"parcoords\":[{\"line\":{\"colorbar\":{\"outlinewidth\":0,\"ticks\":\"\"}},\"type\":\"parcoords\"}],\"pie\":[{\"automargin\":true,\"type\":\"pie\"}],\"scatter\":[{\"marker\":{\"colorbar\":{\"outlinewidth\":0,\"ticks\":\"\"}},\"type\":\"scatter\"}],\"scatter3d\":[{\"line\":{\"colorbar\":{\"outlinewidth\":0,\"ticks\":\"\"}},\"marker\":{\"colorbar\":{\"outlinewidth\":0,\"ticks\":\"\"}},\"type\":\"scatter3d\"}],\"scattercarpet\":[{\"marker\":{\"colorbar\":{\"outlinewidth\":0,\"ticks\":\"\"}},\"type\":\"scattercarpet\"}],\"scattergeo\":[{\"marker\":{\"colorbar\":{\"outlinewidth\":0,\"ticks\":\"\"}},\"type\":\"scattergeo\"}],\"scattergl\":[{\"marker\":{\"colorbar\":{\"outlinewidth\":0,\"ticks\":\"\"}},\"type\":\"scattergl\"}],\"scattermapbox\":[{\"marker\":{\"colorbar\":{\"outlinewidth\":0,\"ticks\":\"\"}},\"type\":\"scattermapbox\"}],\"scatterpolar\":[{\"marker\":{\"colorbar\":{\"outlinewidth\":0,\"ticks\":\"\"}},\"type\":\"scatterpolar\"}],\"scatterpolargl\":[{\"marker\":{\"colorbar\":{\"outlinewidth\":0,\"ticks\":\"\"}},\"type\":\"scatterpolargl\"}],\"scatterternary\":[{\"marker\":{\"colorbar\":{\"outlinewidth\":0,\"ticks\":\"\"}},\"type\":\"scatterternary\"}],\"surface\":[{\"colorbar\":{\"outlinewidth\":0,\"ticks\":\"\"},\"colorscale\":[[0.0,\"#0d0887\"],[0.1111111111111111,\"#46039f\"],[0.2222222222222222,\"#7201a8\"],[0.3333333333333333,\"#9c179e\"],[0.4444444444444444,\"#bd3786\"],[0.5555555555555556,\"#d8576b\"],[0.6666666666666666,\"#ed7953\"],[0.7777777777777778,\"#fb9f3a\"],[0.8888888888888888,\"#fdca26\"],[1.0,\"#f0f921\"]],\"type\":\"surface\"}],\"table\":[{\"cells\":{\"fill\":{\"color\":\"#EBF0F8\"},\"line\":{\"color\":\"white\"}},\"header\":{\"fill\":{\"color\":\"#C8D4E3\"},\"line\":{\"color\":\"white\"}},\"type\":\"table\"}]},\"layout\":{\"annotationdefaults\":{\"arrowcolor\":\"#2a3f5f\",\"arrowhead\":0,\"arrowwidth\":1},\"autotypenumbers\":\"strict\",\"coloraxis\":{\"colorbar\":{\"outlinewidth\":0,\"ticks\":\"\"}},\"colorscale\":{\"diverging\":[[0,\"#8e0152\"],[0.1,\"#c51b7d\"],[0.2,\"#de77ae\"],[0.3,\"#f1b6da\"],[0.4,\"#fde0ef\"],[0.5,\"#f7f7f7\"],[0.6,\"#e6f5d0\"],[0.7,\"#b8e186\"],[0.8,\"#7fbc41\"],[0.9,\"#4d9221\"],[1,\"#276419\"]],\"sequential\":[[0.0,\"#0d0887\"],[0.1111111111111111,\"#46039f\"],[0.2222222222222222,\"#7201a8\"],[0.3333333333333333,\"#9c179e\"],[0.4444444444444444,\"#bd3786\"],[0.5555555555555556,\"#d8576b\"],[0.6666666666666666,\"#ed7953\"],[0.7777777777777778,\"#fb9f3a\"],[0.8888888888888888,\"#fdca26\"],[1.0,\"#f0f921\"]],\"sequentialminus\":[[0.0,\"#0d0887\"],[0.1111111111111111,\"#46039f\"],[0.2222222222222222,\"#7201a8\"],[0.3333333333333333,\"#9c179e\"],[0.4444444444444444,\"#bd3786\"],[0.5555555555555556,\"#d8576b\"],[0.6666666666666666,\"#ed7953\"],[0.7777777777777778,\"#fb9f3a\"],[0.8888888888888888,\"#fdca26\"],[1.0,\"#f0f921\"]]},\"colorway\":[\"#636efa\",\"#EF553B\",\"#00cc96\",\"#ab63fa\",\"#FFA15A\",\"#19d3f3\",\"#FF6692\",\"#B6E880\",\"#FF97FF\",\"#FECB52\"],\"font\":{\"color\":\"#2a3f5f\"},\"geo\":{\"bgcolor\":\"white\",\"lakecolor\":\"white\",\"landcolor\":\"#E5ECF6\",\"showlakes\":true,\"showland\":true,\"subunitcolor\":\"white\"},\"hoverlabel\":{\"align\":\"left\"},\"hovermode\":\"closest\",\"mapbox\":{\"style\":\"light\"},\"paper_bgcolor\":\"white\",\"plot_bgcolor\":\"#E5ECF6\",\"polar\":{\"angularaxis\":{\"gridcolor\":\"white\",\"linecolor\":\"white\",\"ticks\":\"\"},\"bgcolor\":\"#E5ECF6\",\"radialaxis\":{\"gridcolor\":\"white\",\"linecolor\":\"white\",\"ticks\":\"\"}},\"scene\":{\"xaxis\":{\"backgroundcolor\":\"#E5ECF6\",\"gridcolor\":\"white\",\"gridwidth\":2,\"linecolor\":\"white\",\"showbackground\":true,\"ticks\":\"\",\"zerolinecolor\":\"white\"},\"yaxis\":{\"backgroundcolor\":\"#E5ECF6\",\"gridcolor\":\"white\",\"gridwidth\":2,\"linecolor\":\"white\",\"showbackground\":true,\"ticks\":\"\",\"zerolinecolor\":\"white\"},\"zaxis\":{\"backgroundcolor\":\"#E5ECF6\",\"gridcolor\":\"white\",\"gridwidth\":2,\"linecolor\":\"white\",\"showbackground\":true,\"ticks\":\"\",\"zerolinecolor\":\"white\"}},\"shapedefaults\":{\"line\":{\"color\":\"#2a3f5f\"}},\"ternary\":{\"aaxis\":{\"gridcolor\":\"white\",\"linecolor\":\"white\",\"ticks\":\"\"},\"baxis\":{\"gridcolor\":\"white\",\"linecolor\":\"white\",\"ticks\":\"\"},\"bgcolor\":\"#E5ECF6\",\"caxis\":{\"gridcolor\":\"white\",\"linecolor\":\"white\",\"ticks\":\"\"}},\"title\":{\"x\":0.05},\"xaxis\":{\"automargin\":true,\"gridcolor\":\"white\",\"linecolor\":\"white\",\"ticks\":\"\",\"title\":{\"standoff\":15},\"zerolinecolor\":\"white\",\"zerolinewidth\":2},\"yaxis\":{\"automargin\":true,\"gridcolor\":\"white\",\"linecolor\":\"white\",\"ticks\":\"\",\"title\":{\"standoff\":15},\"zerolinecolor\":\"white\",\"zerolinewidth\":2}}},\"mapbox\":{\"domain\":{\"x\":[0.0,1.0],\"y\":[0.0,1.0]},\"center\":{\"lat\":53.51481,\"lon\":-2.407476},\"zoom\":9,\"style\":\"stamen-terrain\"},\"coloraxis\":{\"colorbar\":{\"title\":{\"text\":\"total\"}},\"colorscale\":[[0.0,\"#0d0887\"],[0.1111111111111111,\"#46039f\"],[0.2222222222222222,\"#7201a8\"],[0.3333333333333333,\"#9c179e\"],[0.4444444444444444,\"#bd3786\"],[0.5555555555555556,\"#d8576b\"],[0.6666666666666666,\"#ed7953\"],[0.7777777777777778,\"#fb9f3a\"],[0.8888888888888888,\"#fdca26\"],[1.0,\"#f0f921\"]]},\"legend\":{\"tracegroupgap\":0},\"margin\":{\"t\":60}},                        {\"responsive\": true}                    ).then(function(){\n",
              "                            \n",
              "var gd = document.getElementById('c930a74b-998e-46d9-8608-086c5a18091d');\n",
              "var x = new MutationObserver(function (mutations, observer) {{\n",
              "        var display = window.getComputedStyle(gd).display;\n",
              "        if (!display || display === 'none') {{\n",
              "            console.log([gd, 'removed!']);\n",
              "            Plotly.purge(gd);\n",
              "            observer.disconnect();\n",
              "        }}\n",
              "}});\n",
              "\n",
              "// Listen for the removal of the full notebook cells\n",
              "var notebookContainer = gd.closest('#notebook-container');\n",
              "if (notebookContainer) {{\n",
              "    x.observe(notebookContainer, {childList: true});\n",
              "}}\n",
              "\n",
              "// Listen for the clearing of the current output cell\n",
              "var outputEl = gd.closest('.output');\n",
              "if (outputEl) {{\n",
              "    x.observe(outputEl, {childList: true});\n",
              "}}\n",
              "\n",
              "                        })                };                            </script>        </div>\n",
              "</body>\n",
              "</html>"
            ]
          },
          "metadata": {}
        }
      ]
    },
    {
      "cell_type": "markdown",
      "source": [
        "## Shortest path between persons related to crimes\n",
        "\n",
        "Let’s see if the two Persons - Jack Powell and Raymond Walker - associated with these three Drugs Crimes are somehow connected in the graph. We’ll look for all of the shortest paths between them of 3 or fewer hops along all types of 'KNOWS' relationships. We can ignore the direction of the relationships in this query, as we’re not interested in which direction they point."
      ],
      "metadata": {
        "id": "6xpBkzNhbqsU"
      }
    },
    {
      "cell_type": "code",
      "source": [
        "%%cypher\n",
        "MATCH (c:Crime {last_outcome: 'Under investigation', type: 'Drugs'})-[:INVESTIGATED_BY]->(:Officer {badge_no: '26-5234182'}),\n",
        "(c)<-[:PARTY_TO]-(p:Person)\n",
        "WITH COLLECT(p) AS persons\n",
        "UNWIND persons AS p1\n",
        "UNWIND persons AS p2\n",
        "WITH * WHERE id(p1) < id(p2)\n",
        "MATCH path = allshortestpaths((p1)-[:KNOWS|KNOWS_LW|KNOWS_SN|FAMILY_REL|KNOWS_PHONE*..3]-(p2))\n",
        "RETURN path"
      ],
      "metadata": {
        "colab": {
          "base_uri": "https://localhost:8080/",
          "height": 417,
          "referenced_widgets": [
            "7b004e7bad4d46599ebf9df5c045bd75",
            "c8d65b6eb2b54467b708dddadd947643",
            "1c4344cd802e439a8b4a655649d22f2e",
            "74f289d2d28b4744bf59a37de388d780",
            "96a92778b6db4daabdc891d1c788c8f7",
            "63c454719ca44307aaf99e07fc1f98d8",
            "6600690e8f924148bb905d0750144572",
            "870a2a257f0e4f0991306f39f6030981",
            "2d63dd669f414f53b888f995854a5945",
            "3220b2fd0a894e50ac4c67365d19afb8",
            "1a2ff306e19146539ec0627d12f96641",
            "bfde1d21c70148cf8f3ed60a760266e1",
            "d80b8e2a6c77426481d7c1e5cc9790d4",
            "38f16a1e338e415c9f7a622882ce47e5",
            "571db1597e6f4189a77fc241221a8209",
            "b9f406bc0e904974ba4555ca10b2b7ce",
            "91f4af05cfdb4125ac843e64d6744d88",
            "b61ad3c0cb434294b65d43ebbe2d6261",
            "b490022da5ad4367b7705872100d0399",
            "0ea4c4fe330a40a78074502e9fa23bf8",
            "1982f0278c9345b092d518e117216ef6",
            "f8f9777286c8455f9fa3b9addc0e4aaf",
            "b2d990cb564a4d38bae1be2764dd9300"
          ]
        },
        "id": "zpSUA51uTGpE",
        "outputId": "4f388613-d544-433a-92f1-1c019f891506"
      },
      "execution_count": null,
      "outputs": [
        {
          "output_type": "display_data",
          "data": {
            "text/plain": [
              "CytoscapeWidget(cytoscape_layout={'name': 'dagre', 'padding': 0, 'nodeSpacing': 10, 'edgeLengthVal': 10, 'anim…"
            ],
            "application/vnd.jupyter.widget-view+json": {
              "version_major": 2,
              "version_minor": 0,
              "model_id": "7b004e7bad4d46599ebf9df5c045bd75"
            }
          },
          "metadata": {
            "application/vnd.jupyter.widget-view+json": {
              "colab": {
                "custom_widget_manager": {
                  "url": "https://ssl.gstatic.com/colaboratory-static/widgets/colab-cdn-widget-manager/d2e234f7cc04bf79/manager.min.js"
                }
              }
            }
          }
        }
      ]
    },
    {
      "cell_type": "markdown",
      "source": [
        "It turns out they are part of what looks like a social group. Two of Raymond’s family relations (his father Phillip and sister Kathleen) know Alan Ward, who is the brother of Jack Powell. Raymond’s father Phillip also lives with Jack’s father Brian. Knowing that Raymond is under investigation for production of cannabis, that Jack is under investigation for two separate charges of possession of cannabis with intent to supply, and that they seem to be part of a social group we can speculate it’s possible that they know each other and that Jack is getting his cannabis from Raymond."
      ],
      "metadata": {
        "id": "IA9C8z3FcAt9"
      }
    },
    {
      "cell_type": "markdown",
      "source": [
        "## Vulnerable Persons Investigation\n",
        "\n",
        "Now we can explore a series of queries to simulate research on 'vulnerable' or 'at risk' individuals in the graph. This might be especially important in a social services or child protection use case. Here we have defined 'vulnerable person' as someone who is not themselves associated to a crime, but who knows many people who are. Run the query below to generate a list of the Top 5 most vulnerable people in the graph."
      ],
      "metadata": {
        "id": "4H--yr-AderK"
      }
    },
    {
      "cell_type": "code",
      "source": [
        "import plotly.express as px\n",
        "vulnerable_people_query = \"\"\"\n",
        "  MATCH (p:Person)-[:KNOWS]-(friend)-[:PARTY_TO]->(:Crime)\n",
        "  WHERE NOT (p:Person)-[:PARTY_TO]->(:Crime)\n",
        "  RETURN p.name + ' ' + p.surname AS fullName, count(distinct friend) AS dangerousFriends\n",
        "\"\"\"\n",
        "vulnerable_people_df = %cypher -q $vulnerable_people_query\n",
        "fig = px.bar(vulnerable_people_df, x='fullName', y='dangerousFriends')\n",
        "fig.show()\n"
      ],
      "metadata": {
        "colab": {
          "base_uri": "https://localhost:8080/",
          "height": 613
        },
        "id": "TpDv-SZWbOvp",
        "outputId": "43c701ee-2d9b-4f47-9b54-eae09541ef24"
      },
      "execution_count": null,
      "outputs": [
        {
          "output_type": "stream",
          "name": "stderr",
          "text": [
            "/usr/local/lib/python3.7/dist-packages/cy2py/utils.py:111: ExperimentalWarning:\n",
            "\n",
            "pandas support is experimental and might be changed or removed in future versions\n",
            "\n"
          ]
        },
        {
          "output_type": "display_data",
          "data": {
            "text/html": [
              "<html>\n",
              "<head><meta charset=\"utf-8\" /></head>\n",
              "<body>\n",
              "    <div>            <script src=\"https://cdnjs.cloudflare.com/ajax/libs/mathjax/2.7.5/MathJax.js?config=TeX-AMS-MML_SVG\"></script><script type=\"text/javascript\">if (window.MathJax) {MathJax.Hub.Config({SVG: {font: \"STIX-Web\"}});}</script>                <script type=\"text/javascript\">window.PlotlyConfig = {MathJaxConfig: 'local'};</script>\n",
              "        <script src=\"https://cdn.plot.ly/plotly-2.8.3.min.js\"></script>                <div id=\"03768614-836f-435d-a98b-8d15f1379868\" class=\"plotly-graph-div\" style=\"height:525px; width:100%;\"></div>            <script type=\"text/javascript\">                                    window.PLOTLYENV=window.PLOTLYENV || {};                                    if (document.getElementById(\"03768614-836f-435d-a98b-8d15f1379868\")) {                    Plotly.newPlot(                        \"03768614-836f-435d-a98b-8d15f1379868\",                        [{\"alignmentgroup\":\"True\",\"hovertemplate\":\"fullName=%{x}<br>dangerousFriends=%{y}<extra></extra>\",\"legendgroup\":\"\",\"marker\":{\"color\":\"#636efa\",\"pattern\":{\"shape\":\"\"}},\"name\":\"\",\"offsetgroup\":\"\",\"orientation\":\"v\",\"showlegend\":false,\"textposition\":\"auto\",\"x\":[\"Nicholas Mason\",\"Mary Young\",\"Pamela Gibson\",\"Dennis Mcdonald\",\"Sandra Ruiz\",\"Melissa Warren\",\"Ashley Robertson\",\"Paul Arnold\",\"Philip Scott\",\"Linda Baker\",\"Rose Crawford\",\"Evelyn Wood\",\"Rebecca Lee\",\"Kelly Robertson\",\"Ann Fox\",\"Raymond Williamson\",\"Rose Parker\",\"Wanda Weaver\",\"Rachel Hunter\",\"Henry Coleman\",\"Jennifer Rogers\",\"Kelly Peterson\",\"Philip Gardner\",\"Brenda Edwards\",\"Matthew Phillips\",\"Bobby Russell\",\"William Dixon\",\"Justin Payne\",\"Jennifer Murray\",\"Lois Larson\",\"Anne Freeman\",\"Charles Alexander\",\"Howard Day\",\"Andrea George\",\"Dennis Bradley\",\"Linda Boyd\",\"Melissa Gibson\",\"Virginia Allen\",\"Catherine White\",\"Arthur Willis\",\"Mary Murray\",\"Sean Myers\",\"Brandon Martin\",\"Kathy Wheeler\",\"James Hudson\",\"Harry Lopez\",\"Anna Chapman\",\"Roger Brooks\",\"Annie Duncan\",\"Christopher Patterson\",\"Kathryn Allen\",\"Carlos Matthews\",\"Carl Lawrence\",\"Ryan Smith\",\"Theresa Powell\",\"Patricia Butler\",\"Andrea Moreno\",\"Ernest Thompson\",\"Janet Cunningham\",\"Henry Jacobs\",\"Denise Brown\",\"Melissa Mills\",\"Michael Martin\",\"Walter James\",\"Carl Fuller\",\"Bonnie Gilbert\",\"Louis Richards\",\"Amy Murphy\",\"Matthew Howell\",\"Jose Green\",\"Virginia Gibson\",\"Diane Bradley\"],\"xaxis\":\"x\",\"y\":[1,2,2,1,2,1,5,1,1,1,1,1,1,1,1,1,1,1,1,1,1,2,1,1,1,1,1,1,1,1,8,1,1,1,1,1,1,1,1,1,1,1,1,3,1,1,1,2,1,1,1,1,1,1,1,1,1,1,1,1,1,1,1,2,1,7,1,1,1,1,1,1],\"yaxis\":\"y\",\"type\":\"bar\"}],                        {\"template\":{\"data\":{\"bar\":[{\"error_x\":{\"color\":\"#2a3f5f\"},\"error_y\":{\"color\":\"#2a3f5f\"},\"marker\":{\"line\":{\"color\":\"#E5ECF6\",\"width\":0.5},\"pattern\":{\"fillmode\":\"overlay\",\"size\":10,\"solidity\":0.2}},\"type\":\"bar\"}],\"barpolar\":[{\"marker\":{\"line\":{\"color\":\"#E5ECF6\",\"width\":0.5},\"pattern\":{\"fillmode\":\"overlay\",\"size\":10,\"solidity\":0.2}},\"type\":\"barpolar\"}],\"carpet\":[{\"aaxis\":{\"endlinecolor\":\"#2a3f5f\",\"gridcolor\":\"white\",\"linecolor\":\"white\",\"minorgridcolor\":\"white\",\"startlinecolor\":\"#2a3f5f\"},\"baxis\":{\"endlinecolor\":\"#2a3f5f\",\"gridcolor\":\"white\",\"linecolor\":\"white\",\"minorgridcolor\":\"white\",\"startlinecolor\":\"#2a3f5f\"},\"type\":\"carpet\"}],\"choropleth\":[{\"colorbar\":{\"outlinewidth\":0,\"ticks\":\"\"},\"type\":\"choropleth\"}],\"contour\":[{\"colorbar\":{\"outlinewidth\":0,\"ticks\":\"\"},\"colorscale\":[[0.0,\"#0d0887\"],[0.1111111111111111,\"#46039f\"],[0.2222222222222222,\"#7201a8\"],[0.3333333333333333,\"#9c179e\"],[0.4444444444444444,\"#bd3786\"],[0.5555555555555556,\"#d8576b\"],[0.6666666666666666,\"#ed7953\"],[0.7777777777777778,\"#fb9f3a\"],[0.8888888888888888,\"#fdca26\"],[1.0,\"#f0f921\"]],\"type\":\"contour\"}],\"contourcarpet\":[{\"colorbar\":{\"outlinewidth\":0,\"ticks\":\"\"},\"type\":\"contourcarpet\"}],\"heatmap\":[{\"colorbar\":{\"outlinewidth\":0,\"ticks\":\"\"},\"colorscale\":[[0.0,\"#0d0887\"],[0.1111111111111111,\"#46039f\"],[0.2222222222222222,\"#7201a8\"],[0.3333333333333333,\"#9c179e\"],[0.4444444444444444,\"#bd3786\"],[0.5555555555555556,\"#d8576b\"],[0.6666666666666666,\"#ed7953\"],[0.7777777777777778,\"#fb9f3a\"],[0.8888888888888888,\"#fdca26\"],[1.0,\"#f0f921\"]],\"type\":\"heatmap\"}],\"heatmapgl\":[{\"colorbar\":{\"outlinewidth\":0,\"ticks\":\"\"},\"colorscale\":[[0.0,\"#0d0887\"],[0.1111111111111111,\"#46039f\"],[0.2222222222222222,\"#7201a8\"],[0.3333333333333333,\"#9c179e\"],[0.4444444444444444,\"#bd3786\"],[0.5555555555555556,\"#d8576b\"],[0.6666666666666666,\"#ed7953\"],[0.7777777777777778,\"#fb9f3a\"],[0.8888888888888888,\"#fdca26\"],[1.0,\"#f0f921\"]],\"type\":\"heatmapgl\"}],\"histogram\":[{\"marker\":{\"pattern\":{\"fillmode\":\"overlay\",\"size\":10,\"solidity\":0.2}},\"type\":\"histogram\"}],\"histogram2d\":[{\"colorbar\":{\"outlinewidth\":0,\"ticks\":\"\"},\"colorscale\":[[0.0,\"#0d0887\"],[0.1111111111111111,\"#46039f\"],[0.2222222222222222,\"#7201a8\"],[0.3333333333333333,\"#9c179e\"],[0.4444444444444444,\"#bd3786\"],[0.5555555555555556,\"#d8576b\"],[0.6666666666666666,\"#ed7953\"],[0.7777777777777778,\"#fb9f3a\"],[0.8888888888888888,\"#fdca26\"],[1.0,\"#f0f921\"]],\"type\":\"histogram2d\"}],\"histogram2dcontour\":[{\"colorbar\":{\"outlinewidth\":0,\"ticks\":\"\"},\"colorscale\":[[0.0,\"#0d0887\"],[0.1111111111111111,\"#46039f\"],[0.2222222222222222,\"#7201a8\"],[0.3333333333333333,\"#9c179e\"],[0.4444444444444444,\"#bd3786\"],[0.5555555555555556,\"#d8576b\"],[0.6666666666666666,\"#ed7953\"],[0.7777777777777778,\"#fb9f3a\"],[0.8888888888888888,\"#fdca26\"],[1.0,\"#f0f921\"]],\"type\":\"histogram2dcontour\"}],\"mesh3d\":[{\"colorbar\":{\"outlinewidth\":0,\"ticks\":\"\"},\"type\":\"mesh3d\"}],\"parcoords\":[{\"line\":{\"colorbar\":{\"outlinewidth\":0,\"ticks\":\"\"}},\"type\":\"parcoords\"}],\"pie\":[{\"automargin\":true,\"type\":\"pie\"}],\"scatter\":[{\"marker\":{\"colorbar\":{\"outlinewidth\":0,\"ticks\":\"\"}},\"type\":\"scatter\"}],\"scatter3d\":[{\"line\":{\"colorbar\":{\"outlinewidth\":0,\"ticks\":\"\"}},\"marker\":{\"colorbar\":{\"outlinewidth\":0,\"ticks\":\"\"}},\"type\":\"scatter3d\"}],\"scattercarpet\":[{\"marker\":{\"colorbar\":{\"outlinewidth\":0,\"ticks\":\"\"}},\"type\":\"scattercarpet\"}],\"scattergeo\":[{\"marker\":{\"colorbar\":{\"outlinewidth\":0,\"ticks\":\"\"}},\"type\":\"scattergeo\"}],\"scattergl\":[{\"marker\":{\"colorbar\":{\"outlinewidth\":0,\"ticks\":\"\"}},\"type\":\"scattergl\"}],\"scattermapbox\":[{\"marker\":{\"colorbar\":{\"outlinewidth\":0,\"ticks\":\"\"}},\"type\":\"scattermapbox\"}],\"scatterpolar\":[{\"marker\":{\"colorbar\":{\"outlinewidth\":0,\"ticks\":\"\"}},\"type\":\"scatterpolar\"}],\"scatterpolargl\":[{\"marker\":{\"colorbar\":{\"outlinewidth\":0,\"ticks\":\"\"}},\"type\":\"scatterpolargl\"}],\"scatterternary\":[{\"marker\":{\"colorbar\":{\"outlinewidth\":0,\"ticks\":\"\"}},\"type\":\"scatterternary\"}],\"surface\":[{\"colorbar\":{\"outlinewidth\":0,\"ticks\":\"\"},\"colorscale\":[[0.0,\"#0d0887\"],[0.1111111111111111,\"#46039f\"],[0.2222222222222222,\"#7201a8\"],[0.3333333333333333,\"#9c179e\"],[0.4444444444444444,\"#bd3786\"],[0.5555555555555556,\"#d8576b\"],[0.6666666666666666,\"#ed7953\"],[0.7777777777777778,\"#fb9f3a\"],[0.8888888888888888,\"#fdca26\"],[1.0,\"#f0f921\"]],\"type\":\"surface\"}],\"table\":[{\"cells\":{\"fill\":{\"color\":\"#EBF0F8\"},\"line\":{\"color\":\"white\"}},\"header\":{\"fill\":{\"color\":\"#C8D4E3\"},\"line\":{\"color\":\"white\"}},\"type\":\"table\"}]},\"layout\":{\"annotationdefaults\":{\"arrowcolor\":\"#2a3f5f\",\"arrowhead\":0,\"arrowwidth\":1},\"autotypenumbers\":\"strict\",\"coloraxis\":{\"colorbar\":{\"outlinewidth\":0,\"ticks\":\"\"}},\"colorscale\":{\"diverging\":[[0,\"#8e0152\"],[0.1,\"#c51b7d\"],[0.2,\"#de77ae\"],[0.3,\"#f1b6da\"],[0.4,\"#fde0ef\"],[0.5,\"#f7f7f7\"],[0.6,\"#e6f5d0\"],[0.7,\"#b8e186\"],[0.8,\"#7fbc41\"],[0.9,\"#4d9221\"],[1,\"#276419\"]],\"sequential\":[[0.0,\"#0d0887\"],[0.1111111111111111,\"#46039f\"],[0.2222222222222222,\"#7201a8\"],[0.3333333333333333,\"#9c179e\"],[0.4444444444444444,\"#bd3786\"],[0.5555555555555556,\"#d8576b\"],[0.6666666666666666,\"#ed7953\"],[0.7777777777777778,\"#fb9f3a\"],[0.8888888888888888,\"#fdca26\"],[1.0,\"#f0f921\"]],\"sequentialminus\":[[0.0,\"#0d0887\"],[0.1111111111111111,\"#46039f\"],[0.2222222222222222,\"#7201a8\"],[0.3333333333333333,\"#9c179e\"],[0.4444444444444444,\"#bd3786\"],[0.5555555555555556,\"#d8576b\"],[0.6666666666666666,\"#ed7953\"],[0.7777777777777778,\"#fb9f3a\"],[0.8888888888888888,\"#fdca26\"],[1.0,\"#f0f921\"]]},\"colorway\":[\"#636efa\",\"#EF553B\",\"#00cc96\",\"#ab63fa\",\"#FFA15A\",\"#19d3f3\",\"#FF6692\",\"#B6E880\",\"#FF97FF\",\"#FECB52\"],\"font\":{\"color\":\"#2a3f5f\"},\"geo\":{\"bgcolor\":\"white\",\"lakecolor\":\"white\",\"landcolor\":\"#E5ECF6\",\"showlakes\":true,\"showland\":true,\"subunitcolor\":\"white\"},\"hoverlabel\":{\"align\":\"left\"},\"hovermode\":\"closest\",\"mapbox\":{\"style\":\"light\"},\"paper_bgcolor\":\"white\",\"plot_bgcolor\":\"#E5ECF6\",\"polar\":{\"angularaxis\":{\"gridcolor\":\"white\",\"linecolor\":\"white\",\"ticks\":\"\"},\"bgcolor\":\"#E5ECF6\",\"radialaxis\":{\"gridcolor\":\"white\",\"linecolor\":\"white\",\"ticks\":\"\"}},\"scene\":{\"xaxis\":{\"backgroundcolor\":\"#E5ECF6\",\"gridcolor\":\"white\",\"gridwidth\":2,\"linecolor\":\"white\",\"showbackground\":true,\"ticks\":\"\",\"zerolinecolor\":\"white\"},\"yaxis\":{\"backgroundcolor\":\"#E5ECF6\",\"gridcolor\":\"white\",\"gridwidth\":2,\"linecolor\":\"white\",\"showbackground\":true,\"ticks\":\"\",\"zerolinecolor\":\"white\"},\"zaxis\":{\"backgroundcolor\":\"#E5ECF6\",\"gridcolor\":\"white\",\"gridwidth\":2,\"linecolor\":\"white\",\"showbackground\":true,\"ticks\":\"\",\"zerolinecolor\":\"white\"}},\"shapedefaults\":{\"line\":{\"color\":\"#2a3f5f\"}},\"ternary\":{\"aaxis\":{\"gridcolor\":\"white\",\"linecolor\":\"white\",\"ticks\":\"\"},\"baxis\":{\"gridcolor\":\"white\",\"linecolor\":\"white\",\"ticks\":\"\"},\"bgcolor\":\"#E5ECF6\",\"caxis\":{\"gridcolor\":\"white\",\"linecolor\":\"white\",\"ticks\":\"\"}},\"title\":{\"x\":0.05},\"xaxis\":{\"automargin\":true,\"gridcolor\":\"white\",\"linecolor\":\"white\",\"ticks\":\"\",\"title\":{\"standoff\":15},\"zerolinecolor\":\"white\",\"zerolinewidth\":2},\"yaxis\":{\"automargin\":true,\"gridcolor\":\"white\",\"linecolor\":\"white\",\"ticks\":\"\",\"title\":{\"standoff\":15},\"zerolinecolor\":\"white\",\"zerolinewidth\":2}}},\"xaxis\":{\"anchor\":\"y\",\"domain\":[0.0,1.0],\"title\":{\"text\":\"fullName\"}},\"yaxis\":{\"anchor\":\"x\",\"domain\":[0.0,1.0],\"title\":{\"text\":\"dangerousFriends\"}},\"legend\":{\"tracegroupgap\":0},\"margin\":{\"t\":60},\"barmode\":\"relative\"},                        {\"responsive\": true}                    ).then(function(){\n",
              "                            \n",
              "var gd = document.getElementById('03768614-836f-435d-a98b-8d15f1379868');\n",
              "var x = new MutationObserver(function (mutations, observer) {{\n",
              "        var display = window.getComputedStyle(gd).display;\n",
              "        if (!display || display === 'none') {{\n",
              "            console.log([gd, 'removed!']);\n",
              "            Plotly.purge(gd);\n",
              "            observer.disconnect();\n",
              "        }}\n",
              "}});\n",
              "\n",
              "// Listen for the removal of the full notebook cells\n",
              "var notebookContainer = gd.closest('#notebook-container');\n",
              "if (notebookContainer) {{\n",
              "    x.observe(notebookContainer, {childList: true});\n",
              "}}\n",
              "\n",
              "// Listen for the clearing of the current output cell\n",
              "var outputEl = gd.closest('.output');\n",
              "if (outputEl) {{\n",
              "    x.observe(outputEl, {childList: true});\n",
              "}}\n",
              "\n",
              "                        })                };                            </script>        </div>\n",
              "</body>\n",
              "</html>"
            ]
          },
          "metadata": {}
        }
      ]
    },
    {
      "cell_type": "markdown",
      "source": [
        "# Extract a Graph into NetworkX and uses its algorithms\n",
        "\n",
        "This identifies communities or clusters of connectivity in graphs, and might be used in a policing context to identify gangs or other criminal/suspected groups."
      ],
      "metadata": {
        "id": "FJlalls3qfq9"
      }
    },
    {
      "cell_type": "code",
      "source": [
        "import networkx as nx\n",
        "import pandas as pd\n",
        "social_projection_query = \"\"\"\n",
        "  MATCH (s:Person)-[r:KNOWS]-(t:Person)\n",
        "  RETURN *\n",
        "\"\"\"\n",
        "social_projection_graph = %cypher -q $social_projection_query\n",
        "social_projection_graph = nx.Graph(social_projection_graph)\n",
        "triangles = nx.triangles(social_projection_graph)\n",
        "top_10 = sorted(triangles.items(), key=lambda item: item[1], reverse=True)[0:10]\n",
        "top_10_df = pd.DataFrame.from_records(top_10, columns=['node_id', 'triangles'])\n",
        "top_10_df"
      ],
      "metadata": {
        "colab": {
          "base_uri": "https://localhost:8080/",
          "height": 363
        },
        "id": "l0gXmSnKWOr5",
        "outputId": "caf6d69c-f231-4601-ce52-dde18bebe67e"
      },
      "execution_count": null,
      "outputs": [
        {
          "output_type": "execute_result",
          "data": {
            "text/plain": [
              "   node_id  triangles\n",
              "0      917         10\n",
              "1      910          9\n",
              "2      914          8\n",
              "3      920          7\n",
              "4      923          7\n",
              "5     1279          4\n",
              "6      376          3\n",
              "7     1024          3\n",
              "8      369          3\n",
              "9      379          3"
            ],
            "text/html": [
              "\n",
              "  <div id=\"df-fd72472a-2da6-43c7-a28c-d5581d2be2e4\">\n",
              "    <div class=\"colab-df-container\">\n",
              "      <div>\n",
              "<style scoped>\n",
              "    .dataframe tbody tr th:only-of-type {\n",
              "        vertical-align: middle;\n",
              "    }\n",
              "\n",
              "    .dataframe tbody tr th {\n",
              "        vertical-align: top;\n",
              "    }\n",
              "\n",
              "    .dataframe thead th {\n",
              "        text-align: right;\n",
              "    }\n",
              "</style>\n",
              "<table border=\"1\" class=\"dataframe\">\n",
              "  <thead>\n",
              "    <tr style=\"text-align: right;\">\n",
              "      <th></th>\n",
              "      <th>node_id</th>\n",
              "      <th>triangles</th>\n",
              "    </tr>\n",
              "  </thead>\n",
              "  <tbody>\n",
              "    <tr>\n",
              "      <th>0</th>\n",
              "      <td>917</td>\n",
              "      <td>10</td>\n",
              "    </tr>\n",
              "    <tr>\n",
              "      <th>1</th>\n",
              "      <td>910</td>\n",
              "      <td>9</td>\n",
              "    </tr>\n",
              "    <tr>\n",
              "      <th>2</th>\n",
              "      <td>914</td>\n",
              "      <td>8</td>\n",
              "    </tr>\n",
              "    <tr>\n",
              "      <th>3</th>\n",
              "      <td>920</td>\n",
              "      <td>7</td>\n",
              "    </tr>\n",
              "    <tr>\n",
              "      <th>4</th>\n",
              "      <td>923</td>\n",
              "      <td>7</td>\n",
              "    </tr>\n",
              "    <tr>\n",
              "      <th>5</th>\n",
              "      <td>1279</td>\n",
              "      <td>4</td>\n",
              "    </tr>\n",
              "    <tr>\n",
              "      <th>6</th>\n",
              "      <td>376</td>\n",
              "      <td>3</td>\n",
              "    </tr>\n",
              "    <tr>\n",
              "      <th>7</th>\n",
              "      <td>1024</td>\n",
              "      <td>3</td>\n",
              "    </tr>\n",
              "    <tr>\n",
              "      <th>8</th>\n",
              "      <td>369</td>\n",
              "      <td>3</td>\n",
              "    </tr>\n",
              "    <tr>\n",
              "      <th>9</th>\n",
              "      <td>379</td>\n",
              "      <td>3</td>\n",
              "    </tr>\n",
              "  </tbody>\n",
              "</table>\n",
              "</div>\n",
              "      <button class=\"colab-df-convert\" onclick=\"convertToInteractive('df-fd72472a-2da6-43c7-a28c-d5581d2be2e4')\"\n",
              "              title=\"Convert this dataframe to an interactive table.\"\n",
              "              style=\"display:none;\">\n",
              "        \n",
              "  <svg xmlns=\"http://www.w3.org/2000/svg\" height=\"24px\"viewBox=\"0 0 24 24\"\n",
              "       width=\"24px\">\n",
              "    <path d=\"M0 0h24v24H0V0z\" fill=\"none\"/>\n",
              "    <path d=\"M18.56 5.44l.94 2.06.94-2.06 2.06-.94-2.06-.94-.94-2.06-.94 2.06-2.06.94zm-11 1L8.5 8.5l.94-2.06 2.06-.94-2.06-.94L8.5 2.5l-.94 2.06-2.06.94zm10 10l.94 2.06.94-2.06 2.06-.94-2.06-.94-.94-2.06-.94 2.06-2.06.94z\"/><path d=\"M17.41 7.96l-1.37-1.37c-.4-.4-.92-.59-1.43-.59-.52 0-1.04.2-1.43.59L10.3 9.45l-7.72 7.72c-.78.78-.78 2.05 0 2.83L4 21.41c.39.39.9.59 1.41.59.51 0 1.02-.2 1.41-.59l7.78-7.78 2.81-2.81c.8-.78.8-2.07 0-2.86zM5.41 20L4 18.59l7.72-7.72 1.47 1.35L5.41 20z\"/>\n",
              "  </svg>\n",
              "      </button>\n",
              "      \n",
              "  <style>\n",
              "    .colab-df-container {\n",
              "      display:flex;\n",
              "      flex-wrap:wrap;\n",
              "      gap: 12px;\n",
              "    }\n",
              "\n",
              "    .colab-df-convert {\n",
              "      background-color: #E8F0FE;\n",
              "      border: none;\n",
              "      border-radius: 50%;\n",
              "      cursor: pointer;\n",
              "      display: none;\n",
              "      fill: #1967D2;\n",
              "      height: 32px;\n",
              "      padding: 0 0 0 0;\n",
              "      width: 32px;\n",
              "    }\n",
              "\n",
              "    .colab-df-convert:hover {\n",
              "      background-color: #E2EBFA;\n",
              "      box-shadow: 0px 1px 2px rgba(60, 64, 67, 0.3), 0px 1px 3px 1px rgba(60, 64, 67, 0.15);\n",
              "      fill: #174EA6;\n",
              "    }\n",
              "\n",
              "    [theme=dark] .colab-df-convert {\n",
              "      background-color: #3B4455;\n",
              "      fill: #D2E3FC;\n",
              "    }\n",
              "\n",
              "    [theme=dark] .colab-df-convert:hover {\n",
              "      background-color: #434B5C;\n",
              "      box-shadow: 0px 1px 3px 1px rgba(0, 0, 0, 0.15);\n",
              "      filter: drop-shadow(0px 1px 2px rgba(0, 0, 0, 0.3));\n",
              "      fill: #FFFFFF;\n",
              "    }\n",
              "  </style>\n",
              "\n",
              "      <script>\n",
              "        const buttonEl =\n",
              "          document.querySelector('#df-fd72472a-2da6-43c7-a28c-d5581d2be2e4 button.colab-df-convert');\n",
              "        buttonEl.style.display =\n",
              "          google.colab.kernel.accessAllowed ? 'block' : 'none';\n",
              "\n",
              "        async function convertToInteractive(key) {\n",
              "          const element = document.querySelector('#df-fd72472a-2da6-43c7-a28c-d5581d2be2e4');\n",
              "          const dataTable =\n",
              "            await google.colab.kernel.invokeFunction('convertToInteractive',\n",
              "                                                     [key], {});\n",
              "          if (!dataTable) return;\n",
              "\n",
              "          const docLinkHtml = 'Like what you see? Visit the ' +\n",
              "            '<a target=\"_blank\" href=https://colab.research.google.com/notebooks/data_table.ipynb>data table notebook</a>'\n",
              "            + ' to learn more about interactive tables.';\n",
              "          element.innerHTML = '';\n",
              "          dataTable['output_type'] = 'display_data';\n",
              "          await google.colab.output.renderOutput(dataTable, element);\n",
              "          const docLink = document.createElement('div');\n",
              "          docLink.innerHTML = docLinkHtml;\n",
              "          element.appendChild(docLink);\n",
              "        }\n",
              "      </script>\n",
              "    </div>\n",
              "  </div>\n",
              "  "
            ]
          },
          "metadata": {},
          "execution_count": 7
        }
      ]
    },
    {
      "cell_type": "markdown",
      "source": [
        "# Wrap up\n",
        "\n",
        "This was a simplified demo, and a real POLE model populated with actual police data would be much more complicated and rich. However, this was a good way to explore some POLE data modelling and queries in a semi-real world way.\n",
        "\n"
      ],
      "metadata": {
        "id": "QOYsPgC9fgNB"
      }
    },
    {
      "cell_type": "code",
      "source": [],
      "metadata": {
        "id": "UpGBrIoJdYe3"
      },
      "execution_count": null,
      "outputs": []
    }
  ]
}